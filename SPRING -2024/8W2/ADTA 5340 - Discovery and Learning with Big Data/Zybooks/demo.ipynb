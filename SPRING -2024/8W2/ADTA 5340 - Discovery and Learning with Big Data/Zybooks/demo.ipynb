{
 "cells": [
  {
   "cell_type": "code",
   "execution_count": null,
   "metadata": {},
   "outputs": [],
   "source": [
    "# Import NumPy and pandas\n",
    "import numpy as np\n",
    "import pandas as pd\n",
    "\n",
    "# Import the LinearRegression function from sklearn.linear_model\n",
    "from sklearn.linear_model import LinearRegression\n"
   ]
  },
  {
   "cell_type": "code",
   "execution_count": 7,
   "metadata": {},
   "outputs": [
    {
     "name": "stdout",
     "output_type": "stream",
     "text": [
      "[8 1 4 3 0 5 9 7]\n"
     ]
    }
   ],
   "source": [
    "# Load necessary package\n",
    "import numpy as np\n",
    "\n",
    "# Create array\n",
    "myArr = [[8, 1], [4, 3], [0, 5], [9, 7]]\n",
    "\n",
    "# Flatten array\n",
    "myArr = np.ravel(myArr , order='C')\n",
    "\n",
    "# Print the array\n",
    "print(myArr)"
   ]
  }
 ],
 "metadata": {
  "kernelspec": {
   "display_name": "base",
   "language": "python",
   "name": "python3"
  },
  "language_info": {
   "codemirror_mode": {
    "name": "ipython",
    "version": 3
   },
   "file_extension": ".py",
   "mimetype": "text/x-python",
   "name": "python",
   "nbconvert_exporter": "python",
   "pygments_lexer": "ipython3",
   "version": "3.8.8"
  }
 },
 "nbformat": 4,
 "nbformat_minor": 2
}
