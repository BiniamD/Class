{
 "cells": [
  {
   "cell_type": "markdown",
   "metadata": {},
   "source": [
    "#TO DO Add Name and Date Here"
   ]
  },
  {
   "cell_type": "markdown",
   "metadata": {},
   "source": [
    "# <center><font color=green>Week 2 Assignment Python Exercises </font> </center>  \n",
    "## <font color=black>Complete the following sections: </font> \n",
    "- Basic Techniques of Programming\n",
    "- Built-In Basic Data Types \n",
    "- Python Data Structures: Lists\n",
    "- Python Data Structures: Ranges \n",
    "- Python Data Structures: Strings \n",
    "- Python Data Structures: Tuples"
   ]
  },
  {
   "cell_type": "markdown",
   "metadata": {},
   "source": [
    "# <center><font color=green>Basic Techniques of Programming: Programming for Data Science with Python </font> </center>\n",
    "\n",
    "\n",
    "## Overview\n",
    "To write a useful program, the developer needs to use various techniques of programming.  Basic Techniques of Programming cover the techniques below.\n",
    "\n",
    "Some of these techniques are considered as the core of programming to create interactive software applications:\n",
    "\n",
    " - Input and output\n",
    "\n",
    " - Selections\n",
    "\n",
    " - Loops\n",
    " \n",
    " \n",
    "<hr style=\"border:5px solid green\"> </hr>\n",
    "\n",
    "\n",
    "## 1. Read Data from Console\n",
    "\n",
    "### Scenario\n",
    "\n",
    "Write a short Python program that reads an integer value from the console and then prints out the value.\n",
    "\n",
    "<font color=red> **IMPORTANT NOTES:** </font> It is assumed that the user would not make any mistake while entering the value. Therefore, it is not necessary to check the input after reading it.\n",
    "\n",
    "\n",
    "### Syntax\n",
    "To read data from the console in Python, use the built-in function:\n",
    "\n",
    " - input(prompt_string)\n",
    "\n",
    "Where prompt_string is the text used to prompt the user to enter the data.\n",
    "\n",
    "<font color=red> **IMPORTANT NOTES:**</font> We need to declare a new variable to store the text read from the console.\n",
    "\n",
    "\n",
    "### <font color=red> **Run the following code:** </font>\n"
   ]
  },
  {
   "cell_type": "code",
   "execution_count": 1,
   "metadata": {
    "scrolled": true
   },
   "outputs": [
    {
     "name": "stdout",
     "output_type": "stream",
     "text": [
      "The user has entered this value:  5\n"
     ]
    }
   ],
   "source": [
    "anIntValue = input(\"Enter an interger value:\")\n",
    "print (\"The user has entered this value: \", anIntValue)\n"
   ]
  },
  {
   "cell_type": "markdown",
   "metadata": {},
   "source": [
    "<hr style=\"border:5px solid green\"> </hr>"
   ]
  },
  {
   "cell_type": "markdown",
   "metadata": {},
   "source": [
    "## 2. Print Data to the Console\n",
    "\n",
    " - To print data to the console, use the built-in function:\n",
    "\n",
    " >print(a_string)\n",
    "\n",
    " - Where a string can be only one string or multiple sub-strings and values separated by commas','.\n",
    " \n",
    "- To print the values in one line, using the end-of-line character'\\n':\n",
    "\n",
    " >print (...,'\\n')\n",
    "\n",
    "\n",
    "### <font color=red> **Run the following code:** </font>"
   ]
  },
  {
   "cell_type": "code",
   "execution_count": 2,
   "metadata": {},
   "outputs": [
    {
     "name": "stdout",
     "output_type": "stream",
     "text": [
      "Examples of using print() function \n",
      "\n",
      "This is the value of x: 15 \n",
      "\n",
      "This is the value of x: 15 ; This is the value of y: 25 . \n",
      "\n"
     ]
    }
   ],
   "source": [
    "print (\"Examples of using print() function\", \"\\n\")\n",
    "\n",
    "x = 15\n",
    "\n",
    "print (\"This is the value of x:\", x, \"\\n\")\n",
    "\n",
    "y = 25\n",
    "\n",
    "print (\"This is the value of x:\", x, \"; This is the value of y:\", y, \". \\n\")"
   ]
  },
  {
   "cell_type": "markdown",
   "metadata": {},
   "source": [
    "## PRACTICE\n",
    "- Change the value of x to 1001 and the value of y to 2001\n",
    "- Print the following sentence using the print(a_string) built-in function\n",
    "- The value of x is 1001 and y is 2001"
   ]
  },
  {
   "cell_type": "code",
   "execution_count": 4,
   "metadata": {},
   "outputs": [
    {
     "name": "stdout",
     "output_type": "stream",
     "text": [
      "The value of x is 1001 and y is 2001 \n",
      "\n"
     ]
    }
   ],
   "source": [
    "#TO DO Add practice code here\n",
    "\n",
    "x = 1001\n",
    "y = 2001\n",
    "\n",
    "print (\"The value of x is\", x, \"and y is\", y, \"\\n\")\n",
    "\n"
   ]
  },
  {
   "cell_type": "markdown",
   "metadata": {},
   "source": [
    "<hr style=\"border:5px solid green\"> </hr>"
   ]
  },
  {
   "cell_type": "markdown",
   "metadata": {},
   "source": [
    "## 3.  Selections\n",
    "### Scenario: A Problem\n",
    " - Let's review the problem of calculating the diameter and circumference of a circle\n",
    "\n",
    " - It is assumed that a software developer is asked to write a Python program that can calculate and print out the diameter and the circumference of a circle. The user enters data of the radius and its measurement unit (in, ft, cm, or m) from the console.\n",
    "\n",
    "### Let's imagine this scenario:\n",
    "The user inadvertently enters a negative value of the radius, which raises the following question:\n",
    "\n",
    " - Should we let the program ignore this error?\n",
    "\n",
    " - The answer is definitely \"NO.\"\n",
    "\n",
    " - So, what should we do?\n",
    "\n",
    " - We should add selections into our program to check the sign of the input.\n",
    "\n",
    "Let's write a better pseudo-code:\n",
    "\n",
    "1. Start\n",
    "\n",
    "2. Read the input of the radius from the console\n",
    "\n",
    "    if(radius<0): ←selection\n",
    "\n",
    "    inform the user about the error\n",
    "\n",
    "    request to read again\n",
    "\n",
    "3. Read the measurement unit of the radius (in, ft, cm, m)\n",
    "\n",
    "4. Calculate the diameter of the circle\n",
    "\n",
    "    diameter = 2 * radius\n",
    "\n",
    "5. Calculate the circumference of the circle\n",
    "\n",
    "    Circumference =  diameter * PI (3.14159)\n",
    "\n",
    "6. Print out the diameter\n",
    "\n",
    "7. Print out the circumference\n",
    "\n",
    "8. End\n"
   ]
  },
  {
   "cell_type": "markdown",
   "metadata": {},
   "source": [
    "<hr style=\"border:5px solid green\"> </hr>"
   ]
  },
  {
   "cell_type": "markdown",
   "metadata": {},
   "source": [
    "## 4. if Statements\n",
    "### 1. Simple if:\n",
    "if(boolean expression):\n",
    "\n",
    ">//... ... ... statement(s)\n",
    "    \n",
    "\n",
    "#### Example:\n",
    "\n",
    "numCredits = ... # number of credits an undergaduate student completed\n",
    "\n",
    "if (numCredits >=90):\n",
    "\n",
    ">studentLevel = \"Senior\"\n",
    "\n",
    "### 2.  if Statements: if...else:\n",
    "\n",
    "if(boolean expression):\n",
    "> //... ... ... statement(s)\n",
    "\n",
    "else:\n",
    "\n",
    "                     //... ... ... statement(s)\n",
    "\n",
    "#### Example:\n",
    "\n",
    "if(numCredits >= 120):\n",
    "\n",
    "                 readyToGraduate = True;\n",
    "\n",
    "else:\n",
    "\n",
    "                 readyToGraduate = False;\n",
    "\n",
    "### 3.  if ... elif ... elif ... else\n",
    "if(boolean expression):\n",
    "\n",
    "            // ... ... ... statement(s)\n",
    "\n",
    "elif (boolean expression):\n",
    "\n",
    "          // ... ... ..... statement(s)\n",
    "\n",
    "elif (boolean expression):\n",
    "\n",
    "          // ... ... ..... statement(s)\n",
    "\n",
    "else:\n",
    "\n",
    "          // ... ... ..... statement(s)\n",
    "    \n",
    "\n",
    "#### Example:\n",
    "It is assumed that the Registrar Office of a university asks one analyst to provide a solution to the following problem:\n",
    "\n",
    "Write a Python program that can read input from the console. The user enters a student's name and his/her level (freshmen, ..., senior). The program is expected to assign a numeric code that represents his/her priority to register for courses. Students with higher priority can register for courses before those with lower priority. The code starts from 1 (highest) assigned to seniors and increments by 1 for each lower level. Finally, the program prints out the student name, his/her level, and the code of priority to register courses in the same line.\n",
    "\n",
    "##### Pseudo-Code with if ... elif ... elif ... else:\n",
    "1. START\n",
    "\n",
    "2. ... more code here ...\n",
    "\n",
    "3. Perform the selection\n",
    "\n",
    " - If \"senior\", priorityToRegister = 1 // highest\n",
    "\n",
    " - If \"junior\", priorityToRegister = 2\n",
    "\n",
    " - If \"sophmore\", priorityToRegister = 3\n",
    "\n",
    " - If \"freshman\" , priorityToRegister = 4\n",
    "\n",
    " - If (not any above), print out warning of errors\n",
    "\n",
    "4. ... more code here ...\n",
    "\n",
    "5. END\n",
    "\n",
    "##### Code:\n",
    "\n",
    "studentLevel = ... #level: freshman, sophmore, junior, senior\n",
    "\n",
    "if(studentLevel == \"Senior\")\n",
    "\n",
    "     priorityToRegister = 1\n",
    "\n",
    "if(studentLevel == \"Junior\")\n",
    "\n",
    "     priorityToRegister = 2\n",
    "\n",
    "if(studentLevel == \"Sophmore\")\n",
    "\n",
    "     priorityToRegister = 1\n",
    "\n",
    "### <font color=red> **Run the following code:** </font>"
   ]
  },
  {
   "cell_type": "code",
   "execution_count": 5,
   "metadata": {},
   "outputs": [
    {
     "name": "stdout",
     "output_type": "stream",
     "text": [
      "studentLevel: Senior ; Priority to register 1 \n",
      "\n"
     ]
    }
   ],
   "source": [
    "studentLevel= \"Senior\" # level: freshman, sophomore, junior, senior\n",
    "if(studentLevel ==\"Senior\"):\n",
    "    prioritytoRegister = 1\n",
    "elif(studentLevel ==\"Junior\"):\n",
    "    prioritytoRegister = 2\n",
    "elif(studentLevel ==\"Sophomore\"):\n",
    "    prioritytoRegister = 3\n",
    "elif(studentLevel ==\"Freshman\"):\n",
    "    prioritytoRegister = 4\n",
    "else:\n",
    "    print(\"Invalid studentLevel!!!\")\n",
    "    \n",
    "print(\"studentLevel:\", studentLevel, \"; Priority to register\",prioritytoRegister, \"\\n\") "
   ]
  },
  {
   "cell_type": "markdown",
   "metadata": {},
   "source": [
    "<hr style=\"border:5px solid green\"> </hr>"
   ]
  },
  {
   "cell_type": "markdown",
   "metadata": {},
   "source": [
    "## 5. Loops\n",
    "### Scenario: A Problem\n",
    "\n",
    "Let's review the problem of calculating the diameter and circumference of a circle\n",
    "\n",
    "    It is assumed that a software developer is asked to write a Python program that can calculate and print out the diameter and the circumference of a circle. The user enters data of the radius and its measurement unit (in, ft, cm, or m) from the console.\n",
    "\n",
    "Let's write a Pseudo-Code:\n",
    "\n",
    "1.  Start\n",
    "\n",
    "2.  Read the input of the radius from the console\n",
    " - if (radius<0),\n",
    "      - inform the user about the error\n",
    "\n",
    "      - request to read again\n",
    "\n",
    "3.  Read the measurement unit of the radius (in, ft, cm, m)\n",
    " - if (unit is not among (in, ft, cm, m)),\n",
    "      - inform the user about the error\n",
    "      - request to read again\n",
    "\n",
    "4. Calculate the diameter of the circle\n",
    " - diameter = 2 * radius\n",
    "\n",
    "5. Calculate the circumference of the circle\n",
    " - Circumference + diameter * PI (3.14159)\n",
    "\n",
    "6. Print out the diameter\n",
    "\n",
    "7. Print out the circumference\n",
    "\n",
    "8. End\n",
    "\n",
    "\n",
    "Let's focus on this piece of pseudo-code:\n",
    "\n",
    "Read the input of the radius from the console\n",
    " - if (radius < 0),\n",
    "      - inform the user about the error\n",
    "\n",
    "      - request to read again\n",
    "\n",
    "What happens if the user makes mistakes while entering the radius data again and again?\n",
    "\n",
    "    The program must perform the checking again and again until it can read a valid piece of data._\n",
    "\n",
    "In other words, the program must repeatedly check the input until it gets the correct one → the program uses <font color= blue>LOOPS.</font>\n",
    "\n",
    "### 1. while Loop\n",
    "\n",
    "#### Syntax\n",
    "\n",
    "while (<loop-continuation condition.):\n",
    "\n",
    "    // ... ... ... statements(s)\n",
    "\n",
    "#### Example:\n",
    "\n",
    "radius = ... # radius of the circle\n",
    "\n",
    "while (radius < 0):\n",
    "\n",
    "    print (\"Radius cannot be negative!!!\")\n",
    "\n",
    "    print (\"Enter radius:\")\n",
    "\n",
    "radius = input(\"Enter radius: \")\n",
    "\n",
    "<font color=red> **IMPORTANT NOTES:**</font>\n",
    "\n",
    " - In Python, WHILE loop also has an \"ELSE\" statement as IF does.\n",
    "\n",
    " - However, it is strongly discouraged from using the ELSE statement of WHILE because it causes confusion and can make the code too complicated.\n",
    "\n",
    " - For more details, see the example in the following section of FOR loop.\n",
    "\n",
    "### 2.  for Loop\n",
    "\n",
    "The Python for loop is an iterator based for loop.\n",
    "\n",
    "It steps through the items of lists, tuples, strings, the keys of dictionaries, and other iterables.\n",
    "\n",
    "The Python for loop starts with the keyword for followed by an arbitrary variable name, which will hold the values of the following sequence object, which is stepped through.\n",
    "\n",
    "#### Syntax\n",
    "\n",
    "for (variable) in (sequence):\n",
    "\n",
    "    // ... ... ... statement(s)\n",
    "\n",
    "### <font color=red> **Run the following code:** </font>"
   ]
  },
  {
   "cell_type": "code",
   "execution_count": 6,
   "metadata": {},
   "outputs": [
    {
     "name": "stdout",
     "output_type": "stream",
     "text": [
      "C\n",
      "C++\n",
      "Java\n",
      "Python\n",
      "Perl\n",
      "Ruby\n",
      "Scala\n"
     ]
    }
   ],
   "source": [
    "language = [\"C\", \"C++\", \"Java\", \"Python\", \"Perl\", \"Ruby\", \"Scala\"]\n",
    "for x in language:\n",
    "    print (x)"
   ]
  },
  {
   "cell_type": "markdown",
   "metadata": {},
   "source": [
    "## PRACTICE\n",
    "- Create a for Loop that displays four or more characteristics of Big Data\n",
    "- Hint: Volume, Velocity, and so on.\n",
    "- Check the lecture slides if you cannot remember"
   ]
  },
  {
   "cell_type": "code",
   "execution_count": 9,
   "metadata": {},
   "outputs": [
    {
     "name": "stdout",
     "output_type": "stream",
     "text": [
      "Volume\n",
      "Velocity\n",
      "Variety\n",
      "Veracity\n",
      "Variability\n",
      "Value\n"
     ]
    }
   ],
   "source": [
    "language = [\"Volume\", \"Velocity\", \"Variety\",\"Veracity\", \"Variability\", \"Value\"]\n",
    "for x in language:\n",
    "    print (x)"
   ]
  },
  {
   "cell_type": "markdown",
   "metadata": {},
   "source": [
    "<font color=red> **IMPORTANT NOTES:**</font>\n",
    "\n",
    "In Python, FOR loop also has an optional \"ELSE\" statement as the IF statement does.\n",
    "\n",
    "***However, it is strongly discouraged from using the ELSE statement of FOR loop because it causes confusion and complicates the code.***\n",
    "\n",
    "(Remember the Zen of Python: ... ***Simple is better than complex! Complex is better than complicated!***)\n",
    "\n",
    "Semantically, the optional ELSE of FOR loop works exactly as the optional ELSE of a WHILE loop:\n",
    "\n",
    " - It will be executed only if the loop hasn't been \"broken\" by a BREAK statement.\n",
    "\n",
    " - So it will only be executed after all the items of the sequence in the header have been iterated through.\n",
    "\n",
    "If a BREAK statement has to be executed in the program flow of the for loop:\n",
    "\n",
    " - The loop will be exited\n",
    "\n",
    " - The program flow will continue with the first statement following the FOR loop if there are any.\n",
    "\n",
    "Usually, BREAK statements are wrapped into conditional statements.\n",
    "\n",
    "### <font color=red> **Run the following code:** </font>"
   ]
  },
  {
   "cell_type": "code",
   "execution_count": 10,
   "metadata": {},
   "outputs": [
    {
     "name": "stdout",
     "output_type": "stream",
     "text": [
      "I am so glad: No spam!\n",
      "Finally, I finished stuffing myself\n",
      "I am so glad: No spam!\n",
      "Finally, I finished stuffing myself\n",
      "I am so glad: No spam!\n",
      "Finally, I finished stuffing myself\n",
      "I am so glad: No spam!\n",
      "Finally, I finished stuffing myself\n"
     ]
    }
   ],
   "source": [
    "edibles = [\"ham\", \"Spam\", \"eggs\", \"nuts\"]\n",
    "\n",
    "for food in edibles:\n",
    "    if food == \"spam\":\n",
    "        print(\"No more spam please!\")\n",
    "        break\n",
    "        print (\"reat, delicious \" + food)\n",
    "    else:\n",
    "        print(\"I am so glad: No spam!\")\n",
    "        print (\"Finally, I finished stuffing myself\")"
   ]
  },
  {
   "cell_type": "markdown",
   "metadata": {},
   "source": [
    "#### Let's consider the \"else\" statement in the FOR loop\n",
    "\n",
    "for (variable) in (sequence):\n",
    "    #statements ...\n",
    "else:\n",
    "    #statements ...\n",
    "    \n",
    "    \n",
    "What does it mean by the \"ELSE\" statement?\n",
    "\n",
    "Based on the syntax, it seems that the execution of the ELSE block is only based on the state of the conditional expression of the FOR statement - no other conditions.\n",
    "\n",
    "However, semantically, it is not true!\n",
    "\n",
    "The execution of the ELSE block only becomes meaningful due to the existence of a BREAK statement embedded inside another conditional statement like IF.\n",
    "\n",
    "In the above piece of code, intuitively, the ELSE block would be executed if the conditional expression of FOR statement, i.e., \"food is edibles\", gets a \"False\" value - when the FOR loop has iterated through the whole sequence.\n",
    "\n",
    "Let's execute the following piece of code that lets the FOR loop iterate through its sequence:\n",
    "\n",
    "### <font color=red> **Run the following code:** </font>"
   ]
  },
  {
   "cell_type": "code",
   "execution_count": 11,
   "metadata": {},
   "outputs": [
    {
     "name": "stdout",
     "output_type": "stream",
     "text": [
      "No break in FOR loop statements\n",
      "No break in FOR loop statements\n",
      "No break in FOR loop statements\n",
      "No break in FOR loop statements\n",
      "I am so glad: No spam!\n",
      "Finally, I finished stuffing myself\n"
     ]
    }
   ],
   "source": [
    "edibles = [\"ham\", \"spam\", \"eggs\", \"nuts\"]\n",
    "for food in edibles:\n",
    "    print(\"No break in FOR loop statements\")\n",
    "else:\n",
    "    print (\"I am so glad: No spam!\")\n",
    "print (\"Finally, I finished stuffing myself\")"
   ]
  },
  {
   "cell_type": "markdown",
   "metadata": {},
   "source": [
    "<div class=\"alert alert-block alert-success\">\n",
    "<b> NOTES:</b>\n",
    "From the results of the above piece of code, the FOR loop iterated through the whole sequence.\n",
    "Therefore, the ELSE block is executed.\n",
    "\n",
    "However, the output of the ELSE block is not only meaningless but also misleading!\n",
    "\n",
    "There is \"Spam\" in the sequence!\n",
    "    \n",
    "Let's find out what the developer really wants to achieve with the above ELSE statement\n",
    "    \n",
    " - He/she wants to find out if \"spam\" is listed in the list of edibles by using FOR loop to iterate through the sequence.\n",
    " - If \"spam\" is found, he/she prints out a dialog to inform that.\n",
    " - Otherwise, he/she is so happy to print out that there is no \"spam\" in the list.\n",
    "\n",
    "Let's write another much simpler piece of code to achieve what he/she wants </div>\n",
    "\n",
    "### <font color=red> **Run the following 2 blocks of code:** </font>"
   ]
  },
  {
   "cell_type": "code",
   "execution_count": 14,
   "metadata": {},
   "outputs": [
    {
     "name": "stdout",
     "output_type": "stream",
     "text": [
      "Great, delicious ham\n",
      "No more spam please!\n",
      "Finally, I finished stuffing myself\n"
     ]
    }
   ],
   "source": [
    "edibles = [\"ham\", \"spam\", \"eggs\",\"nuts\"]\n",
    "spam=False\n",
    "\n",
    "for food in edibles:\n",
    "    if food == \"spam\":\n",
    "        spam = True\n",
    "        print(\"No more spam please!\")\n",
    "        break\n",
    "    print (\"Great, delicious \" + food)\n",
    "    \n",
    "if (not spam):\n",
    "    print(\"I am so glad: No spam!\")\n",
    "            \n",
    "print(\"Finally, I finished stuffing myself\")\n"
   ]
  },
  {
   "cell_type": "code",
   "execution_count": 15,
   "metadata": {},
   "outputs": [
    {
     "name": "stdout",
     "output_type": "stream",
     "text": [
      "Great, delicious ham\n",
      "Great, delicious eggs\n",
      "Great, delicious nuts\n",
      "I am so glad: No spam!\n",
      "Finally, I finished stuffing myself\n"
     ]
    }
   ],
   "source": [
    "#NO spam\n",
    "\n",
    "edibles =[\"ham\",\"eggs\",\"nuts\"]\n",
    "spam = False\n",
    "\n",
    "for food in edibles:\n",
    "    if food == \"spam\":\n",
    "        spam = True\n",
    "        print(\"No more spam please!\")\n",
    "        break\n",
    "    print(\"Great, delicious \" + food)\n",
    "if (not spam):\n",
    "        print(\"I am so glad: No spam!\")\n",
    "print(\"Finally, I finished stuffing myself\")"
   ]
  },
  {
   "cell_type": "markdown",
   "metadata": {},
   "source": [
    "<font color=red> **IMPORTANT NOTES:**</font>\n",
    "\n",
    "By not using the ELSE statement, the code is much easier to understand, cleaner, and simpler - following the Zen of Python:\n",
    "\n",
    "> ***Simple is better than complex!***\n",
    "\n",
    "> ***Complex is better than complicated!***"
   ]
  },
  {
   "cell_type": "markdown",
   "metadata": {},
   "source": [
    "### 3.  Break  \n",
    "\n",
    "\"Break\" is used to terminate a loop, i.e., completely get out of the loop immediately.\n",
    "\n",
    "### <font color=red> **Run the following 4 blocks of code:** </font>"
   ]
  },
  {
   "cell_type": "code",
   "execution_count": 16,
   "metadata": {},
   "outputs": [
    {
     "name": "stdout",
     "output_type": "stream",
     "text": [
      "10\n",
      "11\n",
      "12\n",
      "13\n",
      "14\n"
     ]
    }
   ],
   "source": [
    "for x in range (10,20):\n",
    "       if (x == 15): break\n",
    "       print (x)"
   ]
  },
  {
   "cell_type": "code",
   "execution_count": 17,
   "metadata": {},
   "outputs": [
    {
     "name": "stdout",
     "output_type": "stream",
     "text": [
      "s\n",
      "t\n",
      "r\n",
      "The end\n"
     ]
    }
   ],
   "source": [
    "for val in \"string\":\n",
    "    if val == \"i\":\n",
    "        break\n",
    "    print(val)\n",
    "\n",
    "print(\"The end\")"
   ]
  },
  {
   "cell_type": "code",
   "execution_count": 18,
   "metadata": {},
   "outputs": [
    {
     "name": "stdout",
     "output_type": "stream",
     "text": [
      "Current Letter : P\n",
      "Current Letter : y\n",
      "Current Letter : t\n",
      "Good bye!\n"
     ]
    }
   ],
   "source": [
    "for letter in 'Python':     \n",
    "   if letter == 'h':\n",
    "      break\n",
    "   print ('Current Letter :', letter)\n",
    "print (\"Good bye!\")"
   ]
  },
  {
   "cell_type": "code",
   "execution_count": 19,
   "metadata": {},
   "outputs": [
    {
     "name": "stdout",
     "output_type": "stream",
     "text": [
      "1999766\n"
     ]
    }
   ],
   "source": [
    "# You will need to enter a price once you run the code.  Use high numbers since the break is at $1M\n",
    "#  Hit return once you enter an amount\n",
    "\n",
    "numItems=0\n",
    "totalSales=0\n",
    "totalSoldItems=5000\n",
    "\n",
    "while(numItems<totalSoldItems):\n",
    "    price=int(input(\"Enter the price of the next sold item: \"))\n",
    "    totalSales=totalSales+price\n",
    "    if(totalSales>=1000000):\n",
    "        break;\n",
    "    numItems=numItems+1 \n",
    "print(totalSales) "
   ]
  },
  {
   "cell_type": "markdown",
   "metadata": {},
   "source": [
    "### 4. Continue\n",
    "\n",
    "\"Continue\" is used to skip the rest of an itinerary and start a new one.\n",
    "\n",
    "### <font color=red> **Run the following 2 blocks of code:** </font>"
   ]
  },
  {
   "cell_type": "code",
   "execution_count": 20,
   "metadata": {},
   "outputs": [
    {
     "name": "stdout",
     "output_type": "stream",
     "text": [
      "s\n",
      "t\n",
      "r\n",
      "n\n",
      "g\n",
      "The end\n"
     ]
    }
   ],
   "source": [
    "for val in \"string\":\n",
    "    if val == \"i\":\n",
    "        continue\n",
    "    print(val)\n",
    "\n",
    "print(\"The end\")"
   ]
  },
  {
   "cell_type": "code",
   "execution_count": 21,
   "metadata": {},
   "outputs": [
    {
     "name": "stdout",
     "output_type": "stream",
     "text": [
      "Current variable value : 9\n",
      "Current variable value : 8\n",
      "Current variable value : 7\n",
      "Current variable value : 6\n",
      "Current variable value : 4\n",
      "Current variable value : 3\n",
      "Current variable value : 2\n",
      "Current variable value : 1\n",
      "Current variable value : 0\n",
      "Good bye!\n"
     ]
    }
   ],
   "source": [
    "var = 10                   \n",
    "while var > 0:              \n",
    "   var = var -1\n",
    "   if var == 5:\n",
    "      continue\n",
    "   print ('Current variable value :', var)\n",
    "print (\"Good bye!\")"
   ]
  },
  {
   "cell_type": "markdown",
   "metadata": {},
   "source": [
    "<hr style=\"border:5px solid green\"> </hr>"
   ]
  },
  {
   "cell_type": "markdown",
   "metadata": {},
   "source": [
    "# <center><font color=green>Built-In Basic Data Types: </font> </center>  \n",
    "# <center><font color=green>Programming for Data Science with Python </font> </center>\n",
    "\n",
    "\n",
    "## Overview\n",
    "#### Python: Everything is an Object\n",
    "In Python, everything is an object\n",
    " - All values are objects\n",
    " - Anything which can be used as a value (int, str, float, functions, etc.) are implemented as objects.\n",
    " \n",
    "#### Built-In Basic Data Types\n",
    " - NUMERIC:\n",
    "> - Integers: int\n",
    "> - Floating point numbers: float\n",
    "> - Complex numbers: complex\n",
    "\n",
    " - LOGICAL/BOOLEAN:\n",
    "Boolean values: bool\n",
    "The focus: the integers and the floats\n",
    "\n",
    " \n",
    "<hr style=\"border:5px solid green\"> </hr>\n",
    "\n",
    " \n",
    "## 1. Numeric Data Types\n",
    "### 1.1 Integers: int\n",
    "\n",
    "### <font color=red> **Run the following code:** </font>"
   ]
  },
  {
   "cell_type": "code",
   "execution_count": 22,
   "metadata": {},
   "outputs": [
    {
     "name": "stdout",
     "output_type": "stream",
     "text": [
      "Data type of x:  <class 'int'> \n",
      "\n",
      "Data type of y:  <class 'int'> \n",
      "\n"
     ]
    }
   ],
   "source": [
    "x = 3\n",
    "\n",
    "y = x\n",
    "\n",
    "print (\"Data type of x: \", type(x), '\\n')\n",
    "print (\"Data type of y: \", type(y), '\\n')"
   ]
  },
  {
   "cell_type": "markdown",
   "metadata": {},
   "source": [
    "### 1.2 Floating-Point Numbers: float\n",
    "### <font color=red> **Run the following code:** </font>"
   ]
  },
  {
   "cell_type": "code",
   "execution_count": 23,
   "metadata": {},
   "outputs": [
    {
     "name": "stdout",
     "output_type": "stream",
     "text": [
      "Data type of x:  <class 'float'> \n",
      "\n",
      "Data type of y:  <class 'float'> \n",
      "\n"
     ]
    }
   ],
   "source": [
    "x = 3.5\n",
    "\n",
    "y = x\n",
    "\n",
    "print (\"Data type of x: \", type(x), '\\n')\n",
    "print (\"Data type of y: \", type(y), '\\n')"
   ]
  },
  {
   "cell_type": "markdown",
   "metadata": {},
   "source": [
    "### 1.3 Complex Numbers: complex\n",
    "A complex number is represented by “x + yj”.\n",
    " - Python converts the real numbers x and y into complex using the function complex (x,y).\n",
    " - The real part can be accessed using the function real() and imaginary part can be represented by imag().\n",
    "### <font color=red> **Run the following code:** </font>"
   ]
  },
  {
   "cell_type": "code",
   "execution_count": 24,
   "metadata": {},
   "outputs": [
    {
     "name": "stdout",
     "output_type": "stream",
     "text": [
      "aComplex is a complex number:  (5+3j) \n",
      "\n",
      "Data type of aComplex:  <class 'complex'> \n",
      "\n"
     ]
    }
   ],
   "source": [
    "x = 5\n",
    "\n",
    "y = 3\n",
    "\n",
    "aComplex = complex(5,3)\n",
    "\n",
    "print (\"aComplex is a complex number: \", aComplex, '\\n')\n",
    "print (\"Data type of aComplex: \", type(aComplex), '\\n')"
   ]
  },
  {
   "cell_type": "markdown",
   "metadata": {},
   "source": [
    "<hr style=\"border:5px solid green\"> </hr>"
   ]
  },
  {
   "cell_type": "markdown",
   "metadata": {},
   "source": [
    "## 2. Logical Data Types/Boolean Values: bool\n",
    "### <font color=red> **Run the following code:** </font>"
   ]
  },
  {
   "cell_type": "code",
   "execution_count": 25,
   "metadata": {},
   "outputs": [
    {
     "name": "stdout",
     "output_type": "stream",
     "text": [
      "boolVar is a boolean variable:  True \n",
      "\n",
      "Data type of boolVar:  <class 'bool'> \n",
      "\n"
     ]
    }
   ],
   "source": [
    "boolVar = True\n",
    "print (\"boolVar is a boolean variable: \", boolVar, '\\n')\n",
    "print (\"Data type of boolVar: \", type(boolVar), '\\n')"
   ]
  },
  {
   "cell_type": "markdown",
   "metadata": {},
   "source": [
    "#### <font color=red>IMPORTANT NOTES:</font>\n",
    "Any values that are ***NOT 0*** or null can be used the “True” Boolean value in Python.\n",
    "### <font color=red> **Run the following 2 code blocks:** </font>"
   ]
  },
  {
   "cell_type": "code",
   "execution_count": 26,
   "metadata": {},
   "outputs": [
    {
     "name": "stdout",
     "output_type": "stream",
     "text": [
      "Data type of boolVar:  <class 'int'> \n",
      "\n"
     ]
    }
   ],
   "source": [
    "boolVar = 5\n",
    "\n",
    "if (boolVar):\n",
    "    print (\"Data type of boolVar: \", type(boolVar), '\\n')"
   ]
  },
  {
   "cell_type": "code",
   "execution_count": 27,
   "metadata": {},
   "outputs": [
    {
     "name": "stdout",
     "output_type": "stream",
     "text": [
      "boolVar is a boolean variable:  False \n",
      "\n",
      "Data type of boolVar:  <class 'bool'> \n",
      "\n"
     ]
    }
   ],
   "source": [
    "boolVar = False\n",
    "print (\"boolVar is a boolean variable: \", boolVar, '\\n')\n",
    "print (\"Data type of boolVar: \", type(boolVar), '\\n')"
   ]
  },
  {
   "cell_type": "markdown",
   "metadata": {},
   "source": [
    "#### <font color=red>IMPORTANT NOTES:</font>\n",
    "Any zero values like ***0 or null*** can be used the “False” Boolean value in Python."
   ]
  },
  {
   "cell_type": "code",
   "execution_count": 29,
   "metadata": {},
   "outputs": [],
   "source": [
    "boolVar=0\n",
    "\n",
    "if (boolVar):\n",
    "    print (\"Data type of boolVar: \", type(boolVar), '\\n') "
   ]
  },
  {
   "cell_type": "markdown",
   "metadata": {},
   "source": [
    "#### <font color=red>IMPORTANT NOTES:</font>\n",
    "\n",
    "In the above code, the value 0 can be used as “False.”\n",
    "Therefore, nothing is printed out when the code in the above cell is executed.\n",
    "\n",
    "\n",
    "<hr style=\"border:5px solid green\"> </hr>\n",
    "\n",
    "\n",
    "## 3. Character Data Types\n",
    "\n",
    "***NOTES*** about character data types\n",
    "\n",
    " - Python does not support character data type (char).\n",
    " - It supports string and the characters as string of length one.\n",
    " \n",
    " ### <font color=red> **Run the following code:** </font>"
   ]
  },
  {
   "cell_type": "code",
   "execution_count": 30,
   "metadata": {},
   "outputs": [
    {
     "name": "stdout",
     "output_type": "stream",
     "text": [
      "aChar is a String variable, NOT a Character variable:  a \n",
      "\n",
      "ata type of aChar: <class 'str'> \n",
      "\n"
     ]
    }
   ],
   "source": [
    "aChar = 'a'\n",
    "print (\"aChar is a String variable, NOT a Character variable: \", aChar, \"\\n\")\n",
    "print (\"ata type of aChar:\",type(aChar),'\\n')"
   ]
  },
  {
   "cell_type": "markdown",
   "metadata": {},
   "source": [
    "<hr style=\"border:5px solid green\"> </hr>"
   ]
  },
  {
   "cell_type": "markdown",
   "metadata": {},
   "source": [
    "# <center><font color=green>Python Data Structures:  Lists </font> </center>  \n",
    "# <center><font color=green>Programming for Data Science with Python </font> </center>"
   ]
  },
  {
   "cell_type": "markdown",
   "metadata": {},
   "source": [
    "## 1. Overview\n",
    "In Python, ***lists*** are the objects of the class list that has the ***constructor list()***.\n",
    "\n",
    "A list is a ***mutable*** sequence data type/structure, i.e., its ***contents can be changed*** after being created. \n",
    "\n",
    "List literals are written within square brackets [ ].\n",
    "\n",
    "Lists work similarly to strings:\n",
    " - Use the len() function for the length of a list\n",
    " - Use square brackets [ ] to access data, with the first element at index 0\n",
    " - The range of indices: 0 .. len(a list) - 1\n",
    "\n",
    "### 1.1 Properties of Lists\n",
    "The ***main properties*** of Python lists:\n",
    " - List elements are ordered in a sequence.\n",
    " - List contain objects of different data types\n",
    " - Elements of a list can be accessed by an index - as other sequence data type/structures like strings, tuples\n",
    " - Lists are arbitrarily nestable, i.e. they can contain other lists as sublists\n",
    " - Lists are ***mutable***, i.e. their elements can be changed after the list has been created.\n",
    " \n",
    " #### Examples:\n",
    " \n",
    "##### Empty list\n",
    "> my_list=[]\n",
    "\n",
    "##### List of integers\n",
    "> my_list = [1,2,3]\n",
    "\n",
    "#### List with mixed datatypes\n",
    ">my_list = [1, \"Hello\", 3.4]\n",
    "\n",
    "#### Nested list\n",
    "> my_list =[\"mouse\", [8,4,6], ['a']]"
   ]
  },
  {
   "cell_type": "markdown",
   "metadata": {},
   "source": [
    "## 1.2. Elements of a list\n",
    "\n",
    "#### Index range of list elements\n",
    "\n",
    "***Forward*** index range of list elements: ***0 .. len(list) - 1***\n",
    "Forward: starting from the 1st element\n",
    "\n",
    "***Backward*** index range of list elements: -1 .. -len(list)\n",
    "Backward : Starting from the last element\n",
    "\n",
    "## 1.3. Constructor list(iterable)\n",
    "\n",
    "The ***constructor list()*** builds a list whose items are the same and in the same order as iterable's items.\n",
    " - ***iterable*** may be either a sequence, a container that supports iteration, or an iterator object.\n",
    " - If ***iterable is already a list, a copy*** is made and returned, similar to iterable[:].\n",
    "\n",
    "For example:\n",
    " - list('abc') returns ['a', 'b', 'c']\n",
    " - list( (1, 2, 3) ) returns [1, 2, 3].\n",
    "\n",
    "If ***no argument*** is given, the constructor creates a ***new empty list, []***.\n",
    "\n",
    "### <font color=red> **Run the following 3 code blocks:** </font>"
   ]
  },
  {
   "cell_type": "code",
   "execution_count": 31,
   "metadata": {},
   "outputs": [
    {
     "data": {
      "text/plain": [
       "['a', 'b', 'c']"
      ]
     },
     "execution_count": 31,
     "metadata": {},
     "output_type": "execute_result"
    }
   ],
   "source": [
    "list(\"abc\")"
   ]
  },
  {
   "cell_type": "code",
   "execution_count": 32,
   "metadata": {},
   "outputs": [
    {
     "data": {
      "text/plain": [
       "[1, 2, 3]"
      ]
     },
     "execution_count": 32,
     "metadata": {},
     "output_type": "execute_result"
    }
   ],
   "source": [
    "list ((1,2,3))"
   ]
  },
  {
   "cell_type": "code",
   "execution_count": 33,
   "metadata": {},
   "outputs": [
    {
     "data": {
      "text/plain": [
       "[1, 3, 5, 7, 9]"
      ]
     },
     "execution_count": 33,
     "metadata": {},
     "output_type": "execute_result"
    }
   ],
   "source": [
    "list ([1, 3, 5, 7, 9])"
   ]
  },
  {
   "cell_type": "markdown",
   "metadata": {},
   "source": [
    "<hr style=\"border:5px solid green\"> </hr>"
   ]
  },
  {
   "cell_type": "markdown",
   "metadata": {},
   "source": [
    "## 2. Create Lists\n",
    "### 2.1 Overview\n",
    "Lists may be constructed in several ways:\n",
    " - Using a pair of square brackets to denote the ***empty list: []***\n",
    " - Using square brackets with values separating from each others with commas: [a], [a, b, c]\n",
    " - Using a ***list comprehension:*** [x for x in iterable]\n",
    " - Using the ***list constructor:*** list() or list(iterable)\n",
    " \n",
    "### 2.2 Create empty lists\n",
    "### <font color=red> **Run the following code block:** </font>"
   ]
  },
  {
   "cell_type": "code",
   "execution_count": 34,
   "metadata": {},
   "outputs": [
    {
     "name": "stdout",
     "output_type": "stream",
     "text": [
      "0\n",
      "0\n"
     ]
    }
   ],
   "source": [
    "empty_list = []\n",
    "another_empty_list = list()\n",
    "print(len(empty_list))\n",
    "print(len(another_empty_list))"
   ]
  },
  {
   "cell_type": "markdown",
   "metadata": {},
   "source": [
    "### 2.3 Create lists by converting other data structures/types to lists: Using list()\n",
    "> ### 2.3.1 Create list from strings or tuples using the constructor list()\n",
    "### <font color=red> **Run the following 3 code blocks:** </font>"
   ]
  },
  {
   "cell_type": "code",
   "execution_count": 35,
   "metadata": {},
   "outputs": [
    {
     "data": {
      "text/plain": [
       "['h', 'o', 'u', 's', 'e']"
      ]
     },
     "execution_count": 35,
     "metadata": {},
     "output_type": "execute_result"
    }
   ],
   "source": [
    "# Convert a string of one word to a list of characters\n",
    "list(\"house\")"
   ]
  },
  {
   "cell_type": "code",
   "execution_count": 36,
   "metadata": {},
   "outputs": [
    {
     "data": {
      "text/plain": [
       "['T', 'h', 'i', 's', ' ', 'w', 'o', 'r', 'd']"
      ]
     },
     "execution_count": 36,
     "metadata": {},
     "output_type": "execute_result"
    }
   ],
   "source": [
    "# Convert a a string of words to a list of characters\n",
    "list(\"This word\")"
   ]
  },
  {
   "cell_type": "code",
   "execution_count": 37,
   "metadata": {},
   "outputs": [
    {
     "data": {
      "text/plain": [
       "['ready', 'fire', 'aim']"
      ]
     },
     "execution_count": 37,
     "metadata": {},
     "output_type": "execute_result"
    }
   ],
   "source": [
    "# Convert a tuple of a list\n",
    "# Notice the parentheses vs. the square brackets\n",
    "aTuple = ('ready', 'fire', 'aim')\n",
    "list(aTuple)"
   ]
  },
  {
   "cell_type": "markdown",
   "metadata": {},
   "source": [
    "> ### 2.3.2 Create lists from strings using split() method\n",
    "### <font color=red> **Run the following 2 code blocks but change the date to today:** </font>"
   ]
  },
  {
   "cell_type": "code",
   "execution_count": 38,
   "metadata": {},
   "outputs": [
    {
     "name": "stdout",
     "output_type": "stream",
     "text": [
      "['This', 'is', 'a', 'string', 'of', 'words']\n"
     ]
    }
   ],
   "source": [
    "#Convert a string of words to a list of words: Using split() to chop the string with ' ' \n",
    "\n",
    "aStringOfWords= \"This is a string of words\"\n",
    "aList=aStringOfWords.split(' ')\n",
    "print(aList)"
   ]
  },
  {
   "cell_type": "code",
   "execution_count": 39,
   "metadata": {},
   "outputs": [
    {
     "name": "stdout",
     "output_type": "stream",
     "text": [
      "['2', '1', '2022']\n"
     ]
    }
   ],
   "source": [
    "#Convert a string to a List: Using split() to chop the string with some separator\n",
    "aDayString = \"2/1/2022\"\n",
    "alist = aDayString.split('/')\n",
    "print(alist)"
   ]
  },
  {
   "cell_type": "markdown",
   "metadata": {},
   "source": [
    "> ### 2.3.3 Create lists by using list comprehension and slicing an existing list\n",
    "### <font color=red> **Run the following code block:** </font>"
   ]
  },
  {
   "cell_type": "code",
   "execution_count": 40,
   "metadata": {},
   "outputs": [
    {
     "name": "stdout",
     "output_type": "stream",
     "text": [
      "[2, 3]\n",
      "[3, 4]\n",
      "[4, 5]\n"
     ]
    }
   ],
   "source": [
    "# NOTES: MUST use List slice--> CANNOT use any other function to delete/remove \n",
    "\n",
    "l_lists=[[1,2,3],[2,3,4],[3,4,5]]\n",
    "\n",
    "new_llists=[element[1:] for element in l_lists]\n",
    "\n",
    "i=0\n",
    "for element in new_llists:\n",
    "    print(element)\n",
    "    i=i+1\n",
    "    if i==3:\n",
    "        break"
   ]
  },
  {
   "cell_type": "markdown",
   "metadata": {},
   "source": [
    "<hr style=\"border:5px solid green\"> </hr>"
   ]
  },
  {
   "cell_type": "markdown",
   "metadata": {},
   "source": [
    "## 3. Access List Elements\n",
    "\n",
    "### 3.1 Access single elements\n",
    "\n",
    " - As other sequence data types/structures, list elements can be accessed via their indices.\n",
    " - We can use the index operator [] to access an item in a list. ***Index starts from 0.***\n",
    " - So, a list having 5 elements will have index from O to 4.\n",
    " - Trying to access an element other than this will raise an lndexError.\n",
    "\n",
    " - ***The index must be an integer.***\n",
    " - We can't use float or other types, this will result into TypeError.\n",
    "\n",
    "Nested list are accessed using ***nested indexing [][]*** that is similar to index of 2-D array elements.\n",
    "\n",
    "### <font color=red> **Run the following 6 code blocks:** </font>"
   ]
  },
  {
   "cell_type": "code",
   "execution_count": 41,
   "metadata": {},
   "outputs": [
    {
     "name": "stdout",
     "output_type": "stream",
     "text": [
      "p\n",
      "o\n",
      "e\n"
     ]
    }
   ],
   "source": [
    "my_list = ['p','r','o','b','e']\n",
    "\n",
    "\n",
    "print(my_list[0])\n",
    "\n",
    "print(my_list[2])\n",
    "\n",
    "print(my_list[4])"
   ]
  },
  {
   "cell_type": "code",
   "execution_count": 42,
   "metadata": {},
   "outputs": [
    {
     "name": "stdout",
     "output_type": "stream",
     "text": [
      "a\n",
      "5\n"
     ]
    }
   ],
   "source": [
    "# Nested List\n",
    "\n",
    "n_list = [\"Happy\", [2,0,1,5]]\n",
    "\n",
    "# Nested indexing\n",
    "\n",
    "print(n_list[0][1])\n",
    "\n",
    "print(n_list[1][3])"
   ]
  },
  {
   "cell_type": "code",
   "execution_count": 43,
   "metadata": {},
   "outputs": [
    {
     "name": "stdout",
     "output_type": "stream",
     "text": [
      "['ready', 'fire', 'aim']\n",
      "Length of the list: 3\n"
     ]
    }
   ],
   "source": [
    "aTuple=('ready','fire','aim')\n",
    "aList=list(aTuple)\n",
    "\n",
    "print (aList)\n",
    "print(\"Length of the list:\",len(aList))"
   ]
  },
  {
   "cell_type": "code",
   "execution_count": 44,
   "metadata": {},
   "outputs": [
    {
     "name": "stdout",
     "output_type": "stream",
     "text": [
      "ready\n",
      "fire\n",
      "aim\n"
     ]
    }
   ],
   "source": [
    "# Access using forward index\n",
    "\n",
    "aTuple=('ready','fire','aim')\n",
    "aList=list(aTuple)\n",
    "\n",
    "list_element1=aList[0]\n",
    "list_element2=aList[1]\n",
    "list_element3=aList[2]\n",
    "\n",
    "print(list_element1)\n",
    "print(list_element2)\n",
    "print(list_element3)"
   ]
  },
  {
   "cell_type": "code",
   "execution_count": 45,
   "metadata": {},
   "outputs": [
    {
     "name": "stdout",
     "output_type": "stream",
     "text": [
      "aim\n",
      "fire\n",
      "ready\n"
     ]
    }
   ],
   "source": [
    "# Access using backward index\n",
    "aTuple=('ready','fire','aim')\n",
    "aList=list(aTuple)\n",
    "\n",
    "list_element_last=aList[-1]\n",
    "list_element_next_to_last=aList[-2]\n",
    "list_element_first=aList[-3]\n",
    "\n",
    "print(list_element_last)\n",
    "print(list_element_next_to_last)\n",
    "print(list_element_first)"
   ]
  },
  {
   "cell_type": "code",
   "execution_count": 46,
   "metadata": {},
   "outputs": [
    {
     "name": "stdout",
     "output_type": "stream",
     "text": [
      "Python and C are quite different!\n"
     ]
    }
   ],
   "source": [
    "languages= [\"Python\", \"C\", \"C++\", \"Java\", \"Perl\"]\n",
    "print(languages[0] +\" and \"+ languages[1] +\" are quite different!\")"
   ]
  },
  {
   "cell_type": "markdown",
   "metadata": {},
   "source": [
    "## PRACTICE\n",
    "- Change the languages to English, Spanish, French, Chinese, Hindi, and Arabic\n",
    "- Print the following sentence \n",
    "- English and Spanish are the most common languages in the great state of Texas!"
   ]
  },
  {
   "cell_type": "code",
   "execution_count": 47,
   "metadata": {},
   "outputs": [
    {
     "name": "stdout",
     "output_type": "stream",
     "text": [
      "English and Spanish are the most common languages in the great state of Texas!\n"
     ]
    }
   ],
   "source": [
    "#To Do add your code here\n",
    "languages= [\"English\", \"Spanish\", \"French\", \"Chinese\", \"Hindi\",  \"Arabic\"]\n",
    "print(languages[0] +\" and \"+ languages[1] +\" are the most common languages in the great state of Texas!\")"
   ]
  },
  {
   "cell_type": "markdown",
   "metadata": {},
   "source": [
    "### 3.2 Access a slice of lists\n",
    "\n",
    "### <font color=red> **Run the following code block:** </font>"
   ]
  },
  {
   "cell_type": "code",
   "execution_count": 48,
   "metadata": {},
   "outputs": [
    {
     "name": "stdout",
     "output_type": "stream",
     "text": [
      "['o', 'g', 'r']\n",
      "['p', 'r', 'o', 'g']\n",
      "['a', 'm', 'i', 'z']\n",
      "['p', 'r', 'o', 'g', 'r', 'a', 'm', 'i', 'z']\n"
     ]
    }
   ],
   "source": [
    "# We can access a range of items in a List by using the slicing operator (colon).\n",
    "# This is a very important concept for when we start working with algorithms in the 2nd half of the semester\n",
    "\n",
    "my_list = ['p','r','o','g','r','a','m','i','z']\n",
    "\n",
    "# elements 3rd up to the 5th (but not including)\n",
    "print(my_list[2:5])\n",
    "\n",
    "# elements backward from (but not inclucing) the negative 5th element (\"r\")\n",
    "print(my_list[:-5])\n",
    "\n",
    "# elements 6th to end \n",
    "# Remember the count starts at zero, not one\n",
    "print(my_list[5:])\n",
    "\n",
    "# elements beginning to end\n",
    "print(my_list[:])"
   ]
  },
  {
   "cell_type": "markdown",
   "metadata": {},
   "source": [
    "<hr style=\"border:5px solid green\"> </hr>"
   ]
  },
  {
   "cell_type": "markdown",
   "metadata": {},
   "source": [
    "## 4. Modify Lists\n",
    "### 4.1 Add/Change elements of lists\n",
    "> #### 4.1.1 Update/Change single elements or a sub-list of lists\n",
    "\n",
    "### <font color=red> **Run the following code block:** </font>"
   ]
  },
  {
   "cell_type": "code",
   "execution_count": 49,
   "metadata": {},
   "outputs": [
    {
     "name": "stdout",
     "output_type": "stream",
     "text": [
      "[1, 4, 6, 8]\n",
      "[1, 3, 5, 7]\n"
     ]
    }
   ],
   "source": [
    "odd= [2, 4, 6, 8]\n",
    "\n",
    "# change the 1st item\n",
    "odd[0] = 1\n",
    "print(odd)\n",
    "\n",
    "# change 2nd to 4th items\n",
    "odd[1:4] = [3, 5, 7]\n",
    "print(odd)"
   ]
  },
  {
   "cell_type": "markdown",
   "metadata": {},
   "source": [
    ">#### 4.1.2 Add single items or a sub-list into a list - using append() or extend() respectively\n",
    "\n",
    "### <font color=red> **Run the following code block:** </font>"
   ]
  },
  {
   "cell_type": "code",
   "execution_count": 50,
   "metadata": {},
   "outputs": [
    {
     "name": "stdout",
     "output_type": "stream",
     "text": [
      "[1, 3, 5, 7]\n",
      "[1, 3, 5, 7, 9, 11, 13]\n"
     ]
    }
   ],
   "source": [
    "# We can add one item to a List using append() method\n",
    "# or add several items using extend() method.\n",
    "odd= [1, 3, 5]\n",
    "\n",
    "odd.append(7)\n",
    "print(odd)\n",
    "\n",
    "odd . extend([9, 11, 13])\n",
    "print(odd)"
   ]
  },
  {
   "cell_type": "markdown",
   "metadata": {},
   "source": [
    ">#### 4.1.3 Insert single elements or sub-lists into an existing list\n",
    "\n",
    "### <font color=red> **Run the following code block:** </font>"
   ]
  },
  {
   "cell_type": "code",
   "execution_count": 51,
   "metadata": {},
   "outputs": [
    {
     "name": "stdout",
     "output_type": "stream",
     "text": [
      "[1, 3, 9]\n",
      "[1, 3, 5, 7, 9]\n"
     ]
    }
   ],
   "source": [
    "# We can insert one item at a desired Location by using the method insert()\n",
    "# or insert multiple items by squeezing it into an empty slice of a List.\n",
    "\n",
    "odd= [1, 9] \n",
    "odd.insert( 1,3)\n",
    "print(odd) \n",
    "\n",
    "odd[2:2] = [5, 7]\n",
    "print(odd)"
   ]
  },
  {
   "cell_type": "markdown",
   "metadata": {},
   "source": [
    "### 4.2 Delete/Remove elements of lists\n",
    "> #### 4.2.1 Delete/Remove elements of lists - using the del() function\n",
    "\n",
    "### <font color=red> **Run the following code block:** </font>"
   ]
  },
  {
   "cell_type": "code",
   "execution_count": null,
   "metadata": {},
   "outputs": [],
   "source": [
    "# We can delete one or more items from a List using the keyword del.\n",
    "\n",
    "my_list = [\"p\",\"r\", \"o\", \"b\", \"l\", \"e\", \"m\"]\n",
    "           \n",
    "# delete one item\n",
    "del my_list[2]\n",
    "print(\"3rd element has been removed: \", my_list)\n",
    "\n",
    "# delete multiple items\n",
    "del my_list[1:5]\n",
    "print(\"Elements from index 1 until 4 have been removed: \", my_list)"
   ]
  },
  {
   "cell_type": "markdown",
   "metadata": {},
   "source": [
    "> #### 4.2.2 Delete/Remove elements of lists - using the functions remove() or pop{)\n",
    "\n",
    "### <font color=red> **Run the following code block:** </font>"
   ]
  },
  {
   "cell_type": "code",
   "execution_count": null,
   "metadata": {},
   "outputs": [],
   "source": [
    "# We can use remove() method to remove the given item or pop() method to remove an item at the element of the list.\n",
    "# The pop() method removes and returns the Last item if index is not provided. \n",
    "# This helps us implement lists as stacks (first in, Last out data structure). \n",
    "# We can also use the clear() method to empty a List.\n",
    "\n",
    "my_list=['p','r','o','b','l','e','m']\n",
    "\n",
    "# Remove p, p is gone. (\"r\", \"o\", \"b\", \"l\", \"e\", \"m\") is left.\n",
    "my_list.remove('p')\n",
    "\n",
    "# Will now remove the first element (\"o\"). (\"r\",\"b\",\"l\",\"e\",\"m\") is left.\n",
    "my_list.pop(1)\n",
    "\n",
    "# Will now remove the last element\n",
    "my_list.pop()\n",
    "\n",
    "print(my_list)"
   ]
  },
  {
   "cell_type": "markdown",
   "metadata": {},
   "source": [
    "> #### 4.2.3 Delete/Remove elements of a list - assigning an empty list [] to a slice of the list\n",
    "\n",
    "\n",
    "### <font color=red> **Run the following code block:** </font>"
   ]
  },
  {
   "cell_type": "code",
   "execution_count": null,
   "metadata": {},
   "outputs": [],
   "source": [
    "my_list=['p','r','o','b','l','e','m']\n",
    "\n",
    "# remove 'o'\n",
    "my_list[2:3]=[]\n",
    "\n",
    "# remove 'b', 'l', 'e'\n",
    "my_list[2:5]=[]\n",
    "\n",
    "print(my_list)"
   ]
  },
  {
   "cell_type": "markdown",
   "metadata": {},
   "source": [
    "> #### 4.2.4 Delete/Remove all the elements of a list - using the clear() function\n",
    "\n",
    "### <font color=red> **Run the following code block:** </font>"
   ]
  },
  {
   "cell_type": "code",
   "execution_count": null,
   "metadata": {},
   "outputs": [],
   "source": [
    "my_list=['p','r','o','b','l','e','m']\n",
    "my_list.clear()\n",
    "\n",
    "print(my_list)"
   ]
  },
  {
   "cell_type": "markdown",
   "metadata": {},
   "source": [
    "<hr style=\"border:5px solid green\"> </hr>"
   ]
  },
  {
   "cell_type": "markdown",
   "metadata": {},
   "source": [
    "## 5. Copy Lists\n",
    "### 5.1 Shallow copy\n",
    "\n",
    " - ***Shallow copy*** means that only the reference to the object is copied. No new object is created.\n",
    " \n",
    " - ***Shallow Copy*** means defining a new collection object and then populating it with references to the child objects found in the original.  \n",
    " - The ***Shallow Copy*** process is not recursive.  This means that the child objects won't be copied. In case of shallow copy, a reference of object is copied in other object. It means that any changes made to a copy of object do reflect in the original object. In python, this is implemented using “copy()” function.\n",
    " \n",
    "### <font color=red> **Run the following code block:** </font>"
   ]
  },
  {
   "cell_type": "code",
   "execution_count": null,
   "metadata": {},
   "outputs": [],
   "source": [
    "# importing \"copy\" for copy operations\n",
    "import copy\n",
    "\n",
    "# initializing list 1\n",
    "i1 = [1, 2, [3,5], 4]\n",
    "\n",
    "# using copy to shallow copy\n",
    "s2 = copy.copy(i1)\n",
    "\n",
    "# original elements of list\n",
    "print (\"The original elements before shallow copying\")\n",
    "for i in range(0,len(i1)):\n",
    "\tprint (i1[i],end=\" \")\n",
    "\n",
    "print(\"\\n\")\n",
    "\n",
    "# modifying the new list (shallow copy)\n",
    "s2[2][0] = 7\n",
    "\n",
    "# checking if change is reflected\n",
    "print (\"The original elements after shallow copying\")\n",
    "for i in range(0,len( i1)):\n",
    "\tprint (i1[i],end=\" \")"
   ]
  },
  {
   "cell_type": "markdown",
   "metadata": {},
   "source": [
    "### 5.2 Deep copy\n",
    "\n",
    " - The ***Deep Copy*** process is where the copying process occurs recursively. \n",
    " \n",
    " - ***Deep copy*** means a new collection will first be created and then that copy will recursively be populated with copies of the child objects found in the original list.\n",
    " \n",
    " - A ***Deep Copy*** stores copies of an object's values, but a ***Shallow Copy*** stores references to the original object(list, dict, etc) \n",
    "\n",
    " - A ***Deep Copy** does ***NOT*** reflect any changes made to the new (copied) object from the original object; however, the ***Shallow Copy*** does reflect any modifications.\n",
    "\n",
    " - A ***Deep Copy*** is the ***real copy*** of the orginal.\n",
    " \n",
    " - Deep copying lists can be done using the ***deepcopy()*** function of the ***module copy*** in Python 3.\n",
    " \n",
    " \n",
    " ### <font color=red> **Run the following code block:** </font>"
   ]
  },
  {
   "cell_type": "code",
   "execution_count": null,
   "metadata": {},
   "outputs": [],
   "source": [
    "# importing \"copy\" for copy operations\n",
    "import copy\n",
    "\n",
    "# initializing list 1\n",
    "i1 = [1, 2, [3,5], 4]\n",
    "\n",
    "# using deepcopy() to deep copy initial list (il)\n",
    "d2 = copy.deepcopy(i1)\n",
    "\n",
    "# original elements of list\n",
    "print (\"The original elements before deep copying\")\n",
    "for i in range(0,len(i1)):\n",
    "\tprint (i1[i],end=\" \")\n",
    "\n",
    "print(\"\\n\")\n",
    "\n",
    "# adding and element to new list\n",
    "d2[2][0] = 7\n",
    "\n",
    "# Change is reflected in l2\n",
    "print (\"The new list of elements after deep copying \")\n",
    "for i in range(0,len( i1)):\n",
    "\tprint (d2[i],end=\" \")\n",
    "\n",
    "print(\"\\n\")\n",
    "\n",
    "# Change is NOT reflected in original list\n",
    "# as it is a deep copy\n",
    "print (\"The original elements after deep copying\")\n",
    "for i in range(0,len( i1)):\n",
    "\tprint (i1[i],end=\" \")\n"
   ]
  },
  {
   "cell_type": "markdown",
   "metadata": {},
   "source": [
    "<hr style=\"border:5px solid green\"> </hr>"
   ]
  },
  {
   "cell_type": "markdown",
   "metadata": {},
   "source": [
    "### 6. Delete Lists\n",
    "To delete a list, using the built-in function del().\n",
    "\n",
    "### <font color=red> **Run the following 3 code blocks:** </font>"
   ]
  },
  {
   "cell_type": "code",
   "execution_count": null,
   "metadata": {},
   "outputs": [],
   "source": [
    "list1 = [1, 2, [3,5], 4]\n",
    "print(list1)"
   ]
  },
  {
   "cell_type": "code",
   "execution_count": null,
   "metadata": {},
   "outputs": [],
   "source": [
    "del(list1)\n",
    "print(\"list1 has been deleted.\")"
   ]
  },
  {
   "cell_type": "code",
   "execution_count": null,
   "metadata": {},
   "outputs": [],
   "source": [
    "print(list1)\n",
    "# You will get an error since list1 has been deleted."
   ]
  },
  {
   "cell_type": "markdown",
   "metadata": {},
   "source": [
    "To Do: Please state why you received an error. I received an error because ..."
   ]
  },
  {
   "cell_type": "markdown",
   "metadata": {},
   "source": [
    "<hr style=\"border:5px solid green\"> </hr>"
   ]
  },
  {
   "cell_type": "markdown",
   "metadata": {},
   "source": [
    "## 7. Operations on List\n",
    "Lists implement all of the common and mutable sequence operations.\n",
    "\n",
    "### 7.1 Concatenate Iists\n",
    "Using + to concatenate strings\n",
    "\n",
    "### <font color=red> **Run the following 2 code blocks:** </font>"
   ]
  },
  {
   "cell_type": "code",
   "execution_count": null,
   "metadata": {},
   "outputs": [],
   "source": [
    "list1 = [1, 2, [3,5], 4]\n",
    "list2 = [\"Hello\", \"World\"]\n",
    "print(list1 + list2)"
   ]
  },
  {
   "cell_type": "code",
   "execution_count": null,
   "metadata": {},
   "outputs": [],
   "source": [
    "# We can also use+ operator to combine two lists. \n",
    "#This is also called concatenation. \n",
    "#The * operator repeats a list for the given number of times.\n",
    "\n",
    "odd= [1, 3, 5]\n",
    "\n",
    "\n",
    "print(odd + [9, 7, 5])"
   ]
  },
  {
   "cell_type": "markdown",
   "metadata": {},
   "source": [
    "### 7.2 Replicate lists\n",
    "\n",
    "### <font color=red> **Run the following 2 code blocks:** </font>"
   ]
  },
  {
   "cell_type": "code",
   "execution_count": null,
   "metadata": {},
   "outputs": [],
   "source": [
    "aList = [1, 2]\n",
    "\n",
    "print (aList * 3)"
   ]
  },
  {
   "cell_type": "code",
   "execution_count": null,
   "metadata": {},
   "outputs": [],
   "source": [
    "print([\"re\"] * 3)"
   ]
  },
  {
   "cell_type": "markdown",
   "metadata": {},
   "source": [
    "### 7.3 Test elements with \"in\" and \"not in\"\n",
    "\n",
    "### <font color=red> **Run the following 2 code blocks:** </font>"
   ]
  },
  {
   "cell_type": "code",
   "execution_count": null,
   "metadata": {},
   "outputs": [],
   "source": [
    "list1 = [1, 2, [3,5], 4]\n",
    "print (2 in list1)"
   ]
  },
  {
   "cell_type": "code",
   "execution_count": null,
   "metadata": {},
   "outputs": [],
   "source": [
    "list1 = [1, 2, [3,5], 4]\n",
    "print ([3] in list1)"
   ]
  },
  {
   "cell_type": "markdown",
   "metadata": {},
   "source": [
    "### 7.4 Compare lists: <, >, <=, >=, ==, !=\n",
    "\n",
    "### <font color=red> **Run the following code block:** </font>"
   ]
  },
  {
   "cell_type": "code",
   "execution_count": null,
   "metadata": {},
   "outputs": [],
   "source": [
    "list1 = [1, 2, [3,5], 4]\n",
    "list2 = [1, 2, 4]\n",
    "print (list1 == list2)"
   ]
  },
  {
   "cell_type": "markdown",
   "metadata": {},
   "source": [
    "### 7.5 Iterate a list using for loop\n",
    "\n",
    "### <font color=red> **Run the following 4 code blocks:** </font>"
   ]
  },
  {
   "cell_type": "code",
   "execution_count": null,
   "metadata": {},
   "outputs": [],
   "source": [
    "list1 = [1, 2, [3,5], 4]\n",
    "for i in list1:\n",
    "    print (i)"
   ]
  },
  {
   "cell_type": "code",
   "execution_count": null,
   "metadata": {},
   "outputs": [],
   "source": [
    "list1 = [1, 2, [3,5], 4]\n",
    "\n",
    "for i in list1:\n",
    "    print(i, end=\"\")"
   ]
  },
  {
   "cell_type": "code",
   "execution_count": null,
   "metadata": {},
   "outputs": [],
   "source": [
    "list1 = [1, 2, [3,5], 4]\n",
    "for i in list1:\n",
    "    print (i, end=\"\\n\")"
   ]
  },
  {
   "cell_type": "code",
   "execution_count": null,
   "metadata": {},
   "outputs": [],
   "source": [
    "for fruit in [\"apple\",\"banana\",\"mango\"]:\n",
    "    print(\"I like\",fruit)"
   ]
  },
  {
   "cell_type": "markdown",
   "metadata": {},
   "source": [
    "### 7.6 Sort lists\n",
    "\n",
    "> #### 7.6.1 Using the sort method of the class list: sort (*, key = none, reverse = false)\n",
    "\n",
    "This method list.sort():\n",
    " - Sort the list in ***place***\n",
    " - Use only < comparisons between items.\n",
    " \n",
    "By default, sort() doesn't require any extra parameters . However, it has two optional parameters :\n",
    " - reverse - If true, the sorted list is reversed (or sorted in descending order)\n",
    " - key - function that serves as a key for the sort comparison\n",
    "\n",
    "<font color=red>***IMPORTANT NOTES:***</font>\n",
    "\n",
    "This method modifies the sequence in place for economy of space when sorting a large sequence. Exceptions are not suppressed.\n",
    " - if any comparison opertions fail, the entire sort operation will fail\n",
    " - the list will likely be left in a partially modified state.\n",
    " \n",
    " ### <font color=red> **Run the following code block:** </font>"
   ]
  },
  {
   "cell_type": "code",
   "execution_count": null,
   "metadata": {},
   "outputs": [],
   "source": [
    "# vowels list\n",
    "vowels= ['e', 'a', 'u', 'o', 'i']\n",
    "\n",
    "# sort the vowels\n",
    "vowels.sort()\n",
    "\n",
    "# print vowels\n",
    "print('Sorted list:', vowels)"
   ]
  },
  {
   "cell_type": "markdown",
   "metadata": {},
   "source": [
    "> #### 7.6.2 Using the built-in sorted() function: sorted(iterable,  *, key = None, reverse = False)\n",
    "\n",
    "The built-in sorted() function returns a new sorted list from the items in iterable.\n",
    " \n",
    " ### <font color=red> **Run the following code block:** </font>"
   ]
  },
  {
   "cell_type": "code",
   "execution_count": null,
   "metadata": {},
   "outputs": [],
   "source": [
    "# vowels list\n",
    "vowels= ['e', 'a', 'u', 'o', 'i']\n",
    "\n",
    "# sort the vowels\n",
    "sortedVowels = sorted(vowels)\n",
    "\n",
    "# print vowels\n",
    "print('Sorted list:', sortedVowels)\n",
    "\n",
    "#A new list has been created and returned by the built-in sorted function\n",
    "id(vowels), id(sortedVowels)"
   ]
  },
  {
   "cell_type": "markdown",
   "metadata": {},
   "source": [
    "<hr style=\"border:5px solid green\"> </hr>"
   ]
  },
  {
   "cell_type": "markdown",
   "metadata": {},
   "source": [
    "## 8. Class list\n",
    "\n",
    "### 8.1 Count()\n",
    "\n",
    "count(x): return the number of elements of the tuple that are equal to x\n",
    "\n",
    "### <font color=red> **Run the following code block:** </font>"
   ]
  },
  {
   "cell_type": "code",
   "execution_count": null,
   "metadata": {},
   "outputs": [],
   "source": [
    "list1 = ['a','p','p','l','e']\n",
    "print(list1.count('p'))"
   ]
  },
  {
   "cell_type": "markdown",
   "metadata": {},
   "source": [
    "### 8.2 index (x)\n",
    "\n",
    "index(x) returns the index of the first element that is equal to x\n",
    "\n",
    "### <font color=red> **Run the following code block:** </font>"
   ]
  },
  {
   "cell_type": "code",
   "execution_count": null,
   "metadata": {},
   "outputs": [],
   "source": [
    "list1 = ['a','p','p','l','e']\n",
    "print(list1.index('p'))"
   ]
  },
  {
   "cell_type": "markdown",
   "metadata": {},
   "source": [
    "<hr style=\"border:5px solid green\"> </hr>"
   ]
  },
  {
   "cell_type": "markdown",
   "metadata": {},
   "source": [
    "# <center><font color=green>Python Data Structures:  Range </font> </center>  \n",
    "# <center><font color=green>Programming for Data Science with Python </font> </center>\n",
    "\n",
    "\n",
    "## 1. Overview\n",
    "\n",
    "In Python, ranges are the objects of the class range that has the constructor range().\n",
    "\n",
    "Range is an immutable sequence data type/structure, i.e., its contents can not be changed after being created.\n",
    "\n",
    "The range type:\n",
    " - Represent an immutable sequence of numbers\n",
    " - Is commonly used for looping a specific number of times in for loops.\n",
    " \n",
    " ### <font color=red> **Run the following code block:** </font>"
   ]
  },
  {
   "cell_type": "code",
   "execution_count": null,
   "metadata": {},
   "outputs": [],
   "source": [
    "range(10)"
   ]
  },
  {
   "cell_type": "markdown",
   "metadata": {},
   "source": [
    "### 1.1 Properties of ranges\n",
    "\n",
    "The advantage of the range type over a regular list or tuple:\n",
    " - A ***range*** object always takes the ***same (small) amount of memory*** (no matter the size of the range it represents because it only stores the start, stop, and step values)."
   ]
  },
  {
   "cell_type": "markdown",
   "metadata": {},
   "source": [
    "### 1.2 Constructors\n",
    "\n",
    ">#### 1.2.1 Constructor: range(stop)\n",
    "\n",
    ">#### 1.2.2 Constructor: range (start, stop, [step])\n",
    "\n",
    "The arguments to the range constructor must be integers:\n",
    " - Either built-in int or any object that implements the index special method.\n",
    " - If the step argument is omitted, it defaults to 1.\n",
    " - If the start argument is omitted, it defaults to 0.\n",
    " - If step is zero, ValueError is raised.\n",
    "\n",
    "For a positive step, the contents of a range r are determined by the formula:\n",
    "\n",
    "     - ***r[i]=start+step*I where i>=0 and r[i] < stop***\n",
    "\n",
    " - Start: The value of the start parameter (or 0 if the parameter was not supplied)\n",
    " - Stop: The value of the stop parameter.\n",
    " - Step: The value of the step parameter (or 1 if the parameter was not supplied)."
   ]
  },
  {
   "cell_type": "markdown",
   "metadata": {},
   "source": [
    "<hr style=\"border:5px solid green\"> </hr>"
   ]
  },
  {
   "cell_type": "markdown",
   "metadata": {},
   "source": [
    "## 2. Examples:  \n",
    "#### Using range() in creating other sequence objects\n",
    "\n",
    "### <font color=red> **Run the following 7 code blocks:** </font>"
   ]
  },
  {
   "cell_type": "code",
   "execution_count": null,
   "metadata": {},
   "outputs": [],
   "source": [
    "list(range(10))"
   ]
  },
  {
   "cell_type": "code",
   "execution_count": null,
   "metadata": {},
   "outputs": [],
   "source": [
    "list(range(1, 11))"
   ]
  },
  {
   "cell_type": "code",
   "execution_count": null,
   "metadata": {},
   "outputs": [],
   "source": [
    "list(range(0, 30, 5))"
   ]
  },
  {
   "cell_type": "code",
   "execution_count": null,
   "metadata": {},
   "outputs": [],
   "source": [
    "list(range(0, 10, 3))"
   ]
  },
  {
   "cell_type": "code",
   "execution_count": null,
   "metadata": {},
   "outputs": [],
   "source": [
    "list(range(0, -10, -1))"
   ]
  },
  {
   "cell_type": "code",
   "execution_count": null,
   "metadata": {},
   "outputs": [],
   "source": [
    "list(range(0))"
   ]
  },
  {
   "cell_type": "code",
   "execution_count": null,
   "metadata": {},
   "outputs": [],
   "source": [
    "list(range(1, 0))"
   ]
  },
  {
   "cell_type": "markdown",
   "metadata": {},
   "source": [
    "## PRACTICE\n",
    "- Create a sequence from 0 to 101 with a step parameter of 5"
   ]
  },
  {
   "cell_type": "code",
   "execution_count": null,
   "metadata": {},
   "outputs": [],
   "source": [
    "#To Do add code here"
   ]
  },
  {
   "cell_type": "markdown",
   "metadata": {},
   "source": [
    "<hr style=\"border:5px solid green\"> </hr>"
   ]
  },
  {
   "cell_type": "markdown",
   "metadata": {},
   "source": [
    "# <center><font color=green>Python Data Structures:  Strings </font> </center>  \n",
    "# <center><font color=green>Programming for Data Science with Python </font> </center>\n",
    "\n",
    "## 1. Overview\n",
    "\n",
    " - In Python, ***strings*** are the objects of the class str that has the ***constructor str()***.\n",
    " \n",
    " - Strings are one of the most popular data types/data structures in Python.\n",
    " \n",
    " - We can create them simply by enclosing characters in quotes (single or double).\n",
    " \n",
    " - Python treats single quotes the same as double-quotes.\n",
    " \n",
    " - Creating strings is as simple as assigning a value to a variable.\n",
    " \n",
    " ### <font color=red> **Run the following 2 code blocks:** </font>"
   ]
  },
  {
   "cell_type": "code",
   "execution_count": null,
   "metadata": {},
   "outputs": [],
   "source": [
    "aStr = \"Hello\"\n",
    "print(aStr)"
   ]
  },
  {
   "cell_type": "code",
   "execution_count": null,
   "metadata": {},
   "outputs": [],
   "source": [
    "aStr2 = 'Hello'\n",
    "print(aStr2)"
   ]
  },
  {
   "cell_type": "markdown",
   "metadata": {},
   "source": [
    "### 1.1 Length of Strings\n",
    " - The ***length*** of a string is the number of characters of the string.\n",
    " - The ***length*** of a string can be obtained using the built-in function ***len()***.\n",
    "\n",
    "<font color=red>**IMPORTANT NOTES:** </font>\n",
    "***len()*** is a ***built-in** function of Python, not a method of class str.\n",
    "\n",
    " ### <font color=red> **Run the following code block:** </font>"
   ]
  },
  {
   "cell_type": "code",
   "execution_count": null,
   "metadata": {},
   "outputs": [],
   "source": [
    "# Declare a string\n",
    "aStr = \"This is a string . \"\n",
    "print (\"The length of this string - or the number of characters: \", len(aStr))"
   ]
  },
  {
   "cell_type": "markdown",
   "metadata": {},
   "source": [
    "### 1.2 String Indices\n",
    " - **String is a sequence data type/structure** in Python.\n",
    " - Like any other sequence data type in Python, the **indices** of a string always start with 0.\n",
    " - The range of indices of a string: 0 ... len(string) - 1\n",
    "\n",
    " ### <font color=red> **Run the following 5 code blocks:** </font>"
   ]
  },
  {
   "cell_type": "code",
   "execution_count": null,
   "metadata": {},
   "outputs": [],
   "source": [
    "aStr = \"This is a string . \"\n",
    "print(\"The length of this string: \", len(aStr))"
   ]
  },
  {
   "cell_type": "code",
   "execution_count": null,
   "metadata": {},
   "outputs": [],
   "source": [
    "print(aStr[0])"
   ]
  },
  {
   "cell_type": "code",
   "execution_count": null,
   "metadata": {},
   "outputs": [],
   "source": [
    "print(aStr[1])"
   ]
  },
  {
   "cell_type": "code",
   "execution_count": null,
   "metadata": {},
   "outputs": [],
   "source": [
    "print(aStr[16])\n",
    "# Notice: This will return a blank space."
   ]
  },
  {
   "cell_type": "code",
   "execution_count": null,
   "metadata": {},
   "outputs": [],
   "source": [
    "print (aStr[17])\n",
    "#Notice:  This will return a period."
   ]
  },
  {
   "cell_type": "markdown",
   "metadata": {},
   "source": [
    "<hr style=\"border:5px solid green\"> </hr>"
   ]
  },
  {
   "cell_type": "markdown",
   "metadata": {},
   "source": [
    "## 2. Create Strings\n",
    "### 2.1 Using String Literals\n",
    "\n",
    "### <font color=red> **Run the following 4 code blocks:** </font>"
   ]
  },
  {
   "cell_type": "code",
   "execution_count": null,
   "metadata": {},
   "outputs": [],
   "source": [
    "# all of the following are equivalent\n",
    "my_string = 'Hello'\n",
    "print(my_string)"
   ]
  },
  {
   "cell_type": "code",
   "execution_count": null,
   "metadata": {},
   "outputs": [],
   "source": [
    "my_string = \"Hello\"\n",
    "print(my_string)"
   ]
  },
  {
   "cell_type": "code",
   "execution_count": null,
   "metadata": {},
   "outputs": [],
   "source": [
    "my_string = '''Hello'''\n",
    "print(my_string)"
   ]
  },
  {
   "cell_type": "code",
   "execution_count": null,
   "metadata": {},
   "outputs": [],
   "source": [
    "# triple quotes string can extend multiple Lines\n",
    "my_string =\"\"\"Hello. Welcome to\n",
    "Python World!\"\"\"\n",
    "print(my_string)"
   ]
  },
  {
   "cell_type": "markdown",
   "metadata": {},
   "source": [
    "### 2.2 Create Strings from Lists - Using join() method\n",
    "\n",
    "### <font color=red> **Run the following 2 code blocks:** </font>"
   ]
  },
  {
   "cell_type": "code",
   "execution_count": null,
   "metadata": {},
   "outputs": [],
   "source": [
    "# VERSION 1: List of strings--> A string\n",
    "\n",
    "alist = [\"This\", \"is\", \"a\", \"string\"]\n",
    "print (\"This is a list: \", alist)"
   ]
  },
  {
   "cell_type": "code",
   "execution_count": null,
   "metadata": {},
   "outputs": [],
   "source": [
    "aString =\" \" . join(alist)\n",
    "# aString is a string and so is alist\n",
    "print(aString)"
   ]
  },
  {
   "cell_type": "markdown",
   "metadata": {},
   "source": [
    "### 2.3 Create Strings from Lists - Using str() and join ()\n",
    "\n",
    "### <font color=red> **Run the following 2 code blocks:** </font>"
   ]
  },
  {
   "cell_type": "code",
   "execution_count": null,
   "metadata": {},
   "outputs": [],
   "source": [
    "# Version 2: List of numbers--> A string\n",
    "\n",
    "# A List of numbers\n",
    "alist = [20, 30, 40, 50, 60]\n",
    "\n",
    "# Convert aList into a List of strings - Using the constructor str()\n",
    "aStrList = [str(element) for element in alist]\n",
    "\n",
    "print (\"This is a list of strings: \", aStrList)"
   ]
  },
  {
   "cell_type": "code",
   "execution_count": null,
   "metadata": {},
   "outputs": [],
   "source": [
    "# Using join() to create a new string\n",
    "aString =\" \" . join(aStrList)\n",
    "\n",
    "# aString = \"20 30 40 50 60\"\n",
    "print(\"This is a string : \", aString)"
   ]
  },
  {
   "cell_type": "markdown",
   "metadata": {},
   "source": [
    "### 2.4 Create Strings from Lists - Using map() and join()\n",
    "\n",
    "### <font color=red> **Run the following code block:** </font>"
   ]
  },
  {
   "cell_type": "code",
   "execution_count": null,
   "metadata": {},
   "outputs": [],
   "source": [
    "# Generate the combination from the list\n",
    "# Then transform each element of the list into a string\n",
    "\n",
    "from itertools import combinations\n",
    "L = [1, 2, 3, 4]\n",
    "\n",
    "print(combinations(L, 3))\n",
    "\n",
    "# Using map() and join() to convert each numeric combination into as string\n",
    "# Thanks to this technique, we can display the List of combinations\n",
    "\n",
    "[\",\".join(map(str, comb)) for comb in combinations(L, 3)]"
   ]
  },
  {
   "cell_type": "markdown",
   "metadata": {},
   "source": [
    "<hr style=\"border:5px solid green\"> </hr>"
   ]
  },
  {
   "cell_type": "markdown",
   "metadata": {},
   "source": [
    "### 3. Access Characters in Strings\n",
    "#### 3.1 Access Single Characters\n",
    "\n",
    "### <font color=red> **Run the following 4 code blocks:** </font>"
   ]
  },
  {
   "cell_type": "code",
   "execution_count": null,
   "metadata": {},
   "outputs": [],
   "source": [
    "# Python allows negative indexing for its sequences.\n",
    "# The index of -1 refers to the last item, -2 to the second to the last item, and so on.\n",
    "# We can access a range of items in a string by using the slicing operator (colon).\n",
    "str = 'programiz'\n",
    "print('str = ', str)"
   ]
  },
  {
   "cell_type": "code",
   "execution_count": null,
   "metadata": {},
   "outputs": [],
   "source": [
    "# first character\n",
    "print('str[0] = ', str[0])"
   ]
  },
  {
   "cell_type": "code",
   "execution_count": null,
   "metadata": {},
   "outputs": [],
   "source": [
    "# Third character\n",
    "print('str[0] = ', str[2])"
   ]
  },
  {
   "cell_type": "code",
   "execution_count": null,
   "metadata": {},
   "outputs": [],
   "source": [
    "#Last character\n",
    "print('str[-1] = ', str[-1])"
   ]
  },
  {
   "cell_type": "markdown",
   "metadata": {},
   "source": [
    "### 3.2 Access a Slice of Strings\n",
    "\n",
    "### <font color=red> **Run the following 6 code blocks:** </font>"
   ]
  },
  {
   "cell_type": "code",
   "execution_count": null,
   "metadata": {},
   "outputs": [],
   "source": [
    "#slicing 2nd to 5th character\n",
    "\n",
    "str='programiz'\n",
    "\n",
    "print('str[1:5]= ', str[1:5])"
   ]
  },
  {
   "cell_type": "code",
   "execution_count": null,
   "metadata": {},
   "outputs": [],
   "source": [
    "#slicing 6th to 2nd Last character\n",
    "print('str[5:-2] = ', str[5:-2])"
   ]
  },
  {
   "cell_type": "code",
   "execution_count": null,
   "metadata": {},
   "outputs": [],
   "source": [
    "sample_str = 'Python String'\n",
    "\n",
    "# Print a range of character starting from index 3 to index 4\n",
    "print (sample_str[3:5])"
   ]
  },
  {
   "cell_type": "code",
   "execution_count": null,
   "metadata": {},
   "outputs": [],
   "source": [
    "# Print all characters from index 7\n",
    "print (sample_str[7:])"
   ]
  },
  {
   "cell_type": "code",
   "execution_count": null,
   "metadata": {},
   "outputs": [],
   "source": [
    "# Print all characters before index 6\n",
    "print(sample_str[:6])"
   ]
  },
  {
   "cell_type": "code",
   "execution_count": null,
   "metadata": {},
   "outputs": [],
   "source": [
    "# Print all characters from index 7 to the index -4 (count from)\n",
    "print (sample_str[7:-4])"
   ]
  },
  {
   "cell_type": "markdown",
   "metadata": {},
   "source": [
    "<hr style=\"border:5px solid green\"> </hr>"
   ]
  },
  {
   "cell_type": "markdown",
   "metadata": {},
   "source": [
    "### 4. Modify Strings\n",
    "\n",
    "<font color=red>***IMPORTANT NOTES:*** </font>\n",
    " - ***Strings are immutable***, i.e. they cannot be changed after being created.\n",
    " - Any attempt to change or modify the contents of strings will lead to errors.\n",
    "\n",
    "### <font color=red> **Run the following code block:** </font>"
   ]
  },
  {
   "cell_type": "code",
   "execution_count": null,
   "metadata": {},
   "outputs": [],
   "source": [
    "sample_str = 'Python String'\n",
    "sample_str[2] = 'a'\n",
    "# Do you know why you have an error in your output?"
   ]
  },
  {
   "cell_type": "markdown",
   "metadata": {},
   "source": [
    "To Do: Explain why you got an error. I received an error because ..."
   ]
  },
  {
   "cell_type": "markdown",
   "metadata": {},
   "source": [
    "<font color=red>***IMPORTANT NOTES:*** </font>\n",
    "\n",
    "***Strings are immutable.***\n",
    "\n",
    " - This means that elements of a string cannot be changed once it has been assigned.\n",
    " - But an existing string variable can be re-assigned with a brand new string.\n",
    "\n",
    "### <font color=red> **Run the following 2 code blocks:** </font>"
   ]
  },
  {
   "cell_type": "code",
   "execution_count": null,
   "metadata": {},
   "outputs": [],
   "source": [
    "str2 = \"This is a string . \"\n",
    "print (\"str2: \", str2)"
   ]
  },
  {
   "cell_type": "code",
   "execution_count": null,
   "metadata": {},
   "outputs": [],
   "source": [
    "# Reassign a new tuple to tuple1\n",
    "str2 = \"This is a new string.\"\n",
    "print(\"str2 after being re-assinged : \", str2)"
   ]
  },
  {
   "cell_type": "markdown",
   "metadata": {},
   "source": [
    "<hr style=\"border:5px solid green\"> </hr>"
   ]
  },
  {
   "cell_type": "markdown",
   "metadata": {},
   "source": [
    "## 5. Copy Strings\n",
    "### 5.1 Shallow copy\n",
    " - Shallow copy means that only the reference to the object is copied. No new object is created.\n",
    " - Assignment with an = on string does not make a copy.\n",
    " - Instead, assignment makes the two variables point to the same list in memory."
   ]
  },
  {
   "cell_type": "markdown",
   "metadata": {},
   "source": [
    "### 5.2 Deep copy\n",
    "***Deep copy*** means that a new object will be created when the copying has done.\n",
    "\n",
    " <font color=red> ***IMPORTANT NOTES:***</font>\n",
    "Strings are ***immutable sequence objects***. Strings **cannot be deep-copied***.\n",
    "\n",
    "\n",
    "<hr style=\"border:5px solid green\"> </hr>\n",
    "\n",
    "\n",
    "## 6. Delete Strings\n",
    "To ***delete a string***, using the built-in function ***del()***.\n",
    "\n",
    "### <font color=red> **Run the following 2 code blocks:** </font>"
   ]
  },
  {
   "cell_type": "code",
   "execution_count": null,
   "metadata": {},
   "outputs": [],
   "source": [
    "sample_str = \"Python is the best scripting language.\"\n",
    "del (sample_str)"
   ]
  },
  {
   "cell_type": "code",
   "execution_count": null,
   "metadata": {},
   "outputs": [],
   "source": [
    "# to show that the string has been deleted, Let's print it\n",
    "# --> ERROR\n",
    "print (sample_str)"
   ]
  },
  {
   "cell_type": "markdown",
   "metadata": {},
   "source": [
    "To Do: Explain why you got an error. I received an error because ..."
   ]
  },
  {
   "cell_type": "markdown",
   "metadata": {},
   "source": [
    "<hr style=\"border:5px solid green\"> </hr>"
   ]
  },
  {
   "cell_type": "markdown",
   "metadata": {},
   "source": [
    "## 7. Operations on Strings\n",
    "### 7 .1 Concatenate Strings\n",
    "Using ***+*** to ***concatenate*** strings\n",
    "\n",
    "### <font color=red> **Run the following code block:** </font>"
   ]
  },
  {
   "cell_type": "code",
   "execution_count": null,
   "metadata": {},
   "outputs": [],
   "source": [
    "str1 = \"Hello\"\n",
    "str2 = \"World!\"\n",
    "str3 = str1 + \" \" + str2\n",
    "#using +\n",
    "print(str3)"
   ]
  },
  {
   "cell_type": "markdown",
   "metadata": {},
   "source": [
    "### 7.2 Replicate Strings\n",
    "Using <b>*</b> to ***replicate*** a string\n",
    "\n",
    "### <font color=red> **Run the following code block:** </font>"
   ]
  },
  {
   "cell_type": "code",
   "execution_count": null,
   "metadata": {},
   "outputs": [],
   "source": [
    "str = \"Hello\"\n",
    "replicatedStr = str * 3\n",
    "print (\"The string has been replicated three times: \", replicatedStr)"
   ]
  },
  {
   "cell_type": "markdown",
   "metadata": {},
   "source": [
    "### 7.3 Test substrings with \"in\" & \"not in\"\n",
    "\n",
    "### <font color=red> **Run the following 2 code blocks:** </font>"
   ]
  },
  {
   "cell_type": "code",
   "execution_count": null,
   "metadata": {},
   "outputs": [],
   "source": [
    "str1 = \"Welcome\"\n",
    "print(\"come\" in str1)"
   ]
  },
  {
   "cell_type": "code",
   "execution_count": null,
   "metadata": {},
   "outputs": [],
   "source": [
    "print(\"come\" not in str1)"
   ]
  },
  {
   "cell_type": "markdown",
   "metadata": {},
   "source": [
    "### 7.4 Compare strings: <, >, <=, >=, ==, !=\n",
    "\n",
    "### <font color=red> **Run the following 3 code blocks:** </font>"
   ]
  },
  {
   "cell_type": "code",
   "execution_count": null,
   "metadata": {},
   "outputs": [],
   "source": [
    "# TRUE: \"apple\" comes before \"banana\"\n",
    "print(\"apple\" < \"banana\")"
   ]
  },
  {
   "cell_type": "code",
   "execution_count": null,
   "metadata": {},
   "outputs": [],
   "source": [
    "print(\"apple\" < \"Apple\")"
   ]
  },
  {
   "cell_type": "code",
   "execution_count": null,
   "metadata": {},
   "outputs": [],
   "source": [
    "print(\"apple\" == \"Apple\")"
   ]
  },
  {
   "cell_type": "markdown",
   "metadata": {},
   "source": [
    "### 7.5 Iterate strings using for loops\n",
    "\n",
    "### <font color=red> **Run the following 3 code blocks:** </font>"
   ]
  },
  {
   "cell_type": "code",
   "execution_count": null,
   "metadata": {},
   "outputs": [],
   "source": [
    "aStr = \"Hello\"\n",
    "for i in aStr:\n",
    "    print(i)  "
   ]
  },
  {
   "cell_type": "code",
   "execution_count": null,
   "metadata": {},
   "outputs": [],
   "source": [
    "aStr = \"Hello\"\n",
    "for i in aStr:\n",
    "    print(i, end=\"\")"
   ]
  },
  {
   "cell_type": "code",
   "execution_count": null,
   "metadata": {},
   "outputs": [],
   "source": [
    "aStr = \"Hello\"\n",
    "for i in aStr:\n",
    "    print(i, end=\"\\n\")"
   ]
  },
  {
   "cell_type": "markdown",
   "metadata": {},
   "source": [
    "### 7.6 Test Strings\n",
    "| <font size=4>Method Name</font> | <font size=4>Method Description</font>&nbsp;&nbsp;&nbsp;&nbsp;&nbsp;&nbsp;&nbsp;&nbsp;&nbsp;&nbsp;&nbsp;&nbsp;   |\n",
    "| :----------- | :--| \n",
    "|<font size=4>isalnum()</font>     |<font size=4>Returns \"True\" if string is alpha-numeric</font>        |\n",
    "|<font size=4>isalpha() </font>    |<font size=4>Returns \"True\" if string contains only alphabets</font>&nbsp;&nbsp;&nbsp;&nbsp;&nbsp;&nbsp;&nbsp;&nbsp;&nbsp;&nbsp;&nbsp;&nbsp;      |\n",
    "|<font size=4>isidentifier() &nbsp;&nbsp;&nbsp;&nbsp;&nbsp;&nbsp;&nbsp;&nbsp;&nbsp;&nbsp;&nbsp;&nbsp; </font>    |<font size=4>Returns \"True\" if string is valid identifier</font>  |\n",
    "|<font size=4>isupper()</font>     |<font size=4>Returns \"True\" if string is in uppercase</font>        |\n",
    "|<font size=4>islower()</font>     |<font size=4>Returns \"True\" if string is in lowercase</font>       |\n",
    "|<font size=4>isdigit()</font>    |<font size=4>Returns \"True\" if string only contains digits</font>        |\n",
    "|<font size=4>isspace() </font>   |<font size=4>Returns \"True\" if string only contains whitespace</font> | \n",
    "\n",
    "### <font color=red> **Run the following 7 code blocks:** </font>"
   ]
  },
  {
   "cell_type": "code",
   "execution_count": null,
   "metadata": {},
   "outputs": [],
   "source": [
    "s = \"welcome to python\"\n",
    "s. isalnum()"
   ]
  },
  {
   "cell_type": "code",
   "execution_count": null,
   "metadata": {},
   "outputs": [],
   "source": [
    "\"Welcome\".isalpha()"
   ]
  },
  {
   "cell_type": "code",
   "execution_count": null,
   "metadata": {},
   "outputs": [],
   "source": [
    "\"first Number\".isidentifier()"
   ]
  },
  {
   "cell_type": "code",
   "execution_count": null,
   "metadata": {},
   "outputs": [],
   "source": [
    "\"WELCOME\".isupper()"
   ]
  },
  {
   "cell_type": "code",
   "execution_count": null,
   "metadata": {},
   "outputs": [],
   "source": [
    "\"Welcome\".islower()"
   ]
  },
  {
   "cell_type": "code",
   "execution_count": null,
   "metadata": {},
   "outputs": [],
   "source": [
    "s.islower()"
   ]
  },
  {
   "cell_type": "code",
   "execution_count": null,
   "metadata": {},
   "outputs": [],
   "source": [
    "\" \\t\". isspace()"
   ]
  },
  {
   "cell_type": "markdown",
   "metadata": {},
   "source": [
    "<hr style=\"border:5px solid green\"> </hr>"
   ]
  },
  {
   "cell_type": "markdown",
   "metadata": {},
   "source": [
    "## 8. Class string\n",
    "\n",
    "### 8.1 count (x)\n",
    "#### count(x): return the number of elements of the tuple that are equal to x\n",
    "\n",
    "### <font color=red> **Run the following code block:** </font>"
   ]
  },
  {
   "cell_type": "code",
   "execution_count": null,
   "metadata": {},
   "outputs": [],
   "source": [
    "strl = \"This is a string: Hello . . . Hello Python World!\"\n",
    "print (strl.count(\"Hello\"))"
   ]
  },
  {
   "cell_type": "markdown",
   "metadata": {},
   "source": [
    "### 8.2 index (x)\n",
    "#### index(x) returns the index of the first element that is equal to x\n",
    "\n",
    "### <font color=red> **Run the following code block:** </font>"
   ]
  },
  {
   "cell_type": "code",
   "execution_count": null,
   "metadata": {},
   "outputs": [],
   "source": [
    "strl = \"This is a string: Hello ... Hello Python World!\"\n",
    "print (strl.index('s'))"
   ]
  },
  {
   "cell_type": "markdown",
   "metadata": {},
   "source": [
    "## PRACTICE\n",
    "- Print the index for 'y' in the same string"
   ]
  },
  {
   "cell_type": "code",
   "execution_count": null,
   "metadata": {},
   "outputs": [],
   "source": [
    "#To Do add your code here"
   ]
  },
  {
   "cell_type": "markdown",
   "metadata": {},
   "source": [
    "<hr style=\"border:5px solid green\"> </hr>"
   ]
  },
  {
   "cell_type": "markdown",
   "metadata": {},
   "source": [
    "# <center><font color=green>Python Data Structures: Tuples </font> </center>  \n",
    "# <center><font color=green>Programming for Data Science with Python </font> </center>\n",
    "\n",
    "\n",
    "## Overview\n",
    "\n",
    "In Python, **tuples** are the objects of the class tuple that has the **constructor tuple()**.\n",
    "\n",
    "**Tuple** is an **immutable** sequence data type/structure, i.e., its **contents cannot be changed** after being created.\n",
    "\n",
    "Tuples work similarly to strings and lists:\n",
    " - Use the len() function for the length of a tuple\n",
    " - Use square brackets [] to access data, with the first element at index 0\n",
    " - The range of indices: 0 .. len(a tuple) - 1\n",
    "\n",
    "#### <font color=red>IMPORTANT NOTES:</font>\n",
    "**What are the benefit of tuples?**\n",
    " - Tuples are **faster than lists**.\n",
    " - If you know that some **data doesn't have to be changed**, you should **use tuples** instead of lists (because this protects your data against accidental changes.) \n",
    " - Tuples can be used as **keys in dictionaries**, while lists can't. \n",
    " - We generally use **tuple** for **heterogeneous (different) datatypes** and list for homogeneous (similar) datatypes.\n",
    "\n",
    "### 1.1 Properties of Tuples\n",
    "\n",
    "A tuple is an **immutable list**, i.e., a tuple cannot be changed in any way once it has been created.\n",
    "\n",
    "A tuple is defined analogously to lists except that the set of elements is enclosed in parentheses instead of square brackets.\n",
    "\n",
    "The rules for indices are the same as for lists. Once a tuple has been created, you can't add elements to a tuple or remove elements from a tuple.\n",
    "\n",
    "#### <font color=red>IMPORTANT NOTES:</font>\n",
    "\n",
    "It is actually the comma which makes a tuple, not the parentheses: \n",
    " - The parentheses are optional, except in the empty tuple case **OR** when they are needed to avoid syntactic ambiguity.\n",
    "\n",
    "For example: \n",
    " - f(a, b, c) is a function call with three arguments\n",
    " - f((a, b, c)) is a function call with a 3-tuple as the sole argument.\n",
    " \n",
    " ### <font color=red> **Run the following code:** </font>\n"
   ]
  },
  {
   "cell_type": "code",
   "execution_count": null,
   "metadata": {},
   "outputs": [],
   "source": [
    "t = (\"tuples\", \"are\", \"immutable\")\n",
    "t[0]"
   ]
  },
  {
   "cell_type": "markdown",
   "metadata": {},
   "source": [
    "### 1.3 Elements of Tuples\n",
    "\n",
    "#### Index range of list elements\n",
    "\n",
    "**Forward** index range of list elements: **0 .. len(list) – 1** \n",
    "Forward: starting from the 1st element\n",
    "\n",
    "**Backward** index range of list elements: **-1 .. -len(list**)\n",
    "Backward: Starting from the last element\n",
    "\n",
    "### <font color=red> **Run the following code:** </font>"
   ]
  },
  {
   "cell_type": "code",
   "execution_count": null,
   "metadata": {},
   "outputs": [],
   "source": [
    "t = (\"tuples\", \"are\", \"immutable\")\n",
    "print(t[0])\n",
    "print(t[-1])\n",
    "print (t[-3])\n",
    "print(len(t))"
   ]
  },
  {
   "cell_type": "markdown",
   "metadata": {},
   "source": [
    "### 1.4 Constructor: tuple ([ iterable ])\n",
    "\n",
    "The constructor builds a tuple whose items are the same and in the same order as iterable's items.\n",
    " - Iterable may be either a sequence, a container that supports iteration, or an iterator object.\n",
    " - If iterable is already a tuple, it is returned unchanged.\n",
    "\n",
    "If no argument is given, the constructor creates a new empty tuple:().\n",
    "\n",
    "### <font color=red> **Run the following 2 code blocks:** </font>"
   ]
  },
  {
   "cell_type": "code",
   "execution_count": null,
   "metadata": {},
   "outputs": [],
   "source": [
    "tuple = (\"a\",\"b\",\"c\")\n",
    "print(tuple)"
   ]
  },
  {
   "cell_type": "code",
   "execution_count": null,
   "metadata": {},
   "outputs": [],
   "source": [
    "tuple_a = ([1,2,3])\n",
    "print(tuple_a)"
   ]
  },
  {
   "cell_type": "markdown",
   "metadata": {},
   "source": [
    "<hr style=\"border:5px solid green\"> </hr>"
   ]
  },
  {
   "cell_type": "markdown",
   "metadata": {},
   "source": [
    "## 2. Create Tuples\n",
    "\n",
    "Tuples may be constructed in a number of ways: \n",
    " - Using a pair of parentheses to denote the empty tuple: ()\n",
    " - Using a trailing comma for a singleton tuple: a, or (a,)\n",
    " - Separating items with commas: a, b, c or (a, b, c)\n",
    " - Using the tuple() built-in: tuple() or tuple(iterable)\n",
    "\n",
    "A tuple is created by placing all the items (elements) inside a parentheses(), separated by comma. The parentheses are optional but is a good practice to write it.\n",
    "\n",
    "### <font color=red> **Run the following 4 code blocks:** </font>"
   ]
  },
  {
   "cell_type": "code",
   "execution_count": null,
   "metadata": {},
   "outputs": [],
   "source": [
    "# empty tuple\n",
    "# Output: ()\n",
    "my_tuple = ()\n",
    "print(my_tuple)"
   ]
  },
  {
   "cell_type": "code",
   "execution_count": null,
   "metadata": {},
   "outputs": [],
   "source": [
    "# tuple having integers\n",
    "# Output: (1, 2, 3)\n",
    "my_tuple = (1, 2, 3)\n",
    "print(my_tuple)"
   ]
  },
  {
   "cell_type": "code",
   "execution_count": null,
   "metadata": {},
   "outputs": [],
   "source": [
    "# tuple with mixed datatypes\n",
    "# Output: (1, \"Hello\", 3.4)\n",
    "my_tuple = (1, \"Hello\", 3.4)\n",
    "print(my_tuple)"
   ]
  },
  {
   "cell_type": "code",
   "execution_count": null,
   "metadata": {},
   "outputs": [],
   "source": [
    "# nested tuple\n",
    "# Output: (\"mouse\", [B, 4, 6}, (1, 2, 3))\n",
    "my_tuple = (\"mouse\", [8, 4, 6], (1, 2, 3))\n",
    "print(my_tuple)"
   ]
  },
  {
   "cell_type": "markdown",
   "metadata": {},
   "source": [
    "### 2.1 Create tuples with only ONE element\n",
    "\n",
    "Creating a tuple with one element is a bit tricky. \n",
    "\n",
    "Placing one element within parentheses is not enough. We must add a **trailing comma** to indicate that it is in fact a tuple.\n",
    "\n",
    "### <font color=red> **Run the following 3 code blocks:** </font>"
   ]
  },
  {
   "cell_type": "code",
   "execution_count": null,
   "metadata": {},
   "outputs": [],
   "source": [
    "# only parentheses is not enough\n",
    "\n",
    "my_tuple = (\"hello\")\n",
    "print(type(my_tuple))"
   ]
  },
  {
   "cell_type": "code",
   "execution_count": null,
   "metadata": {},
   "outputs": [],
   "source": [
    "# need a comma at the end\n",
    "\n",
    "my_tuple = (\"hello\",)\n",
    "print(type(my_tuple))"
   ]
  },
  {
   "cell_type": "code",
   "execution_count": null,
   "metadata": {},
   "outputs": [],
   "source": [
    "# parentheses are optional\n",
    "\n",
    "my_tuple = \"hello\",\n",
    "print(type(my_tuple))"
   ]
  },
  {
   "cell_type": "markdown",
   "metadata": {},
   "source": [
    "<hr style=\"border:5px solid green\"> </hr>"
   ]
  },
  {
   "cell_type": "markdown",
   "metadata": {},
   "source": [
    "## 3. Access List Elements\n",
    "\n",
    "As other sequence data types/structures, list elements can be accessed via their indices.\n",
    "\n",
    "We can use the index operator [] to access an item in a list. **Index starts from 0**.\n",
    "So, a list having 5 elements will have index from 0 to 4.\n",
    "Trying to access an element other than this will raise an lndexError.\n",
    "\n",
    "**The index must be an integer**.\n",
    "We can't use float or other types, this will result into TypeError.\n",
    "\n",
    "Nested list are accessed using nested indexing [][] that is similar to index of 2-D array elements.\n",
    "\n",
    "\n",
    "\n",
    "### 3.1 Access Single Elements of Tuples\n",
    "### <font color=red> **Run the following 8 code blocks:** </font>"
   ]
  },
  {
   "cell_type": "code",
   "execution_count": null,
   "metadata": {},
   "outputs": [],
   "source": [
    "my_tuple = ('p', 'e', 'r', 'm', 'i', 't')\n",
    "print(my_tuple[0])"
   ]
  },
  {
   "cell_type": "code",
   "execution_count": null,
   "metadata": {},
   "outputs": [],
   "source": [
    "print(my_tuple[5])"
   ]
  },
  {
   "cell_type": "code",
   "execution_count": null,
   "metadata": {},
   "outputs": [],
   "source": [
    "n_tuple = (\"mouse\", [8, 4, 6], (1, 2, 3))\n",
    "print(n_tuple[0][3])"
   ]
  },
  {
   "cell_type": "code",
   "execution_count": null,
   "metadata": {},
   "outputs": [],
   "source": [
    "print(n_tuple[1][1])"
   ]
  },
  {
   "cell_type": "code",
   "execution_count": null,
   "metadata": {},
   "outputs": [],
   "source": [
    "my_tuple = ('p', 'e', 'r', 'm', 'i', 't')\n",
    "len(my_tuple)"
   ]
  },
  {
   "cell_type": "code",
   "execution_count": null,
   "metadata": {},
   "outputs": [],
   "source": [
    "my_tuple = ('p', 'e', 'r', 'm', 'i', 't')\n",
    "print(my_tuple[-1])"
   ]
  },
  {
   "cell_type": "code",
   "execution_count": null,
   "metadata": {},
   "outputs": [],
   "source": [
    "print(my_tuple[-6])"
   ]
  },
  {
   "cell_type": "code",
   "execution_count": null,
   "metadata": {},
   "outputs": [],
   "source": [
    "my_tuple = ('p', 'e', 'r', 'm', 'i', 't')\n",
    "# Range of the indices: 0 … len(my_tuples) -1: 0 … 6\n",
    "# Index must be in range\n",
    "# Or you will get an ERROR: since the index is out of range\n",
    "print (my_tuple[6])"
   ]
  },
  {
   "cell_type": "markdown",
   "metadata": {},
   "source": [
    "TO Do: Please state why you received an error. I received an error because ..."
   ]
  },
  {
   "cell_type": "markdown",
   "metadata": {},
   "source": [
    "### 3.2 Access a slice of Tuples\n",
    "### <font color=red> **Run the following 4 code blocks:** </font>"
   ]
  },
  {
   "cell_type": "code",
   "execution_count": null,
   "metadata": {},
   "outputs": [],
   "source": [
    "# elements 2nd to 4th\n",
    "my_tuple =('p','r','o','g','r','a','m','i','z')\n",
    "\n",
    "print(my_tuple[1:4])"
   ]
  },
  {
   "cell_type": "code",
   "execution_count": null,
   "metadata": {},
   "outputs": [],
   "source": [
    "# elements beginning to 2nd\n",
    "print(my_tuple[:-7])"
   ]
  },
  {
   "cell_type": "code",
   "execution_count": null,
   "metadata": {},
   "outputs": [],
   "source": [
    "# elements 8th to end\n",
    "# Output: ('i ', 'z')\n",
    "print(my_tuple[7:])"
   ]
  },
  {
   "cell_type": "code",
   "execution_count": null,
   "metadata": {},
   "outputs": [],
   "source": [
    "# elements beginning to end\n",
    "# Output: ('p', 'r', 'o', 'g', 'r', 'a', 'm', 'i', 'z')\n",
    "print(my_tuple[:])"
   ]
  },
  {
   "cell_type": "markdown",
   "metadata": {},
   "source": [
    "<hr style=\"border:5px solid green\"> </hr>"
   ]
  },
  {
   "cell_type": "markdown",
   "metadata": {},
   "source": [
    "## 4. Modify Tuples\n",
    "\n",
    "### 4.1 All elements are immutable objects (integers, floats, strings, etc.)\n",
    "\n",
    "#### <font color=red>IMPORTANT NOTES:</font>\n",
    "Tuples are immutable, i.e., they cannot be changed after being created. Any attempt to change or modify contents of tuples will lead to errors.\n",
    "\n",
    "### <font color=red> **Run the following code block:** </font>"
   ]
  },
  {
   "cell_type": "code",
   "execution_count": null,
   "metadata": {},
   "outputs": [],
   "source": [
    "# Here you see that a tuple can not be modified; you get an error.\n",
    "aTuple = ('Python', 'C', 'C++', 'Java', 'Scala')\n",
    "aTuple[2] = 'Ruby'"
   ]
  },
  {
   "cell_type": "markdown",
   "metadata": {},
   "source": [
    "TO Do: Please state why you received an error. I received an error because..."
   ]
  },
  {
   "cell_type": "markdown",
   "metadata": {},
   "source": [
    "### 4.2 One or more elements are mutable objects: lists, byte arrays, etc.\n",
    "\n",
    "Tuples are **immutable**.\n",
    " - This means that elements of a tuple cannot be changed once it has been assigned.\n",
    " - If the element is itself a mutable datatype, like list, its nested items can be changed.\n",
    " \n",
    " ### <font color=red> **Run the following code block:** </font>"
   ]
  },
  {
   "cell_type": "code",
   "execution_count": null,
   "metadata": {},
   "outputs": [],
   "source": [
    "my_tuple = (4, 2, 3, [6, 5])\n",
    "# An item of mutable element (list) can be changed\n",
    "\n",
    "my_tuple[3][0] = 9\n",
    "print(my_tuple)"
   ]
  },
  {
   "cell_type": "markdown",
   "metadata": {},
   "source": [
    "### 4.3 Tuples can be Reassigned\n",
    "\n",
    "Tuples are immutable. \n",
    " - This means that elements of a tuple cannot be changed once it has been assigned, but an existing tuple variable can be reassigned with a brand new tuple.\n",
    " \n",
    "### <font color=red> **Run the following 2 code blocks:** </font>"
   ]
  },
  {
   "cell_type": "code",
   "execution_count": null,
   "metadata": {},
   "outputs": [],
   "source": [
    "tuple_1 = (4, 2, 3, [6, 5])\n",
    "print (\"tuple_1: \", tuple_1)"
   ]
  },
  {
   "cell_type": "code",
   "execution_count": null,
   "metadata": {},
   "outputs": [],
   "source": [
    "# Reassign a new tuple to tuple1\n",
    "\n",
    "my_tuple = ('p', 'r', 'o', 'g', 'r', 'a', 'm', 'i', 'z')\n",
    "tuple_l = my_tuple\n",
    "print(\"tuple_l after being reassinged: \", tuple_l)"
   ]
  },
  {
   "cell_type": "markdown",
   "metadata": {},
   "source": [
    "<hr style=\"border:5px solid green\"> </hr>"
   ]
  },
  {
   "cell_type": "markdown",
   "metadata": {},
   "source": [
    "## 5. Copy Tuples\n",
    "\n",
    "### 5.1 Shallow Copy\n",
    "\n",
    "**Shallow copy** means that only the reference to the object is copied. No new object is created.\n",
    "\n",
    "Assignment with an = on lists does not make a copy.\n",
    "Instead, assignment makes the **two variables point to the same tuple** in memory.\n",
    "\n",
    "### <font color=red> **Run the following code block:** </font>"
   ]
  },
  {
   "cell_type": "code",
   "execution_count": null,
   "metadata": {},
   "outputs": [],
   "source": [
    "tuple_l = \"Hello\"\n",
    "tuple_2 = tuple_1\n",
    "# Both the tuples refer to the same object, i.e., the same id value\n",
    "id(tuple_1), id(tuple_2)"
   ]
  },
  {
   "cell_type": "markdown",
   "metadata": {},
   "source": [
    "### 5.2 Deep copy\n",
    "\n",
    "**Deep copy** means that a new object will be created when the copying has done.\n",
    "\n",
    "#### <font color=red>IMPORTANT NOTES:</font>\n",
    "Tuples are immutable sequence objects. Tuples **cannot** be deep-copied.\n",
    "\n",
    "### 5.3 Delete Tuples\n",
    "\n",
    "To delete a string, using the built-in function del().\n",
    "\n",
    "### <font color=red> **Run the following 2 code blocks:** </font>"
   ]
  },
  {
   "cell_type": "code",
   "execution_count": null,
   "metadata": {},
   "outputs": [],
   "source": [
    "aTuple = \"Python is the best scripting language.\"\n",
    "del (aTuple)"
   ]
  },
  {
   "cell_type": "code",
   "execution_count": null,
   "metadata": {},
   "outputs": [],
   "source": [
    "# To show that the string has been deleted, let's print it\n",
    "# You see you get an ERROR\n",
    "print (sample_str)"
   ]
  },
  {
   "cell_type": "markdown",
   "metadata": {},
   "source": [
    "To Do: Please state why you received an error. I received an error because ..."
   ]
  },
  {
   "cell_type": "markdown",
   "metadata": {},
   "source": [
    "<hr style=\"border:5px solid green\"> </hr>"
   ]
  },
  {
   "cell_type": "markdown",
   "metadata": {},
   "source": [
    "## 6. Operations on Tuples\n",
    "\n",
    "### 6.1 Concatenate Tuples\n",
    "\n",
    "### <font color=red> **Run the following code block:** </font>"
   ]
  },
  {
   "cell_type": "code",
   "execution_count": null,
   "metadata": {},
   "outputs": [],
   "source": [
    "tuple1 = 'Hello', # comma to indicate this is a tuple; parentheses are optional\n",
    "tuple2 = ' ',\n",
    "tuple3 ='World!',\n",
    "\n",
    "# using +\n",
    "print('tuple1 + tuple2 + tuple3 = ', tuple1 + tuple2 + tuple3)"
   ]
  },
  {
   "cell_type": "markdown",
   "metadata": {},
   "source": [
    "### 6.2 Replicate tuples\n",
    "\n",
    "Using * to replicate a tuple\n",
    "\n",
    "### <font color=red> **Run the following code block:** </font>"
   ]
  },
  {
   "cell_type": "code",
   "execution_count": null,
   "metadata": {},
   "outputs": [],
   "source": [
    "Tuple1 = \"Hello\",\n",
    "replicatedTuple = tuple1 * 3\n",
    "print (replicatedTuple)"
   ]
  },
  {
   "cell_type": "markdown",
   "metadata": {},
   "source": [
    "### 6.3 Test elements with \"in\" and \"not in\"\n",
    "\n",
    "### <font color=red> **Run the following 3 code blocks:** </font>"
   ]
  },
  {
   "cell_type": "code",
   "execution_count": null,
   "metadata": {},
   "outputs": [],
   "source": [
    "aTuple = (2, 4, 6, \"This\", \"is\", \"a\", \"tuple\")\n",
    "print (2 in aTuple)"
   ]
  },
  {
   "cell_type": "code",
   "execution_count": null,
   "metadata": {},
   "outputs": [],
   "source": [
    "print ('a' in aTuple)"
   ]
  },
  {
   "cell_type": "code",
   "execution_count": null,
   "metadata": {},
   "outputs": [],
   "source": [
    "print (\"This is\" in aTuple)"
   ]
  },
  {
   "cell_type": "markdown",
   "metadata": {},
   "source": [
    "### 6.4 Compare Tuples: <, >, <=, >=, ==, !=\n",
    "\n",
    "### <font color=red> **Run the following code block:** </font>"
   ]
  },
  {
   "cell_type": "code",
   "execution_count": null,
   "metadata": {},
   "outputs": [],
   "source": [
    "Tuple1 = \"Hello World!\"\n",
    "tuple2 = \"hello world!\"\n",
    "print (tuple1 == tuple2)"
   ]
  },
  {
   "cell_type": "markdown",
   "metadata": {},
   "source": [
    "### 6.5 Iterate a tuple using for loop\n",
    "\n",
    "### <font color=red> **Run the following 3 code blocks:** </font>"
   ]
  },
  {
   "cell_type": "code",
   "execution_count": null,
   "metadata": {},
   "outputs": [],
   "source": [
    "tuple1 = (\"This\", \"is\", 1, \"book\")\n",
    "for i in tuple1:\n",
    "   print (i)"
   ]
  },
  {
   "cell_type": "code",
   "execution_count": null,
   "metadata": {},
   "outputs": [],
   "source": [
    "Tuple1 = (\"This\", \"is\", 1, \"book\")\n",
    "for i in tuple1:\n",
    "   print (i, end=\"\")"
   ]
  },
  {
   "cell_type": "code",
   "execution_count": null,
   "metadata": {},
   "outputs": [],
   "source": [
    "Tuple1 = (\"This\", \"is\", 1, \"book\")\n",
    "for i in tuple1:\n",
    "    print(i, end=\"\\n\")"
   ]
  },
  {
   "cell_type": "markdown",
   "metadata": {},
   "source": [
    "<hr style=\"border:5px solid green\"> </hr>"
   ]
  },
  {
   "cell_type": "markdown",
   "metadata": {},
   "source": [
    "## 7. Class Tuple\n",
    "\n",
    "\n",
    "### 7.1. count()\n",
    "\n",
    "count(x) returns the number of elements of the tuple that are equal to (x)\n",
    "\n",
    "### <font color=red> **Run the following code block:** </font>"
   ]
  },
  {
   "cell_type": "code",
   "execution_count": null,
   "metadata": {},
   "outputs": [],
   "source": [
    "my_tuple = ('a', 'p', 'p', 'l', 'e',)\n",
    "# Count\n",
    "print(my_tuple.count('p'))"
   ]
  },
  {
   "cell_type": "markdown",
   "metadata": {},
   "source": [
    "### 7.2 index (x)\n",
    "\n",
    "index(x) returns the index of the first element that is equal to (x)\n",
    "\n",
    "### <font color=red> **Run the following code block:** </font>"
   ]
  },
  {
   "cell_type": "code",
   "execution_count": null,
   "metadata": {},
   "outputs": [],
   "source": [
    "# Index\n",
    "my_tuple=('a','p','p','l','e',)\n",
    "print(my_tuple.index('l'))"
   ]
  },
  {
   "cell_type": "markdown",
   "metadata": {},
   "source": [
    "## PRACTICE\n",
    "- Instead of the word apple change the word to texas and print the index of 'x' in texas"
   ]
  },
  {
   "cell_type": "code",
   "execution_count": null,
   "metadata": {},
   "outputs": [],
   "source": [
    "#To Do add your code here"
   ]
  },
  {
   "cell_type": "markdown",
   "metadata": {},
   "source": [
    "### You are done. Great job!"
   ]
  }
 ],
 "metadata": {
  "kernelspec": {
   "display_name": "Python 3 (ipykernel)",
   "language": "python",
   "name": "python3"
  },
  "language_info": {
   "codemirror_mode": {
    "name": "ipython",
    "version": 3
   },
   "file_extension": ".py",
   "mimetype": "text/x-python",
   "name": "python",
   "nbconvert_exporter": "python",
   "pygments_lexer": "ipython3",
   "version": "3.8.8"
  }
 },
 "nbformat": 4,
 "nbformat_minor": 4
}
