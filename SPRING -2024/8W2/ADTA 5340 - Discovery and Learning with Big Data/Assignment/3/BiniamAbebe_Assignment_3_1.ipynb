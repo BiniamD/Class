{
 "cells": [
  {
   "cell_type": "markdown",
   "metadata": {},
   "source": [
    "# <center><font color=purple>Biniam Abebe</font> </center>  \n",
    "## <center><font color=purple>04/04/2024\n",
    " </font> </center> "
   ]
  },
  {
   "cell_type": "markdown",
   "metadata": {},
   "source": [
    "# <center><font color=black>Assignment 3 Hands-on </font> </center>  \n",
    "## <font color=black>Complete the following three sections: </font> \n",
    " - Python Data Structures: Series\n",
    " \n",
    " - Python Data Structures: DataFrames\n",
    " \n",
    " - Python Data Structures: NumPy Arrays"
   ]
  },
  {
   "cell_type": "markdown",
   "metadata": {},
   "source": [
    "# <center><font color=green>Python Data Structures:  Series </font> </center>  \n",
    "# <center><font color=green>Programming for Data Science with Python </font> </center>\n",
    "\n",
    "## Overview\n",
    "**Series** is a **one-dimensional labeled NumPy array**\n",
    " - capable of holding any data type (integers, strings, floating point numbers, Python objects, etc.)\n",
    "  - The axis labels are collectively referred to as the index.\n",
    "   - All of the values have the same data type, similar to Numpy ndarrays\n",
    "   \n",
    "   The basic method to create a series is to call:\n",
    "   **s = pandas.Series(data, index=index)\n",
    "   \n",
    "   Here \"data\" can de a ndarray, or a dictionary, or a scalar value, etc.\n",
    "   \n",
    "## 1.  Create Series\n",
    "   \n",
    "### 1.1 Series Constructor\n",
    "   \n",
    "A pandas Series can be created with the following constructor:\n",
    "**pandas.Series(data, Index, dtype, copy)**\n",
    "   \n",
    "**data:** constants, ndarray, list, dictionary, etc\n",
    "**index:** Index values must be unique and hashable, same length as data.\n",
    "     \n",
    "   - index:passed parameter is a list of axis label\n",
    "   - Default: np.arrange(n) if no index is passed.\n",
    "   \n",
    "**dtype:** dtype is for data type. If None, data type will be inferred.\n",
    "   - copy: Copy data. Default: False\n",
    "   \n",
    "### 1.2  Create empty series\n",
    "### <font color=red> **Run the following code block:** </font> "
   ]
  },
  {
   "cell_type": "code",
   "execution_count": 18,
   "metadata": {},
   "outputs": [
    {
     "name": "stdout",
     "output_type": "stream",
     "text": [
      "Series([], dtype: object)\n"
     ]
    }
   ],
   "source": [
    "#filter warnings\n",
    "import warnings\n",
    "warnings.filterwarnings(\"ignore\")\n",
    "\n",
    "# Create an empty series\n",
    "import pandas as pd\n",
    "s=pd.Series()\n",
    "print(s)"
   ]
  },
  {
   "cell_type": "markdown",
   "metadata": {},
   "source": [
    "### 1.3 Create a series from an ndarray\n",
    "\n",
    "If data is an ndarray, then index passed must be of the same length.\n",
    " - If no index is passed, then by default index will be range(n)\n",
    " where n is array length, i.e., [0, 1, 2, 3 ... range (len(array))-1].\n",
    " \n",
    "### <font color=red> **Run the following 2 code blocks:** </font>  "
   ]
  },
  {
   "cell_type": "code",
   "execution_count": 19,
   "metadata": {},
   "outputs": [
    {
     "name": "stdout",
     "output_type": "stream",
     "text": [
      "0    a\n",
      "1    b\n",
      "2    c\n",
      "3    d\n",
      "dtype: object\n"
     ]
    }
   ],
   "source": [
    "# Example 1: Create a series from an ndarray\n",
    "import pandas as pd\n",
    "import numpy as np\n",
    "# Array is created from a list\n",
    "data = np.array(['a','b','c','d'])\n",
    "# A series is created from the array with the default index\n",
    "s = pd.Series(data)\n",
    "print(s)"
   ]
  },
  {
   "cell_type": "code",
   "execution_count": 20,
   "metadata": {},
   "outputs": [
    {
     "name": "stdout",
     "output_type": "stream",
     "text": [
      "100    a\n",
      "101    b\n",
      "102    c\n",
      "103    d\n",
      "dtype: object\n"
     ]
    }
   ],
   "source": [
    "#Example 2: Create a series from an ndarray\n",
    "import pandas as pd\n",
    "import numpy as np\n",
    "#Array is created from a list\n",
    "data = np.array(['a','b','c','d'])\n",
    "# A series is created from the array with specific indices\n",
    "s = pd.Series(data, index=[100,101,102,103])\n",
    "print(s)"
   ]
  },
  {
   "cell_type": "markdown",
   "metadata": {},
   "source": [
    "## PRACTICE\n",
    "- Change the index to 10,11,12,13"
   ]
  },
  {
   "cell_type": "code",
   "execution_count": 21,
   "metadata": {},
   "outputs": [
    {
     "name": "stdout",
     "output_type": "stream",
     "text": [
      "10    a\n",
      "11    b\n",
      "12    c\n",
      "13    d\n",
      "dtype: object\n"
     ]
    }
   ],
   "source": [
    "#To Do add your code here Change the index to 10,11,12,13\n",
    "s = pd.Series(data, index=[10,11,12,13])\n",
    "print(s)"
   ]
  },
  {
   "cell_type": "markdown",
   "metadata": {},
   "source": [
    "### 1.4 Create a series from a dictionary\n",
    "\n",
    "A dict can be passed as input.\n",
    " - If no index is specified, then the dictionary keys are taken in a sorted order to construct the index.\n",
    " - If index is passed, the values in data corresponding to the labels in the index will be pulled out.\n",
    "  \n",
    "### <font color=red> **Run the following 2 code blocks:** </font>  "
   ]
  },
  {
   "cell_type": "code",
   "execution_count": 22,
   "metadata": {},
   "outputs": [
    {
     "name": "stdout",
     "output_type": "stream",
     "text": [
      "a    0.0\n",
      "b    1.0\n",
      "c    2.0\n",
      "dtype: float64\n"
     ]
    }
   ],
   "source": [
    "# Create a series from a dictionary\n",
    "import pandas as pd\n",
    "import numpy as np\n",
    "\n",
    "# Declare a dictionary with keys: 'a', 'b', 'c'\n",
    "aDict = {'a': 0., 'b' : 1., 'c' :2.}\n",
    "\n",
    "#Create a series from this dictionary\n",
    "s = pd.Series(aDict)\n",
    "print(s)"
   ]
  },
  {
   "cell_type": "code",
   "execution_count": 23,
   "metadata": {},
   "outputs": [
    {
     "name": "stdout",
     "output_type": "stream",
     "text": [
      "b    1.0\n",
      "c    2.0\n",
      "d    NaN\n",
      "a    0.0\n",
      "dtype: float64\n"
     ]
    }
   ],
   "source": [
    "# Create a series from a dictionary\n",
    "\n",
    "import pandas as pd\n",
    "import numpy as np\n",
    "\n",
    "# Declare a dicctionary with keys: 'a', 'b', 'c'\n",
    "data = {'a': 0., 'b' : 1., 'c' :2.}\n",
    "\n",
    "# Create a series from this dictionary with specific indices\n",
    "# The dictionary has only three items\n",
    "s = pd.Series(data, index=['b','c','d','a'])\n",
    "print(s)"
   ]
  },
  {
   "cell_type": "markdown",
   "metadata": {},
   "source": [
    "### 1.5 Create a sereis from scalar values\n",
    "\n",
    "If data is a **scalar** value, an **index must be provided**.\n",
    " - The value will be repeated to match the length of index.\n",
    " \n",
    " ### <font color=red> **Run the following code block:** </font> "
   ]
  },
  {
   "cell_type": "code",
   "execution_count": 24,
   "metadata": {},
   "outputs": [
    {
     "name": "stdout",
     "output_type": "stream",
     "text": [
      "0    5\n",
      "1    5\n",
      "2    5\n",
      "3    5\n",
      "dtype: int64\n"
     ]
    }
   ],
   "source": [
    "# Create a series from scalar values\n",
    "import pandas as pd\n",
    "import numpy as np\n",
    "# Create a series\n",
    "s = pd.Series(5, index=[0, 1, 2, 3])\n",
    "print(s)"
   ]
  },
  {
   "cell_type": "markdown",
   "metadata": {},
   "source": [
    "### 1.6 Accessing Data from Series with Position\n",
    "\n",
    "Data in the series can be accessed similar to that ndarray.\n",
    "\n",
    "### <font color=red> **Run the following code block:** </font> "
   ]
  },
  {
   "cell_type": "code",
   "execution_count": 25,
   "metadata": {},
   "outputs": [
    {
     "name": "stdout",
     "output_type": "stream",
     "text": [
      "1\n"
     ]
    }
   ],
   "source": [
    "import pandas as pd\n",
    "s = pd.Series([1,2,3,4,5], index = ['a','b','c','d','e'])\n",
    "\n",
    "#retrieve the first element\n",
    "print(s[0])                                                                       "
   ]
  },
  {
   "cell_type": "code",
   "execution_count": 26,
   "metadata": {},
   "outputs": [
    {
     "name": "stdout",
     "output_type": "stream",
     "text": [
      "a    1\n",
      "b    2\n",
      "c    3\n",
      "dtype: int64\n"
     ]
    }
   ],
   "source": [
    "import pandas as pd\n",
    "s = pd.Series([1,2,3,4,5],index = ['a','b','c','d','e'])\n",
    "\n",
    "# Retrieve the first 3 elements:  from 0 - 3, not including 3\n",
    "# i.e., retrieve 0,1,2\n",
    "print(s[:3])"
   ]
  },
  {
   "cell_type": "code",
   "execution_count": 27,
   "metadata": {},
   "outputs": [
    {
     "name": "stdout",
     "output_type": "stream",
     "text": [
      "c    3\n",
      "d    4\n",
      "e    5\n",
      "dtype: int64\n"
     ]
    }
   ],
   "source": [
    "import pandas as pd\n",
    "s = pd.Series([1,2,3,4,5],index = ['a','b','c','d','e'])\n",
    "\n",
    "# Retrieve the last 3 elements:\n",
    "print(s[-3:])"
   ]
  },
  {
   "cell_type": "code",
   "execution_count": 28,
   "metadata": {},
   "outputs": [
    {
     "name": "stdout",
     "output_type": "stream",
     "text": [
      "1\n"
     ]
    }
   ],
   "source": [
    "import pandas as pd\n",
    "s = pd.Series([1,2,3,4,5],index = ['a','b','c','d','e'])\n",
    "\n",
    "# Retrieve a single element at a specific index\n",
    "print(s['a'])"
   ]
  },
  {
   "cell_type": "code",
   "execution_count": 29,
   "metadata": {},
   "outputs": [
    {
     "name": "stdout",
     "output_type": "stream",
     "text": [
      "a    1\n",
      "c    3\n",
      "d    4\n",
      "dtype: int64\n"
     ]
    }
   ],
   "source": [
    "import pandas as pd\n",
    "s = pd.Series([1,2,3,4,5],index = ['a','b','c','d','e'])\n",
    "\n",
    "# Retrieve multiple elements using a list of index label values\n",
    "print(s[['a','c','d']])"
   ]
  },
  {
   "cell_type": "markdown",
   "metadata": {},
   "source": [
    "<hr style=\"border:5px solid red\"> </hr>"
   ]
  },
  {
   "cell_type": "markdown",
   "metadata": {},
   "source": [
    "# <center><font color=green>Python Pandas: Dataframes </font> </center>  \n",
    "# <center><font color=green>Programming for Data Science with Python </font> </center>\n",
    "\n",
    "\n",
    "\n",
    "## Overview\n",
    "\n",
    "### What is NDFrame?\n",
    "\n",
    "N-dimensional analogue of DataFrame. Store multi-dimensional in a size-mutable, labeled data structure.\n",
    "\n",
    "### What's a DataFrame?\n",
    "\n",
    "class DataFrame(NDFrame): **Two-dimensional** size-mutable, potentially heterogeneous tabular data structure with labeled axes (**rows and columns**). Arithmetic operations align on both row and column labels. Can be thought of as a **dict-like** container for **Series** objects.\n",
    "\n",
    " - DataFrame is a subclass (i.e., special case) of NDFrame.\n",
    " - In Pandas programs generally, DataFrame is used a lot and NDFrame is used rarely.\n",
    " - In fact, Pandas has Series for 1D, DataFrame for 2D, and for most people that's the end (even though half of Pandas' name is for Panel which Pandas also has, but most people do not use).\n",
    "\n",
    "**FUN FACT:** There is/was even a 4D thing in Pandas, (but truly no one uses it (this being the internet, someone will now appear to say they do!). \n",
    "\n",
    "For higher dimensions than two or maybe three, some people have shifted their efforts to **xarray**. \n",
    "\n",
    "That's probably where it's at if your ambitions cannot be contained in 2D.\n",
    "\n",
    "<hr style=\"border:5px solid green\"> </hr>\n",
    "\n",
    "\n",
    "### 1.1 Definition\n",
    "\n",
    "A Data frame is a two-dimensional data structure, i.e., data is aligned in a tabular fashion in rows and columns.\n",
    "\n",
    "\n",
    "\n",
    "<table style=\"border-collapse:collapse;border-color:#bbb;border-spacing:0;margin:0px auto\" class=\"tg\"><thead><tr><th style=\"background-color:#9DE0AD;border-color:inherit;border-style:solid;border-width:1px;color:#493F3F;font-family:Arial, sans-serif;font-size:14px;font-weight:normal;overflow:hidden;padding:10px 15px;text-align:left;vertical-align:top;word-break:normal\"></th><th style=\"background-color:#9DE0AD;border-color:inherit;border-style:solid;border-width:1px;color:#493F3F;font-family:Arial, sans-serif;font-size:22px;font-weight:normal;overflow:hidden;padding:10px 15px;text-align:center;vertical-align:top;word-break:normal\" colspan=\"6\"><span style=\"font-weight:bold\">Column Index (df.columns)</span></th></tr></thead><tbody><tr><td style=\"background-color:#C2FFD6;border-color:inherit;border-style:solid;border-width:1px;color:#594F4F;font-family:Arial, sans-serif;font-size:22px;overflow:hidden;padding:10px 15px;text-align:left;vertical-align:top;word-break:normal\"><span style=\"font-weight:bold\">Row of Index</span><br><span style=\"font-weight:bold\">(df. index)</span></td><td style=\"background-color:#C2FFD6;border-color:inherit;border-style:solid;border-width:1px;color:#594F4F;font-family:Arial, sans-serif;font-size:18px;overflow:hidden;padding:10px 15px;text-align:left;vertical-align:top;word-break:normal\">Series of data</td><td style=\"background-color:#C2FFD6;border-color:inherit;border-style:solid;border-width:1px;color:#594F4F;font-family:Arial, sans-serif;font-size:18px;overflow:hidden;padding:10px 15px;text-align:left;vertical-align:top;word-break:normal\">Series of data</td><td style=\"background-color:#C2FFD6;border-color:inherit;border-style:solid;border-width:1px;color:#594F4F;font-family:Arial, sans-serif;font-size:18px;overflow:hidden;padding:10px 15px;text-align:left;vertical-align:top;word-break:normal\">Series of data</td><td style=\"background-color:#C2FFD6;border-color:inherit;border-style:solid;border-width:1px;color:#594F4F;font-family:Arial, sans-serif;font-size:18px;overflow:hidden;padding:10px 15px;text-align:left;vertical-align:top;word-break:normal\">Series of data</td><td style=\"background-color:#C2FFD6;border-color:inherit;border-style:solid;border-width:1px;color:#594F4F;font-family:Arial, sans-serif;font-size:18px;overflow:hidden;padding:10px 15px;text-align:left;vertical-align:top;word-break:normal\">Series of data</td><td style=\"background-color:#C2FFD6;border-color:inherit;border-style:solid;border-width:1px;color:#594F4F;font-family:Arial, sans-serif;font-size:18px;overflow:hidden;padding:10px 15px;text-align:left;vertical-align:top;word-break:normal\">Series of data</td></tr></tbody></table>\n",
    "\n",
    "### 1.2 pandas.DataFrame:  Attributes\n",
    "\n",
    "T &rarr; Transpose index and columns\n",
    "\n",
    "at &rarr; Fast label-based scalar accessor\n",
    "\n",
    "axes &rarr; Return a list with the row axis labels and column axis labels as the only members.\n",
    "\n",
    "blocks &rarr; Internal property, property synonym for as_blocks()\n",
    "\n",
    "dtypes &rarr; Return the dtypes in this object.\n",
    "\n",
    "empty &rarr; True if NDFrame is entirely empty [no items], meaning any of the axes are of length 0.\n",
    "\n",
    "Ftypes &rarr; Return the ftypes (indication of sparse/dense and dtype) in this object.\n",
    "\n",
    "iat &rarr; Fast integer location scalar accessor.\n",
    "\n",
    "iloc &rarr; Purely integer-location based indexing for selection by position.\n",
    "\n",
    "ix &rarr; A primarily label-location based indexer, with integer position fallback.\n",
    "\n",
    "loc &rarr; Purely label-location based indexer for selection by label.\n",
    "\n",
    "ndim &rarr; Number of axes/array dimensions.\n",
    "\n",
    "shape &rarr; Return a tuple representing the dimensionality of the DataFrame.\n",
    "\n",
    "size &rarr; number of elements in the NDFrame\n",
    "\n",
    "style &rarr; Property returning a Styler object containing methods for building a styled HTML representation for the DataFrame.\n",
    "\n",
    "values &rarr; Numpy representation of NDFrame.\n",
    "\n",
    "<hr style=\"border:5px solid green\"> </hr>\n",
    "\n",
    "## 2.  Create Dataframes\n",
    "\n",
    "### 2.1DataFrame Constructor\n",
    "\n",
    "##### pandas.DataFrame( data, index, columns, dtype, copy)\n",
    "\n",
    "**Data:** \n",
    " - can be ndarray, series, map, lists, diet, constants, and another DataFrame.\n",
    "\n",
    "**Index:**\n",
    " - For the row labels, the index to be used for the resulting frame is Optional Default np.arrange(n),if no index is passed.\n",
    " \n",
    "**Columns:**\n",
    " - For column labels, the Optional Default syntax is - np.arrange(n). This is only true if no index is passed.\n",
    "\n",
    "**dtype:** \n",
    " - Data type of each column\n",
    "\n",
    "**Copy:** \n",
    " - This command (or whatever it is) is used for copying of the data.\n",
    "\n",
    "**Default:** False\n",
    "\n",
    "### 2.2 Create an Empty Dataframe\n",
    "### <font color=red> **Run the following code block:** </font>\n",
    "\n"
   ]
  },
  {
   "cell_type": "code",
   "execution_count": 30,
   "metadata": {},
   "outputs": [
    {
     "name": "stdout",
     "output_type": "stream",
     "text": [
      "Empty DataFrame\n",
      "Columns: []\n",
      "Index: []\n"
     ]
    }
   ],
   "source": [
    "# Create an empty dataframe\n",
    "\n",
    "import pandas as pd\n",
    "\n",
    "df = pd.DataFrame()\n",
    "print(df)"
   ]
  },
  {
   "cell_type": "markdown",
   "metadata": {},
   "source": [
    "2.3 Create a Dataframe from lists\n",
    "Run the following 2 code blocks: "
   ]
  },
  {
   "cell_type": "code",
   "execution_count": 31,
   "metadata": {},
   "outputs": [
    {
     "name": "stdout",
     "output_type": "stream",
     "text": [
      "   0\n",
      "0  1\n",
      "1  2\n",
      "2  3\n",
      "3  4\n",
      "4  5\n"
     ]
    }
   ],
   "source": [
    "# Create a dataframe from a list\n",
    "import pandas as pd\n",
    "\n",
    "# Declare a list\n",
    "alist = [1,2,3,4,5]\n",
    "\n",
    "# Create a dataframe from the list\n",
    "df = pd.DataFrame(alist)\n",
    "\n",
    "print(df)"
   ]
  },
  {
   "cell_type": "code",
   "execution_count": 32,
   "metadata": {},
   "outputs": [
    {
     "name": "stdout",
     "output_type": "stream",
     "text": [
      "     Name  Age\n",
      "0    Alex   10\n",
      "1     Bob   12\n",
      "2  Clarke   13\n"
     ]
    }
   ],
   "source": [
    "# Create a dataframe from a list of lists\n",
    "\n",
    "import pandas as pd\n",
    "\n",
    "# Declare a list of lists - each list element has two elements [string, number]\n",
    "alistOflists = [['Alex',10],['Bob',12],['Clarke',13]]\n",
    "\n",
    "# Create a dataframe from this list, naming the columns as 'Name' and 'Age'\n",
    "df = pd.DataFrame(alistOflists, columns=['Name', 'Age'])\n",
    "\n",
    "print(df)"
   ]
  },
  {
   "cell_type": "code",
   "execution_count": 33,
   "metadata": {},
   "outputs": [
    {
     "name": "stdout",
     "output_type": "stream",
     "text": [
      "     Name   Age\n",
      "0    Alex  10.0\n",
      "1     Bob  12.0\n",
      "2  Clarke  13.0\n"
     ]
    }
   ],
   "source": [
    "# Create a dataframe from a list of lists and set the data type\n",
    "import pandas as pd\n",
    "\n",
    "# Declare a List of Lists - each list element has two elements [string, number]\n",
    "aListOfLists = [['Alex',10], ['Bob',12], ['Clarke',13]]\n",
    "\n",
    "# Create a dataframe from this list, naming the columns as 'Name' and 'Age'\n",
    "df = pd.DataFrame(aListOfLists, columns=['Name', 'Age'])\n",
    "\n",
    "# Set the data type for each column\n",
    "df['Name'] = df['Name'].astype(str)\n",
    "df['Age'] = df['Age'].astype(float)\n",
    "\n",
    "print(df)"
   ]
  },
  {
   "cell_type": "markdown",
   "metadata": {},
   "source": [
    "## PRACTICE\n",
    "- Change the data type to complex and the names to Cos, Sin, and Tangent"
   ]
  },
  {
   "cell_type": "code",
   "execution_count": 34,
   "metadata": {},
   "outputs": [
    {
     "name": "stdout",
     "output_type": "stream",
     "text": [
      "      Name         Age\n",
      "0      Cos  10.0+ 0.0j\n",
      "1      Sin  12.0+ 0.0j\n",
      "2  Tangent  13.0+ 0.0j\n"
     ]
    }
   ],
   "source": [
    "#TO Do\n",
    "# Declare a List of Lists - each list element has two elements [string, number]\n",
    "aListOfLists = [['Cos',10], ['Sin',12], ['Tangent',13]]\n",
    "\n",
    "# Create a dataframe from this list, naming the columns as 'Name' and 'Age'\n",
    "df = pd.DataFrame(aListOfLists, columns=['Name', 'Age'])\n",
    "\n",
    "# Set the data type for each column\n",
    "df['Name'] = df['Name'].astype(str)\n",
    "df['Age'] = df['Age'].astype(complex)\n",
    "\n",
    "print(df)"
   ]
  },
  {
   "cell_type": "markdown",
   "metadata": {},
   "source": [
    "### 2.4 Create dataframes from dictionaries of ndarray/lists\n",
    "\n",
    " - All the ndarrays must be of same length.\n",
    " - If index is passed, then the length of the index should equal to the length of the arrays.\n",
    " - If no index is passed, then by default, index will be range(n), where n is the array length.\n",
    "\n",
    "### <font color=red> **Run the following 3 code blocks:** </font>"
   ]
  },
  {
   "cell_type": "code",
   "execution_count": 35,
   "metadata": {},
   "outputs": [
    {
     "name": "stdout",
     "output_type": "stream",
     "text": [
      "    Name  Age\n",
      "0    Tom   28\n",
      "1   Jack   34\n",
      "2  Steve   29\n",
      "3  Ricky   42\n"
     ]
    }
   ],
   "source": [
    "# Create a dataframe from a dictionary without specified indices\n",
    "\n",
    "import pandas as pd\n",
    "\n",
    "# Declare a dictionary that has two key-value pairs\n",
    "# One key is \"Name\" that has its value = a list of strings\n",
    "# Another key is \"Age\" that has its value = a list of integers\n",
    "\n",
    "aDict = {'Name':['Tom','Jack','Steve','Ricky'],'Age': [28,34,29,42]}\n",
    "\n",
    "# Create the dataframe from the dictionary\n",
    "# VIP NOTES: Automatically adding the indices for the rows\n",
    "\n",
    "df = pd.DataFrame(aDict)\n",
    "print(df)"
   ]
  },
  {
   "cell_type": "code",
   "execution_count": 36,
   "metadata": {},
   "outputs": [
    {
     "name": "stdout",
     "output_type": "stream",
     "text": [
      "         Name  Age\n",
      "rankl     Tom   28\n",
      "rank2    Jack   34\n",
      "rank3   Steve   29\n",
      " rank4  Ricky   42\n"
     ]
    }
   ],
   "source": [
    "# Create a dataframe from a dictionary with specified indices\n",
    "\n",
    "import pandas as pd\n",
    "\n",
    "# Declare a dictionary that has two key-value pairs\n",
    "# One key is \"Name\" that has its value = a List of strings\n",
    "# Another key is \"Age\" that has its value = a list of integers\n",
    "\n",
    "aDict = {' Name' :['Tom', 'Jack', 'Steve', 'Ricky'], 'Age' : [28,34,29, 42]}\n",
    "\n",
    "# Create the dataframe from the dictionary\n",
    "# VIP NOTES: Specifying the indices for the rows\n",
    "\n",
    "df = pd.DataFrame(aDict, index=['rankl', 'rank2', 'rank3', ' rank4'])\n",
    "print(df)"
   ]
  },
  {
   "cell_type": "code",
   "execution_count": 37,
   "metadata": {},
   "outputs": [
    {
     "name": "stdout",
     "output_type": "stream",
     "text": [
      "   one  two\n",
      "a  1.0    1\n",
      "b  2.0    2\n",
      "c  3.0    3\n",
      "d  NaN    4\n"
     ]
    }
   ],
   "source": [
    "# Create a dataframe from a dictionary of series\n",
    "\n",
    "import pandas as pd\n",
    "\n",
    "# Declare a dictionary of 2 series named 'one' and 'two'\n",
    "\n",
    "aDictOfSeries = {'one': pd.Series([1, 2, 3], index=['a', 'b', 'c']), \n",
    "         'two': pd.Series([1, 2, 3, 4], index=['a', 'b', 'c', 'd'])}\n",
    "\n",
    "# Create a dataframe from this dictionary\n",
    "# VIP NOTES: Each column of a dataframe is a series\n",
    "\n",
    "df = pd.DataFrame(aDictOfSeries)\n",
    "print(df)"
   ]
  },
  {
   "cell_type": "markdown",
   "metadata": {},
   "source": [
    "### 2.5 Access Dataframe Columns\n",
    "\n",
    "### <font color=red> **Run the following code block:** </font>"
   ]
  },
  {
   "cell_type": "code",
   "execution_count": 38,
   "metadata": {},
   "outputs": [
    {
     "name": "stdout",
     "output_type": "stream",
     "text": [
      "a    1.0\n",
      "b    2.0\n",
      "c    3.0\n",
      "d    NaN\n",
      "Name: one, dtype: float64\n"
     ]
    }
   ],
   "source": [
    "# Access a dataframe columns\n",
    "\n",
    "import pandas as pd\n",
    "\n",
    "# Declare a dictionary of 2 series named 'one' and 'two'\n",
    "aDictOfSeries = {'one': pd.Series([1, 2, 3], index= ['a', 'b', 'c']), \n",
    "'two': pd.Series([1, 2, 3, 4], index=['a', 'b', 'c', 'd'])}\n",
    "\n",
    "# Create a dataframe from this dictionary\n",
    "# VIP NOTES: Each column of a dataframe is a series\n",
    "\n",
    "df = pd.DataFrame(aDictOfSeries)\n",
    "\n",
    "# Access the column 'one' and print it out\n",
    "# HOW TO access a column: Using its label as a column index\n",
    "\n",
    "print(df['one'])"
   ]
  },
  {
   "cell_type": "markdown",
   "metadata": {},
   "source": [
    "### 2.6 Add Columns into a Dataframe\n",
    "\n",
    "### <font color=red> **Run the following 2 code blocks:** </font>"
   ]
  },
  {
   "cell_type": "code",
   "execution_count": 39,
   "metadata": {},
   "outputs": [
    {
     "name": "stdout",
     "output_type": "stream",
     "text": [
      "   one  two  three\n",
      "a  1.0    1   10.0\n",
      "b  2.0    2   20.0\n",
      "c  3.0    3   30.0\n",
      "d  NaN    4    NaN\n"
     ]
    }
   ],
   "source": [
    "# Add columns into a dataframe\n",
    "\n",
    "import pandas as pd\n",
    "\n",
    "# Declare a dictionary of 2 series named 'one' and 'two'\n",
    "aDictOfSeries = {'one': pd. Series ([1, 2, 3], index= ['a', 'b', 'c']), 'two': pd.Series([1, 2, 3, 4], index=['a', 'b', 'c', 'd'])}\n",
    "\n",
    "# Create a dataframe from this dictionary\n",
    "# VIP NOTES: Each column of a dataframe is a series\n",
    "\n",
    "df = pd.DataFrame(aDictOfSeries)\n",
    "\n",
    "# Adding a new column to an existing DataFrame object with column label by passing new series\n",
    "# Adding a new series into the dataframe as a new column: 'three'\n",
    "# First, creating a new series\n",
    "# Then, assign the new series into the new column\n",
    "\n",
    "df['three']=pd.Series([10, 20, 30],index=['a', 'b', 'c'])\n",
    "print(df)"
   ]
  },
  {
   "cell_type": "code",
   "execution_count": 40,
   "metadata": {},
   "outputs": [
    {
     "name": "stdout",
     "output_type": "stream",
     "text": [
      "\n",
      "\n",
      "   one  two  three  four\n",
      "a  1.0    1   10.0  11.0\n",
      "b  2.0    2   20.0  22.0\n",
      "c  3.0    3   30.0  33.0\n",
      "d  NaN    4    NaN   NaN\n"
     ]
    }
   ],
   "source": [
    "# Adding a new column using the existing columns in Data Frame\n",
    "\n",
    "df['four'] = df['one'] + df['three']\n",
    "print('\\n')\n",
    "print(df)"
   ]
  },
  {
   "cell_type": "markdown",
   "metadata": {},
   "source": [
    "## PRACTICE\n",
    "- Add another column using the exisiting columns that is a copy of column two"
   ]
  },
  {
   "cell_type": "code",
   "execution_count": 41,
   "metadata": {},
   "outputs": [
    {
     "name": "stdout",
     "output_type": "stream",
     "text": [
      "\n",
      "\n",
      "   one  two  three  four  Five\n",
      "a  1.0    1   10.0  11.0     1\n",
      "b  2.0    2   20.0  22.0     2\n",
      "c  3.0    3   30.0  33.0     3\n",
      "d  NaN    4    NaN   NaN     4\n"
     ]
    }
   ],
   "source": [
    "#Adding a new column using the existing columns in Data Frame copy of column two\n",
    "\n",
    "df['Five'] = df['two']\n",
    "print('\\n')\n",
    "print(df)"
   ]
  },
  {
   "cell_type": "markdown",
   "metadata": {},
   "source": [
    "### 2.7 Delete/Pop/Remove a Column from a Dataframe\n",
    "\n",
    "### <font color=red> **Run the following code block:** </font>"
   ]
  },
  {
   "cell_type": "code",
   "execution_count": 42,
   "metadata": {},
   "outputs": [
    {
     "name": "stdout",
     "output_type": "stream",
     "text": [
      "   one  two  three\n",
      "a  1.0    1   10.0\n",
      "b  2.0    2   20.0\n",
      "c  3.0    3   30.0\n",
      "d  NaN    4    NaN\n",
      "\n",
      "\n",
      "   two  three\n",
      "a    1   10.0\n",
      "b    2   20.0\n",
      "c    3   30.0\n",
      "d    4    NaN\n",
      "\n",
      "\n",
      "   three\n",
      "a   10.0\n",
      "b   20.0\n",
      "c   30.0\n",
      "d    NaN\n"
     ]
    }
   ],
   "source": [
    "# Delete a column using del function\n",
    "import pandas as pd\n",
    "# Declare a dictionary of 2 series named 'one' and 'two'\n",
    "aDictOfSeries = {'one': pd.Series ([1, 2, 3], \n",
    "index = ['a', 'b', 'c']),'two': pd.Series([1, 2, 3, 4], \n",
    "index = ['a', 'b', 'c', 'd']), 'three': pd.Series([10,20,30],\n",
    "index = ['a', 'b', 'c'])}\n",
    "# Create a dataframe from this dictionary\n",
    "# VIP NOTE: Each column of a dataframe is a series\n",
    "df = pd.DataFrame(aDictOfSeries)\n",
    "print(df)\n",
    "print('\\n')\n",
    "# using del function to delete/remove the first column\n",
    "del(df['one'])\n",
    "print(df)\n",
    "print('\\n') \n",
    "# using pop function to delete another column \" 'two'\n",
    "# Deleting another column using PDP function\n",
    "df.pop('two')\n",
    "print(df)"
   ]
  },
  {
   "cell_type": "markdown",
   "metadata": {},
   "source": [
    "### 2.8 Access Rows of a Dataframe &rarr;  loc & iloc\n",
    "\n",
    "### <font color=red> **Run the following 3 code blocks:** </font>"
   ]
  },
  {
   "cell_type": "code",
   "execution_count": 43,
   "metadata": {},
   "outputs": [
    {
     "name": "stdout",
     "output_type": "stream",
     "text": [
      "one    2.0\n",
      "two    2.0\n",
      "Name: b, dtype: float64\n"
     ]
    }
   ],
   "source": [
    "# Access rows of a dataframe using Loc function\n",
    "# Loc is a row index\n",
    "\n",
    "import pandas as pd\n",
    "\n",
    "aDictOfSeries = {'one': pd.Series ([1, 2, 3], index=['a', 'b', 'c']), \n",
    "'two':pd.Series([1, 2, 3, 4], index=['a', 'b', 'c', 'd'])}\n",
    "\n",
    "df = pd.DataFrame(aDictOfSeries)\n",
    "\n",
    "# Access the row with index='b' and print the row\n",
    "print(df.loc['b'])"
   ]
  },
  {
   "cell_type": "code",
   "execution_count": 44,
   "metadata": {},
   "outputs": [
    {
     "name": "stdout",
     "output_type": "stream",
     "text": [
      "one    3.0\n",
      "two    3.0\n",
      "Name: c, dtype: float64\n"
     ]
    }
   ],
   "source": [
    "# Access rows of a dataframe using iLoc (integer Location/row index) function\n",
    "\n",
    "import pandas as pd\n",
    "\n",
    "aDictOfSeries = {'one': pd.Series ([1, 2, 3], index= ['a', 'b', 'c']),\n",
    "'two': pd.Series([1, 2, 3, 4], index=['a', 'b', 'c' , 'd'])}\n",
    "\n",
    "df = pd.DataFrame(aDictOfSeries)\n",
    "\n",
    "# Access the row with index= '2' and print the row \n",
    "print(df.iloc[2])"
   ]
  },
  {
   "cell_type": "code",
   "execution_count": 45,
   "metadata": {},
   "outputs": [
    {
     "name": "stdout",
     "output_type": "stream",
     "text": [
      "   one  two\n",
      "c  3.0    3\n",
      "d  NaN    4\n"
     ]
    }
   ],
   "source": [
    "# Access a group of rows using the ':' operator\n",
    "\n",
    "import pandas as pd\n",
    "\n",
    "aDictOfSeries = {'one': pd.Series ([1, 2, 3], index= ['a', 'b', 'c']),\n",
    "'two': pd.Series([1, 2, 3, 4], index=['a', 'b', 'c', 'd'])}\n",
    "\n",
    "df = pd.DataFrame(aDictOfSeries)\n",
    "\n",
    "# Access all the rows with indices 2, 3 and print them\n",
    "print(df[2:4])"
   ]
  },
  {
   "cell_type": "markdown",
   "metadata": {},
   "source": [
    "### 2.9 Delete/Remove Rows from a Dataframe\n",
    "\n",
    "### <font color=red> **Run the following code block:** </font>"
   ]
  },
  {
   "cell_type": "code",
   "execution_count": 46,
   "metadata": {},
   "outputs": [
    {
     "name": "stdout",
     "output_type": "stream",
     "text": [
      "   a  b\n",
      "1  3  4\n",
      "2  5  6\n",
      "3  7  8\n"
     ]
    }
   ],
   "source": [
    "# Remove rows from a dataframe using the drop() function\n",
    "\n",
    "import pandas as pd\n",
    "\n",
    "df = pd.DataFrame([[1, 2] , [3, 4]], columns = ['a', 'b'])\n",
    "df2 = pd.DataFrame([[5, 6], [7, 8]], columns = ['a', 'b'])\n",
    "\n",
    "df = pd.concat([df, df2], ignore_index=True)\n",
    "\n",
    "# Drop rows with Label 0\n",
    "df = df.drop(0)\n",
    "\n",
    "print(df)"
   ]
  },
  {
   "cell_type": "markdown",
   "metadata": {},
   "source": [
    "<hr style=\"border:5px solid green\"> </hr>\n",
    "\n",
    "\n",
    "## 3. Load Data into DataFrame\n",
    "\n",
    "To read data into a dataframe, we use this command: \n",
    "\n",
    "**pd.read_file_type(file_name)**\n",
    "\n",
    "Where file_type can be csv, excel, etc. \n",
    "\n",
    "For example, for CSV files, the command to read a csv file: pd.read_csv()\n",
    "\n",
    "#### Example:\n",
    "You will have your datasets already loaded but I want you to have an example in case you challenge yourself and work on your own."
   ]
  },
  {
   "cell_type": "markdown",
   "metadata": {},
   "source": [
    ">> import pandas as pd\n",
    "\n",
    "Reads the flights data set and create the dataframe flights\n",
    "\n",
    ">> df_flights = pd.read_csv ('C:/DATA/DROPBOX/Dropbox/DATA_APPLS/DATASETS/flights_2 . csv')\n",
    "\n",
    "The command below would print out the 1st 5 rows of the dataframe that was created.\n",
    "\n",
    ">> df_flights.head(5)"
   ]
  },
  {
   "cell_type": "markdown",
   "metadata": {},
   "source": [
    "<hr style=\"border:5px solid red\"> </hr>"
   ]
  },
  {
   "cell_type": "markdown",
   "metadata": {},
   "source": [
    "# <center><font color=green>NumPy Arrays </font> </center>  \n",
    "# <center><font color=green>Programming for Data Science with Python </font> </center>\n",
    "\n",
    "\n",
    "## 1.  Introduction\n",
    "\n",
    "NumPy is the fundamental package for **scientific computing** in Python.\n",
    "\n",
    "It is a **Python library** that provides:\n",
    " - a multidimensional array object\n",
    " - various derived objects (such as masked arrays and matrices)\n",
    " - an assortment of routines for fast operations on arrays (including mathematical, logical, shape manipulation, sorting, selecting, I/O, discrete Fourier transforms, basic linear algebra, basic statistical operations, random simulation and much more.)  \n",
    "\n",
    "At the **core** of the **NumPy** package, is the ndarray object.\n",
    " -  This encapsulates **n-dimensional arrays** of homogeneous data types   - with many operations being performed in compiled code for performance.\n",
    " \n",
    "There are several **important differences** between **NumPy arrays** and the **standard Python sequences:**\n",
    " - **NumPy arrays** have a **fixed size** at creation, unlike Python lists (which can grow dynamically).\n",
    " - Changing the size of a ndarray will create a new array and delete the original.\n",
    "\n",
    "The **elements** in a **NumPy array** are all required to be of the same data type, thus will be the same size in memory.\n",
    "\n",
    "The exception: one can have arrays of (Python, including NumPy) objects, thereby allowing for arrays of different sized elements.\n",
    "\n",
    "NumPy arrays facilitate advanced mathematical and other types of operations on large numbers of data.  Typically, such operations are executed more efficiently and with less code than is possible using Python's built-in sequences.\n",
    "\n",
    "A growing plethora of scientific and mathematical Python-based packages are using NumPy arrays; though these typically support Python-sequence input, they convert such input to NumPy arrays prior to processing, and they often output NumPy arrays.\n",
    "\n",
    "In other words, in order to efficiently use much (perhaps even most) of today's scientific/mathematical Python-based software, just knowing how to use Python's built-in sequence types is insufficient - one also needs to know how to use NumPy arrays.\n",
    "\n",
    "<hr style=\"border:5px solid green\"> </hr>\n",
    "\n",
    "## 2. NumPy: Class ndarray\n",
    "\n",
    "### 2.1 Overview\n",
    "In NumPy, an array object represents a multidimensional, homogeneous array offixed-size items.\n",
    "\n",
    "An associated data-type object describes the format of each element in the array: \n",
    " - its byte-order \n",
    " - how many bytes it occupies in memory, \n",
    " - whether it is an integer,  a floating point number, or something else.\n",
    "\n",
    "### 2.2 Fundamental Concepts\n",
    "\n",
    "#### 2.2.1 NumPy Arrays: Dimension & Axis\n",
    "\n",
    "NumPy's main object is the ***homogeneous multidimensional array.**\n",
    "\n",
    "It is a table of elements (usually numbers), all of the same type, indexed by a **tuple of positive integers.**\n",
    "\n",
    "In NumPy, **dimensions** are called **axes**. The number of axes is rank.\n",
    "\n",
    "**EXAMPLE:**\n",
    "\n",
    "The coordinates of a point in 3D space [1, 2, 1] is an array of rank 1, because it has one axis. \n",
    " - This axis has a length of 3.\n",
    " \n",
    "\n",
    " \n",
    "This array, [[ 1., 0., 0.], [ 0., 1., 2.)) has rank 2, i.e., 2 dimensions (it is 2-dimensional). \n",
    " - Let's see this array as a table of **2 rows and 3 columns**. \n",
    "  - The first dimension (axis 0) has a length of 2 (2 rows), the second dimension (axis 1) has a length of 3 (3 columns).\n",
    "\n",
    "A 2-dimensional array has two corresponding axes: \n",
    " - the first running vertically downwards across rows (axis 0)\n",
    " - the second running horizontally across columns (axis 1 )\n",
    "\n",
    "Many operation can take place along one of these axes.\n",
    "For example, we can sum each row of an array, in which case we operate along columns, or axis 1.\n",
    "\n",
    "### <font color=red> **Run the following 4 code blocks:** </font>"
   ]
  },
  {
   "cell_type": "code",
   "execution_count": 47,
   "metadata": {},
   "outputs": [
    {
     "data": {
      "text/plain": [
       "array([[ 0,  1,  2,  3],\n",
       "       [ 4,  5,  6,  7],\n",
       "       [ 8,  9, 10, 11]])"
      ]
     },
     "execution_count": 47,
     "metadata": {},
     "output_type": "execute_result"
    }
   ],
   "source": [
    "import numpy as np\n",
    "x = np.arange(12).reshape((3,4))\n",
    "x"
   ]
  },
  {
   "cell_type": "code",
   "execution_count": 48,
   "metadata": {},
   "outputs": [
    {
     "data": {
      "text/plain": [
       "66"
      ]
     },
     "execution_count": 48,
     "metadata": {},
     "output_type": "execute_result"
    }
   ],
   "source": [
    "# Sum up all the elements\n",
    "x.sum()"
   ]
  },
  {
   "cell_type": "code",
   "execution_count": 49,
   "metadata": {},
   "outputs": [
    {
     "data": {
      "text/plain": [
       "array([ 6, 22, 38])"
      ]
     },
     "execution_count": 49,
     "metadata": {},
     "output_type": "execute_result"
    }
   ],
   "source": [
    "# Sum up elements along the horizontal axis\n",
    "x.sum(axis = 1)"
   ]
  },
  {
   "cell_type": "code",
   "execution_count": 50,
   "metadata": {},
   "outputs": [
    {
     "data": {
      "text/plain": [
       "array([12, 15, 18, 21])"
      ]
     },
     "execution_count": 50,
     "metadata": {},
     "output_type": "execute_result"
    }
   ],
   "source": [
    "# Sum up elements along the vertical axis\n",
    "x.sum(axis = 0)"
   ]
  },
  {
   "cell_type": "markdown",
   "metadata": {},
   "source": [
    "<font color=red>***IMPORTANT NOTES:***</font> \n",
    "**axis= 0**: Actions occur vertically, i.e., moving along vertically\n",
    "actions on the rows, e.g., drop rows, add rows\n",
    "\n",
    "<font color=red>***IMPORTANT NOTES:***</font> \n",
    "**axis = 1**: Actions occur horizontally, i.e., moving along horizontally\n",
    "actions on the columns, e.g., add columns, drop columns\n",
    "\n",
    "\n",
    "<hr style=\"border:5px solid green\"> </hr>\n",
    "\n",
    "\n",
    "## 3. Numpy Arrays: Creation\n",
    "\n",
    "### 3.1 Overview\n",
    "\n",
    "NumPy arrays can be created in different ways, with default initial values or manually specified ones.\n",
    "\n",
    "\n",
    "### 3.2 NumPy Arrays: Creation: Empty, Ones, Zeros, Full Arrays\n",
    "\n",
    "**empty(shape[, dtype, order])**\n",
    "Returns a new array of given shape and type, without initializing entries.\n",
    "\n",
    "**empty_like(a[, dtype, order, subok])**\n",
    "Returns a new array with the same shape and type as a given array.\n",
    "\n",
    "**eye(N[, M, k, dtype])**\n",
    "Returns a 2-D array with ones on the diagonal and zeros elsewhere.\n",
    "\n",
    "**identity(n[, dtype])**\n",
    "Returns the identity array.\n",
    "\n",
    "**ones(shape[, dtype, order])**\n",
    "Returns a new array of given shape and type, filled with ones.\n",
    "\n",
    "**ones_like(a[, dtype, order, subok])**\n",
    "Returns an array of ones with the same shape and type as a given array.\n",
    "\n",
    "**zeros(shape[, dtype, order])**\n",
    "Returns a new array of given shape and type, filled with zeros.\n",
    "\n",
    "**zeros_like(a[, dtype, order, subok])**\n",
    "Returns an array of zeros with the same shape and type as a given array.\n",
    "\n",
    "**full(shape, fill_value[, dtype, order])**\n",
    "Returns a new array of given shape and type, filled with fill_value.\n",
    "\n",
    "**full_like(a, fill_value[, dtype, order, subok])**\n",
    "Returns a full array with the same shape and type as a given array.\n",
    "\n",
    "\n",
    "### 3.2.1 empty(shape[, dtype, order])\n",
    "\n",
    "Returns a new array of given shape and type, without initializing entries.\n",
    "\n",
    "**Parameters:**\n",
    "\n",
    "**shape:** int or tuple of int &rarr; Shape of the empty array\n",
    "\n",
    "**dtype:** data-type, optional &rarr; Desired output data-type.\n",
    "\n",
    "**order:** {'C', 'F'}, optional\n",
    "\n",
    "Whether to store multi-dimensional data in row-major (C-style) or column-major (Fortran-style) order in memory.\n",
    "\n",
    "**Returns:**\n",
    "\n",
    "**out:** ndarray\n",
    "\n",
    "Array of uninitialized (arbitrary) data of the given shape, dtype, and order. \n",
    "\n",
    "Object arrays will be initialized to None.\n",
    "\n",
    "### <font color=red> **Run the following 5 code blocks:** </font>"
   ]
  },
  {
   "cell_type": "code",
   "execution_count": 51,
   "metadata": {},
   "outputs": [
    {
     "data": {
      "text/plain": [
       "array([4.9e-324, 1.5e-323, 2.5e-323, 3.5e-323, 9.9e-324, 2.0e-323,\n",
       "       3.0e-323, 4.0e-323])"
      ]
     },
     "execution_count": 51,
     "metadata": {},
     "output_type": "execute_result"
    }
   ],
   "source": [
    "import numpy as np\n",
    "\n",
    "# An empty 1D array: shape = 8 (1D, 8 elements)\n",
    "np.empty(8)"
   ]
  },
  {
   "cell_type": "code",
   "execution_count": 52,
   "metadata": {},
   "outputs": [
    {
     "data": {
      "text/plain": [
       "array([5, 0, 7, 0, 6, 0, 8, 0])"
      ]
     },
     "execution_count": 52,
     "metadata": {},
     "output_type": "execute_result"
    }
   ],
   "source": [
    "import numpy as np\n",
    "\n",
    "# An empty 1D array of integers: shape = 8 \n",
    "np.empty(8, dtype=int)"
   ]
  },
  {
   "cell_type": "code",
   "execution_count": 53,
   "metadata": {},
   "outputs": [
    {
     "data": {
      "text/plain": [
       "array([         0, 1075314688,          0,          0,          0,\n",
       "       1075838976,          0,          0])"
      ]
     },
     "execution_count": 53,
     "metadata": {},
     "output_type": "execute_result"
    }
   ],
   "source": [
    "import numpy as np\n",
    "\n",
    "# Store values in rows as \"C\" style\n",
    "np.empty(8, dtype=int, order= 'C')"
   ]
  },
  {
   "cell_type": "code",
   "execution_count": 54,
   "metadata": {},
   "outputs": [
    {
     "data": {
      "text/plain": [
       "array([[1, 0, 2],\n",
       "       [0, 3, 0]])"
      ]
     },
     "execution_count": 54,
     "metadata": {},
     "output_type": "execute_result"
    }
   ],
   "source": [
    "import numpy as np\n",
    "\n",
    "# An empty 1D array of integers: shape (a tuple)\n",
    "np.empty([2, 3], dtype = int)"
   ]
  },
  {
   "cell_type": "code",
   "execution_count": 55,
   "metadata": {},
   "outputs": [
    {
     "data": {
      "text/plain": [
       "array(['', '', '', '', '', '', '', ''], dtype='<U1')"
      ]
     },
     "execution_count": 55,
     "metadata": {},
     "output_type": "execute_result"
    }
   ],
   "source": [
    "import numpy as np\n",
    "\n",
    "# an 1D array of strings\n",
    "np.empty(8, dtype=str)"
   ]
  },
  {
   "cell_type": "markdown",
   "metadata": {},
   "source": [
    "### 3.2.2 empty_like(a[, dtype, order, subok])\n",
    "\n",
    "Returns a new array with the same shape and type as a given array.\n",
    "\n",
    "**Parameters:**\n",
    "\n",
    "**a: array like** &rarr; The shape and data-type of a define these same attributes of the returned array.\n",
    "\n",
    "**dtype: data-type, optional;** &rarr; Overrides the data type of the result.\n",
    "\n",
    "**…subok: bool, optional**\n",
    " - If True, then the newly created array will use the sub-class type of 'a' \n",
    "  - Otherwise it will be a base-class array. Defaults to True.\n",
    "\n",
    "**Returns:**\n",
    "\n",
    "**out:** ndarray\n",
    "\n",
    "Array of uninitialized (arbitrary) data with the same shape and type as 'a'.\n",
    "\n",
    "### <font color=red> **Run the following 2 code blocks:** </font>"
   ]
  },
  {
   "cell_type": "code",
   "execution_count": 56,
   "metadata": {},
   "outputs": [
    {
     "data": {
      "text/plain": [
       "array([[1, 0, 2],\n",
       "       [0, 3, 0]])"
      ]
     },
     "execution_count": 56,
     "metadata": {},
     "output_type": "execute_result"
    }
   ],
   "source": [
    "import numpy as np\n",
    "\n",
    "a= ([1,2,3], [4,5,6]) # a is array-like\n",
    "\n",
    "np.empty_like(a)"
   ]
  },
  {
   "cell_type": "code",
   "execution_count": 57,
   "metadata": {},
   "outputs": [
    {
     "data": {
      "text/plain": [
       "array([[0., 0., 0.],\n",
       "       [0., 0., 0.]])"
      ]
     },
     "execution_count": 57,
     "metadata": {},
     "output_type": "execute_result"
    }
   ],
   "source": [
    "import numpy as np\n",
    "\n",
    "a= np .array([[1., 2., 3.],[4.,5.,6.]])\n",
    "\n",
    "np.empty_like(a)"
   ]
  },
  {
   "cell_type": "markdown",
   "metadata": {},
   "source": [
    "### 3.2.3 identity(n[, dtype])\n",
    "\n",
    "Returns the identity array.\n",
    "\n",
    "### <font color=red> **Run the following code block:** </font>"
   ]
  },
  {
   "cell_type": "code",
   "execution_count": 58,
   "metadata": {},
   "outputs": [
    {
     "data": {
      "text/plain": [
       "array([[1, 0, 0, 0, 0, 0, 0, 0],\n",
       "       [0, 1, 0, 0, 0, 0, 0, 0],\n",
       "       [0, 0, 1, 0, 0, 0, 0, 0],\n",
       "       [0, 0, 0, 1, 0, 0, 0, 0],\n",
       "       [0, 0, 0, 0, 1, 0, 0, 0],\n",
       "       [0, 0, 0, 0, 0, 1, 0, 0],\n",
       "       [0, 0, 0, 0, 0, 0, 1, 0],\n",
       "       [0, 0, 0, 0, 0, 0, 0, 1]])"
      ]
     },
     "execution_count": 58,
     "metadata": {},
     "output_type": "execute_result"
    }
   ],
   "source": [
    "import numpy as np\n",
    "\n",
    "np.identity(8, dtype=int)"
   ]
  },
  {
   "cell_type": "markdown",
   "metadata": {},
   "source": [
    "### 3.2.4 eye(N[, M, k, dtype])\n",
    "\n",
    "Returns a 2-D array with ones on the diagonal and zeros elsewhere.\n",
    "\n",
    "**Parameters:**\n",
    "\n",
    "**N:** int &rarr; Number of rows in the output.\n",
    "\n",
    "**M:** int, optional &rarr; Number of columns in the output. If None, defaults to N.\n",
    "\n",
    "**k:** int, optional &rarr; Index of the diagonal\n",
    "\n",
    "**0 (the default):** &rarr; to the main diagonal; a positive value refers to an upper diagonal; and a negative value to a lower diagonal.\n",
    "\n",
    "**dtype:** data-type, optional &rarr; Data-type of the returned array.\n",
    "\n",
    "**Returns:**\n",
    "\n",
    "**I:** ndarray of shape (N,M)\n",
    "\n",
    "An array where all elements are equal to zero, except for the k-th diagonal, whose values are equal to one.\n",
    "\n",
    "### <font color=red> **Run the following 2 code blocks:** </font>"
   ]
  },
  {
   "cell_type": "code",
   "execution_count": 59,
   "metadata": {},
   "outputs": [
    {
     "data": {
      "text/plain": [
       "array([[1, 0, 0, 0, 0, 0, 0, 0],\n",
       "       [0, 1, 0, 0, 0, 0, 0, 0],\n",
       "       [0, 0, 1, 0, 0, 0, 0, 0],\n",
       "       [0, 0, 0, 1, 0, 0, 0, 0],\n",
       "       [0, 0, 0, 0, 1, 0, 0, 0],\n",
       "       [0, 0, 0, 0, 0, 1, 0, 0],\n",
       "       [0, 0, 0, 0, 0, 0, 1, 0],\n",
       "       [0, 0, 0, 0, 0, 0, 0, 1]])"
      ]
     },
     "execution_count": 59,
     "metadata": {},
     "output_type": "execute_result"
    }
   ],
   "source": [
    "import numpy as np\n",
    "np.eye (8, dtype = int)"
   ]
  },
  {
   "cell_type": "code",
   "execution_count": 60,
   "metadata": {},
   "outputs": [
    {
     "data": {
      "text/plain": [
       "array([[0., 0., 1., 0., 0., 0., 0., 0.],\n",
       "       [0., 0., 0., 1., 0., 0., 0., 0.],\n",
       "       [0., 0., 0., 0., 1., 0., 0., 0.],\n",
       "       [0., 0., 0., 0., 0., 1., 0., 0.],\n",
       "       [0., 0., 0., 0., 0., 0., 1., 0.],\n",
       "       [0., 0., 0., 0., 0., 0., 0., 1.],\n",
       "       [0., 0., 0., 0., 0., 0., 0., 0.],\n",
       "       [0., 0., 0., 0., 0., 0., 0., 0.]])"
      ]
     },
     "execution_count": 60,
     "metadata": {},
     "output_type": "execute_result"
    }
   ],
   "source": [
    "import numpy as np\n",
    "np.eye (8, k=2)"
   ]
  },
  {
   "cell_type": "markdown",
   "metadata": {},
   "source": [
    "### 3.2.5 ones(shape[, dtype, order])\n",
    "\n",
    "Returns a new array of given shape and type, filled with ones.\n",
    "\n",
    "**Parameters:**\n",
    "\n",
    "**shape:** int or sequence of ints &rarr; Shape of the new array, e.g., (2, 3) or 2.\n",
    "\n",
    "**dtype:** data-type, optiona &rarr; The desired data-type for the array, e.g., numpy.int8. Default is numpy.float64.\n",
    "\n",
    "**order:** {'C', 'F'}, optional &rarr; ...\n",
    "\n",
    "**Returns:**\n",
    "\n",
    "**out:** ndarray\n",
    "\n",
    "Array of ones with the given shape, dtype, and order.\n",
    "\n",
    "### <font color=red> **Run the following 2 code blocks:** </font>"
   ]
  },
  {
   "cell_type": "code",
   "execution_count": 61,
   "metadata": {},
   "outputs": [
    {
     "data": {
      "text/plain": [
       "array([1., 1., 1., 1., 1., 1., 1., 1.])"
      ]
     },
     "execution_count": 61,
     "metadata": {},
     "output_type": "execute_result"
    }
   ],
   "source": [
    "import numpy as np\n",
    "np.ones(8)"
   ]
  },
  {
   "cell_type": "code",
   "execution_count": 62,
   "metadata": {},
   "outputs": [
    {
     "data": {
      "text/plain": [
       "array([1, 1, 1, 1, 1, 1, 1, 1])"
      ]
     },
     "execution_count": 62,
     "metadata": {},
     "output_type": "execute_result"
    }
   ],
   "source": [
    "import numpy as np\n",
    "np.ones(8, dtype=int)"
   ]
  },
  {
   "cell_type": "markdown",
   "metadata": {},
   "source": [
    "### 3.2.6 zeros(shape[, dtype, order])\n",
    "\n",
    "Returns a new array of given shape and type, filled with zeros.\n",
    "\n",
    "### <font color=red> **Run the following code block:** </font>"
   ]
  },
  {
   "cell_type": "code",
   "execution_count": 63,
   "metadata": {},
   "outputs": [
    {
     "data": {
      "text/plain": [
       "array([0., 0., 0., 0., 0., 0., 0., 0.])"
      ]
     },
     "execution_count": 63,
     "metadata": {},
     "output_type": "execute_result"
    }
   ],
   "source": [
    "import numpy as np\n",
    "np.zeros(8)"
   ]
  },
  {
   "cell_type": "markdown",
   "metadata": {},
   "source": [
    "### 3.2.7 full(shape, fill_value[, dtype, order])\n",
    "\n",
    "Returns a new array of given shape and type, filled with fill_value.\n",
    "\n",
    "### <font color=red> **Run the following 2 code blocks:** </font>"
   ]
  },
  {
   "cell_type": "code",
   "execution_count": 64,
   "metadata": {},
   "outputs": [
    {
     "data": {
      "text/plain": [
       "array([2, 2, 2, 2, 2, 2, 2, 2])"
      ]
     },
     "execution_count": 64,
     "metadata": {},
     "output_type": "execute_result"
    }
   ],
   "source": [
    "import numpy as np\n",
    "np.full(8, 2)"
   ]
  },
  {
   "cell_type": "code",
   "execution_count": 65,
   "metadata": {},
   "outputs": [
    {
     "data": {
      "text/plain": [
       "array(['Hello', 'Hello', 'Hello', 'Hello', 'Hello', 'Hello', 'Hello',\n",
       "       'Hello'], dtype='<U5')"
      ]
     },
     "execution_count": 65,
     "metadata": {},
     "output_type": "execute_result"
    }
   ],
   "source": [
    "import numpy as np\n",
    "np.full(8, \"Hello\")"
   ]
  },
  {
   "cell_type": "markdown",
   "metadata": {},
   "source": [
    "### 3.2.8 arange([start, ]stop, [step, ]dtype=None)\n",
    "\n",
    "Returns evenly spaced values within a given interval.\n",
    "\n",
    "Values are generated within the half-open interval [start, stop) (in other words, the interval including start but excluding stop). For integer arguments the function is equivalent to the Python built-in range function, but returns an ndarray rather than a list.\n",
    "When using a non-integer step, such as 0.1, the results will often not be consistent. It is better to use linspace for these cases.\n",
    "\n",
    "**Parameters:**\n",
    "\n",
    "**start:** number, optional &rarr; Start of interval. The interval includes this value. The default start value is 0.\n",
    "\n",
    "**stop:** number &rarr; End of interval. The interval does **not include** this value (except in some cases where step is not an integer and floating point round-off affects the length of out).\n",
    "\n",
    "**step:** number, optional &rarr; Spacing between values. \n",
    " - For any output out, this is the distance between two adjacent values, out[i+1] - out[i].\n",
    " - The default step size is 1. If step is specified, start must also be given.\n",
    "\n",
    "**dtype:** dtype &rarr; The type of the output array. \n",
    " - If dtype is not given, infer the data type from the other input arguments.\n",
    "\n",
    "**Returns:**\n",
    "\n",
    "**arange:** ndarray &rarr; Array of evenly spaced values.\n",
    "\n",
    " - For floating point arguments, the length of the result is ceil((stop - start)/step).\n",
    " - Because of floating point overflow, this rule may result in the last element of out being greater than stop.\n",
    "\n",
    "### <font color=red> **Run the following 3 code blocks:** </font>"
   ]
  },
  {
   "cell_type": "code",
   "execution_count": 66,
   "metadata": {},
   "outputs": [
    {
     "data": {
      "text/plain": [
       "array([0, 1, 2, 3, 4, 5, 6, 7])"
      ]
     },
     "execution_count": 66,
     "metadata": {},
     "output_type": "execute_result"
    }
   ],
   "source": [
    "import numpy as np\n",
    "np.arange(8)"
   ]
  },
  {
   "cell_type": "code",
   "execution_count": 67,
   "metadata": {},
   "outputs": [
    {
     "data": {
      "text/plain": [
       "array([3, 4, 5, 6, 7])"
      ]
     },
     "execution_count": 67,
     "metadata": {},
     "output_type": "execute_result"
    }
   ],
   "source": [
    "import numpy as np\n",
    "np.arange(3, 8)"
   ]
  },
  {
   "cell_type": "code",
   "execution_count": 68,
   "metadata": {},
   "outputs": [
    {
     "data": {
      "text/plain": [
       "array([ 3,  5,  7,  9, 11, 13, 15, 17])"
      ]
     },
     "execution_count": 68,
     "metadata": {},
     "output_type": "execute_result"
    }
   ],
   "source": [
    "import numpy as np\n",
    "np.arange(3, 19, 2)"
   ]
  },
  {
   "cell_type": "markdown",
   "metadata": {},
   "source": [
    "### 3.2.9 linspace(start, stop, num=50, endpoint=True, retstep=False, dtype=None)\n",
    "\n",
    "Returns **evenly spaced** numbers over a specified interval.\n",
    "\n",
    "Returns **num evenly spaced samples**, calculated over the interval [start, stop].\n",
    "\n",
    "The endpoint of the interval can optionally be excluded.\n",
    "\n",
    "**Parameters:**\n",
    "\n",
    "**start:** scalar &rarr; The starting value of the sequence.\n",
    "\n",
    "**stop:** scalar &rarr; The end value of the sequence, unless the endpoint is set to False.\n",
    " - In that case, the sequence consists of all but the last of num + 1 evenly spaced samples, so that stop is excluded. **Note:** the step size changes when endpoint is False.\n",
    "\n",
    "**num:** int, optional &rarr; Number of samples to generate. Default is 50. Must be non-negative.\n",
    "\n",
    "**endpoint:** bool, optional\n",
    " - If True, stop is the last sample. \n",
    "  - Otherwise, it is not included. Default is True.\n",
    "\n",
    "**Retstep:** bool, optional\n",
    " - If True, return (samples, step), where step is the spacing between samples.\n",
    "\n",
    "**dtype:** dtype, optional &rarr; The type of the output array.\n",
    " - If dtype is not given, infers the data type from the other input arguments.\n",
    "\n",
    "**Returns:**\n",
    "samples : ndarray \n",
    " - There are num equally spaced samples in the closed interval [start, stop] or the half-open interval [start, stop) (depending on whether endpoint is True or False)\n",
    "\n",
    "**step:** float, optional\n",
    " - Only returned if retstep is True\n",
    " - Size of spacing between samples.\n",
    " \n",
    " ### <font color=red> **Run the following 4 code blocks:** </font>"
   ]
  },
  {
   "cell_type": "code",
   "execution_count": 69,
   "metadata": {},
   "outputs": [
    {
     "data": {
      "text/plain": [
       "array([2.  , 2.25, 2.5 , 2.75, 3.  ])"
      ]
     },
     "execution_count": 69,
     "metadata": {},
     "output_type": "execute_result"
    }
   ],
   "source": [
    "import numpy as np\n",
    "np.linspace(2.0, 3.0, num=5)"
   ]
  },
  {
   "cell_type": "code",
   "execution_count": 70,
   "metadata": {},
   "outputs": [
    {
     "data": {
      "text/plain": [
       "array([2. , 2.2, 2.4, 2.6, 2.8])"
      ]
     },
     "execution_count": 70,
     "metadata": {},
     "output_type": "execute_result"
    }
   ],
   "source": [
    "import numpy as np\n",
    "np.linspace(2.0, 3.0, num=5 , endpoint=False)"
   ]
  },
  {
   "cell_type": "code",
   "execution_count": 71,
   "metadata": {},
   "outputs": [
    {
     "data": {
      "text/plain": [
       "(array([2.  , 2.25, 2.5 , 2.75, 3.  ]), 0.25)"
      ]
     },
     "execution_count": 71,
     "metadata": {},
     "output_type": "execute_result"
    }
   ],
   "source": [
    "import numpy as np\n",
    "np.linspace(2.0, 3.0, num=5, retstep=True)"
   ]
  },
  {
   "cell_type": "code",
   "execution_count": 72,
   "metadata": {},
   "outputs": [
    {
     "data": {
      "image/png": "[encoded data removed]",
      "text/plain": [
       "<Figure size 640x480 with 1 Axes>"
      ]
     },
     "metadata": {},
     "output_type": "display_data"
    }
   ],
   "source": [
    "import numpy as np\n",
    "import matplotlib.pyplot as plt\n",
    "N = 8\n",
    "y = np.zeros(N)\n",
    "xl = np.linspace(0, 10, N, endpoint=True)\n",
    "x2 = np.linspace(0, 10, N, endpoint=False)\n",
    "plt.plot(xl, y, 'o') # [<matplotlib.lines.Line2D object at 0x… >]\n",
    "plt.plot(x2, y + 0.5, 'o') #[<matplotlib.lines.Line2D object at 0x… >]\n",
    "plt.ylim([-0.5, 1])\n",
    "(-0.5, 1)\n",
    "plt.show()"
   ]
  },
  {
   "cell_type": "markdown",
   "metadata": {},
   "source": [
    "## PRACTICE\n",
    "- Add another linspace to the graph that is y + 1.0\n",
    "- Make sure shows on the graph"
   ]
  },
  {
   "cell_type": "code",
   "execution_count": 89,
   "metadata": {},
   "outputs": [
    {
     "data": {
      "image/png": "[encoded data removed]",
      "text/plain": [
       "<Figure size 640x480 with 1 Axes>"
      ]
     },
     "metadata": {},
     "output_type": "display_data"
    }
   ],
   "source": [
    "import numpy as np\n",
    "import matplotlib.pyplot as plt\n",
    "\n",
    "# Generate a range of x values\n",
    "x = np.linspace(0, 10, 100)\n",
    "\n",
    "# Calculate y values based on a function of x\n",
    "y = np.sin(x)\n",
    "\n",
    "# Plot the original line\n",
    "plt.plot(x, y, label='y = sin(x)')\n",
    "\n",
    "# Calculate y values for the new line\n",
    "y_new = y + 1.0\n",
    "\n",
    "# Plot the new line\n",
    "plt.plot(x, y_new, label='y = sin(x) + 1.0')\n",
    "\n",
    "# Add labels and a legend\n",
    "plt.xlabel('x')\n",
    "plt.ylabel('y')\n",
    "plt.title('Plot of y = sin(x) and y = sin(x) + 1.0')\n",
    "plt.legend()\n",
    "\n",
    "# Show the graph\n",
    "plt.show()"
   ]
  },
  {
   "cell_type": "code",
   "execution_count": 88,
   "metadata": {},
   "outputs": [
    {
     "data": {
      "image/png": "[encoded data removed]",
      "text/plain": [
       "<Figure size 640x480 with 1 Axes>"
      ]
     },
     "metadata": {},
     "output_type": "display_data"
    }
   ],
   "source": [
    "#To Do add your code here\n",
    "N = 8\n",
    "y = np.zeros(N)\n",
    "xl = np.linspace(0, 10, N, endpoint=True)\n",
    "x2 = np.linspace(0, 10, N, endpoint=False)\n",
    "x3 = np.linspace(0, 10, N, endpoint=False)\n",
    "plt.plot(xl, y, 'o') \n",
    "plt.plot(x2, y + 0.5, 'o') \n",
    "plt.plot(x3, y + 1, 'o') \n",
    "plt.ylim([-0.5, 1.5])\n",
    "(-0.5, 1)\n",
    "plt.show()"
   ]
  },
  {
   "cell_type": "markdown",
   "metadata": {},
   "source": [
    "### 3.3 NumPy Arrays: Creation: from Existing Data\n",
    "\n",
    "### 3.3.1 array(object, dtype=None, copy=True, order='K', subok=False, ndmin=O)\n",
    "\n",
    "Create an array from existing data\n",
    "\n",
    "**Parameters:**\n",
    "\n",
    "**object:** array_like &rarr; An array, any object exposing the array interface, an object whose array method returns an array, or any (nested) sequence.\n",
    "\n",
    "**dtype:** data-type, optional &rarr; The desired data-type for the array. \n",
    " - If not given, then the type will be determined as the minimum type required to hold the objects in the sequence.\n",
    " - This argument can only be used to 'upcast' the array. For downcasting, use the .astype(t) method.\n",
    "\n",
    "**copy:** bool, optional\n",
    " - If true (default), then the object is copied.\n",
    " - Otherwise, a copy will only be made if **array** returns a copy, if obj is a nested sequence, or if a copy is needed to satisfy any of the other requirements (dtype, order, etc.).\n",
    "\n",
    "**order:** {'K', 'A', 'C', 'F'}, optional\n",
    " - Specify the memory layout of the array. If object is not an array, the newly created array will be in C order (row major) unless 'F' is specified, in which case it will be in Fortran order (column major). \n",
    " - If object is an array the following holds.\n",
    "\n",
    "**Order:** **no copy copy** = True\n",
    "\n",
    "**K**' unchanged F & C order preserved, otherwise most similar order\n",
    "\n",
    "**A**' unchanged F order if input is F and not C, otherwise Corder\n",
    "\n",
    "**C**' C order C order\n",
    "\n",
    "**F**' F order F order\n",
    "\n",
    "When copy=False and a copy is made for other reasons, the result is the same as if copy=True, with some exceptions for A, see the Notes section.\n",
    "\n",
    "The default order is 'K'.\n",
    "\n",
    "**subok**: bool, optional\n",
    " - If True, then sub-classes will be passed-through, \n",
    "  - otherwise the returned array will be forced to be a base-class array (default).\n",
    "\n",
    "**ndmin:** int, optional\n",
    " - Specifies the minimum number of dimensions that the resulting array should have.\n",
    " - Ones will be pre-pended to the shape as needed to meet this requirement.\n",
    "\n",
    "**Returns:**\n",
    "\n",
    "**out:** ndarray\n",
    "\n",
    "An array object satisfying the specified requirements.\n",
    "\n",
    "### <font color=red> **Run the following 3 code blocks:** </font>"
   ]
  },
  {
   "cell_type": "code",
   "execution_count": 74,
   "metadata": {},
   "outputs": [
    {
     "data": {
      "text/plain": [
       "array([1, 2, 3])"
      ]
     },
     "execution_count": 74,
     "metadata": {},
     "output_type": "execute_result"
    }
   ],
   "source": [
    "import numpy as np\n",
    "np.array([1, 2, 3])"
   ]
  },
  {
   "cell_type": "code",
   "execution_count": 75,
   "metadata": {},
   "outputs": [
    {
     "data": {
      "text/plain": [
       "array([[1, 2],\n",
       "       [3, 4]])"
      ]
     },
     "execution_count": 75,
     "metadata": {},
     "output_type": "execute_result"
    }
   ],
   "source": [
    "import numpy as np\n",
    "np.array([[1, 2], [3, 4]])"
   ]
  },
  {
   "cell_type": "code",
   "execution_count": 76,
   "metadata": {},
   "outputs": [
    {
     "data": {
      "text/plain": [
       "array([[1, 2, 3, 4, 5]])"
      ]
     },
     "execution_count": 76,
     "metadata": {},
     "output_type": "execute_result"
    }
   ],
   "source": [
    "np.array([1, 2, 3, 4, 5], ndmin=2)"
   ]
  },
  {
   "cell_type": "markdown",
   "metadata": {},
   "source": [
    "### 3.3.2 asarray(a, dtype=None, order=None)\n",
    "\n",
    "Convert the input a into an array\n",
    "\n",
    "**Parameters:**\n",
    "\n",
    "**a:** array_like &rarr; Input data, in any form that can be converted to an array.\n",
    " - (This includes lists, lists of tuples, tuples, tuples of tuples, tuples of lists and ndarrays.)\n",
    "\n",
    "**dtype:** data-type, optional&rarr; By default, the data-type is inferred from the input data.\n",
    "\n",
    "**order:** {'C', 'F'}, optional\n",
    " - Whether to use row-major (C-style) or column-major (Fortran-style) memory representation. Defaults to 'C'.\n",
    "\n",
    "**Returns:**\n",
    "\n",
    "**out:** ndarray\n",
    "\n",
    "Array interpretation of a. \n",
    "No copy is performed if the input is already an ndarray with matching dtype and order.\n",
    "If a is a subclass of ndarray, a base class ndarray is returned.\n",
    "\n",
    "### <font color=red> **Run the following code block:** </font>"
   ]
  },
  {
   "cell_type": "code",
   "execution_count": 77,
   "metadata": {},
   "outputs": [
    {
     "name": "stdout",
     "output_type": "stream",
     "text": [
      "[1 2 3 4 5]\n",
      "[1 2 3 4 5]\n"
     ]
    }
   ],
   "source": [
    "import numpy as np\n",
    "a = [1, 2, 3, 4, 5]\n",
    "b = np.asarray([1, 2, 3, 4, 5])\n",
    "print (b)\n",
    "c = np.asarray(a)\n",
    "print (c)"
   ]
  },
  {
   "cell_type": "markdown",
   "metadata": {},
   "source": [
    "### 3.3.3 fromstring(string, dtype=float, count=-1, sep=\")\n",
    "\n",
    "A new 1-D array initialized from raw binary or text data in a string.\n",
    "\n",
    "**Parameters:**\n",
    "\n",
    "**string:** sir &rarr; A string containing the data.\n",
    "\n",
    "**dtype:** data-type, optional &rarr; The data type of the array; default: float.\n",
    " - For binary input data, the data must be in exactly this format.\n",
    " \n",
    "**count:** int, optional &rarr; Read this number of dtype elements from the data. \n",
    " - If this is negative (the default), the count will be determined from the length of the data.)\n",
    " \n",
    "**sep:** str, optional  \n",
    " - If not provided or, equivalently, the empty string, the data will be interpreted as binary data. \n",
    " - Otherwise, as ASCII text with decimal numbers.\n",
    " - Also in this latter case, this argument is interpreted as the string separating numbers in the data; extra whitespace between elements is also ignored.\n",
    "\n",
    "**Returns:**\n",
    "**arr:** ndarray\n",
    "\n",
    "### <font color=red> **Run the following 2 code blocks:** </font>"
   ]
  },
  {
   "cell_type": "code",
   "execution_count": 78,
   "metadata": {},
   "outputs": [
    {
     "data": {
      "text/plain": [
       "array([ 84, 104, 105, 115,  32, 105, 115,  32,  97,  32, 115, 101, 110,\n",
       "       116, 101, 110,  99, 101,  46], dtype=uint8)"
      ]
     },
     "execution_count": 78,
     "metadata": {},
     "output_type": "execute_result"
    }
   ],
   "source": [
    "import numpy as np\n",
    "aStr = \"This is a sentence.\"\n",
    "np.fromstring(aStr, dtype=np.uint8)"
   ]
  },
  {
   "cell_type": "code",
   "execution_count": 79,
   "metadata": {},
   "outputs": [
    {
     "name": "stdout",
     "output_type": "stream",
     "text": [
      "[ 84 104 105 115  32 105 115  32  97  32 115 101 110 116 101 110  99 101\n",
      "  46]\n"
     ]
    }
   ],
   "source": [
    "import numpy as np\n",
    "aStr = \"This is a sentence.\"\n",
    "anArray = np.fromstring(aStr, dtype=np.uint8)\n",
    "print(anArray)"
   ]
  },
  {
   "cell_type": "markdown",
   "metadata": {},
   "source": [
    "### 3.3.4 diag(v, k=0)\n",
    "\n",
    "**Extract a diagonal or construct a diagonal array.**\n",
    "\n",
    "See the more detailed documentation for numpy.diagonal if you use this function to extract a diagonal and wish to write to the resulting array; whether it returns a copy or a view depends on what version of numpy you are using.\n",
    "\n",
    "**Parameters:**\n",
    "\n",
    "**v:** array_like\n",
    " - If v is a 2-D array, returns a copy of its k-th diagonal.\n",
    " - If v is a 1-D array, return a 2-D array with v on the k-th diagonal.\n",
    "\n",
    "**k:** int, optional\n",
    " - Diagonal in question. The default is 0. \n",
    " - Use k>0 for diagonals above the main diagonal.\n",
    " - k<0 for diagonals below the main diagonal.\n",
    "\n",
    "**Returns:**\n",
    "\n",
    "**out:** ndarray\n",
    "\n",
    "The extracted diagonal or constructed diagonal array.\n",
    "\n",
    "### <font color=red> **Run the following 4 code blocks:** </font>"
   ]
  },
  {
   "cell_type": "code",
   "execution_count": 80,
   "metadata": {},
   "outputs": [
    {
     "name": "stdout",
     "output_type": "stream",
     "text": [
      "[[0 1 2]\n",
      " [3 4 5]\n",
      " [6 7 8]]\n"
     ]
    }
   ],
   "source": [
    "import numpy as np\n",
    "x = np.arange(9).reshape((3, 3))\n",
    "print(x)"
   ]
  },
  {
   "cell_type": "code",
   "execution_count": 81,
   "metadata": {},
   "outputs": [
    {
     "data": {
      "text/plain": [
       "array([[0, 1, 2],\n",
       "       [3, 4, 5],\n",
       "       [6, 7, 8]])"
      ]
     },
     "execution_count": 81,
     "metadata": {},
     "output_type": "execute_result"
    }
   ],
   "source": [
    "import numpy as np\n",
    "x = np.arange(9).reshape((3,3))\n",
    "x"
   ]
  },
  {
   "cell_type": "code",
   "execution_count": 82,
   "metadata": {},
   "outputs": [
    {
     "data": {
      "text/plain": [
       "array([0, 4, 8])"
      ]
     },
     "execution_count": 82,
     "metadata": {},
     "output_type": "execute_result"
    }
   ],
   "source": [
    "import numpy as np\n",
    "x = np.arange(9).reshape((3,3))\n",
    "np.diag(x)"
   ]
  },
  {
   "cell_type": "code",
   "execution_count": 83,
   "metadata": {},
   "outputs": [
    {
     "data": {
      "text/plain": [
       "array([1, 5])"
      ]
     },
     "execution_count": 83,
     "metadata": {},
     "output_type": "execute_result"
    }
   ],
   "source": [
    "import numpy as np\n",
    "x = np.arange(9).reshape((3,3))\n",
    "np.diag(x, k = 1)"
   ]
  },
  {
   "cell_type": "markdown",
   "metadata": {},
   "source": [
    "<hr style=\"border:5px solid green\"> </hr>"
   ]
  },
  {
   "cell_type": "markdown",
   "metadata": {},
   "source": [
    "## 4. Creation of NumPy Arrays: Simple Methods\n",
    "\n",
    "### 4.1. 1-D Arrays\n",
    "\n",
    "### 4.1.1 Using ndarray.arange()\n",
    "\n",
    "### <font color=red> **Run the following code block:** </font>"
   ]
  },
  {
   "cell_type": "code",
   "execution_count": 84,
   "metadata": {},
   "outputs": [
    {
     "data": {
      "text/plain": [
       "array([0, 1, 2, 3, 4, 5, 6, 7])"
      ]
     },
     "execution_count": 84,
     "metadata": {},
     "output_type": "execute_result"
    }
   ],
   "source": [
    "import numpy as np\n",
    "np.arange(8)"
   ]
  },
  {
   "cell_type": "markdown",
   "metadata": {},
   "source": [
    "### 4.2  2-D Arrays\n",
    "\n",
    "### 4.2.1 Using ndarray.arange().reshape(a, b)\n",
    "\n",
    "### <font color=red> **Run the following 4 code blocks:** </font>"
   ]
  },
  {
   "cell_type": "code",
   "execution_count": 85,
   "metadata": {},
   "outputs": [
    {
     "data": {
      "text/plain": [
       "array([[ 0,  1,  2,  3],\n",
       "       [ 4,  5,  6,  7],\n",
       "       [ 8,  9, 10, 11]])"
      ]
     },
     "execution_count": 85,
     "metadata": {},
     "output_type": "execute_result"
    }
   ],
   "source": [
    "x = np.arange(12).reshape((3,4))\n",
    "x"
   ]
  },
  {
   "cell_type": "markdown",
   "metadata": {},
   "source": [
    "<hr style=\"border:5px solid green\"> </hr>"
   ]
  },
  {
   "cell_type": "markdown",
   "metadata": {},
   "source": [
    "## 5. Numpy: Built-In Functions: Array Manipulation\n",
    "\n",
    "#### 5.1 Overview\n",
    "\n",
    "**reshape(a, newshape, order='C')**\n",
    "Gives a new shape to an array without changing its data.\n",
    "\n",
    "**flat()**\n",
    "A 1-D iterator over the array.\n",
    "\n",
    "**flatten(order='C')**\n",
    "Return a copy of the array collapsed into one dimension.\n",
    "\n",
    "**transpose(a, axes=None)**\n",
    "Permute the dimensions of an array.\n",
    "\n",
    "**concatenate((a1, a2, ... ), axis=0)**\n",
    "Join a sequence of arrays along an existing axis.\n",
    "\n",
    "**split(ary, indices_or_sections, axis=0)**\n",
    "Split an array into multiple sub-arrays.\n",
    "\n",
    "**delete(arr, obj, axis=None)**\n",
    "Returns a new array with sub-arrays along an axis deleted.\n",
    "For a one dimensional array, this returns those entries not returned by arr[obj].\n",
    "\n",
    "**insert(arr, obj, values, axis=None)**\n",
    "Insert values along the given axis before the given indices.\n",
    "\n",
    "**append(arr, values, axis=None)**\n",
    "Append values to the end of an array.\n",
    "\n",
    "**resize (a, new_shape)**\n",
    "Returns a new array with the specified shape.\n",
    "If the new array is larger than the original array, \n",
    " - then the new array is filled with repeated copies of a.\n",
    "**NOTE:** this behavior is different from a.resize(new_shape), \n",
    " - which fills with zeros instead of repeated copies of a.\n",
    "\n",
    "**trim_zeros(filt, trim='fb')**\n",
    "Trims the leading and/or trailing zeros from a 1-D array or sequence.\n",
    "\n",
    "**unique(ar, return_index=False, return_inverse=False, return_counts=False, axis=None)**\n",
    "Finds the unique elements of an array.\n",
    "Returns the sorted unique elements of an array.\n",
    "There are three optional outputs in addition to the unique elements:\n",
    " - the indices of the input array that give the unique values,\n",
    " - the indices of the unique array that reconstruct the input array,\n",
    " - the number of times each unique value comes up in the input array.\n",
    "\n",
    "**flip(m, axis)**\n",
    "Reverse the order of elements in an array along the given axis.\n",
    "The shape of the array is preserved, but the elements are reordered .\n",
    "\n",
    "**fliplr(m)**\n",
    "Flips array in the left/right direction.\n",
    "Flips the entries in each row in the left/right direction.\n",
    "Columns are preserved but appear in a different order than before.\n",
    "\n",
    "**flipud (m)**\n",
    "Flips array in the up/down direction.\n",
    "Flips the entries in each column in the up/down direction.\n",
    "Rows are preserved, but appear in a different order than before.\n",
    "\n",
    "**tile(A, reps)**\n",
    "Construct an array by repeating A the number of times given by reps.\n",
    "If reps has length d, the result will have dimension of max(d, A.ndim).\n",
    "\n",
    "**repeat(a, repeats, axis=None)**\n",
    "\n",
    "Repeats elements of an array\n"
   ]
  },
  {
   "cell_type": "markdown",
   "metadata": {},
   "source": [
    "### <font color=blue> You are done. Great job!"
   ]
  }
 ],
 "metadata": {
  "kernelspec": {
   "display_name": "Python 3 (ipykernel)",
   "language": "python",
   "name": "python3"
  },
  "language_info": {
   "codemirror_mode": {
    "name": "ipython",
    "version": 3
   },
   "file_extension": ".py",
   "mimetype": "text/x-python",
   "name": "python",
   "nbconvert_exporter": "python",
   "pygments_lexer": "ipython3",
   "version": "3.10.11"
  }
 },
 "nbformat": 4,
 "nbformat_minor": 4
}
