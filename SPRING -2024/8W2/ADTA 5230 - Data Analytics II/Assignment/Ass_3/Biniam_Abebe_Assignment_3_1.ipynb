{
 "cells": [
  {
   "cell_type": "markdown",
   "metadata": {},
   "source": [
    "#####                                                Prepared by BINIAM ABEBE Assignment 3\n"
   ]
  },
  {
   "cell_type": "code",
   "execution_count": 2,
   "metadata": {},
   "outputs": [],
   "source": [
    "#import \n",
    "import numpy as np\n",
    "import pandas as pd\n",
    "from sklearn.model_selection import train_test_split\n",
    "from sklearn.linear_model import LinearRegression\n"
   ]
  },
  {
   "cell_type": "code",
   "execution_count": 3,
   "metadata": {},
   "outputs": [],
   "source": [
    "# 1. Data Partitioning\n",
    "boston_data = pd.read_csv('bostonhousing.csv')\n",
    "\n",
    "#replace . wiht _\n",
    "boston_data.columns = [s.strip().replace('.','_') for s in boston_data.columns]\n",
    "\n",
    "predictors = ['CRIM', 'ZN', 'INDUS', 'CHAS', 'NOX', 'RM', 'AGE', 'DIS', 'RAD', 'TAX',\n",
    "       'PTRATIO', 'LSTAT', 'MEDV']\n",
    "outcome = 'MEDV'\n",
    "\n",
    "# Split the data into training and validation sets\n",
    "X = pd.get_dummies(boston_data[predictors], drop_first=True)\n",
    "y = boston_data[outcome]\n",
    "X_train, X_val, y_train, y_val = train_test_split(X, y, test_size=0.2, random_state=42)"
   ]
  },
  {
   "cell_type": "markdown",
   "metadata": {},
   "source": [
    "##### What should the data set be partitioned into training and validation sets?\n",
    "##### What will the training set be used for? What will the validation set be used for?"
   ]
  },
  {
   "cell_type": "code",
   "execution_count": 4,
   "metadata": {},
   "outputs": [
    {
     "name": "stdout",
     "output_type": "stream",
     "text": [
      "intercept  34.31494988461766\n",
      "  Predictor  coefficient\n",
      "0      CHAS     5.030196\n",
      "1     LSTAT    -0.953613\n",
      "\n",
      "\n",
      "Regression equation: MEDV = 34.31 + 5.03 * CHAS + -0.95 * LSTAT\n"
     ]
    }
   ],
   "source": [
    "# 2. Multiple Linear Regression\n",
    "X_train = X_train[['CHAS', 'LSTAT']]\n",
    "\n",
    "boston_data_lm = LinearRegression()\n",
    "boston_data_lm.fit(X_train, y_train)\n",
    "\n",
    "\n",
    "# print coefficients\n",
    "print('intercept ', boston_data_lm.intercept_)\n",
    "print(pd.DataFrame({'Predictor': X_train.columns, 'coefficient': boston_data_lm.coef_}))\n",
    "print('\\n')\n",
    "print(f\"Regression equation: MEDV = {boston_data_lm.intercept_:.2f} + {boston_data_lm.coef_[0]:.2f} * CHAS + {boston_data_lm.coef_[1]:.2f} * LSTAT\")\n"
   ]
  },
  {
   "cell_type": "code",
   "execution_count": 5,
   "metadata": {},
   "outputs": [
    {
     "name": "stdout",
     "output_type": "stream",
     "text": [
      "Predicted median house price for CHAS=0 and LSTAT=0.1: $34.72\n"
     ]
    }
   ],
   "source": [
    "#Predict the median house price for a tract in the Boston area with the following characteristics based on the last two digits of your ID:\n",
    "# Assuming your ID's last two digits are between 0 and 10 (inclusive)\n",
    "# Predict median house price for CRIM=0.1 and LSTAT=0.1\n",
    "new_data = pd.DataFrame({'CRIM': [0.1], 'LSTAT': [0.1]})\n",
    "predicted_price = boston_data_lm.predict(new_data)\n",
    "\n",
    "print(f\"Predicted median house price for CHAS=0 and LSTAT=0.1: ${predicted_price[0]:.2f}\")\n"
   ]
  },
  {
   "cell_type": "code",
   "execution_count": 6,
   "metadata": {},
   "outputs": [],
   "source": [
    "# 3. Toyota Regression\n",
    "# Loaded into a DataFrame 'toyota_data'\n",
    "toyota_data = pd.read_csv('Toyota.csv')  # Replace with the actual file path"
   ]
  },
  {
   "cell_type": "code",
   "execution_count": 7,
   "metadata": {},
   "outputs": [
    {
     "name": "stdout",
     "output_type": "stream",
     "text": [
      "   Id                                          Model  Price  Age_08_04  \\\n",
      "0   1  TOYOTA Corolla 2.0 D4D HATCHB TERRA 2/3-Doors  13500         23   \n",
      "1   2  TOYOTA Corolla 2.0 D4D HATCHB TERRA 2/3-Doors  13750         23   \n",
      "2   3  TOYOTA Corolla 2.0 D4D HATCHB TERRA 2/3-Doors  13950         24   \n",
      "3   4  TOYOTA Corolla 2.0 D4D HATCHB TERRA 2/3-Doors  14950         26   \n",
      "4   5    TOYOTA Corolla 2.0 D4D HATCHB SOL 2/3-Doors  13750         30   \n",
      "\n",
      "   Mfg_Month  Mfg_Year     KM Fuel_Type  HP  Met_Color  ... Powered_Windows  \\\n",
      "0         10      2002  46986    Diesel  90          1  ...               1   \n",
      "1         10      2002  72937    Diesel  90          1  ...               0   \n",
      "2          9      2002  41711    Diesel  90          1  ...               0   \n",
      "3          7      2002  48000    Diesel  90          0  ...               0   \n",
      "4          3      2002  38500    Diesel  90          0  ...               1   \n",
      "\n",
      "   Power_Steering  Radio  Mistlamps  Sport_Model  Backseat_Divider  \\\n",
      "0               1      0          0            0                 1   \n",
      "1               1      0          0            0                 1   \n",
      "2               1      0          0            0                 1   \n",
      "3               1      0          0            0                 1   \n",
      "4               1      0          1            0                 1   \n",
      "\n",
      "   Metallic_Rim  Radio_cassette  Parking_Assistant  Tow_Bar  \n",
      "0             0               0                  0        0  \n",
      "1             0               0                  0        0  \n",
      "2             0               0                  0        0  \n",
      "3             0               0                  0        0  \n",
      "4             0               0                  0        0  \n",
      "\n",
      "[5 rows x 39 columns]\n"
     ]
    }
   ],
   "source": [
    "# Show the first five rows\n",
    "print(toyota_data.head())"
   ]
  },
  {
   "cell_type": "code",
   "execution_count": 8,
   "metadata": {},
   "outputs": [],
   "source": [
    "# Define y and X\n",
    "y = toyota_data['Price']\n",
    "X = toyota_data[['Age_08_04', 'HP', 'Weight']]"
   ]
  },
  {
   "cell_type": "code",
   "execution_count": 9,
   "metadata": {},
   "outputs": [],
   "source": [
    "import statsmodels.api as sm"
   ]
  },
  {
   "cell_type": "code",
   "execution_count": 10,
   "metadata": {},
   "outputs": [
    {
     "name": "stdout",
     "output_type": "stream",
     "text": [
      "                            OLS Regression Results                            \n",
      "==============================================================================\n",
      "Dep. Variable:                  Price   R-squared:                       0.836\n",
      "Model:                            OLS   Adj. R-squared:                  0.836\n",
      "Method:                 Least Squares   F-statistic:                     2437.\n",
      "Date:                Sun, 07 Apr 2024   Prob (F-statistic):               0.00\n",
      "Time:                        21:19:21   Log-Likelihood:                -12508.\n",
      "No. Observations:                1436   AIC:                         2.502e+04\n",
      "Df Residuals:                    1432   BIC:                         2.504e+04\n",
      "Df Model:                           3                                         \n",
      "Covariance Type:            nonrobust                                         \n",
      "==============================================================================\n",
      "                 coef    std err          t      P>|t|      [0.025      0.975]\n",
      "------------------------------------------------------------------------------\n",
      "const      -1256.9764   1001.770     -1.255      0.210   -3222.071     708.118\n",
      "Age_08_04   -145.9180      2.383    -61.223      0.000    -150.593    -141.243\n",
      "HP            43.2577      2.622     16.497      0.000      38.114      48.401\n",
      "Weight        14.6959      0.835     17.598      0.000      13.058      16.334\n",
      "==============================================================================\n",
      "Omnibus:                      109.759   Durbin-Watson:                   1.398\n",
      "Prob(Omnibus):                  0.000   Jarque-Bera (JB):              536.732\n",
      "Skew:                          -0.129   Prob(JB):                    2.82e-117\n",
      "Kurtosis:                       5.984   Cond. No.                     2.79e+04\n",
      "==============================================================================\n",
      "\n",
      "Notes:\n",
      "[1] Standard Errors assume that the covariance matrix of the errors is correctly specified.\n",
      "[2] The condition number is large, 2.79e+04. This might indicate that there are\n",
      "strong multicollinearity or other numerical problems.\n"
     ]
    }
   ],
   "source": [
    "# Add a constant term to X\n",
    "X = sm.add_constant(X)\n",
    "\n",
    "# Fit the OLS regression model\n",
    "model = sm.OLS(y, X).fit()\n",
    "\n",
    "print(model.summary())"
   ]
  },
  {
   "cell_type": "code",
   "execution_count": 14,
   "metadata": {},
   "outputs": [
    {
     "name": "stdout",
     "output_type": "stream",
     "text": [
      "R-squared value: 0.84\n",
      "\n",
      "\n",
      "Interpretation: R-squared represents the proportion of the variance in the\n",
      "\tdependent variable (Price) that is explained by the independent variables (Age_08_04, HP, Weight).\n"
     ]
    }
   ],
   "source": [
    "# Interpret the R-squared value\n",
    "r_squared = model.rsquared\n",
    "print(f\"R-squared value: {r_squared:.2f}\")\n",
    "print('\\n')\n",
    "print(\"Interpretation: R-squared represents the proportion of the variance in the\" +  '\\n\\t' +\n",
    "      \"dependent variable (Price) that is explained by the independent variables (Age_08_04, HP, Weight).\")"
   ]
  }
 ],
 "metadata": {
  "kernelspec": {
   "display_name": "base",
   "language": "python",
   "name": "python3"
  },
  "language_info": {
   "codemirror_mode": {
    "name": "ipython",
    "version": 3
   },
   "file_extension": ".py",
   "mimetype": "text/x-python",
   "name": "python",
   "nbconvert_exporter": "python",
   "pygments_lexer": "ipython3",
   "version": "3.8.8"
  }
 },
 "nbformat": 4,
 "nbformat_minor": 2
}
