{
 "cells": [
  {
   "cell_type": "code",
   "execution_count": 1,
   "id": "b97f2420",
   "metadata": {},
   "outputs": [],
   "source": [
    "import pandas as pd\n",
    "import numpy as np"
   ]
  },
  {
   "cell_type": "code",
   "execution_count": 2,
   "id": "f2603f03",
   "metadata": {},
   "outputs": [],
   "source": [
    "returns_df=pd.read_excel('Stock_returns.xlsx')"
   ]
  },
  {
   "cell_type": "code",
   "execution_count": 4,
   "id": "1ce72695",
   "metadata": {},
   "outputs": [
    {
     "data": {
      "text/html": [
       "<div>\n",
       "<style scoped>\n",
       "    .dataframe tbody tr th:only-of-type {\n",
       "        vertical-align: middle;\n",
       "    }\n",
       "\n",
       "    .dataframe tbody tr th {\n",
       "        vertical-align: top;\n",
       "    }\n",
       "\n",
       "    .dataframe thead th {\n",
       "        text-align: right;\n",
       "    }\n",
       "</style>\n",
       "<table border=\"1\" class=\"dataframe\">\n",
       "  <thead>\n",
       "    <tr style=\"text-align: right;\">\n",
       "      <th></th>\n",
       "      <th>Date</th>\n",
       "      <th>Apple</th>\n",
       "      <th>Amazon</th>\n",
       "      <th>Msft</th>\n",
       "      <th>Ibm</th>\n",
       "      <th>Spx</th>\n",
       "    </tr>\n",
       "  </thead>\n",
       "  <tbody>\n",
       "    <tr>\n",
       "      <th>0</th>\n",
       "      <td>2013-10-11</td>\n",
       "      <td>0.006479</td>\n",
       "      <td>0.018730</td>\n",
       "      <td>0.010960</td>\n",
       "      <td>0.007523</td>\n",
       "      <td>0.006286</td>\n",
       "    </tr>\n",
       "    <tr>\n",
       "      <th>1</th>\n",
       "      <td>2013-10-14</td>\n",
       "      <td>0.006551</td>\n",
       "      <td>-0.000611</td>\n",
       "      <td>0.009376</td>\n",
       "      <td>0.004351</td>\n",
       "      <td>0.004075</td>\n",
       "    </tr>\n",
       "    <tr>\n",
       "      <th>2</th>\n",
       "      <td>2013-10-15</td>\n",
       "      <td>0.005323</td>\n",
       "      <td>-0.013840</td>\n",
       "      <td>0.001161</td>\n",
       "      <td>-0.012355</td>\n",
       "      <td>-0.007064</td>\n",
       "    </tr>\n",
       "    <tr>\n",
       "      <th>3</th>\n",
       "      <td>2013-10-16</td>\n",
       "      <td>0.004879</td>\n",
       "      <td>0.013349</td>\n",
       "      <td>0.004349</td>\n",
       "      <td>0.011210</td>\n",
       "      <td>0.013828</td>\n",
       "    </tr>\n",
       "    <tr>\n",
       "      <th>4</th>\n",
       "      <td>2013-10-17</td>\n",
       "      <td>0.006755</td>\n",
       "      <td>0.000902</td>\n",
       "      <td>0.008083</td>\n",
       "      <td>-0.063728</td>\n",
       "      <td>0.006744</td>\n",
       "    </tr>\n",
       "  </tbody>\n",
       "</table>\n",
       "</div>"
      ],
      "text/plain": [
       "        Date     Apple    Amazon      Msft       Ibm       Spx\n",
       "0 2013-10-11  0.006479  0.018730  0.010960  0.007523  0.006286\n",
       "1 2013-10-14  0.006551 -0.000611  0.009376  0.004351  0.004075\n",
       "2 2013-10-15  0.005323 -0.013840  0.001161 -0.012355 -0.007064\n",
       "3 2013-10-16  0.004879  0.013349  0.004349  0.011210  0.013828\n",
       "4 2013-10-17  0.006755  0.000902  0.008083 -0.063728  0.006744"
      ]
     },
     "execution_count": 4,
     "metadata": {},
     "output_type": "execute_result"
    }
   ],
   "source": [
    "returns_df.head(5)"
   ]
  },
  {
   "cell_type": "code",
   "execution_count": 5,
   "id": "604260d6",
   "metadata": {},
   "outputs": [
    {
     "name": "stdout",
     "output_type": "stream",
     "text": [
      "<class 'pandas.core.frame.DataFrame'>\n",
      "RangeIndex: 2519 entries, 0 to 2518\n",
      "Data columns (total 6 columns):\n",
      " #   Column  Non-Null Count  Dtype         \n",
      "---  ------  --------------  -----         \n",
      " 0   Date    2519 non-null   datetime64[ns]\n",
      " 1   Apple   2519 non-null   float64       \n",
      " 2   Amazon  2519 non-null   float64       \n",
      " 3   Msft    2519 non-null   float64       \n",
      " 4   Ibm     2519 non-null   float64       \n",
      " 5   Spx     2519 non-null   float64       \n",
      "dtypes: datetime64[ns](1), float64(5)\n",
      "memory usage: 118.2 KB\n"
     ]
    }
   ],
   "source": [
    "returns_df.info()"
   ]
  },
  {
   "cell_type": "code",
   "execution_count": 6,
   "id": "229c05fc",
   "metadata": {},
   "outputs": [
    {
     "data": {
      "text/plain": [
       "count    2519.000000\n",
       "mean        0.001084\n",
       "std         0.017908\n",
       "min        -0.128647\n",
       "25%        -0.007317\n",
       "50%         0.000901\n",
       "75%         0.010217\n",
       "max         0.119808\n",
       "Name: Apple, dtype: float64"
      ]
     },
     "execution_count": 6,
     "metadata": {},
     "output_type": "execute_result"
    }
   ],
   "source": [
    "returns_df['Apple'].describe()"
   ]
  },
  {
   "cell_type": "code",
   "execution_count": 7,
   "id": "56a81db2",
   "metadata": {},
   "outputs": [
    {
     "data": {
      "text/html": [
       "<div>\n",
       "<style scoped>\n",
       "    .dataframe tbody tr th:only-of-type {\n",
       "        vertical-align: middle;\n",
       "    }\n",
       "\n",
       "    .dataframe tbody tr th {\n",
       "        vertical-align: top;\n",
       "    }\n",
       "\n",
       "    .dataframe thead th {\n",
       "        text-align: right;\n",
       "    }\n",
       "</style>\n",
       "<table border=\"1\" class=\"dataframe\">\n",
       "  <thead>\n",
       "    <tr style=\"text-align: right;\">\n",
       "      <th></th>\n",
       "      <th>Apple</th>\n",
       "      <th>Amazon</th>\n",
       "      <th>Msft</th>\n",
       "      <th>Ibm</th>\n",
       "      <th>Spx</th>\n",
       "    </tr>\n",
       "  </thead>\n",
       "  <tbody>\n",
       "    <tr>\n",
       "      <th>count</th>\n",
       "      <td>2519.000000</td>\n",
       "      <td>2519.000000</td>\n",
       "      <td>2519.000000</td>\n",
       "      <td>2.519000e+03</td>\n",
       "      <td>2519.000000</td>\n",
       "    </tr>\n",
       "    <tr>\n",
       "      <th>mean</th>\n",
       "      <td>0.001084</td>\n",
       "      <td>0.001068</td>\n",
       "      <td>0.001048</td>\n",
       "      <td>-7.197166e-07</td>\n",
       "      <td>0.000435</td>\n",
       "    </tr>\n",
       "    <tr>\n",
       "      <th>std</th>\n",
       "      <td>0.017908</td>\n",
       "      <td>0.020911</td>\n",
       "      <td>0.017084</td>\n",
       "      <td>1.482894e-02</td>\n",
       "      <td>0.011143</td>\n",
       "    </tr>\n",
       "    <tr>\n",
       "      <th>min</th>\n",
       "      <td>-0.128647</td>\n",
       "      <td>-0.140494</td>\n",
       "      <td>-0.147390</td>\n",
       "      <td>-1.285072e-01</td>\n",
       "      <td>-0.119841</td>\n",
       "    </tr>\n",
       "    <tr>\n",
       "      <th>25%</th>\n",
       "      <td>-0.007317</td>\n",
       "      <td>-0.008606</td>\n",
       "      <td>-0.006910</td>\n",
       "      <td>-6.533227e-03</td>\n",
       "      <td>-0.003771</td>\n",
       "    </tr>\n",
       "    <tr>\n",
       "      <th>50%</th>\n",
       "      <td>0.000901</td>\n",
       "      <td>0.001084</td>\n",
       "      <td>0.000736</td>\n",
       "      <td>3.394664e-04</td>\n",
       "      <td>0.000575</td>\n",
       "    </tr>\n",
       "    <tr>\n",
       "      <th>75%</th>\n",
       "      <td>0.010217</td>\n",
       "      <td>0.011311</td>\n",
       "      <td>0.009712</td>\n",
       "      <td>7.080112e-03</td>\n",
       "      <td>0.005600</td>\n",
       "    </tr>\n",
       "    <tr>\n",
       "      <th>max</th>\n",
       "      <td>0.119808</td>\n",
       "      <td>0.141311</td>\n",
       "      <td>0.142169</td>\n",
       "      <td>1.130104e-01</td>\n",
       "      <td>0.093828</td>\n",
       "    </tr>\n",
       "  </tbody>\n",
       "</table>\n",
       "</div>"
      ],
      "text/plain": [
       "             Apple       Amazon         Msft           Ibm          Spx\n",
       "count  2519.000000  2519.000000  2519.000000  2.519000e+03  2519.000000\n",
       "mean      0.001084     0.001068     0.001048 -7.197166e-07     0.000435\n",
       "std       0.017908     0.020911     0.017084  1.482894e-02     0.011143\n",
       "min      -0.128647    -0.140494    -0.147390 -1.285072e-01    -0.119841\n",
       "25%      -0.007317    -0.008606    -0.006910 -6.533227e-03    -0.003771\n",
       "50%       0.000901     0.001084     0.000736  3.394664e-04     0.000575\n",
       "75%       0.010217     0.011311     0.009712  7.080112e-03     0.005600\n",
       "max       0.119808     0.141311     0.142169  1.130104e-01     0.093828"
      ]
     },
     "execution_count": 7,
     "metadata": {},
     "output_type": "execute_result"
    }
   ],
   "source": [
    "returns_df.describe()"
   ]
  },
  {
   "cell_type": "code",
   "execution_count": 8,
   "id": "6ffb68de",
   "metadata": {},
   "outputs": [
    {
     "data": {
      "text/plain": [
       "Index(['Date', 'Apple', 'Amazon', 'Msft', 'Ibm', 'Spx'], dtype='object')"
      ]
     },
     "execution_count": 8,
     "metadata": {},
     "output_type": "execute_result"
    }
   ],
   "source": [
    "returns_df.columns"
   ]
  },
  {
   "cell_type": "markdown",
   "id": "237b9478",
   "metadata": {},
   "source": [
    "# Accessing Subsets of Data"
   ]
  },
  {
   "cell_type": "code",
   "execution_count": 9,
   "id": "fa9b0919",
   "metadata": {},
   "outputs": [
    {
     "data": {
      "text/html": [
       "<div>\n",
       "<style scoped>\n",
       "    .dataframe tbody tr th:only-of-type {\n",
       "        vertical-align: middle;\n",
       "    }\n",
       "\n",
       "    .dataframe tbody tr th {\n",
       "        vertical-align: top;\n",
       "    }\n",
       "\n",
       "    .dataframe thead th {\n",
       "        text-align: right;\n",
       "    }\n",
       "</style>\n",
       "<table border=\"1\" class=\"dataframe\">\n",
       "  <thead>\n",
       "    <tr style=\"text-align: right;\">\n",
       "      <th></th>\n",
       "      <th>Date</th>\n",
       "      <th>Apple</th>\n",
       "      <th>Amazon</th>\n",
       "      <th>Msft</th>\n",
       "      <th>Ibm</th>\n",
       "      <th>Spx</th>\n",
       "    </tr>\n",
       "  </thead>\n",
       "  <tbody>\n",
       "    <tr>\n",
       "      <th>0</th>\n",
       "      <td>2013-10-11</td>\n",
       "      <td>0.006479</td>\n",
       "      <td>0.018730</td>\n",
       "      <td>0.010960</td>\n",
       "      <td>0.007523</td>\n",
       "      <td>0.006286</td>\n",
       "    </tr>\n",
       "    <tr>\n",
       "      <th>1</th>\n",
       "      <td>2013-10-14</td>\n",
       "      <td>0.006551</td>\n",
       "      <td>-0.000611</td>\n",
       "      <td>0.009376</td>\n",
       "      <td>0.004351</td>\n",
       "      <td>0.004075</td>\n",
       "    </tr>\n",
       "    <tr>\n",
       "      <th>2</th>\n",
       "      <td>2013-10-15</td>\n",
       "      <td>0.005323</td>\n",
       "      <td>-0.013840</td>\n",
       "      <td>0.001161</td>\n",
       "      <td>-0.012355</td>\n",
       "      <td>-0.007064</td>\n",
       "    </tr>\n",
       "    <tr>\n",
       "      <th>3</th>\n",
       "      <td>2013-10-16</td>\n",
       "      <td>0.004879</td>\n",
       "      <td>0.013349</td>\n",
       "      <td>0.004349</td>\n",
       "      <td>0.011210</td>\n",
       "      <td>0.013828</td>\n",
       "    </tr>\n",
       "  </tbody>\n",
       "</table>\n",
       "</div>"
      ],
      "text/plain": [
       "        Date     Apple    Amazon      Msft       Ibm       Spx\n",
       "0 2013-10-11  0.006479  0.018730  0.010960  0.007523  0.006286\n",
       "1 2013-10-14  0.006551 -0.000611  0.009376  0.004351  0.004075\n",
       "2 2013-10-15  0.005323 -0.013840  0.001161 -0.012355 -0.007064\n",
       "3 2013-10-16  0.004879  0.013349  0.004349  0.011210  0.013828"
      ]
     },
     "execution_count": 9,
     "metadata": {},
     "output_type": "execute_result"
    }
   ],
   "source": [
    "returns_df.loc[0:3]  # for loc, the second index in the slice is inclusive"
   ]
  },
  {
   "cell_type": "code",
   "execution_count": 10,
   "id": "219f930c",
   "metadata": {},
   "outputs": [
    {
     "data": {
      "text/html": [
       "<div>\n",
       "<style scoped>\n",
       "    .dataframe tbody tr th:only-of-type {\n",
       "        vertical-align: middle;\n",
       "    }\n",
       "\n",
       "    .dataframe tbody tr th {\n",
       "        vertical-align: top;\n",
       "    }\n",
       "\n",
       "    .dataframe thead th {\n",
       "        text-align: right;\n",
       "    }\n",
       "</style>\n",
       "<table border=\"1\" class=\"dataframe\">\n",
       "  <thead>\n",
       "    <tr style=\"text-align: right;\">\n",
       "      <th></th>\n",
       "      <th>Date</th>\n",
       "      <th>Apple</th>\n",
       "      <th>Amazon</th>\n",
       "      <th>Msft</th>\n",
       "      <th>Ibm</th>\n",
       "      <th>Spx</th>\n",
       "    </tr>\n",
       "  </thead>\n",
       "  <tbody>\n",
       "    <tr>\n",
       "      <th>0</th>\n",
       "      <td>2013-10-11</td>\n",
       "      <td>0.006479</td>\n",
       "      <td>0.018730</td>\n",
       "      <td>0.010960</td>\n",
       "      <td>0.007523</td>\n",
       "      <td>0.006286</td>\n",
       "    </tr>\n",
       "    <tr>\n",
       "      <th>1</th>\n",
       "      <td>2013-10-14</td>\n",
       "      <td>0.006551</td>\n",
       "      <td>-0.000611</td>\n",
       "      <td>0.009376</td>\n",
       "      <td>0.004351</td>\n",
       "      <td>0.004075</td>\n",
       "    </tr>\n",
       "    <tr>\n",
       "      <th>2</th>\n",
       "      <td>2013-10-15</td>\n",
       "      <td>0.005323</td>\n",
       "      <td>-0.013840</td>\n",
       "      <td>0.001161</td>\n",
       "      <td>-0.012355</td>\n",
       "      <td>-0.007064</td>\n",
       "    </tr>\n",
       "    <tr>\n",
       "      <th>3</th>\n",
       "      <td>2013-10-16</td>\n",
       "      <td>0.004879</td>\n",
       "      <td>0.013349</td>\n",
       "      <td>0.004349</td>\n",
       "      <td>0.011210</td>\n",
       "      <td>0.013828</td>\n",
       "    </tr>\n",
       "  </tbody>\n",
       "</table>\n",
       "</div>"
      ],
      "text/plain": [
       "        Date     Apple    Amazon      Msft       Ibm       Spx\n",
       "0 2013-10-11  0.006479  0.018730  0.010960  0.007523  0.006286\n",
       "1 2013-10-14  0.006551 -0.000611  0.009376  0.004351  0.004075\n",
       "2 2013-10-15  0.005323 -0.013840  0.001161 -0.012355 -0.007064\n",
       "3 2013-10-16  0.004879  0.013349  0.004349  0.011210  0.013828"
      ]
     },
     "execution_count": 10,
     "metadata": {},
     "output_type": "execute_result"
    }
   ],
   "source": [
    "returns_df.iloc[0:4] # for iloc, the second index in the slice is exclusive"
   ]
  },
  {
   "cell_type": "code",
   "execution_count": 11,
   "id": "d4e7c08e",
   "metadata": {},
   "outputs": [
    {
     "data": {
      "text/plain": [
       "0    0.018730\n",
       "1   -0.000611\n",
       "2   -0.013840\n",
       "3    0.013349\n",
       "4    0.000902\n",
       "5    0.058435\n",
       "6   -0.007570\n",
       "7    0.018686\n",
       "8   -0.017393\n",
       "9    0.016691\n",
       "Name: Amazon, dtype: float64"
      ]
     },
     "execution_count": 11,
     "metadata": {},
     "output_type": "execute_result"
    }
   ],
   "source": [
    "returns_df['Amazon'].iloc[0:10]"
   ]
  },
  {
   "cell_type": "code",
   "execution_count": 12,
   "id": "e8b785a5",
   "metadata": {},
   "outputs": [
    {
     "data": {
      "text/plain": [
       "0    0.018730\n",
       "1   -0.000611\n",
       "2   -0.013840\n",
       "3    0.013349\n",
       "4    0.000902\n",
       "5    0.058435\n",
       "6   -0.007570\n",
       "7    0.018686\n",
       "8   -0.017393\n",
       "9    0.016691\n",
       "Name: Amazon, dtype: float64"
      ]
     },
     "execution_count": 12,
     "metadata": {},
     "output_type": "execute_result"
    }
   ],
   "source": [
    "returns_df.iloc[0:10]['Amazon']"
   ]
  },
  {
   "cell_type": "code",
   "execution_count": 13,
   "id": "1c109467",
   "metadata": {},
   "outputs": [
    {
     "data": {
      "text/plain": [
       "0    0.018730\n",
       "1   -0.000611\n",
       "2   -0.013840\n",
       "3    0.013349\n",
       "4    0.000902\n",
       "5    0.058435\n",
       "6   -0.007570\n",
       "7    0.018686\n",
       "8   -0.017393\n",
       "9    0.016691\n",
       "Name: Amazon, dtype: float64"
      ]
     },
     "execution_count": 13,
     "metadata": {},
     "output_type": "execute_result"
    }
   ],
   "source": [
    "returns_df.iloc[0:10].Amazon"
   ]
  },
  {
   "cell_type": "code",
   "execution_count": 14,
   "id": "a7a7639a",
   "metadata": {},
   "outputs": [
    {
     "data": {
      "text/html": [
       "<div>\n",
       "<style scoped>\n",
       "    .dataframe tbody tr th:only-of-type {\n",
       "        vertical-align: middle;\n",
       "    }\n",
       "\n",
       "    .dataframe tbody tr th {\n",
       "        vertical-align: top;\n",
       "    }\n",
       "\n",
       "    .dataframe thead th {\n",
       "        text-align: right;\n",
       "    }\n",
       "</style>\n",
       "<table border=\"1\" class=\"dataframe\">\n",
       "  <thead>\n",
       "    <tr style=\"text-align: right;\">\n",
       "      <th></th>\n",
       "      <th>Date</th>\n",
       "      <th>Apple</th>\n",
       "      <th>Amazon</th>\n",
       "    </tr>\n",
       "  </thead>\n",
       "  <tbody>\n",
       "    <tr>\n",
       "      <th>4</th>\n",
       "      <td>2013-10-17</td>\n",
       "      <td>0.006755</td>\n",
       "      <td>0.000902</td>\n",
       "    </tr>\n",
       "    <tr>\n",
       "      <th>5</th>\n",
       "      <td>2013-10-18</td>\n",
       "      <td>0.008703</td>\n",
       "      <td>0.058435</td>\n",
       "    </tr>\n",
       "    <tr>\n",
       "      <th>6</th>\n",
       "      <td>2013-10-21</td>\n",
       "      <td>0.024512</td>\n",
       "      <td>-0.007570</td>\n",
       "    </tr>\n",
       "    <tr>\n",
       "      <th>7</th>\n",
       "      <td>2013-10-22</td>\n",
       "      <td>-0.002868</td>\n",
       "      <td>0.018686</td>\n",
       "    </tr>\n",
       "    <tr>\n",
       "      <th>8</th>\n",
       "      <td>2013-10-23</td>\n",
       "      <td>0.009797</td>\n",
       "      <td>-0.017393</td>\n",
       "    </tr>\n",
       "    <tr>\n",
       "      <th>9</th>\n",
       "      <td>2013-10-24</td>\n",
       "      <td>0.013238</td>\n",
       "      <td>0.016691</td>\n",
       "    </tr>\n",
       "  </tbody>\n",
       "</table>\n",
       "</div>"
      ],
      "text/plain": [
       "        Date     Apple    Amazon\n",
       "4 2013-10-17  0.006755  0.000902\n",
       "5 2013-10-18  0.008703  0.058435\n",
       "6 2013-10-21  0.024512 -0.007570\n",
       "7 2013-10-22 -0.002868  0.018686\n",
       "8 2013-10-23  0.009797 -0.017393\n",
       "9 2013-10-24  0.013238  0.016691"
      ]
     },
     "execution_count": 14,
     "metadata": {},
     "output_type": "execute_result"
    }
   ],
   "source": [
    "returns_df.iloc[4:10,0:3]"
   ]
  },
  {
   "cell_type": "code",
   "execution_count": 15,
   "id": "8042aab3",
   "metadata": {},
   "outputs": [
    {
     "data": {
      "text/html": [
       "<div>\n",
       "<style scoped>\n",
       "    .dataframe tbody tr th:only-of-type {\n",
       "        vertical-align: middle;\n",
       "    }\n",
       "\n",
       "    .dataframe tbody tr th {\n",
       "        vertical-align: top;\n",
       "    }\n",
       "\n",
       "    .dataframe thead th {\n",
       "        text-align: right;\n",
       "    }\n",
       "</style>\n",
       "<table border=\"1\" class=\"dataframe\">\n",
       "  <thead>\n",
       "    <tr style=\"text-align: right;\">\n",
       "      <th></th>\n",
       "      <th>Date</th>\n",
       "      <th>Apple</th>\n",
       "      <th>Ibm</th>\n",
       "    </tr>\n",
       "  </thead>\n",
       "  <tbody>\n",
       "    <tr>\n",
       "      <th>4</th>\n",
       "      <td>2013-10-17</td>\n",
       "      <td>0.006755</td>\n",
       "      <td>-0.063728</td>\n",
       "    </tr>\n",
       "    <tr>\n",
       "      <th>5</th>\n",
       "      <td>2013-10-18</td>\n",
       "      <td>0.008703</td>\n",
       "      <td>-0.006006</td>\n",
       "    </tr>\n",
       "  </tbody>\n",
       "</table>\n",
       "</div>"
      ],
      "text/plain": [
       "        Date     Apple       Ibm\n",
       "4 2013-10-17  0.006755 -0.063728\n",
       "5 2013-10-18  0.008703 -0.006006"
      ]
     },
     "execution_count": 15,
     "metadata": {},
     "output_type": "execute_result"
    }
   ],
   "source": [
    "pd.concat([returns_df.iloc[4:6,0:2],returns_df.iloc[4:6,4:5]],axis=1)\n"
   ]
  },
  {
   "cell_type": "code",
   "execution_count": 16,
   "id": "9233aac9",
   "metadata": {},
   "outputs": [
    {
     "data": {
      "text/plain": [
       "20    0.007467\n",
       "21   -0.005029\n",
       "22   -0.006119\n",
       "23    0.021279\n",
       "24   -0.003512\n",
       "25   -0.004734\n",
       "26   -0.016939\n",
       "27   -0.012366\n",
       "28    0.009254\n",
       "29    0.008630\n",
       "Name: Msft, dtype: float64"
      ]
     },
     "execution_count": 16,
     "metadata": {},
     "output_type": "execute_result"
    }
   ],
   "source": [
    "returns_df['Msft'][20:30]"
   ]
  },
  {
   "cell_type": "code",
   "execution_count": 17,
   "id": "56cb424e",
   "metadata": {},
   "outputs": [
    {
     "name": "stdout",
     "output_type": "stream",
     "text": [
      "Number of rows 2519\n"
     ]
    }
   ],
   "source": [
    "print('Number of rows', len(returns_df['Apple']))"
   ]
  },
  {
   "cell_type": "code",
   "execution_count": 18,
   "id": "8f0c14bd",
   "metadata": {},
   "outputs": [
    {
     "name": "stdout",
     "output_type": "stream",
     "text": [
      "Mean of Apple 0.001\n"
     ]
    }
   ],
   "source": [
    "print('Mean of Apple',round(returns_df['Apple'].mean(),3))"
   ]
  },
  {
   "cell_type": "code",
   "execution_count": 19,
   "id": "6d1f6259",
   "metadata": {},
   "outputs": [
    {
     "data": {
      "text/html": [
       "<div>\n",
       "<style scoped>\n",
       "    .dataframe tbody tr th:only-of-type {\n",
       "        vertical-align: middle;\n",
       "    }\n",
       "\n",
       "    .dataframe tbody tr th {\n",
       "        vertical-align: top;\n",
       "    }\n",
       "\n",
       "    .dataframe thead th {\n",
       "        text-align: right;\n",
       "    }\n",
       "</style>\n",
       "<table border=\"1\" class=\"dataframe\">\n",
       "  <thead>\n",
       "    <tr style=\"text-align: right;\">\n",
       "      <th></th>\n",
       "      <th>Date</th>\n",
       "      <th>Apple</th>\n",
       "      <th>Amazon</th>\n",
       "      <th>Msft</th>\n",
       "      <th>Ibm</th>\n",
       "      <th>Spx</th>\n",
       "    </tr>\n",
       "  </thead>\n",
       "  <tbody>\n",
       "    <tr>\n",
       "      <th>988</th>\n",
       "      <td>2017-09-14</td>\n",
       "      <td>-0.008581</td>\n",
       "      <td>-0.007393</td>\n",
       "      <td>-0.005850</td>\n",
       "      <td>-0.003082</td>\n",
       "      <td>-0.001101</td>\n",
       "    </tr>\n",
       "    <tr>\n",
       "      <th>2218</th>\n",
       "      <td>2022-08-04</td>\n",
       "      <td>-0.001926</td>\n",
       "      <td>0.021861</td>\n",
       "      <td>0.004177</td>\n",
       "      <td>-0.005289</td>\n",
       "      <td>-0.000777</td>\n",
       "    </tr>\n",
       "    <tr>\n",
       "      <th>734</th>\n",
       "      <td>2016-09-12</td>\n",
       "      <td>0.022399</td>\n",
       "      <td>0.014931</td>\n",
       "      <td>0.014944</td>\n",
       "      <td>0.016700</td>\n",
       "      <td>0.014677</td>\n",
       "    </tr>\n",
       "    <tr>\n",
       "      <th>740</th>\n",
       "      <td>2016-09-20</td>\n",
       "      <td>-0.000088</td>\n",
       "      <td>0.006606</td>\n",
       "      <td>-0.002108</td>\n",
       "      <td>-0.002712</td>\n",
       "      <td>0.000299</td>\n",
       "    </tr>\n",
       "    <tr>\n",
       "      <th>797</th>\n",
       "      <td>2016-12-09</td>\n",
       "      <td>0.016322</td>\n",
       "      <td>0.001733</td>\n",
       "      <td>0.015735</td>\n",
       "      <td>0.007015</td>\n",
       "      <td>0.005939</td>\n",
       "    </tr>\n",
       "    <tr>\n",
       "      <th>1558</th>\n",
       "      <td>2019-12-19</td>\n",
       "      <td>0.001001</td>\n",
       "      <td>0.004624</td>\n",
       "      <td>0.008680</td>\n",
       "      <td>0.001116</td>\n",
       "      <td>0.004459</td>\n",
       "    </tr>\n",
       "    <tr>\n",
       "      <th>203</th>\n",
       "      <td>2014-08-04</td>\n",
       "      <td>-0.005617</td>\n",
       "      <td>0.021462</td>\n",
       "      <td>0.011899</td>\n",
       "      <td>0.002591</td>\n",
       "      <td>0.007189</td>\n",
       "    </tr>\n",
       "    <tr>\n",
       "      <th>656</th>\n",
       "      <td>2016-05-20</td>\n",
       "      <td>0.010828</td>\n",
       "      <td>0.006127</td>\n",
       "      <td>0.005962</td>\n",
       "      <td>0.016008</td>\n",
       "      <td>0.006020</td>\n",
       "    </tr>\n",
       "    <tr>\n",
       "      <th>1221</th>\n",
       "      <td>2018-08-17</td>\n",
       "      <td>0.019970</td>\n",
       "      <td>-0.002279</td>\n",
       "      <td>-0.000557</td>\n",
       "      <td>0.004954</td>\n",
       "      <td>0.003323</td>\n",
       "    </tr>\n",
       "    <tr>\n",
       "      <th>47</th>\n",
       "      <td>2013-12-18</td>\n",
       "      <td>-0.007608</td>\n",
       "      <td>0.021437</td>\n",
       "      <td>0.001643</td>\n",
       "      <td>0.016727</td>\n",
       "      <td>0.016648</td>\n",
       "    </tr>\n",
       "  </tbody>\n",
       "</table>\n",
       "</div>"
      ],
      "text/plain": [
       "           Date     Apple    Amazon      Msft       Ibm       Spx\n",
       "988  2017-09-14 -0.008581 -0.007393 -0.005850 -0.003082 -0.001101\n",
       "2218 2022-08-04 -0.001926  0.021861  0.004177 -0.005289 -0.000777\n",
       "734  2016-09-12  0.022399  0.014931  0.014944  0.016700  0.014677\n",
       "740  2016-09-20 -0.000088  0.006606 -0.002108 -0.002712  0.000299\n",
       "797  2016-12-09  0.016322  0.001733  0.015735  0.007015  0.005939\n",
       "1558 2019-12-19  0.001001  0.004624  0.008680  0.001116  0.004459\n",
       "203  2014-08-04 -0.005617  0.021462  0.011899  0.002591  0.007189\n",
       "656  2016-05-20  0.010828  0.006127  0.005962  0.016008  0.006020\n",
       "1221 2018-08-17  0.019970 -0.002279 -0.000557  0.004954  0.003323\n",
       "47   2013-12-18 -0.007608  0.021437  0.001643  0.016727  0.016648"
      ]
     },
     "execution_count": 19,
     "metadata": {},
     "output_type": "execute_result"
    }
   ],
   "source": [
    "returns_df.sample(10)"
   ]
  },
  {
   "cell_type": "code",
   "execution_count": 20,
   "id": "98963fbf",
   "metadata": {},
   "outputs": [
    {
     "data": {
      "text/plain": [
       "Date      datetime64[ns]\n",
       "Apple            float64\n",
       "Amazon           float64\n",
       "Msft             float64\n",
       "Ibm              float64\n",
       "Spx              float64\n",
       "dtype: object"
      ]
     },
     "execution_count": 20,
     "metadata": {},
     "output_type": "execute_result"
    }
   ],
   "source": [
    "returns_df.dtypes"
   ]
  },
  {
   "cell_type": "markdown",
   "id": "5e587642",
   "metadata": {},
   "source": [
    "# A Different Data Set: 2023_Roxbury\n"
   ]
  },
  {
   "cell_type": "code",
   "execution_count": 21,
   "id": "d4c3df4a",
   "metadata": {},
   "outputs": [],
   "source": [
    "house_df=pd.read_excel('2023_Roxbury.xlsx')"
   ]
  },
  {
   "cell_type": "markdown",
   "id": "39a51236",
   "metadata": {},
   "source": [
    "#This data is a slightly cleaned and organized version of the Boston house prices data, which can be found here: https://data.boston.gov/dataset/property-assessment"
   ]
  },
  {
   "cell_type": "code",
   "execution_count": 22,
   "id": "5aac16e4",
   "metadata": {},
   "outputs": [
    {
     "data": {
      "text/html": [
       "<div>\n",
       "<style scoped>\n",
       "    .dataframe tbody tr th:only-of-type {\n",
       "        vertical-align: middle;\n",
       "    }\n",
       "\n",
       "    .dataframe tbody tr th {\n",
       "        vertical-align: top;\n",
       "    }\n",
       "\n",
       "    .dataframe thead th {\n",
       "        text-align: right;\n",
       "    }\n",
       "</style>\n",
       "<table border=\"1\" class=\"dataframe\">\n",
       "  <thead>\n",
       "    <tr style=\"text-align: right;\">\n",
       "      <th></th>\n",
       "      <th>LU</th>\n",
       "      <th>LAND_SF</th>\n",
       "      <th>GROSS_AREA</th>\n",
       "      <th>TOTAL_VALUE</th>\n",
       "      <th>GROSS_TAX</th>\n",
       "      <th>YR_BUILT</th>\n",
       "      <th>YR_REMODEL</th>\n",
       "      <th>BED_RMS</th>\n",
       "      <th>FULL_BTH</th>\n",
       "      <th>HLF_BTH</th>\n",
       "      <th>KITCHENS</th>\n",
       "      <th>TT_RMS</th>\n",
       "      <th>HEAT_TYPE</th>\n",
       "      <th>FIREPLACES</th>\n",
       "      <th>NUM_PARKING</th>\n",
       "      <th>PROP_VIEW</th>\n",
       "    </tr>\n",
       "  </thead>\n",
       "  <tbody>\n",
       "    <tr>\n",
       "      <th>0</th>\n",
       "      <td>CM</td>\n",
       "      <td>1839.0</td>\n",
       "      <td>NaN</td>\n",
       "      <td>0</td>\n",
       "      <td>0.0000</td>\n",
       "      <td>1875.0</td>\n",
       "      <td>0</td>\n",
       "      <td>NaN</td>\n",
       "      <td>NaN</td>\n",
       "      <td>NaN</td>\n",
       "      <td>NaN</td>\n",
       "      <td>NaN</td>\n",
       "      <td>NaN</td>\n",
       "      <td>NaN</td>\n",
       "      <td>NaN</td>\n",
       "      <td>NaN</td>\n",
       "    </tr>\n",
       "    <tr>\n",
       "      <th>1</th>\n",
       "      <td>CP</td>\n",
       "      <td>NaN</td>\n",
       "      <td>NaN</td>\n",
       "      <td>90000</td>\n",
       "      <td>966.6000</td>\n",
       "      <td>NaN</td>\n",
       "      <td>0</td>\n",
       "      <td>NaN</td>\n",
       "      <td>0.0</td>\n",
       "      <td>0.0</td>\n",
       "      <td>0.0</td>\n",
       "      <td>NaN</td>\n",
       "      <td>NaN</td>\n",
       "      <td>0.0</td>\n",
       "      <td>NaN</td>\n",
       "      <td>NaN</td>\n",
       "    </tr>\n",
       "    <tr>\n",
       "      <th>2</th>\n",
       "      <td>R2</td>\n",
       "      <td>2588.0</td>\n",
       "      <td>3630.0</td>\n",
       "      <td>598700</td>\n",
       "      <td>6430.0400</td>\n",
       "      <td>1890.0</td>\n",
       "      <td>1</td>\n",
       "      <td>9.0</td>\n",
       "      <td>2.0</td>\n",
       "      <td>0.0</td>\n",
       "      <td>2.0</td>\n",
       "      <td>13.0</td>\n",
       "      <td>F - Forced Hot Air</td>\n",
       "      <td>0.0</td>\n",
       "      <td>2.0</td>\n",
       "      <td>A - Average</td>\n",
       "    </tr>\n",
       "    <tr>\n",
       "      <th>3</th>\n",
       "      <td>E</td>\n",
       "      <td>13427.0</td>\n",
       "      <td>19448.0</td>\n",
       "      <td>1987500</td>\n",
       "      <td>0.0000</td>\n",
       "      <td>2005.0</td>\n",
       "      <td>1</td>\n",
       "      <td>NaN</td>\n",
       "      <td>0.0</td>\n",
       "      <td>0.0</td>\n",
       "      <td>0.0</td>\n",
       "      <td>NaN</td>\n",
       "      <td>NaN</td>\n",
       "      <td>0.0</td>\n",
       "      <td>NaN</td>\n",
       "      <td>NaN</td>\n",
       "    </tr>\n",
       "    <tr>\n",
       "      <th>4</th>\n",
       "      <td>R3</td>\n",
       "      <td>2875.0</td>\n",
       "      <td>6276.0</td>\n",
       "      <td>848100</td>\n",
       "      <td>9108.5972</td>\n",
       "      <td>1890.0</td>\n",
       "      <td>0</td>\n",
       "      <td>9.0</td>\n",
       "      <td>3.0</td>\n",
       "      <td>0.0</td>\n",
       "      <td>3.0</td>\n",
       "      <td>18.0</td>\n",
       "      <td>W - Ht Water/Steam</td>\n",
       "      <td>0.0</td>\n",
       "      <td>3.0</td>\n",
       "      <td>A - Average</td>\n",
       "    </tr>\n",
       "  </tbody>\n",
       "</table>\n",
       "</div>"
      ],
      "text/plain": [
       "   LU  LAND_SF  GROSS_AREA  TOTAL_VALUE  GROSS_TAX  YR_BUILT  YR_REMODEL  \\\n",
       "0  CM   1839.0         NaN            0     0.0000    1875.0           0   \n",
       "1  CP      NaN         NaN        90000   966.6000       NaN           0   \n",
       "2  R2   2588.0      3630.0       598700  6430.0400    1890.0           1   \n",
       "3   E  13427.0     19448.0      1987500     0.0000    2005.0           1   \n",
       "4  R3   2875.0      6276.0       848100  9108.5972    1890.0           0   \n",
       "\n",
       "   BED_RMS  FULL_BTH  HLF_BTH  KITCHENS  TT_RMS           HEAT_TYPE  \\\n",
       "0      NaN       NaN      NaN       NaN     NaN                 NaN   \n",
       "1      NaN       0.0      0.0       0.0     NaN                 NaN   \n",
       "2      9.0       2.0      0.0       2.0    13.0  F - Forced Hot Air   \n",
       "3      NaN       0.0      0.0       0.0     NaN                 NaN   \n",
       "4      9.0       3.0      0.0       3.0    18.0  W - Ht Water/Steam   \n",
       "\n",
       "   FIREPLACES  NUM_PARKING    PROP_VIEW  \n",
       "0         NaN          NaN          NaN  \n",
       "1         0.0          NaN          NaN  \n",
       "2         0.0          2.0  A - Average  \n",
       "3         0.0          NaN          NaN  \n",
       "4         0.0          3.0  A - Average  "
      ]
     },
     "execution_count": 22,
     "metadata": {},
     "output_type": "execute_result"
    }
   ],
   "source": [
    "house_df.head()"
   ]
  },
  {
   "cell_type": "code",
   "execution_count": 23,
   "id": "061f3399",
   "metadata": {},
   "outputs": [
    {
     "data": {
      "text/plain": [
       "Index(['LU', 'LAND_SF', 'GROSS_AREA', 'TOTAL_VALUE', 'GROSS_TAX', 'YR_BUILT',\n",
       "       'YR_REMODEL', 'BED_RMS', 'FULL_BTH', 'HLF_BTH', 'KITCHENS', 'TT_RMS',\n",
       "       'HEAT_TYPE', 'FIREPLACES', 'NUM_PARKING', 'PROP_VIEW'],\n",
       "      dtype='object')"
      ]
     },
     "execution_count": 23,
     "metadata": {},
     "output_type": "execute_result"
    }
   ],
   "source": [
    "house_df.columns"
   ]
  },
  {
   "cell_type": "code",
   "execution_count": 24,
   "id": "cbe66b0b",
   "metadata": {},
   "outputs": [
    {
     "data": {
      "text/html": [
       "<div>\n",
       "<style scoped>\n",
       "    .dataframe tbody tr th:only-of-type {\n",
       "        vertical-align: middle;\n",
       "    }\n",
       "\n",
       "    .dataframe tbody tr th {\n",
       "        vertical-align: top;\n",
       "    }\n",
       "\n",
       "    .dataframe thead th {\n",
       "        text-align: right;\n",
       "    }\n",
       "</style>\n",
       "<table border=\"1\" class=\"dataframe\">\n",
       "  <thead>\n",
       "    <tr style=\"text-align: right;\">\n",
       "      <th></th>\n",
       "      <th>LAND_SF</th>\n",
       "      <th>GROSS_AREA</th>\n",
       "      <th>TOTAL_VALUE</th>\n",
       "      <th>GROSS_TAX</th>\n",
       "      <th>YR_BUILT</th>\n",
       "      <th>YR_REMODEL</th>\n",
       "      <th>BED_RMS</th>\n",
       "      <th>FULL_BTH</th>\n",
       "      <th>HLF_BTH</th>\n",
       "      <th>KITCHENS</th>\n",
       "      <th>TT_RMS</th>\n",
       "      <th>FIREPLACES</th>\n",
       "      <th>NUM_PARKING</th>\n",
       "    </tr>\n",
       "  </thead>\n",
       "  <tbody>\n",
       "    <tr>\n",
       "      <th>count</th>\n",
       "      <td>6.102000e+03</td>\n",
       "      <td>4.412000e+03</td>\n",
       "      <td>6.168000e+03</td>\n",
       "      <td>6.168000e+03</td>\n",
       "      <td>4712.000000</td>\n",
       "      <td>6168.000000</td>\n",
       "      <td>3588.000000</td>\n",
       "      <td>5860.000000</td>\n",
       "      <td>5863.000000</td>\n",
       "      <td>5860.000000</td>\n",
       "      <td>3587.000000</td>\n",
       "      <td>5867.000000</td>\n",
       "      <td>3602.000000</td>\n",
       "    </tr>\n",
       "    <tr>\n",
       "      <th>mean</th>\n",
       "      <td>6.536939e+03</td>\n",
       "      <td>6.728926e+03</td>\n",
       "      <td>8.845384e+05</td>\n",
       "      <td>8.007587e+03</td>\n",
       "      <td>1931.382003</td>\n",
       "      <td>0.509565</td>\n",
       "      <td>4.241639</td>\n",
       "      <td>1.252218</td>\n",
       "      <td>0.216101</td>\n",
       "      <td>1.010068</td>\n",
       "      <td>8.810148</td>\n",
       "      <td>0.109426</td>\n",
       "      <td>1.256524</td>\n",
       "    </tr>\n",
       "    <tr>\n",
       "      <th>std</th>\n",
       "      <td>2.349873e+04</td>\n",
       "      <td>2.499295e+04</td>\n",
       "      <td>5.348318e+06</td>\n",
       "      <td>4.749592e+04</td>\n",
       "      <td>48.597722</td>\n",
       "      <td>0.723646</td>\n",
       "      <td>2.264470</td>\n",
       "      <td>1.270083</td>\n",
       "      <td>0.467504</td>\n",
       "      <td>1.028225</td>\n",
       "      <td>4.227816</td>\n",
       "      <td>0.474323</td>\n",
       "      <td>1.631658</td>\n",
       "    </tr>\n",
       "    <tr>\n",
       "      <th>min</th>\n",
       "      <td>1.070000e+02</td>\n",
       "      <td>4.200000e+01</td>\n",
       "      <td>0.000000e+00</td>\n",
       "      <td>0.000000e+00</td>\n",
       "      <td>1800.000000</td>\n",
       "      <td>0.000000</td>\n",
       "      <td>0.000000</td>\n",
       "      <td>0.000000</td>\n",
       "      <td>0.000000</td>\n",
       "      <td>0.000000</td>\n",
       "      <td>1.000000</td>\n",
       "      <td>0.000000</td>\n",
       "      <td>0.000000</td>\n",
       "    </tr>\n",
       "    <tr>\n",
       "      <th>25%</th>\n",
       "      <td>1.534000e+03</td>\n",
       "      <td>1.644000e+03</td>\n",
       "      <td>1.864000e+05</td>\n",
       "      <td>4.414125e+02</td>\n",
       "      <td>1899.000000</td>\n",
       "      <td>0.000000</td>\n",
       "      <td>3.000000</td>\n",
       "      <td>0.000000</td>\n",
       "      <td>0.000000</td>\n",
       "      <td>0.000000</td>\n",
       "      <td>5.000000</td>\n",
       "      <td>0.000000</td>\n",
       "      <td>0.000000</td>\n",
       "    </tr>\n",
       "    <tr>\n",
       "      <th>50%</th>\n",
       "      <td>2.690500e+03</td>\n",
       "      <td>3.423000e+03</td>\n",
       "      <td>4.706500e+05</td>\n",
       "      <td>4.879184e+03</td>\n",
       "      <td>1905.000000</td>\n",
       "      <td>0.000000</td>\n",
       "      <td>4.000000</td>\n",
       "      <td>1.000000</td>\n",
       "      <td>0.000000</td>\n",
       "      <td>1.000000</td>\n",
       "      <td>8.000000</td>\n",
       "      <td>0.000000</td>\n",
       "      <td>1.000000</td>\n",
       "    </tr>\n",
       "    <tr>\n",
       "      <th>75%</th>\n",
       "      <td>4.724750e+03</td>\n",
       "      <td>5.232500e+03</td>\n",
       "      <td>7.265250e+05</td>\n",
       "      <td>7.673220e+03</td>\n",
       "      <td>1989.000000</td>\n",
       "      <td>1.000000</td>\n",
       "      <td>6.000000</td>\n",
       "      <td>2.000000</td>\n",
       "      <td>0.000000</td>\n",
       "      <td>2.000000</td>\n",
       "      <td>12.000000</td>\n",
       "      <td>0.000000</td>\n",
       "      <td>2.000000</td>\n",
       "    </tr>\n",
       "    <tr>\n",
       "      <th>max</th>\n",
       "      <td>1.094663e+06</td>\n",
       "      <td>1.091717e+06</td>\n",
       "      <td>2.116593e+08</td>\n",
       "      <td>3.235462e+06</td>\n",
       "      <td>2022.000000</td>\n",
       "      <td>2.000000</td>\n",
       "      <td>14.000000</td>\n",
       "      <td>9.000000</td>\n",
       "      <td>3.000000</td>\n",
       "      <td>4.000000</td>\n",
       "      <td>20.000000</td>\n",
       "      <td>8.000000</td>\n",
       "      <td>16.000000</td>\n",
       "    </tr>\n",
       "  </tbody>\n",
       "</table>\n",
       "</div>"
      ],
      "text/plain": [
       "            LAND_SF    GROSS_AREA   TOTAL_VALUE     GROSS_TAX     YR_BUILT  \\\n",
       "count  6.102000e+03  4.412000e+03  6.168000e+03  6.168000e+03  4712.000000   \n",
       "mean   6.536939e+03  6.728926e+03  8.845384e+05  8.007587e+03  1931.382003   \n",
       "std    2.349873e+04  2.499295e+04  5.348318e+06  4.749592e+04    48.597722   \n",
       "min    1.070000e+02  4.200000e+01  0.000000e+00  0.000000e+00  1800.000000   \n",
       "25%    1.534000e+03  1.644000e+03  1.864000e+05  4.414125e+02  1899.000000   \n",
       "50%    2.690500e+03  3.423000e+03  4.706500e+05  4.879184e+03  1905.000000   \n",
       "75%    4.724750e+03  5.232500e+03  7.265250e+05  7.673220e+03  1989.000000   \n",
       "max    1.094663e+06  1.091717e+06  2.116593e+08  3.235462e+06  2022.000000   \n",
       "\n",
       "        YR_REMODEL      BED_RMS     FULL_BTH      HLF_BTH     KITCHENS  \\\n",
       "count  6168.000000  3588.000000  5860.000000  5863.000000  5860.000000   \n",
       "mean      0.509565     4.241639     1.252218     0.216101     1.010068   \n",
       "std       0.723646     2.264470     1.270083     0.467504     1.028225   \n",
       "min       0.000000     0.000000     0.000000     0.000000     0.000000   \n",
       "25%       0.000000     3.000000     0.000000     0.000000     0.000000   \n",
       "50%       0.000000     4.000000     1.000000     0.000000     1.000000   \n",
       "75%       1.000000     6.000000     2.000000     0.000000     2.000000   \n",
       "max       2.000000    14.000000     9.000000     3.000000     4.000000   \n",
       "\n",
       "            TT_RMS   FIREPLACES  NUM_PARKING  \n",
       "count  3587.000000  5867.000000  3602.000000  \n",
       "mean      8.810148     0.109426     1.256524  \n",
       "std       4.227816     0.474323     1.631658  \n",
       "min       1.000000     0.000000     0.000000  \n",
       "25%       5.000000     0.000000     0.000000  \n",
       "50%       8.000000     0.000000     1.000000  \n",
       "75%      12.000000     0.000000     2.000000  \n",
       "max      20.000000     8.000000    16.000000  "
      ]
     },
     "execution_count": 24,
     "metadata": {},
     "output_type": "execute_result"
    }
   ],
   "source": [
    "house_df.describe()"
   ]
  },
  {
   "cell_type": "markdown",
   "id": "55139c56",
   "metadata": {},
   "source": [
    "### MISSING VALUES"
   ]
  },
  {
   "cell_type": "code",
   "execution_count": 25,
   "id": "49474579",
   "metadata": {},
   "outputs": [],
   "source": [
    "reduced_df=house_df.dropna()"
   ]
  },
  {
   "cell_type": "code",
   "execution_count": 26,
   "id": "200ec17c",
   "metadata": {},
   "outputs": [
    {
     "name": "stdout",
     "output_type": "stream",
     "text": [
      "Number of rows after removing rows with missing values:  3582\n"
     ]
    }
   ],
   "source": [
    "print('Number of rows after removing rows with missing values: ',\n",
    "     len(reduced_df))"
   ]
  },
  {
   "cell_type": "code",
   "execution_count": 27,
   "id": "d5d05f42",
   "metadata": {},
   "outputs": [],
   "source": [
    "medianBedrooms=house_df['BED_RMS'].median()\n",
    "house_df.BED_RMS=house_df.BED_RMS.fillna(value=medianBedrooms)"
   ]
  },
  {
   "cell_type": "code",
   "execution_count": 28,
   "id": "09b2ef7a",
   "metadata": {},
   "outputs": [
    {
     "name": "stdout",
     "output_type": "stream",
     "text": [
      "Number of rows after filling the missing values with median is:  6168\n"
     ]
    }
   ],
   "source": [
    "print('Number of rows after filling the missing values with median is: ',\n",
    "     len(house_df['BED_RMS']))"
   ]
  },
  {
   "cell_type": "markdown",
   "id": "d976f748",
   "metadata": {},
   "source": [
    "### Normalizing the Data"
   ]
  },
  {
   "cell_type": "code",
   "execution_count": 29,
   "id": "804f4f1f",
   "metadata": {},
   "outputs": [
    {
     "data": {
      "text/html": [
       "<div>\n",
       "<style scoped>\n",
       "    .dataframe tbody tr th:only-of-type {\n",
       "        vertical-align: middle;\n",
       "    }\n",
       "\n",
       "    .dataframe tbody tr th {\n",
       "        vertical-align: top;\n",
       "    }\n",
       "\n",
       "    .dataframe thead th {\n",
       "        text-align: right;\n",
       "    }\n",
       "</style>\n",
       "<table border=\"1\" class=\"dataframe\">\n",
       "  <thead>\n",
       "    <tr style=\"text-align: right;\">\n",
       "      <th></th>\n",
       "      <th>LAND_SF</th>\n",
       "      <th>GROSS_AREA</th>\n",
       "      <th>TOTAL_VALUE</th>\n",
       "      <th>GROSS_TAX</th>\n",
       "      <th>YR_BUILT</th>\n",
       "      <th>YR_REMODEL</th>\n",
       "      <th>BED_RMS</th>\n",
       "      <th>FULL_BTH</th>\n",
       "      <th>HLF_BTH</th>\n",
       "      <th>KITCHENS</th>\n",
       "      <th>TT_RMS</th>\n",
       "      <th>FIREPLACES</th>\n",
       "      <th>NUM_PARKING</th>\n",
       "    </tr>\n",
       "  </thead>\n",
       "  <tbody>\n",
       "    <tr>\n",
       "      <th>count</th>\n",
       "      <td>6.102000e+03</td>\n",
       "      <td>4.412000e+03</td>\n",
       "      <td>6.168000e+03</td>\n",
       "      <td>6.168000e+03</td>\n",
       "      <td>4712.000000</td>\n",
       "      <td>6168.000000</td>\n",
       "      <td>6168.000000</td>\n",
       "      <td>5860.000000</td>\n",
       "      <td>5863.000000</td>\n",
       "      <td>5860.000000</td>\n",
       "      <td>3587.000000</td>\n",
       "      <td>5867.000000</td>\n",
       "      <td>3602.000000</td>\n",
       "    </tr>\n",
       "    <tr>\n",
       "      <th>mean</th>\n",
       "      <td>6.536939e+03</td>\n",
       "      <td>6.728926e+03</td>\n",
       "      <td>8.845384e+05</td>\n",
       "      <td>8.007587e+03</td>\n",
       "      <td>1931.382003</td>\n",
       "      <td>0.509565</td>\n",
       "      <td>4.140564</td>\n",
       "      <td>1.252218</td>\n",
       "      <td>0.216101</td>\n",
       "      <td>1.010068</td>\n",
       "      <td>8.810148</td>\n",
       "      <td>0.109426</td>\n",
       "      <td>1.256524</td>\n",
       "    </tr>\n",
       "    <tr>\n",
       "      <th>std</th>\n",
       "      <td>2.349873e+04</td>\n",
       "      <td>2.499295e+04</td>\n",
       "      <td>5.348318e+06</td>\n",
       "      <td>4.749592e+04</td>\n",
       "      <td>48.597722</td>\n",
       "      <td>0.723646</td>\n",
       "      <td>1.731120</td>\n",
       "      <td>1.270083</td>\n",
       "      <td>0.467504</td>\n",
       "      <td>1.028225</td>\n",
       "      <td>4.227816</td>\n",
       "      <td>0.474323</td>\n",
       "      <td>1.631658</td>\n",
       "    </tr>\n",
       "    <tr>\n",
       "      <th>min</th>\n",
       "      <td>1.070000e+02</td>\n",
       "      <td>4.200000e+01</td>\n",
       "      <td>0.000000e+00</td>\n",
       "      <td>0.000000e+00</td>\n",
       "      <td>1800.000000</td>\n",
       "      <td>0.000000</td>\n",
       "      <td>0.000000</td>\n",
       "      <td>0.000000</td>\n",
       "      <td>0.000000</td>\n",
       "      <td>0.000000</td>\n",
       "      <td>1.000000</td>\n",
       "      <td>0.000000</td>\n",
       "      <td>0.000000</td>\n",
       "    </tr>\n",
       "    <tr>\n",
       "      <th>25%</th>\n",
       "      <td>1.534000e+03</td>\n",
       "      <td>1.644000e+03</td>\n",
       "      <td>1.864000e+05</td>\n",
       "      <td>4.414125e+02</td>\n",
       "      <td>1899.000000</td>\n",
       "      <td>0.000000</td>\n",
       "      <td>3.000000</td>\n",
       "      <td>0.000000</td>\n",
       "      <td>0.000000</td>\n",
       "      <td>0.000000</td>\n",
       "      <td>5.000000</td>\n",
       "      <td>0.000000</td>\n",
       "      <td>0.000000</td>\n",
       "    </tr>\n",
       "    <tr>\n",
       "      <th>50%</th>\n",
       "      <td>2.690500e+03</td>\n",
       "      <td>3.423000e+03</td>\n",
       "      <td>4.706500e+05</td>\n",
       "      <td>4.879184e+03</td>\n",
       "      <td>1905.000000</td>\n",
       "      <td>0.000000</td>\n",
       "      <td>4.000000</td>\n",
       "      <td>1.000000</td>\n",
       "      <td>0.000000</td>\n",
       "      <td>1.000000</td>\n",
       "      <td>8.000000</td>\n",
       "      <td>0.000000</td>\n",
       "      <td>1.000000</td>\n",
       "    </tr>\n",
       "    <tr>\n",
       "      <th>75%</th>\n",
       "      <td>4.724750e+03</td>\n",
       "      <td>5.232500e+03</td>\n",
       "      <td>7.265250e+05</td>\n",
       "      <td>7.673220e+03</td>\n",
       "      <td>1989.000000</td>\n",
       "      <td>1.000000</td>\n",
       "      <td>4.000000</td>\n",
       "      <td>2.000000</td>\n",
       "      <td>0.000000</td>\n",
       "      <td>2.000000</td>\n",
       "      <td>12.000000</td>\n",
       "      <td>0.000000</td>\n",
       "      <td>2.000000</td>\n",
       "    </tr>\n",
       "    <tr>\n",
       "      <th>max</th>\n",
       "      <td>1.094663e+06</td>\n",
       "      <td>1.091717e+06</td>\n",
       "      <td>2.116593e+08</td>\n",
       "      <td>3.235462e+06</td>\n",
       "      <td>2022.000000</td>\n",
       "      <td>2.000000</td>\n",
       "      <td>14.000000</td>\n",
       "      <td>9.000000</td>\n",
       "      <td>3.000000</td>\n",
       "      <td>4.000000</td>\n",
       "      <td>20.000000</td>\n",
       "      <td>8.000000</td>\n",
       "      <td>16.000000</td>\n",
       "    </tr>\n",
       "  </tbody>\n",
       "</table>\n",
       "</div>"
      ],
      "text/plain": [
       "            LAND_SF    GROSS_AREA   TOTAL_VALUE     GROSS_TAX     YR_BUILT  \\\n",
       "count  6.102000e+03  4.412000e+03  6.168000e+03  6.168000e+03  4712.000000   \n",
       "mean   6.536939e+03  6.728926e+03  8.845384e+05  8.007587e+03  1931.382003   \n",
       "std    2.349873e+04  2.499295e+04  5.348318e+06  4.749592e+04    48.597722   \n",
       "min    1.070000e+02  4.200000e+01  0.000000e+00  0.000000e+00  1800.000000   \n",
       "25%    1.534000e+03  1.644000e+03  1.864000e+05  4.414125e+02  1899.000000   \n",
       "50%    2.690500e+03  3.423000e+03  4.706500e+05  4.879184e+03  1905.000000   \n",
       "75%    4.724750e+03  5.232500e+03  7.265250e+05  7.673220e+03  1989.000000   \n",
       "max    1.094663e+06  1.091717e+06  2.116593e+08  3.235462e+06  2022.000000   \n",
       "\n",
       "        YR_REMODEL      BED_RMS     FULL_BTH      HLF_BTH     KITCHENS  \\\n",
       "count  6168.000000  6168.000000  5860.000000  5863.000000  5860.000000   \n",
       "mean      0.509565     4.140564     1.252218     0.216101     1.010068   \n",
       "std       0.723646     1.731120     1.270083     0.467504     1.028225   \n",
       "min       0.000000     0.000000     0.000000     0.000000     0.000000   \n",
       "25%       0.000000     3.000000     0.000000     0.000000     0.000000   \n",
       "50%       0.000000     4.000000     1.000000     0.000000     1.000000   \n",
       "75%       1.000000     4.000000     2.000000     0.000000     2.000000   \n",
       "max       2.000000    14.000000     9.000000     3.000000     4.000000   \n",
       "\n",
       "            TT_RMS   FIREPLACES  NUM_PARKING  \n",
       "count  3587.000000  5867.000000  3602.000000  \n",
       "mean      8.810148     0.109426     1.256524  \n",
       "std       4.227816     0.474323     1.631658  \n",
       "min       1.000000     0.000000     0.000000  \n",
       "25%       5.000000     0.000000     0.000000  \n",
       "50%       8.000000     0.000000     1.000000  \n",
       "75%      12.000000     0.000000     2.000000  \n",
       "max      20.000000     8.000000    16.000000  "
      ]
     },
     "execution_count": 29,
     "metadata": {},
     "output_type": "execute_result"
    }
   ],
   "source": [
    "house_df.describe()"
   ]
  },
  {
   "cell_type": "code",
   "execution_count": 30,
   "id": "a2d25e0c",
   "metadata": {},
   "outputs": [],
   "source": [
    "house_df_v2=house_df.dropna()"
   ]
  },
  {
   "cell_type": "code",
   "execution_count": 31,
   "id": "18d3ea31",
   "metadata": {},
   "outputs": [
    {
     "name": "stderr",
     "output_type": "stream",
     "text": [
      "c:\\ProgramData\\Anaconda3\\lib\\site-packages\\pandas\\core\\frame.py:4308: SettingWithCopyWarning: \n",
      "A value is trying to be set on a copy of a slice from a DataFrame\n",
      "\n",
      "See the caveats in the documentation: https://pandas.pydata.org/pandas-docs/stable/user_guide/indexing.html#returning-a-view-versus-a-copy\n",
      "  return super().drop(\n"
     ]
    }
   ],
   "source": [
    "house_df_v2.drop(['LU','HEAT_TYPE','PROP_VIEW'], axis=1, inplace=True)\n"
   ]
  },
  {
   "cell_type": "code",
   "execution_count": 32,
   "id": "0dd6ccab",
   "metadata": {},
   "outputs": [],
   "source": [
    "normalized_house_df=(house_df_v2-house_df_v2.mean())/house_df_v2.std()"
   ]
  },
  {
   "cell_type": "code",
   "execution_count": 33,
   "id": "408f1852",
   "metadata": {},
   "outputs": [
    {
     "data": {
      "text/html": [
       "<div>\n",
       "<style scoped>\n",
       "    .dataframe tbody tr th:only-of-type {\n",
       "        vertical-align: middle;\n",
       "    }\n",
       "\n",
       "    .dataframe tbody tr th {\n",
       "        vertical-align: top;\n",
       "    }\n",
       "\n",
       "    .dataframe thead th {\n",
       "        text-align: right;\n",
       "    }\n",
       "</style>\n",
       "<table border=\"1\" class=\"dataframe\">\n",
       "  <thead>\n",
       "    <tr style=\"text-align: right;\">\n",
       "      <th></th>\n",
       "      <th>LAND_SF</th>\n",
       "      <th>GROSS_AREA</th>\n",
       "      <th>TOTAL_VALUE</th>\n",
       "      <th>GROSS_TAX</th>\n",
       "      <th>YR_BUILT</th>\n",
       "      <th>YR_REMODEL</th>\n",
       "      <th>BED_RMS</th>\n",
       "      <th>FULL_BTH</th>\n",
       "      <th>HLF_BTH</th>\n",
       "      <th>KITCHENS</th>\n",
       "      <th>TT_RMS</th>\n",
       "      <th>FIREPLACES</th>\n",
       "      <th>NUM_PARKING</th>\n",
       "    </tr>\n",
       "  </thead>\n",
       "  <tbody>\n",
       "    <tr>\n",
       "      <th>count</th>\n",
       "      <td>3.582000e+03</td>\n",
       "      <td>3.582000e+03</td>\n",
       "      <td>3.582000e+03</td>\n",
       "      <td>3.582000e+03</td>\n",
       "      <td>3.582000e+03</td>\n",
       "      <td>3.582000e+03</td>\n",
       "      <td>3.582000e+03</td>\n",
       "      <td>3.582000e+03</td>\n",
       "      <td>3.582000e+03</td>\n",
       "      <td>3.582000e+03</td>\n",
       "      <td>3.582000e+03</td>\n",
       "      <td>3.582000e+03</td>\n",
       "      <td>3.582000e+03</td>\n",
       "    </tr>\n",
       "    <tr>\n",
       "      <th>mean</th>\n",
       "      <td>1.542286e-16</td>\n",
       "      <td>-8.759046e-17</td>\n",
       "      <td>-3.555069e-17</td>\n",
       "      <td>1.102395e-14</td>\n",
       "      <td>-2.111717e-15</td>\n",
       "      <td>-1.861220e-15</td>\n",
       "      <td>-1.439447e-15</td>\n",
       "      <td>1.884078e-16</td>\n",
       "      <td>-1.922899e-16</td>\n",
       "      <td>1.660127e-15</td>\n",
       "      <td>7.915996e-16</td>\n",
       "      <td>4.449881e-16</td>\n",
       "      <td>-2.619810e-16</td>\n",
       "    </tr>\n",
       "    <tr>\n",
       "      <th>std</th>\n",
       "      <td>1.000000e+00</td>\n",
       "      <td>1.000000e+00</td>\n",
       "      <td>1.000000e+00</td>\n",
       "      <td>1.000000e+00</td>\n",
       "      <td>1.000000e+00</td>\n",
       "      <td>1.000000e+00</td>\n",
       "      <td>1.000000e+00</td>\n",
       "      <td>1.000000e+00</td>\n",
       "      <td>1.000000e+00</td>\n",
       "      <td>1.000000e+00</td>\n",
       "      <td>1.000000e+00</td>\n",
       "      <td>1.000000e+00</td>\n",
       "      <td>1.000000e+00</td>\n",
       "    </tr>\n",
       "    <tr>\n",
       "      <th>min</th>\n",
       "      <td>-1.062483e+00</td>\n",
       "      <td>-1.464176e+00</td>\n",
       "      <td>-1.885607e+00</td>\n",
       "      <td>-2.279851e+00</td>\n",
       "      <td>-2.609426e+00</td>\n",
       "      <td>-8.630169e-01</td>\n",
       "      <td>-1.874633e+00</td>\n",
       "      <td>-2.027054e+00</td>\n",
       "      <td>-6.345517e-01</td>\n",
       "      <td>-7.891397e-01</td>\n",
       "      <td>-1.848330e+00</td>\n",
       "      <td>-2.995928e-01</td>\n",
       "      <td>-7.720426e-01</td>\n",
       "    </tr>\n",
       "    <tr>\n",
       "      <th>25%</th>\n",
       "      <td>-6.571947e-01</td>\n",
       "      <td>-9.130839e-01</td>\n",
       "      <td>-7.274630e-01</td>\n",
       "      <td>-6.869290e-01</td>\n",
       "      <td>-7.929844e-01</td>\n",
       "      <td>-8.630169e-01</td>\n",
       "      <td>-5.485317e-01</td>\n",
       "      <td>-1.034584e+00</td>\n",
       "      <td>-6.345517e-01</td>\n",
       "      <td>-7.891397e-01</td>\n",
       "      <td>-9.017019e-01</td>\n",
       "      <td>-2.995928e-01</td>\n",
       "      <td>-7.720426e-01</td>\n",
       "    </tr>\n",
       "    <tr>\n",
       "      <th>50%</th>\n",
       "      <td>-2.703080e-01</td>\n",
       "      <td>-8.843240e-02</td>\n",
       "      <td>-1.192782e-01</td>\n",
       "      <td>-9.466918e-02</td>\n",
       "      <td>-4.902442e-01</td>\n",
       "      <td>-8.630169e-01</td>\n",
       "      <td>-1.064978e-01</td>\n",
       "      <td>-4.211484e-02</td>\n",
       "      <td>-6.345517e-01</td>\n",
       "      <td>-7.891397e-01</td>\n",
       "      <td>-1.917306e-01</td>\n",
       "      <td>-2.995928e-01</td>\n",
       "      <td>-1.570867e-01</td>\n",
       "    </tr>\n",
       "    <tr>\n",
       "      <th>75%</th>\n",
       "      <td>3.926096e-01</td>\n",
       "      <td>6.823570e-01</td>\n",
       "      <td>5.860373e-01</td>\n",
       "      <td>5.907061e-01</td>\n",
       "      <td>1.205101e+00</td>\n",
       "      <td>5.066448e-01</td>\n",
       "      <td>7.775699e-01</td>\n",
       "      <td>9.503545e-01</td>\n",
       "      <td>1.165103e+00</td>\n",
       "      <td>4.276913e-01</td>\n",
       "      <td>7.548978e-01</td>\n",
       "      <td>-2.995928e-01</td>\n",
       "      <td>4.578691e-01</td>\n",
       "    </tr>\n",
       "    <tr>\n",
       "      <th>max</th>\n",
       "      <td>1.393985e+01</td>\n",
       "      <td>4.152280e+00</td>\n",
       "      <td>7.287246e+00</td>\n",
       "      <td>7.149826e+00</td>\n",
       "      <td>1.871130e+00</td>\n",
       "      <td>1.876307e+00</td>\n",
       "      <td>4.313841e+00</td>\n",
       "      <td>6.905171e+00</td>\n",
       "      <td>4.764413e+00</td>\n",
       "      <td>2.861353e+00</td>\n",
       "      <td>2.648155e+00</td>\n",
       "      <td>1.311468e+01</td>\n",
       "      <td>9.067251e+00</td>\n",
       "    </tr>\n",
       "  </tbody>\n",
       "</table>\n",
       "</div>"
      ],
      "text/plain": [
       "            LAND_SF    GROSS_AREA   TOTAL_VALUE     GROSS_TAX      YR_BUILT  \\\n",
       "count  3.582000e+03  3.582000e+03  3.582000e+03  3.582000e+03  3.582000e+03   \n",
       "mean   1.542286e-16 -8.759046e-17 -3.555069e-17  1.102395e-14 -2.111717e-15   \n",
       "std    1.000000e+00  1.000000e+00  1.000000e+00  1.000000e+00  1.000000e+00   \n",
       "min   -1.062483e+00 -1.464176e+00 -1.885607e+00 -2.279851e+00 -2.609426e+00   \n",
       "25%   -6.571947e-01 -9.130839e-01 -7.274630e-01 -6.869290e-01 -7.929844e-01   \n",
       "50%   -2.703080e-01 -8.843240e-02 -1.192782e-01 -9.466918e-02 -4.902442e-01   \n",
       "75%    3.926096e-01  6.823570e-01  5.860373e-01  5.907061e-01  1.205101e+00   \n",
       "max    1.393985e+01  4.152280e+00  7.287246e+00  7.149826e+00  1.871130e+00   \n",
       "\n",
       "         YR_REMODEL       BED_RMS      FULL_BTH       HLF_BTH      KITCHENS  \\\n",
       "count  3.582000e+03  3.582000e+03  3.582000e+03  3.582000e+03  3.582000e+03   \n",
       "mean  -1.861220e-15 -1.439447e-15  1.884078e-16 -1.922899e-16  1.660127e-15   \n",
       "std    1.000000e+00  1.000000e+00  1.000000e+00  1.000000e+00  1.000000e+00   \n",
       "min   -8.630169e-01 -1.874633e+00 -2.027054e+00 -6.345517e-01 -7.891397e-01   \n",
       "25%   -8.630169e-01 -5.485317e-01 -1.034584e+00 -6.345517e-01 -7.891397e-01   \n",
       "50%   -8.630169e-01 -1.064978e-01 -4.211484e-02 -6.345517e-01 -7.891397e-01   \n",
       "75%    5.066448e-01  7.775699e-01  9.503545e-01  1.165103e+00  4.276913e-01   \n",
       "max    1.876307e+00  4.313841e+00  6.905171e+00  4.764413e+00  2.861353e+00   \n",
       "\n",
       "             TT_RMS    FIREPLACES   NUM_PARKING  \n",
       "count  3.582000e+03  3.582000e+03  3.582000e+03  \n",
       "mean   7.915996e-16  4.449881e-16 -2.619810e-16  \n",
       "std    1.000000e+00  1.000000e+00  1.000000e+00  \n",
       "min   -1.848330e+00 -2.995928e-01 -7.720426e-01  \n",
       "25%   -9.017019e-01 -2.995928e-01 -7.720426e-01  \n",
       "50%   -1.917306e-01 -2.995928e-01 -1.570867e-01  \n",
       "75%    7.548978e-01 -2.995928e-01  4.578691e-01  \n",
       "max    2.648155e+00  1.311468e+01  9.067251e+00  "
      ]
     },
     "execution_count": 33,
     "metadata": {},
     "output_type": "execute_result"
    }
   ],
   "source": [
    "normalized_house_df.describe()"
   ]
  },
  {
   "cell_type": "markdown",
   "id": "f75e40f7",
   "metadata": {},
   "source": [
    "# Regression"
   ]
  },
  {
   "cell_type": "code",
   "execution_count": 34,
   "id": "58292d35",
   "metadata": {},
   "outputs": [
    {
     "data": {
      "text/plain": [
       "Text(0.5, 1.0, 'Relationship between SP500 and Apple')"
      ]
     },
     "execution_count": 34,
     "metadata": {},
     "output_type": "execute_result"
    },
    {
     "data": {
      "image/png": "[encoded data removed]",
      "text/plain": [
       "<Figure size 432x288 with 1 Axes>"
      ]
     },
     "metadata": {
      "needs_background": "light"
     },
     "output_type": "display_data"
    }
   ],
   "source": [
    "import seaborn as sns\n",
    "import matplotlib.pyplot as plt\n",
    "sns.regplot(x='Spx',y='Apple', data=returns_df)\n",
    "plt.xlabel('SP500 Returns')\n",
    "plt.ylabel('Apple Returns')\n",
    "plt.title ('Relationship between SP500 and Apple')"
   ]
  },
  {
   "cell_type": "markdown",
   "id": "b1efa67d",
   "metadata": {},
   "source": [
    "# (OPTIONAL) Machine Learning Approach"
   ]
  },
  {
   "cell_type": "code",
   "execution_count": 35,
   "id": "a64f12fe",
   "metadata": {},
   "outputs": [],
   "source": [
    "from sklearn.model_selection import train_test_split\n",
    "from sklearn.linear_model import LinearRegression"
   ]
  },
  {
   "cell_type": "code",
   "execution_count": 36,
   "id": "3259ecb7",
   "metadata": {},
   "outputs": [],
   "source": [
    "excludeColumns=('Amazon','Date','Msft','Ibm','Apple')\n",
    "predictors=[s for s in returns_df.columns if s not in excludeColumns]\n",
    "outcome='Apple'\n",
    "\n",
    "X=returns_df[predictors]\n",
    "y=returns_df[outcome]"
   ]
  },
  {
   "cell_type": "code",
   "execution_count": 37,
   "id": "956ef97d",
   "metadata": {},
   "outputs": [],
   "source": [
    "X_train, X_test, y_train, y_test = train_test_split(X, y, test_size=0.4, random_state=101)"
   ]
  },
  {
   "cell_type": "code",
   "execution_count": 38,
   "id": "e79aea93",
   "metadata": {},
   "outputs": [],
   "source": [
    "model=LinearRegression()\n",
    "model.fit(X_train,y_train)\n",
    "y_pred=model.predict(X_train)"
   ]
  },
  {
   "cell_type": "code",
   "execution_count": 39,
   "id": "aad3c211",
   "metadata": {},
   "outputs": [
    {
     "name": "stdout",
     "output_type": "stream",
     "text": [
      "         Apple  predicted  residual\n",
      "1884  0.019234   0.005594  0.013639\n",
      "360  -0.007588  -0.005349 -0.002239\n",
      "1814  0.007712   0.004771  0.002941\n",
      "1649 -0.016099  -0.033253  0.017153\n",
      "412   0.001231   0.003065 -0.001834\n"
     ]
    }
   ],
   "source": [
    "train_results = pd.DataFrame({\n",
    "    'Apple': y_train,\n",
    "    'predicted': y_pred,\n",
    "    'residual': y_train - y_pred\n",
    "})\n",
    "print(train_results.head())"
   ]
  },
  {
   "cell_type": "code",
   "execution_count": 40,
   "id": "0f7aa292",
   "metadata": {},
   "outputs": [
    {
     "data": {
      "text/plain": [
       "1884    0.019234\n",
       "360    -0.007588\n",
       "1814    0.007712\n",
       "1649   -0.016099\n",
       "412     0.001231\n",
       "Name: Apple, dtype: float64"
      ]
     },
     "execution_count": 40,
     "metadata": {},
     "output_type": "execute_result"
    }
   ],
   "source": [
    "y_train.head()"
   ]
  },
  {
   "cell_type": "code",
   "execution_count": 41,
   "id": "3c04e2b7",
   "metadata": {},
   "outputs": [
    {
     "data": {
      "text/html": [
       "<div>\n",
       "<style scoped>\n",
       "    .dataframe tbody tr th:only-of-type {\n",
       "        vertical-align: middle;\n",
       "    }\n",
       "\n",
       "    .dataframe tbody tr th {\n",
       "        vertical-align: top;\n",
       "    }\n",
       "\n",
       "    .dataframe thead th {\n",
       "        text-align: right;\n",
       "    }\n",
       "</style>\n",
       "<table border=\"1\" class=\"dataframe\">\n",
       "  <thead>\n",
       "    <tr style=\"text-align: right;\">\n",
       "      <th></th>\n",
       "      <th>Spx</th>\n",
       "    </tr>\n",
       "  </thead>\n",
       "  <tbody>\n",
       "    <tr>\n",
       "      <th>1884</th>\n",
       "      <td>0.004221</td>\n",
       "    </tr>\n",
       "    <tr>\n",
       "      <th>360</th>\n",
       "      <td>-0.004873</td>\n",
       "    </tr>\n",
       "    <tr>\n",
       "      <th>1814</th>\n",
       "      <td>0.003537</td>\n",
       "    </tr>\n",
       "    <tr>\n",
       "      <th>1649</th>\n",
       "      <td>-0.028059</td>\n",
       "    </tr>\n",
       "    <tr>\n",
       "      <th>412</th>\n",
       "      <td>0.002119</td>\n",
       "    </tr>\n",
       "  </tbody>\n",
       "</table>\n",
       "</div>"
      ],
      "text/plain": [
       "           Spx\n",
       "1884  0.004221\n",
       "360  -0.004873\n",
       "1814  0.003537\n",
       "1649 -0.028059\n",
       "412   0.002119"
      ]
     },
     "execution_count": 41,
     "metadata": {},
     "output_type": "execute_result"
    }
   ],
   "source": [
    "X_train.head()"
   ]
  },
  {
   "cell_type": "code",
   "execution_count": 42,
   "id": "f75c6218",
   "metadata": {},
   "outputs": [
    {
     "name": "stdout",
     "output_type": "stream",
     "text": [
      "Intercept: 0.0005150114272375969\n",
      "Slope: [1.20344529]\n"
     ]
    }
   ],
   "source": [
    "print('Intercept:',model.intercept_)\n",
    "print('Slope:',model.coef_)"
   ]
  },
  {
   "cell_type": "code",
   "execution_count": 43,
   "id": "e51e757b",
   "metadata": {},
   "outputs": [
    {
     "name": "stdout",
     "output_type": "stream",
     "text": [
      "         Apple  predicted  residual\n",
      "994  -0.009779   0.001295 -0.011074\n",
      "2406 -0.009913  -0.008172 -0.001741\n",
      "321   0.026016   0.018891  0.007124\n",
      "1612  0.072022   0.059961  0.012061\n",
      "212   0.004923   0.000441  0.004482\n"
     ]
    }
   ],
   "source": [
    "valid_pred = model.predict(X_test)\n",
    "valid_results = pd.DataFrame({\n",
    "    'Apple': y_test,\n",
    "    'predicted': valid_pred,\n",
    "    'residual': y_test - valid_pred\n",
    "})\n",
    "print(valid_results.head())"
   ]
  },
  {
   "cell_type": "code",
   "execution_count": 44,
   "id": "45c49a2a",
   "metadata": {},
   "outputs": [
    {
     "name": "stdout",
     "output_type": "stream",
     "text": [
      "Training set r2:  0.5608262941008804\n",
      "Validation set r2:  0.5212017769522648\n"
     ]
    }
   ],
   "source": [
    "from sklearn.metrics import r2_score\n",
    "print('Training set r2: ', r2_score(train_results.Apple, train_results.predicted))\n",
    "print('Validation set r2: ', r2_score(valid_results.Apple, valid_results.predicted))"
   ]
  },
  {
   "cell_type": "markdown",
   "id": "7d352e33",
   "metadata": {},
   "source": [
    "# Mean Squared Error"
   ]
  },
  {
   "cell_type": "code",
   "execution_count": 45,
   "id": "0eb9d1f4",
   "metadata": {},
   "outputs": [
    {
     "name": "stdout",
     "output_type": "stream",
     "text": [
      "Mean Squared Error:  0.00014305699435155047\n"
     ]
    }
   ],
   "source": [
    "# Evaluate the model's performance\n",
    "from sklearn.metrics import mean_squared_error\n",
    "mse = mean_squared_error(y_test, valid_pred)\n",
    "print(\"Mean Squared Error: \", mse)"
   ]
  },
  {
   "cell_type": "code",
   "execution_count": 46,
   "id": "00aff742",
   "metadata": {},
   "outputs": [],
   "source": [
    "# This code is prepared by Biniam Abebe"
   ]
  },
  {
   "cell_type": "code",
   "execution_count": null,
   "id": "c16c73f3",
   "metadata": {},
   "outputs": [],
   "source": []
  }
 ],
 "metadata": {
  "kernelspec": {
   "display_name": "Python 3 (ipykernel)",
   "language": "python",
   "name": "python3"
  },
  "language_info": {
   "codemirror_mode": {
    "name": "ipython",
    "version": 3
   },
   "file_extension": ".py",
   "mimetype": "text/x-python",
   "name": "python",
   "nbconvert_exporter": "python",
   "pygments_lexer": "ipython3",
   "version": "3.8.8"
  }
 },
 "nbformat": 4,
 "nbformat_minor": 5
}
