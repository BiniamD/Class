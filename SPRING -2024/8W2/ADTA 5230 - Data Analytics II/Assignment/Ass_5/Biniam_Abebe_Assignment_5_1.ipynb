{
 "cells": [
  {
   "cell_type": "markdown",
   "id": "4be52370",
   "metadata": {},
   "source": [
    "<div style=\"text-align: center\"><strong>Biniam Abebe</strong> </div>"
   ]
  },
  {
   "cell_type": "markdown",
   "id": "c5f2e992",
   "metadata": {},
   "source": [
    "<div style=\"text-align: left\"><strong>Datasets:</strong> </div>\n",
    "<br> loan_credit.xlsx"
   ]
  },
  {
   "cell_type": "code",
   "execution_count": 1,
   "id": "dc13a387",
   "metadata": {},
   "outputs": [],
   "source": [
    "import pandas as pd\n",
    "import numpy as np\n",
    "import seaborn as sns\n",
    "from sklearn.tree import DecisionTreeClassifier, DecisionTreeRegressor, plot_tree\n",
    "from sklearn.ensemble import RandomForestClassifier, GradientBoostingClassifier\n",
    "from sklearn.model_selection import train_test_split, cross_val_score, GridSearchCV\n",
    "import matplotlib.pylab as plt\n",
    "from matplotlib.pyplot import subplots\n",
    "%matplotlib inline"
   ]
  },
  {
   "cell_type": "code",
   "execution_count": 2,
   "id": "eb6b8d68",
   "metadata": {
    "scrolled": true
   },
   "outputs": [
    {
     "data": {
      "text/html": [
       "<div>\n",
       "<style scoped>\n",
       "    .dataframe tbody tr th:only-of-type {\n",
       "        vertical-align: middle;\n",
       "    }\n",
       "\n",
       "    .dataframe tbody tr th {\n",
       "        vertical-align: top;\n",
       "    }\n",
       "\n",
       "    .dataframe thead th {\n",
       "        text-align: right;\n",
       "    }\n",
       "</style>\n",
       "<table border=\"1\" class=\"dataframe\">\n",
       "  <thead>\n",
       "    <tr style=\"text-align: right;\">\n",
       "      <th></th>\n",
       "      <th>Customer ID</th>\n",
       "      <th>Loan Status</th>\n",
       "      <th>Loan Amount</th>\n",
       "      <th>Term</th>\n",
       "      <th>Credit Score</th>\n",
       "      <th>Income</th>\n",
       "      <th>Years_in_job</th>\n",
       "      <th>Home Ownership</th>\n",
       "      <th>Purpose</th>\n",
       "      <th>Monthly Debt</th>\n",
       "      <th>Years of Credit History</th>\n",
       "      <th>Number of Open Accounts</th>\n",
       "      <th>Number of Credit Problems</th>\n",
       "      <th>Current Credit Balance</th>\n",
       "      <th>Maximum Open Credit</th>\n",
       "      <th>Bankruptcies</th>\n",
       "      <th>Tax Liens</th>\n",
       "    </tr>\n",
       "  </thead>\n",
       "  <tbody>\n",
       "    <tr>\n",
       "      <th>0</th>\n",
       "      <td>1</td>\n",
       "      <td>Fully Paid</td>\n",
       "      <td>601.0</td>\n",
       "      <td>Short Term</td>\n",
       "      <td>746.0</td>\n",
       "      <td>1512248.0</td>\n",
       "      <td>10.0</td>\n",
       "      <td>Home Mortgage</td>\n",
       "      <td>Debt Consolidation</td>\n",
       "      <td>21297.48</td>\n",
       "      <td>33.0</td>\n",
       "      <td>12</td>\n",
       "      <td>0</td>\n",
       "      <td>390773</td>\n",
       "      <td>1023660</td>\n",
       "      <td>0.0</td>\n",
       "      <td>0</td>\n",
       "    </tr>\n",
       "    <tr>\n",
       "      <th>1</th>\n",
       "      <td>2</td>\n",
       "      <td>Fully Paid</td>\n",
       "      <td>605.0</td>\n",
       "      <td>Short Term</td>\n",
       "      <td>736.0</td>\n",
       "      <td>1231922.0</td>\n",
       "      <td>10.0</td>\n",
       "      <td>Home Mortgage</td>\n",
       "      <td>Debt Consolidation</td>\n",
       "      <td>21147.76</td>\n",
       "      <td>17.2</td>\n",
       "      <td>9</td>\n",
       "      <td>0</td>\n",
       "      <td>346921</td>\n",
       "      <td>486926</td>\n",
       "      <td>0.0</td>\n",
       "      <td>0</td>\n",
       "    </tr>\n",
       "    <tr>\n",
       "      <th>2</th>\n",
       "      <td>3</td>\n",
       "      <td>Fully Paid</td>\n",
       "      <td>636.0</td>\n",
       "      <td>Short Term</td>\n",
       "      <td>747.0</td>\n",
       "      <td>592496.0</td>\n",
       "      <td>10.0</td>\n",
       "      <td>Home Mortgage</td>\n",
       "      <td>Debt Consolidation</td>\n",
       "      <td>10319.28</td>\n",
       "      <td>24.0</td>\n",
       "      <td>17</td>\n",
       "      <td>0</td>\n",
       "      <td>332956</td>\n",
       "      <td>1208570</td>\n",
       "      <td>0.0</td>\n",
       "      <td>0</td>\n",
       "    </tr>\n",
       "    <tr>\n",
       "      <th>3</th>\n",
       "      <td>4</td>\n",
       "      <td>Fully Paid</td>\n",
       "      <td>691.0</td>\n",
       "      <td>Short Term</td>\n",
       "      <td>709.0</td>\n",
       "      <td>558999.0</td>\n",
       "      <td>2.0</td>\n",
       "      <td>Rent</td>\n",
       "      <td>Debt Consolidation</td>\n",
       "      <td>4276.33</td>\n",
       "      <td>9.7</td>\n",
       "      <td>12</td>\n",
       "      <td>0</td>\n",
       "      <td>169613</td>\n",
       "      <td>287122</td>\n",
       "      <td>0.0</td>\n",
       "      <td>0</td>\n",
       "    </tr>\n",
       "    <tr>\n",
       "      <th>4</th>\n",
       "      <td>5</td>\n",
       "      <td>Fully Paid</td>\n",
       "      <td>670.0</td>\n",
       "      <td>Short Term</td>\n",
       "      <td>747.0</td>\n",
       "      <td>1640821.0</td>\n",
       "      <td>10.0</td>\n",
       "      <td>Home Mortgage</td>\n",
       "      <td>Debt Consolidation</td>\n",
       "      <td>33636.84</td>\n",
       "      <td>21.8</td>\n",
       "      <td>11</td>\n",
       "      <td>0</td>\n",
       "      <td>1013118</td>\n",
       "      <td>1393194</td>\n",
       "      <td>0.0</td>\n",
       "      <td>0</td>\n",
       "    </tr>\n",
       "  </tbody>\n",
       "</table>\n",
       "</div>"
      ],
      "text/plain": [
       "   Customer ID Loan Status  Loan Amount        Term  Credit Score     Income  \\\n",
       "0            1  Fully Paid        601.0  Short Term         746.0  1512248.0   \n",
       "1            2  Fully Paid        605.0  Short Term         736.0  1231922.0   \n",
       "2            3  Fully Paid        636.0  Short Term         747.0   592496.0   \n",
       "3            4  Fully Paid        691.0  Short Term         709.0   558999.0   \n",
       "4            5  Fully Paid        670.0  Short Term         747.0  1640821.0   \n",
       "\n",
       "   Years_in_job Home Ownership             Purpose  Monthly Debt  \\\n",
       "0          10.0  Home Mortgage  Debt Consolidation      21297.48   \n",
       "1          10.0  Home Mortgage  Debt Consolidation      21147.76   \n",
       "2          10.0  Home Mortgage  Debt Consolidation      10319.28   \n",
       "3           2.0           Rent  Debt Consolidation       4276.33   \n",
       "4          10.0  Home Mortgage  Debt Consolidation      33636.84   \n",
       "\n",
       "   Years of Credit History  Number of Open Accounts  \\\n",
       "0                     33.0                       12   \n",
       "1                     17.2                        9   \n",
       "2                     24.0                       17   \n",
       "3                      9.7                       12   \n",
       "4                     21.8                       11   \n",
       "\n",
       "   Number of Credit Problems  Current Credit Balance  Maximum Open Credit  \\\n",
       "0                          0                  390773              1023660   \n",
       "1                          0                  346921               486926   \n",
       "2                          0                  332956              1208570   \n",
       "3                          0                  169613               287122   \n",
       "4                          0                 1013118              1393194   \n",
       "\n",
       "   Bankruptcies  Tax Liens  \n",
       "0           0.0          0  \n",
       "1           0.0          0  \n",
       "2           0.0          0  \n",
       "3           0.0          0  \n",
       "4           0.0          0  "
      ]
     },
     "execution_count": 2,
     "metadata": {},
     "output_type": "execute_result"
    }
   ],
   "source": [
    "#Load Data\n",
    "credit_df=pd.read_excel('loan_credit.xlsx')\n",
    "credit_df=credit_df.dropna()\n",
    "credit_df.head()"
   ]
  },
  {
   "cell_type": "code",
   "execution_count": 3,
   "id": "d742e3b9",
   "metadata": {},
   "outputs": [
    {
     "data": {
      "text/html": [
       "<div>\n",
       "<style scoped>\n",
       "    .dataframe tbody tr th:only-of-type {\n",
       "        vertical-align: middle;\n",
       "    }\n",
       "\n",
       "    .dataframe tbody tr th {\n",
       "        vertical-align: top;\n",
       "    }\n",
       "\n",
       "    .dataframe thead th {\n",
       "        text-align: right;\n",
       "    }\n",
       "</style>\n",
       "<table border=\"1\" class=\"dataframe\">\n",
       "  <thead>\n",
       "    <tr style=\"text-align: right;\">\n",
       "      <th></th>\n",
       "      <th>Loan Amount</th>\n",
       "      <th>Credit Score</th>\n",
       "      <th>Income</th>\n",
       "      <th>Years_in_job</th>\n",
       "      <th>Monthly Debt</th>\n",
       "      <th>Years of Credit History</th>\n",
       "      <th>Number of Open Accounts</th>\n",
       "      <th>Number of Credit Problems</th>\n",
       "      <th>Current Credit Balance</th>\n",
       "      <th>Maximum Open Credit</th>\n",
       "      <th>Bankruptcies</th>\n",
       "      <th>Tax Liens</th>\n",
       "      <th>Loan_Dummy</th>\n",
       "      <th>Term_Dummy</th>\n",
       "    </tr>\n",
       "  </thead>\n",
       "  <tbody>\n",
       "    <tr>\n",
       "      <th>0</th>\n",
       "      <td>601.0</td>\n",
       "      <td>746.0</td>\n",
       "      <td>1512248.0</td>\n",
       "      <td>10.0</td>\n",
       "      <td>21297.48</td>\n",
       "      <td>33.0</td>\n",
       "      <td>12</td>\n",
       "      <td>0</td>\n",
       "      <td>390773</td>\n",
       "      <td>1023660</td>\n",
       "      <td>0.0</td>\n",
       "      <td>0</td>\n",
       "      <td>1</td>\n",
       "      <td>1</td>\n",
       "    </tr>\n",
       "    <tr>\n",
       "      <th>1</th>\n",
       "      <td>605.0</td>\n",
       "      <td>736.0</td>\n",
       "      <td>1231922.0</td>\n",
       "      <td>10.0</td>\n",
       "      <td>21147.76</td>\n",
       "      <td>17.2</td>\n",
       "      <td>9</td>\n",
       "      <td>0</td>\n",
       "      <td>346921</td>\n",
       "      <td>486926</td>\n",
       "      <td>0.0</td>\n",
       "      <td>0</td>\n",
       "      <td>1</td>\n",
       "      <td>1</td>\n",
       "    </tr>\n",
       "    <tr>\n",
       "      <th>2</th>\n",
       "      <td>636.0</td>\n",
       "      <td>747.0</td>\n",
       "      <td>592496.0</td>\n",
       "      <td>10.0</td>\n",
       "      <td>10319.28</td>\n",
       "      <td>24.0</td>\n",
       "      <td>17</td>\n",
       "      <td>0</td>\n",
       "      <td>332956</td>\n",
       "      <td>1208570</td>\n",
       "      <td>0.0</td>\n",
       "      <td>0</td>\n",
       "      <td>1</td>\n",
       "      <td>1</td>\n",
       "    </tr>\n",
       "    <tr>\n",
       "      <th>3</th>\n",
       "      <td>691.0</td>\n",
       "      <td>709.0</td>\n",
       "      <td>558999.0</td>\n",
       "      <td>2.0</td>\n",
       "      <td>4276.33</td>\n",
       "      <td>9.7</td>\n",
       "      <td>12</td>\n",
       "      <td>0</td>\n",
       "      <td>169613</td>\n",
       "      <td>287122</td>\n",
       "      <td>0.0</td>\n",
       "      <td>0</td>\n",
       "      <td>1</td>\n",
       "      <td>1</td>\n",
       "    </tr>\n",
       "    <tr>\n",
       "      <th>4</th>\n",
       "      <td>670.0</td>\n",
       "      <td>747.0</td>\n",
       "      <td>1640821.0</td>\n",
       "      <td>10.0</td>\n",
       "      <td>33636.84</td>\n",
       "      <td>21.8</td>\n",
       "      <td>11</td>\n",
       "      <td>0</td>\n",
       "      <td>1013118</td>\n",
       "      <td>1393194</td>\n",
       "      <td>0.0</td>\n",
       "      <td>0</td>\n",
       "      <td>1</td>\n",
       "      <td>1</td>\n",
       "    </tr>\n",
       "  </tbody>\n",
       "</table>\n",
       "</div>"
      ],
      "text/plain": [
       "   Loan Amount  Credit Score     Income  Years_in_job  Monthly Debt  \\\n",
       "0        601.0         746.0  1512248.0          10.0      21297.48   \n",
       "1        605.0         736.0  1231922.0          10.0      21147.76   \n",
       "2        636.0         747.0   592496.0          10.0      10319.28   \n",
       "3        691.0         709.0   558999.0           2.0       4276.33   \n",
       "4        670.0         747.0  1640821.0          10.0      33636.84   \n",
       "\n",
       "   Years of Credit History  Number of Open Accounts  \\\n",
       "0                     33.0                       12   \n",
       "1                     17.2                        9   \n",
       "2                     24.0                       17   \n",
       "3                      9.7                       12   \n",
       "4                     21.8                       11   \n",
       "\n",
       "   Number of Credit Problems  Current Credit Balance  Maximum Open Credit  \\\n",
       "0                          0                  390773              1023660   \n",
       "1                          0                  346921               486926   \n",
       "2                          0                  332956              1208570   \n",
       "3                          0                  169613               287122   \n",
       "4                          0                 1013118              1393194   \n",
       "\n",
       "   Bankruptcies  Tax Liens  Loan_Dummy  Term_Dummy  \n",
       "0           0.0          0           1           1  \n",
       "1           0.0          0           1           1  \n",
       "2           0.0          0           1           1  \n",
       "3           0.0          0           1           1  \n",
       "4           0.0          0           1           1  "
      ]
     },
     "execution_count": 3,
     "metadata": {},
     "output_type": "execute_result"
    }
   ],
   "source": [
    "credit_df['Loan_Dummy']=pd.get_dummies(credit_df['Loan Status'],drop_first=True)\n",
    "credit_df['Term_Dummy']=pd.get_dummies(credit_df['Term'],drop_first=True)\n",
    "credit_df.drop(['Customer ID','Loan Status','Term','Home Ownership','Purpose'],axis=1,inplace=True)\n",
    "credit_df.head()"
   ]
  },
  {
   "cell_type": "code",
   "execution_count": 4,
   "id": "f7d48743",
   "metadata": {},
   "outputs": [
    {
     "data": {
      "text/html": [
       "<div>\n",
       "<style scoped>\n",
       "    .dataframe tbody tr th:only-of-type {\n",
       "        vertical-align: middle;\n",
       "    }\n",
       "\n",
       "    .dataframe tbody tr th {\n",
       "        vertical-align: top;\n",
       "    }\n",
       "\n",
       "    .dataframe thead th {\n",
       "        text-align: right;\n",
       "    }\n",
       "</style>\n",
       "<table border=\"1\" class=\"dataframe\">\n",
       "  <thead>\n",
       "    <tr style=\"text-align: right;\">\n",
       "      <th></th>\n",
       "      <th>Loan Amount</th>\n",
       "      <th>Credit Score</th>\n",
       "      <th>Income</th>\n",
       "      <th>Years_in_job</th>\n",
       "      <th>Monthly Debt</th>\n",
       "      <th>Years of Credit History</th>\n",
       "      <th>Number of Open Accounts</th>\n",
       "      <th>Number of Credit Problems</th>\n",
       "      <th>Current Credit Balance</th>\n",
       "      <th>Maximum Open Credit</th>\n",
       "      <th>Bankruptcies</th>\n",
       "      <th>Tax Liens</th>\n",
       "      <th>Loan_Dummy</th>\n",
       "      <th>Term_Dummy</th>\n",
       "    </tr>\n",
       "  </thead>\n",
       "  <tbody>\n",
       "    <tr>\n",
       "      <th>count</th>\n",
       "      <td>768.000000</td>\n",
       "      <td>768.000000</td>\n",
       "      <td>7.680000e+02</td>\n",
       "      <td>768.000000</td>\n",
       "      <td>768.000000</td>\n",
       "      <td>768.000000</td>\n",
       "      <td>768.000000</td>\n",
       "      <td>768.000000</td>\n",
       "      <td>7.680000e+02</td>\n",
       "      <td>7.680000e+02</td>\n",
       "      <td>768.000000</td>\n",
       "      <td>768.000000</td>\n",
       "      <td>768.000000</td>\n",
       "      <td>768.000000</td>\n",
       "    </tr>\n",
       "    <tr>\n",
       "      <th>mean</th>\n",
       "      <td>372.357568</td>\n",
       "      <td>717.902344</td>\n",
       "      <td>1.418974e+06</td>\n",
       "      <td>6.292969</td>\n",
       "      <td>19091.615872</td>\n",
       "      <td>18.284375</td>\n",
       "      <td>11.394531</td>\n",
       "      <td>0.153646</td>\n",
       "      <td>3.297771e+05</td>\n",
       "      <td>7.699559e+05</td>\n",
       "      <td>0.115885</td>\n",
       "      <td>0.020833</td>\n",
       "      <td>0.798177</td>\n",
       "      <td>0.738281</td>\n",
       "    </tr>\n",
       "    <tr>\n",
       "      <th>std</th>\n",
       "      <td>210.341379</td>\n",
       "      <td>29.358497</td>\n",
       "      <td>9.258885e+05</td>\n",
       "      <td>3.475577</td>\n",
       "      <td>12258.086266</td>\n",
       "      <td>6.910366</td>\n",
       "      <td>5.035138</td>\n",
       "      <td>0.398612</td>\n",
       "      <td>4.551217e+05</td>\n",
       "      <td>1.574073e+06</td>\n",
       "      <td>0.343853</td>\n",
       "      <td>0.160128</td>\n",
       "      <td>0.401622</td>\n",
       "      <td>0.439857</td>\n",
       "    </tr>\n",
       "    <tr>\n",
       "      <th>min</th>\n",
       "      <td>22.550000</td>\n",
       "      <td>586.000000</td>\n",
       "      <td>2.827010e+05</td>\n",
       "      <td>1.000000</td>\n",
       "      <td>0.000000</td>\n",
       "      <td>4.800000</td>\n",
       "      <td>2.000000</td>\n",
       "      <td>0.000000</td>\n",
       "      <td>0.000000e+00</td>\n",
       "      <td>0.000000e+00</td>\n",
       "      <td>0.000000</td>\n",
       "      <td>0.000000</td>\n",
       "      <td>0.000000</td>\n",
       "      <td>0.000000</td>\n",
       "    </tr>\n",
       "    <tr>\n",
       "      <th>25%</th>\n",
       "      <td>200.689500</td>\n",
       "      <td>706.000000</td>\n",
       "      <td>8.639918e+05</td>\n",
       "      <td>3.000000</td>\n",
       "      <td>10749.962500</td>\n",
       "      <td>13.500000</td>\n",
       "      <td>8.000000</td>\n",
       "      <td>0.000000</td>\n",
       "      <td>1.185458e+05</td>\n",
       "      <td>2.838880e+05</td>\n",
       "      <td>0.000000</td>\n",
       "      <td>0.000000</td>\n",
       "      <td>1.000000</td>\n",
       "      <td>0.000000</td>\n",
       "    </tr>\n",
       "    <tr>\n",
       "      <th>50%</th>\n",
       "      <td>331.837000</td>\n",
       "      <td>725.000000</td>\n",
       "      <td>1.205265e+06</td>\n",
       "      <td>7.000000</td>\n",
       "      <td>17010.415000</td>\n",
       "      <td>17.000000</td>\n",
       "      <td>11.000000</td>\n",
       "      <td>0.000000</td>\n",
       "      <td>2.150990e+05</td>\n",
       "      <td>4.834060e+05</td>\n",
       "      <td>0.000000</td>\n",
       "      <td>0.000000</td>\n",
       "      <td>1.000000</td>\n",
       "      <td>1.000000</td>\n",
       "    </tr>\n",
       "    <tr>\n",
       "      <th>75%</th>\n",
       "      <td>568.133500</td>\n",
       "      <td>740.000000</td>\n",
       "      <td>1.646972e+06</td>\n",
       "      <td>10.000000</td>\n",
       "      <td>24614.737500</td>\n",
       "      <td>21.900000</td>\n",
       "      <td>14.000000</td>\n",
       "      <td>0.000000</td>\n",
       "      <td>3.860088e+05</td>\n",
       "      <td>8.130485e+05</td>\n",
       "      <td>0.000000</td>\n",
       "      <td>0.000000</td>\n",
       "      <td>1.000000</td>\n",
       "      <td>1.000000</td>\n",
       "    </tr>\n",
       "    <tr>\n",
       "      <th>max</th>\n",
       "      <td>787.798000</td>\n",
       "      <td>751.000000</td>\n",
       "      <td>1.193742e+07</td>\n",
       "      <td>10.000000</td>\n",
       "      <td>106836.430000</td>\n",
       "      <td>48.800000</td>\n",
       "      <td>48.000000</td>\n",
       "      <td>2.000000</td>\n",
       "      <td>6.506797e+06</td>\n",
       "      <td>2.634333e+07</td>\n",
       "      <td>2.000000</td>\n",
       "      <td>2.000000</td>\n",
       "      <td>1.000000</td>\n",
       "      <td>1.000000</td>\n",
       "    </tr>\n",
       "  </tbody>\n",
       "</table>\n",
       "</div>"
      ],
      "text/plain": [
       "       Loan Amount  Credit Score        Income  Years_in_job   Monthly Debt  \\\n",
       "count   768.000000    768.000000  7.680000e+02    768.000000     768.000000   \n",
       "mean    372.357568    717.902344  1.418974e+06      6.292969   19091.615872   \n",
       "std     210.341379     29.358497  9.258885e+05      3.475577   12258.086266   \n",
       "min      22.550000    586.000000  2.827010e+05      1.000000       0.000000   \n",
       "25%     200.689500    706.000000  8.639918e+05      3.000000   10749.962500   \n",
       "50%     331.837000    725.000000  1.205265e+06      7.000000   17010.415000   \n",
       "75%     568.133500    740.000000  1.646972e+06     10.000000   24614.737500   \n",
       "max     787.798000    751.000000  1.193742e+07     10.000000  106836.430000   \n",
       "\n",
       "       Years of Credit History  Number of Open Accounts  \\\n",
       "count               768.000000               768.000000   \n",
       "mean                 18.284375                11.394531   \n",
       "std                   6.910366                 5.035138   \n",
       "min                   4.800000                 2.000000   \n",
       "25%                  13.500000                 8.000000   \n",
       "50%                  17.000000                11.000000   \n",
       "75%                  21.900000                14.000000   \n",
       "max                  48.800000                48.000000   \n",
       "\n",
       "       Number of Credit Problems  Current Credit Balance  Maximum Open Credit  \\\n",
       "count                 768.000000            7.680000e+02         7.680000e+02   \n",
       "mean                    0.153646            3.297771e+05         7.699559e+05   \n",
       "std                     0.398612            4.551217e+05         1.574073e+06   \n",
       "min                     0.000000            0.000000e+00         0.000000e+00   \n",
       "25%                     0.000000            1.185458e+05         2.838880e+05   \n",
       "50%                     0.000000            2.150990e+05         4.834060e+05   \n",
       "75%                     0.000000            3.860088e+05         8.130485e+05   \n",
       "max                     2.000000            6.506797e+06         2.634333e+07   \n",
       "\n",
       "       Bankruptcies   Tax Liens  Loan_Dummy  Term_Dummy  \n",
       "count    768.000000  768.000000  768.000000  768.000000  \n",
       "mean       0.115885    0.020833    0.798177    0.738281  \n",
       "std        0.343853    0.160128    0.401622    0.439857  \n",
       "min        0.000000    0.000000    0.000000    0.000000  \n",
       "25%        0.000000    0.000000    1.000000    0.000000  \n",
       "50%        0.000000    0.000000    1.000000    1.000000  \n",
       "75%        0.000000    0.000000    1.000000    1.000000  \n",
       "max        2.000000    2.000000    1.000000    1.000000  "
      ]
     },
     "execution_count": 4,
     "metadata": {},
     "output_type": "execute_result"
    }
   ],
   "source": [
    "credit_df.describe()"
   ]
  },
  {
   "cell_type": "code",
   "execution_count": 5,
   "id": "24e90c0d",
   "metadata": {},
   "outputs": [
    {
     "name": "stdout",
     "output_type": "stream",
     "text": [
      "<class 'pandas.core.frame.DataFrame'>\n",
      "Int64Index: 768 entries, 0 to 998\n",
      "Data columns (total 14 columns):\n",
      " #   Column                     Non-Null Count  Dtype  \n",
      "---  ------                     --------------  -----  \n",
      " 0   Loan Amount                768 non-null    float64\n",
      " 1   Credit Score               768 non-null    float64\n",
      " 2   Income                     768 non-null    float64\n",
      " 3   Years_in_job               768 non-null    float64\n",
      " 4   Monthly Debt               768 non-null    float64\n",
      " 5   Years of Credit History    768 non-null    float64\n",
      " 6   Number of Open Accounts    768 non-null    int64  \n",
      " 7   Number of Credit Problems  768 non-null    int64  \n",
      " 8   Current Credit Balance     768 non-null    int64  \n",
      " 9   Maximum Open Credit        768 non-null    int64  \n",
      " 10  Bankruptcies               768 non-null    float64\n",
      " 11  Tax Liens                  768 non-null    int64  \n",
      " 12  Loan_Dummy                 768 non-null    uint8  \n",
      " 13  Term_Dummy                 768 non-null    uint8  \n",
      "dtypes: float64(7), int64(5), uint8(2)\n",
      "memory usage: 79.5 KB\n"
     ]
    }
   ],
   "source": [
    "credit_df.info()"
   ]
  },
  {
   "cell_type": "code",
   "execution_count": 6,
   "id": "acf52ff0",
   "metadata": {},
   "outputs": [
    {
     "data": {
      "text/plain": [
       "<AxesSubplot:xlabel='Income', ylabel='Loan_Dummy'>"
      ]
     },
     "execution_count": 6,
     "metadata": {},
     "output_type": "execute_result"
    },
    {
     "data": {
      "image/png": "[encoded data removed]",
      "text/plain": [
       "<Figure size 432x288 with 1 Axes>"
      ]
     },
     "metadata": {
      "needs_background": "light"
     },
     "output_type": "display_data"
    }
   ],
   "source": [
    "sns.scatterplot(x='Income', y='Loan_Dummy',data=credit_df) #, hue='Term_Dummy')"
   ]
  },
  {
   "cell_type": "code",
   "execution_count": 7,
   "id": "77806391",
   "metadata": {},
   "outputs": [
    {
     "data": {
      "text/plain": [
       "<AxesSubplot:xlabel='Credit Score', ylabel='Loan Amount'>"
      ]
     },
     "execution_count": 7,
     "metadata": {},
     "output_type": "execute_result"
    },
    {
     "data": {
      "image/png": "[encoded data removed]",
      "text/plain": [
       "<Figure size 432x288 with 1 Axes>"
      ]
     },
     "metadata": {
      "needs_background": "light"
     },
     "output_type": "display_data"
    }
   ],
   "source": [
    "sns.scatterplot(x='Credit Score', y='Loan Amount',data=credit_df, hue='Loan_Dummy')"
   ]
  },
  {
   "cell_type": "code",
   "execution_count": 8,
   "id": "374e5e25",
   "metadata": {},
   "outputs": [
    {
     "data": {
      "text/plain": [
       "Text(0.5, 0, 'Income')"
      ]
     },
     "execution_count": 8,
     "metadata": {},
     "output_type": "execute_result"
    },
    {
     "data": {
      "image/png": "[encoded data removed]",
      "text/plain": [
       "<Figure size 720x432 with 1 Axes>"
      ]
     },
     "metadata": {
      "needs_background": "light"
     },
     "output_type": "display_data"
    }
   ],
   "source": [
    "plt.figure(figsize=(10,6))\n",
    "credit_df[credit_df['Loan_Dummy']==1]['Income'].hist(alpha=0.5,color='blue',\n",
    "                                                    bins=35,label='Loan_Dummy=1')\n",
    "credit_df[credit_df['Loan_Dummy']==0]['Income'].hist(alpha=0.5,color='red',\n",
    "                                                    bins=35,label='Loan_Dummy=0')\n",
    "plt.legend()\n",
    "plt.xlabel('Income')"
   ]
  },
  {
   "cell_type": "markdown",
   "id": "12198c19",
   "metadata": {},
   "source": [
    "## Decision Tree"
   ]
  },
  {
   "cell_type": "code",
   "execution_count": 9,
   "id": "c09b001a",
   "metadata": {},
   "outputs": [],
   "source": [
    "X=credit_df.drop(['Loan_Dummy'],axis=1)\n",
    "y=credit_df['Loan_Dummy']"
   ]
  },
  {
   "cell_type": "code",
   "execution_count": 10,
   "id": "e1e3509b",
   "metadata": {},
   "outputs": [],
   "source": [
    "X_train,X_test,y_train,y_test=train_test_split(X,y,test_size=0.40,random_state=1)"
   ]
  },
  {
   "cell_type": "code",
   "execution_count": 11,
   "id": "97f3e0b4",
   "metadata": {},
   "outputs": [
    {
     "data": {
      "image/png": "[encoded data removed]",
      "text/plain": [
       "<Figure size 864x864 with 1 Axes>"
      ]
     },
     "metadata": {
      "needs_background": "light"
     },
     "output_type": "display_data"
    }
   ],
   "source": [
    "dtree=DecisionTreeClassifier(max_depth=2,random_state=1)\n",
    "dtree.fit(X_train,y_train)\n",
    "\n",
    "fig, ax = plt.subplots(figsize=(12, 12))\n",
    "plot_tree(dtree, filled=True, feature_names=list(X.columns), ax=ax)\n",
    "plt.show()"
   ]
  },
  {
   "cell_type": "code",
   "execution_count": 12,
   "id": "43f8ec12",
   "metadata": {},
   "outputs": [],
   "source": [
    "#Predictions\n",
    "predictions=dtree.predict(X_test)"
   ]
  },
  {
   "cell_type": "code",
   "execution_count": 13,
   "id": "d12afc34",
   "metadata": {},
   "outputs": [
    {
     "name": "stdout",
     "output_type": "stream",
     "text": [
      "[[  2  62]\n",
      " [  4 240]]\n",
      "\n",
      "\n",
      "              precision    recall  f1-score   support\n",
      "\n",
      "           0       0.33      0.03      0.06        64\n",
      "           1       0.79      0.98      0.88       244\n",
      "\n",
      "    accuracy                           0.79       308\n",
      "   macro avg       0.56      0.51      0.47       308\n",
      "weighted avg       0.70      0.79      0.71       308\n",
      "\n"
     ]
    }
   ],
   "source": [
    "from sklearn.metrics import classification_report,confusion_matrix\n",
    "print(confusion_matrix(y_test,predictions))\n",
    "print('\\n')\n",
    "print(classification_report(y_test,predictions))"
   ]
  },
  {
   "cell_type": "markdown",
   "id": "ac32d39f",
   "metadata": {},
   "source": [
    "# Random Forest"
   ]
  },
  {
   "cell_type": "code",
   "execution_count": 14,
   "id": "c30665ee",
   "metadata": {},
   "outputs": [
    {
     "data": {
      "text/plain": [
       "RandomForestClassifier(max_depth=2, n_estimators=500, random_state=1)"
      ]
     },
     "execution_count": 14,
     "metadata": {},
     "output_type": "execute_result"
    }
   ],
   "source": [
    "from sklearn.ensemble import RandomForestClassifier\n",
    "rfc=RandomForestClassifier(n_estimators=500,max_depth=2,random_state=1)\n",
    "rfc.fit(X_train,y_train)"
   ]
  },
  {
   "cell_type": "code",
   "execution_count": 15,
   "id": "e492b24f",
   "metadata": {},
   "outputs": [],
   "source": [
    "#Random Forest predictions\n",
    "rfc_pred=rfc.predict(X_test)"
   ]
  },
  {
   "cell_type": "code",
   "execution_count": 16,
   "id": "764d2b50",
   "metadata": {},
   "outputs": [
    {
     "name": "stdout",
     "output_type": "stream",
     "text": [
      "[[  0  64]\n",
      " [  0 244]]\n",
      "\n",
      "\n",
      "              precision    recall  f1-score   support\n",
      "\n",
      "           0       0.00      0.00      0.00        64\n",
      "           1       0.79      1.00      0.88       244\n",
      "\n",
      "    accuracy                           0.79       308\n",
      "   macro avg       0.40      0.50      0.44       308\n",
      "weighted avg       0.63      0.79      0.70       308\n",
      "\n"
     ]
    },
    {
     "name": "stderr",
     "output_type": "stream",
     "text": [
      "c:\\ProgramData\\Anaconda3\\lib\\site-packages\\sklearn\\metrics\\_classification.py:1245: UndefinedMetricWarning: Precision and F-score are ill-defined and being set to 0.0 in labels with no predicted samples. Use `zero_division` parameter to control this behavior.\n",
      "  _warn_prf(average, modifier, msg_start, len(result))\n",
      "c:\\ProgramData\\Anaconda3\\lib\\site-packages\\sklearn\\metrics\\_classification.py:1245: UndefinedMetricWarning: Precision and F-score are ill-defined and being set to 0.0 in labels with no predicted samples. Use `zero_division` parameter to control this behavior.\n",
      "  _warn_prf(average, modifier, msg_start, len(result))\n",
      "c:\\ProgramData\\Anaconda3\\lib\\site-packages\\sklearn\\metrics\\_classification.py:1245: UndefinedMetricWarning: Precision and F-score are ill-defined and being set to 0.0 in labels with no predicted samples. Use `zero_division` parameter to control this behavior.\n",
      "  _warn_prf(average, modifier, msg_start, len(result))\n"
     ]
    }
   ],
   "source": [
    "print(confusion_matrix(y_test,rfc_pred))\n",
    "print('\\n')\n",
    "print(classification_report(y_test,rfc_pred))"
   ]
  },
  {
   "cell_type": "code",
   "execution_count": 17,
   "id": "f901f707",
   "metadata": {},
   "outputs": [
    {
     "name": "stdout",
     "output_type": "stream",
     "text": [
      "                      feature  importance       std\n",
      "12                 Term_Dummy    0.009566  0.054621\n",
      "10               Bankruptcies    0.010017  0.053079\n",
      "7   Number of Credit Problems    0.014801  0.067300\n",
      "11                  Tax Liens    0.019460  0.087641\n",
      "3                Years_in_job    0.028779  0.096521\n",
      "6     Number of Open Accounts    0.070007  0.156958\n",
      "8      Current Credit Balance    0.079475  0.168003\n",
      "9         Maximum Open Credit    0.091374  0.186964\n",
      "4                Monthly Debt    0.092374  0.181796\n",
      "2                      Income    0.103320  0.197587\n",
      "5     Years of Credit History    0.108956  0.206903\n",
      "1                Credit Score    0.146803  0.233604\n",
      "0                 Loan Amount    0.225066  0.294311\n"
     ]
    },
    {
     "data": {
      "text/plain": [
       "<function matplotlib.pyplot.show(close=None, block=None)>"
      ]
     },
     "execution_count": 17,
     "metadata": {},
     "output_type": "execute_result"
    },
    {
     "data": {
      "image/png": "[encoded data removed]",
      "text/plain": [
       "<Figure size 432x288 with 1 Axes>"
      ]
     },
     "metadata": {
      "needs_background": "light"
     },
     "output_type": "display_data"
    }
   ],
   "source": [
    "importances=rfc.feature_importances_\n",
    "std=np.std([tree.feature_importances_ for tree in rfc.estimators_],axis=0)\n",
    "\n",
    "df=pd.DataFrame({'feature':X_train.columns,'importance':importances,'std':std})\n",
    "df=df.sort_values('importance')\n",
    "print(df)\n",
    "\n",
    "ax=df.plot(kind='barh',xerr='std', x='feature',legend=False)\n",
    "ax.set_ylabel('')\n",
    "\n",
    "plt.tight_layout()\n",
    "plt.show"
   ]
  },
  {
   "cell_type": "code",
   "execution_count": 20,
   "id": "c6593e14",
   "metadata": {},
   "outputs": [
    {
     "name": "stdout",
     "output_type": "stream",
     "text": [
      "B.What is the accuracy score with the first decision tree? What does it mean?\n",
      "C.What is the accuracy score with the random forest application? What does it mean? Which model (B or C) is better according to the accuracy scores?\n"
     ]
    }
   ],
   "source": [
    "print(\"\"\"B.What is the accuracy score with the first decision tree? What does it mean?\"\"\")\n",
    "print(\"\"\"C.What is the accuracy score with the random forest application? What does it mean? Which model (B or C) is better according to the accuracy scores?\"\"\")\n"
   ]
  }
 ],
 "metadata": {
  "kernelspec": {
   "display_name": "Python 3 (ipykernel)",
   "language": "python",
   "name": "python3"
  },
  "language_info": {
   "codemirror_mode": {
    "name": "ipython",
    "version": 3
   },
   "file_extension": ".py",
   "mimetype": "text/x-python",
   "name": "python",
   "nbconvert_exporter": "python",
   "pygments_lexer": "ipython3",
   "version": "3.8.8"
  }
 },
 "nbformat": 4,
 "nbformat_minor": 5
}
