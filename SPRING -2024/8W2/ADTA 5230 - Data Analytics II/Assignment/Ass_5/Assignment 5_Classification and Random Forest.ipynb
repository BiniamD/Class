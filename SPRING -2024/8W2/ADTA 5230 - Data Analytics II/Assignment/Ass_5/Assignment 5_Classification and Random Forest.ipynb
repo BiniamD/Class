{
 "cells": [
  {
   "cell_type": "markdown",
   "id": "4be52370",
   "metadata": {},
   "source": [
    "<img src=\"https://webassets.unt.edu/assets/branding/unt-stacked-logo.svg\" alt=\"UNT | University of North Texas\" class=\"desktop-logo\" width=\"300\" height=\"500\">"
   ]
  },
  {
   "cell_type": "markdown",
   "id": "c5f2e992",
   "metadata": {},
   "source": [
    "<div style=\"text-align: left\"><strong>Datasets:</strong> </div>\n",
    "<br> loan_credit.xlsx"
   ]
  },
  {
   "cell_type": "code",
   "execution_count": null,
   "id": "dc13a387",
   "metadata": {},
   "outputs": [],
   "source": [
    "import pandas as pd\n",
    "import numpy as np\n",
    "import seaborn as sns\n",
    "from sklearn.tree import DecisionTreeClassifier, DecisionTreeRegressor, plot_tree\n",
    "from sklearn.ensemble import RandomForestClassifier, GradientBoostingClassifier\n",
    "from sklearn.model_selection import train_test_split, cross_val_score, GridSearchCV\n",
    "import matplotlib.pylab as plt\n",
    "from matplotlib.pyplot import subplots\n",
    "%matplotlib inline"
   ]
  },
  {
   "cell_type": "code",
   "execution_count": null,
   "id": "eb6b8d68",
   "metadata": {
    "scrolled": true
   },
   "outputs": [],
   "source": [
    "#Load Data\n",
    "credit_df=pd.read_excel('loan_credit.xlsx')\n",
    "credit_df=credit_df.dropna()\n",
    "credit_df.head()"
   ]
  },
  {
   "cell_type": "code",
   "execution_count": null,
   "id": "d742e3b9",
   "metadata": {},
   "outputs": [],
   "source": [
    "credit_df['Loan_Dummy']=pd.get_dummies(credit_df['Loan Status'],drop_first=True)\n",
    "credit_df['Term_Dummy']=pd.get_dummies(credit_df['Term'],drop_first=True)\n",
    "credit_df.drop(['Customer ID','Loan Status','Term','Home Ownership','Purpose'],axis=1,inplace=True)\n",
    "credit_df.head()"
   ]
  },
  {
   "cell_type": "code",
   "execution_count": null,
   "id": "f7d48743",
   "metadata": {},
   "outputs": [],
   "source": [
    "credit_df.describe()"
   ]
  },
  {
   "cell_type": "code",
   "execution_count": null,
   "id": "24e90c0d",
   "metadata": {},
   "outputs": [],
   "source": [
    "credit_df.info()"
   ]
  },
  {
   "cell_type": "code",
   "execution_count": null,
   "id": "acf52ff0",
   "metadata": {},
   "outputs": [],
   "source": [
    "sns.scatterplot(x='Income', y='Loan_Dummy',data=credit_df) #, hue='Term_Dummy')"
   ]
  },
  {
   "cell_type": "code",
   "execution_count": null,
   "id": "77806391",
   "metadata": {},
   "outputs": [],
   "source": [
    "sns.scatterplot(x='Credit Score', y='Loan Amount',data=credit_df, hue='Loan_Dummy')"
   ]
  },
  {
   "cell_type": "code",
   "execution_count": null,
   "id": "374e5e25",
   "metadata": {},
   "outputs": [],
   "source": [
    "plt.figure(figsize=(10,6))\n",
    "credit_df[credit_df['Loan_Dummy']==1]['Income'].hist(alpha=0.5,color='blue',\n",
    "                                                    bins=35,label='Loan_Dummy=1')\n",
    "credit_df[credit_df['Loan_Dummy']==0]['Income'].hist(alpha=0.5,color='red',\n",
    "                                                    bins=35,label='Loan_Dummy=0')\n",
    "plt.legend()\n",
    "plt.xlabel('Income')"
   ]
  },
  {
   "cell_type": "markdown",
   "id": "12198c19",
   "metadata": {},
   "source": [
    "## Decision Tree"
   ]
  },
  {
   "cell_type": "code",
   "execution_count": null,
   "id": "c09b001a",
   "metadata": {},
   "outputs": [],
   "source": [
    "X=credit_df.drop(['Loan_Dummy'],axis=1)\n",
    "y=credit_df['Loan_Dummy']"
   ]
  },
  {
   "cell_type": "code",
   "execution_count": null,
   "id": "e1e3509b",
   "metadata": {},
   "outputs": [],
   "source": [
    "X_train,X_test,y_train,y_test=train_test_split(X,y,test_size=0.40,random_state=1)"
   ]
  },
  {
   "cell_type": "code",
   "execution_count": null,
   "id": "97f3e0b4",
   "metadata": {},
   "outputs": [],
   "source": [
    "dtree=DecisionTreeClassifier(max_depth=2,random_state=1)\n",
    "dtree.fit(X_train,y_train)\n",
    "\n",
    "fig, ax = plt.subplots(figsize=(12, 12))\n",
    "plot_tree(dtree, filled=True, feature_names=list(X.columns), ax=ax)\n",
    "plt.show()"
   ]
  },
  {
   "cell_type": "code",
   "execution_count": null,
   "id": "43f8ec12",
   "metadata": {},
   "outputs": [],
   "source": [
    "#Predictions\n",
    "predictions=dtree.predict(X_test)"
   ]
  },
  {
   "cell_type": "code",
   "execution_count": null,
   "id": "d12afc34",
   "metadata": {},
   "outputs": [],
   "source": [
    "from sklearn.metrics import classification_report,confusion_matrix\n",
    "print(confusion_matrix(y_test,predictions))\n",
    "print('\\n')\n",
    "print(classification_report(y_test,predictions))"
   ]
  },
  {
   "cell_type": "markdown",
   "id": "ac32d39f",
   "metadata": {},
   "source": [
    "# Random Forest"
   ]
  },
  {
   "cell_type": "code",
   "execution_count": null,
   "id": "c30665ee",
   "metadata": {},
   "outputs": [],
   "source": [
    "from sklearn.ensemble import RandomForestClassifier\n",
    "rfc=RandomForestClassifier(n_estimators=500,max_depth=2,random_state=1)\n",
    "rfc.fit(X_train,y_train)"
   ]
  },
  {
   "cell_type": "code",
   "execution_count": null,
   "id": "e492b24f",
   "metadata": {},
   "outputs": [],
   "source": [
    "#Random Forest predictions\n",
    "rfc_pred=rfc.predict(X_test)"
   ]
  },
  {
   "cell_type": "code",
   "execution_count": null,
   "id": "764d2b50",
   "metadata": {},
   "outputs": [],
   "source": [
    "print(confusion_matrix(y_test,rfc_pred))\n",
    "print('\\n')\n",
    "print(classification_report(y_test,rfc_pred))"
   ]
  },
  {
   "cell_type": "code",
   "execution_count": null,
   "id": "f901f707",
   "metadata": {},
   "outputs": [],
   "source": [
    "importances=rfc.feature_importances_\n",
    "std=np.std([tree.feature_importances_ for tree in rfc.estimators_],axis=0)\n",
    "\n",
    "df=pd.DataFrame({'feature':X_train.columns,'importance':importances,'std':std})\n",
    "df=df.sort_values('importance')\n",
    "print(df)\n",
    "\n",
    "ax=df.plot(kind='barh',xerr='std', x='feature',legend=False)\n",
    "ax.set_ylabel('')\n",
    "\n",
    "plt.tight_layout()\n",
    "plt.show"
   ]
  }
 ],
 "metadata": {
  "kernelspec": {
   "display_name": "Python 3 (ipykernel)",
   "language": "python",
   "name": "python3"
  },
  "language_info": {
   "codemirror_mode": {
    "name": "ipython",
    "version": 3
   },
   "file_extension": ".py",
   "mimetype": "text/x-python",
   "name": "python",
   "nbconvert_exporter": "python",
   "pygments_lexer": "ipython3",
   "version": "3.11.5"
  }
 },
 "nbformat": 4,
 "nbformat_minor": 5
}
