{
 "cells": [
  {
   "cell_type": "markdown",
   "metadata": {},
   "source": [
    "# Chapter 13: Combining Models: Ensembles and Uplift Modeling\n",
    "\n",
    "> (c) 2019 Galit Shmueli, Peter C. Bruce, Peter Gedeck \n",
    ">\n",
    "> Code included in\n",
    ">\n",
    "> _Data Mining for Business Analytics: Concepts, Techniques, and Applications in Python_ (First Edition) \n",
    "> Galit Shmueli, Peter C. Bruce, Peter Gedeck, and Nitin R. Patel. 2019.\n",
    "\n",
    "## Import required packages"
   ]
  },
  {
   "cell_type": "markdown",
   "metadata": {},
   "source": [
    "Make sure DMBA package is available"
   ]
  },
  {
   "cell_type": "code",
   "execution_count": 1,
   "metadata": {
    "execution": {
     "iopub.execute_input": "2023-06-26T14:20:39.340657Z",
     "iopub.status.busy": "2023-06-26T14:20:39.340413Z",
     "iopub.status.idle": "2023-06-26T14:20:40.859344Z",
     "shell.execute_reply": "2023-06-26T14:20:40.857945Z"
    }
   },
   "outputs": [
    {
     "name": "stdout",
     "output_type": "stream",
     "text": [
      "Requirement already satisfied: dmba in /usr/local/lib/python3.11/site-packages (0.2.2)\r\n"
     ]
    },
    {
     "name": "stdout",
     "output_type": "stream",
     "text": [
      "\u001b[33mWARNING: Running pip as the 'root' user can result in broken permissions and conflicting behaviour with the system package manager. It is recommended to use a virtual environment instead: https://pip.pypa.io/warnings/venv\u001b[0m\u001b[33m\r\n",
      "\u001b[0m"
     ]
    },
    {
     "name": "stdout",
     "output_type": "stream",
     "text": [
      "Note: you may need to restart the kernel to use updated packages.\n"
     ]
    }
   ],
   "source": [
    "pip install dmba"
   ]
  },
  {
   "cell_type": "code",
   "execution_count": 2,
   "metadata": {
    "execution": {
     "iopub.execute_input": "2023-06-26T14:20:40.862720Z",
     "iopub.status.busy": "2023-06-26T14:20:40.862428Z",
     "iopub.status.idle": "2023-06-26T14:20:41.933920Z",
     "shell.execute_reply": "2023-06-26T14:20:41.932848Z"
    }
   },
   "outputs": [
    {
     "name": "stdout",
     "output_type": "stream",
     "text": [
      "no display found. Using non-interactive Agg backend\n"
     ]
    }
   ],
   "source": [
    "from pathlib import Path\n",
    "\n",
    "import pandas as pd\n",
    "from sklearn.model_selection import train_test_split\n",
    "from sklearn.tree import DecisionTreeClassifier\n",
    "from sklearn.ensemble import AdaBoostClassifier\n",
    "from sklearn.ensemble import BaggingClassifier\n",
    "from sklearn.ensemble import RandomForestClassifier\n",
    "\n",
    "import dmba\n",
    "from dmba import classificationSummary\n",
    "\n",
    "%matplotlib inline"
   ]
  },
  {
   "cell_type": "markdown",
   "metadata": {},
   "source": [
    "## Table 13.1, 13.2"
   ]
  },
  {
   "cell_type": "code",
   "execution_count": 3,
   "metadata": {
    "execution": {
     "iopub.execute_input": "2023-06-26T14:20:41.936579Z",
     "iopub.status.busy": "2023-06-26T14:20:41.936271Z",
     "iopub.status.idle": "2023-06-26T14:20:41.952453Z",
     "shell.execute_reply": "2023-06-26T14:20:41.951521Z"
    }
   },
   "outputs": [],
   "source": [
    "bank_df = dmba.load_data('UniversalBank.csv')\n",
    "bank_df.drop(columns=['ID', 'ZIP Code'], inplace=True)\n",
    "\n",
    "# split into training and validation\n",
    "X = bank_df.drop(columns=['Personal Loan'])\n",
    "y = bank_df['Personal Loan']\n",
    "X_train, X_valid, y_train, y_valid = train_test_split(X, y, test_size=0.40, random_state=3)"
   ]
  },
  {
   "cell_type": "markdown",
   "metadata": {},
   "source": [
    "### single tree"
   ]
  },
  {
   "cell_type": "code",
   "execution_count": 4,
   "metadata": {
    "execution": {
     "iopub.execute_input": "2023-06-26T14:20:41.955540Z",
     "iopub.status.busy": "2023-06-26T14:20:41.954956Z",
     "iopub.status.idle": "2023-06-26T14:20:41.967056Z",
     "shell.execute_reply": "2023-06-26T14:20:41.966156Z"
    }
   },
   "outputs": [
    {
     "name": "stdout",
     "output_type": "stream",
     "text": [
      "Confusion Matrix (Accuracy 0.9825)\n",
      "\n",
      "       Prediction\n",
      "Actual    0    1\n",
      "     0 1778   15\n",
      "     1   20  187\n"
     ]
    }
   ],
   "source": [
    "defaultTree = DecisionTreeClassifier(random_state=1)\n",
    "defaultTree.fit(X_train, y_train)\n",
    "\n",
    "classes = defaultTree.classes_\n",
    "classificationSummary(y_valid, defaultTree.predict(X_valid), class_names=defaultTree.classes_)"
   ]
  },
  {
   "cell_type": "markdown",
   "metadata": {},
   "source": [
    "### bagging"
   ]
  },
  {
   "cell_type": "code",
   "execution_count": 5,
   "metadata": {
    "execution": {
     "iopub.execute_input": "2023-06-26T14:20:41.969558Z",
     "iopub.status.busy": "2023-06-26T14:20:41.969335Z",
     "iopub.status.idle": "2023-06-26T14:20:42.234145Z",
     "shell.execute_reply": "2023-06-26T14:20:42.233005Z"
    }
   },
   "outputs": [
    {
     "name": "stdout",
     "output_type": "stream",
     "text": [
      "Confusion Matrix (Accuracy 0.9855)\n",
      "\n",
      "       Prediction\n",
      "Actual    0    1\n",
      "     0 1781   12\n",
      "     1   17  190\n"
     ]
    }
   ],
   "source": [
    "bagging = BaggingClassifier(DecisionTreeClassifier(random_state=1), \n",
    "                            n_estimators=100, random_state=1)\n",
    "bagging.fit(X_train, y_train)\n",
    "\n",
    "classificationSummary(y_valid, bagging.predict(X_valid), class_names=classes)"
   ]
  },
  {
   "cell_type": "markdown",
   "metadata": {},
   "source": [
    "### boosting"
   ]
  },
  {
   "cell_type": "code",
   "execution_count": 6,
   "metadata": {
    "execution": {
     "iopub.execute_input": "2023-06-26T14:20:42.236441Z",
     "iopub.status.busy": "2023-06-26T14:20:42.236216Z",
     "iopub.status.idle": "2023-06-26T14:20:42.248501Z",
     "shell.execute_reply": "2023-06-26T14:20:42.247800Z"
    }
   },
   "outputs": [
    {
     "name": "stdout",
     "output_type": "stream",
     "text": [
      "Confusion Matrix (Accuracy 0.9835)\n",
      "\n",
      "       Prediction\n",
      "Actual    0    1\n",
      "     0 1776   17\n",
      "     1   16  191\n"
     ]
    }
   ],
   "source": [
    "boost = AdaBoostClassifier(DecisionTreeClassifier(random_state=1), n_estimators=100, random_state=1)\n",
    "boost.fit(X_train, y_train)\n",
    "\n",
    "classificationSummary(y_valid, boost.predict(X_valid), class_names=classes)"
   ]
  },
  {
   "cell_type": "markdown",
   "metadata": {},
   "source": [
    "## Table 13.9"
   ]
  },
  {
   "cell_type": "code",
   "execution_count": 7,
   "metadata": {
    "execution": {
     "iopub.execute_input": "2023-06-26T14:20:42.250419Z",
     "iopub.status.busy": "2023-06-26T14:20:42.250244Z",
     "iopub.status.idle": "2023-06-26T14:20:42.956636Z",
     "shell.execute_reply": "2023-06-26T14:20:42.954915Z"
    }
   },
   "outputs": [
    {
     "name": "stdout",
     "output_type": "stream",
     "text": [
      "Confusion Matrix (Accuracy 0.6415)\n",
      "\n",
      "       Prediction\n",
      "Actual    N    Y\n",
      "     N 2018  450\n",
      "     Y  984  548\n"
     ]
    }
   ],
   "source": [
    "voter_df = dmba.load_data('Voter-Persuasion.csv')\n",
    "\n",
    "# Preprocess data frame\n",
    "predictors = ['AGE', 'NH_WHITE', 'COMM_PT', 'H_F1', 'REG_DAYS', \n",
    "              'PR_PELIG', 'E_PELIG', 'POLITICALC', 'MESSAGE_A']\n",
    "outcome = 'MOVED_AD'\n",
    "\n",
    "classes = list(voter_df.MOVED_AD.unique())\n",
    "\n",
    "# Partition the data\n",
    "X = voter_df[predictors]\n",
    "y = voter_df[outcome]\n",
    "X_train, X_valid, y_train, y_valid = train_test_split(X, y, test_size=0.40, random_state=1)\n",
    "\n",
    "# Train a random forest classifier using the training set\n",
    "rfModel = RandomForestClassifier(n_estimators=100, random_state=1)\n",
    "rfModel.fit(X_train, y_train)\n",
    "\n",
    "classificationSummary(y_valid, rfModel.predict(X_valid), class_names=classes)"
   ]
  },
  {
   "cell_type": "code",
   "execution_count": 8,
   "metadata": {
    "execution": {
     "iopub.execute_input": "2023-06-26T14:20:42.959891Z",
     "iopub.status.busy": "2023-06-26T14:20:42.959110Z",
     "iopub.status.idle": "2023-06-26T14:20:43.079558Z",
     "shell.execute_reply": "2023-06-26T14:20:43.078524Z"
    }
   },
   "outputs": [
    {
     "name": "stdout",
     "output_type": "stream",
     "text": [
      "      probMessage  probNoMessage  uplift\n",
      "9953         0.77           0.62    0.15\n",
      "3850         0.39           0.39    0.00\n",
      "4962         0.20           0.14    0.06\n",
      "3886         0.86           0.62    0.24\n",
      "5437         0.10           0.28   -0.18\n"
     ]
    }
   ],
   "source": [
    "uplift_df = X_valid.copy()  # Need to create a copy to allow modifying data\n",
    "\n",
    "uplift_df.MESSAGE_A = 1\n",
    "predTreatment = rfModel.predict_proba(uplift_df)\n",
    "uplift_df.MESSAGE_A = 0\n",
    "predControl = rfModel.predict_proba(uplift_df)\n",
    "\n",
    "upliftResult_df = pd.DataFrame({\n",
    "    'probMessage': predTreatment[:,1],\n",
    "    'probNoMessage': predControl[:,1],\n",
    "    'uplift': predTreatment[:,1] - predControl[:,1],\n",
    "    }, index=uplift_df.index)\n",
    "print(upliftResult_df.head())"
   ]
  },
  {
   "cell_type": "code",
   "execution_count": 9,
   "metadata": {
    "execution": {
     "iopub.execute_input": "2023-06-26T14:20:43.082831Z",
     "iopub.status.busy": "2023-06-26T14:20:43.082111Z",
     "iopub.status.idle": "2023-06-26T14:20:43.086570Z",
     "shell.execute_reply": "2023-06-26T14:20:43.085896Z"
    }
   },
   "outputs": [
    {
     "name": "stdout",
     "output_type": "stream",
     "text": [
      "[[0.23 0.77]\n",
      " [0.61 0.39]\n",
      " [0.8  0.2 ]\n",
      " ...\n",
      " [0.56 0.44]\n",
      " [0.23 0.77]\n",
      " [0.3  0.7 ]]\n"
     ]
    }
   ],
   "source": [
    "print(predTreatment)"
   ]
  },
  {
   "cell_type": "code",
   "execution_count": null,
   "metadata": {},
   "outputs": [],
   "source": []
  }
 ],
 "metadata": {
  "kernelspec": {
   "display_name": "Python 3 (ipykernel)",
   "language": "python",
   "name": "python3"
  },
  "language_info": {
   "codemirror_mode": {
    "name": "ipython",
    "version": 3
   },
   "file_extension": ".py",
   "mimetype": "text/x-python",
   "name": "python",
   "nbconvert_exporter": "python",
   "pygments_lexer": "ipython3",
   "version": "3.11.4"
  }
 },
 "nbformat": 4,
 "nbformat_minor": 2
}
