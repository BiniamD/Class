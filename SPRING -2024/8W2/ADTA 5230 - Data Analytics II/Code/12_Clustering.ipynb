{
 "cells": [
  {
   "cell_type": "code",
   "execution_count": null,
   "id": "4650d882",
   "metadata": {},
   "outputs": [],
   "source": [
    "import pandas as pd\n",
    "import matplotlib.pylab as plt\n",
    "import seaborn as sns\n",
    "\n",
    "from pathlib import Path\n",
    "from sklearn import preprocessing\n",
    "from sklearn.metrics import pairwise\n",
    "from scipy.cluster.hierarchy import dendrogram, linkage, fcluster\n",
    "from sklearn.cluster import KMeans\n",
    "from pandas.plotting import parallel_coordinates\n",
    "\n",
    "%matplotlib inline"
   ]
  },
  {
   "cell_type": "code",
   "execution_count": null,
   "id": "fccdd72c",
   "metadata": {},
   "outputs": [],
   "source": [
    "stocks_df=pd.read_excel('stocks.xlsx')\n",
    "stocks_df.set_index('Company',inplace=True)\n",
    "\n",
    "stocks_df=stocks_df.apply(lambda x:x.astype('float64'))\n",
    "stocks_df.head().round(3)"
   ]
  },
  {
   "cell_type": "code",
   "execution_count": null,
   "id": "b00f5b0a",
   "metadata": {},
   "outputs": [],
   "source": [
    "fig,ax=plt.subplots()\n",
    "stocks_df.plot('AvRet','Beta', kind='scatter',ax=ax)\n",
    "\n",
    "for k,v in stocks_df.iterrows():\n",
    "        ax.annotate(k,v,fontsize=7)"
   ]
  },
  {
   "cell_type": "code",
   "execution_count": null,
   "id": "222a8bad",
   "metadata": {
    "scrolled": true
   },
   "outputs": [],
   "source": [
    "d=pairwise.pairwise_distances(stocks_df, metric='euclidean')\n",
    "pd.DataFrame (d,columns=stocks_df.index, index=stocks_df.index).head(10)"
   ]
  },
  {
   "cell_type": "code",
   "execution_count": null,
   "id": "e7d4451f",
   "metadata": {},
   "outputs": [],
   "source": [
    "stocks_df_norm=stocks_df.apply(preprocessing.scale,axis=0)\n",
    "stocks_df_norm=(stocks_df-stocks_df.mean())/stocks_df.std()\n",
    "#compute the normalized distances:\n",
    "d_norm= pairwise.pairwise_distances(stocks_df_norm, metric='euclidean')\n",
    "pd.DataFrame (d_norm,columns=stocks_df_norm.index, index=stocks_df.index).head(10)"
   ]
  },
  {
   "cell_type": "code",
   "execution_count": null,
   "id": "ae273bce",
   "metadata": {},
   "outputs": [],
   "source": [
    "Z=linkage(stocks_df_norm, method='single')\n",
    "\n",
    "fig=plt.figure(figsize=(10,6))\n",
    "fig.subplots_adjust(bottom=0.23)\n",
    "plt.title('Hierarchical Clutering (Single Linkage)')\n",
    "plt.xlabel('Company')\n",
    "dendrogram(Z,labels=stocks_df_norm.index,color_threshold=2.75)\n",
    "plt.axhline(y=2.75,color='black', linewidth=0.8,linestyle='dashed')\n",
    "plt.show()"
   ]
  },
  {
   "cell_type": "code",
   "execution_count": null,
   "id": "83ac7dfb",
   "metadata": {},
   "outputs": [],
   "source": [
    "Z=linkage(stocks_df_norm, method='average')\n",
    "\n",
    "fig=plt.figure(figsize=(10,6))\n",
    "fig.subplots_adjust(bottom=0.23)\n",
    "plt.title('Hierarchical Clustering (Single Linkage)')\n",
    "plt.xlabel('Company')\n",
    "dendrogram(Z,labels=stocks_df_norm.index,color_threshold=2.75)\n",
    "plt.axhline(y=2.75,color='black', linewidth=0.8,linestyle='dashed')\n",
    "plt.show()"
   ]
  },
  {
   "cell_type": "code",
   "execution_count": null,
   "id": "847b94b3",
   "metadata": {},
   "outputs": [],
   "source": [
    "memb=fcluster(linkage(stocks_df_norm,'single'),6,criterion='maxclust')\n",
    "memb=pd.Series(memb, index=stocks_df_norm.index)\n",
    "for key, item in memb.groupby(memb):\n",
    "    print(key,':',','.join(item.index))"
   ]
  },
  {
   "cell_type": "code",
   "execution_count": null,
   "id": "bab85477",
   "metadata": {},
   "outputs": [],
   "source": [
    "stocks_df_norm.index=['{}:{}'.format(cluster,state) for cluster, state in zip(memb, stocks_df_norm.index)]\n",
    "sns.clustermap(stocks_df_norm,method='single',col_cluster=False,cmap=\"mako_r\")\n",
    "plt.show()"
   ]
  },
  {
   "cell_type": "markdown",
   "id": "4964856d",
   "metadata": {},
   "source": [
    "# K-Means Clustering"
   ]
  },
  {
   "cell_type": "code",
   "execution_count": null,
   "id": "b7ed50e0",
   "metadata": {},
   "outputs": [],
   "source": [
    "kmeans=KMeans(n_clusters=4,random_state=0).fit(stocks_df_norm)"
   ]
  },
  {
   "cell_type": "code",
   "execution_count": null,
   "id": "1b523b69",
   "metadata": {},
   "outputs": [],
   "source": [
    "memb=pd.Series(kmeans.labels_,index=stocks_df_norm.index)\n",
    "for key,item in memb.groupby(memb):\n",
    "    print(key,':',','.join(item.index))"
   ]
  },
  {
   "cell_type": "code",
   "execution_count": null,
   "id": "4b00845f",
   "metadata": {},
   "outputs": [],
   "source": [
    "inertia = []\n",
    "for n_clusters in range(1, 7):\n",
    "    kmeans = KMeans(n_clusters=n_clusters, random_state=0).fit(stocks_df_norm)\n",
    "    inertia.append(kmeans.inertia_ / n_clusters)\n",
    "inertias = pd.DataFrame({'n_clusters': range(1, 7), 'inertia': inertia})\n",
    "ax = inertias.plot(x='n_clusters', y='inertia')\n",
    "plt.xlabel('Number of clusters(k)')\n",
    "plt.ylabel('Average Within-Cluster Squared Distances')\n",
    "plt.ylim((0, 1.1 * inertias.inertia.max()))\n",
    "ax.legend().set_visible(False)\n",
    "plt.show()"
   ]
  }
 ],
 "metadata": {
  "kernelspec": {
   "display_name": "Python 3 (ipykernel)",
   "language": "python",
   "name": "python3"
  },
  "language_info": {
   "codemirror_mode": {
    "name": "ipython",
    "version": 3
   },
   "file_extension": ".py",
   "mimetype": "text/x-python",
   "name": "python",
   "nbconvert_exporter": "python",
   "pygments_lexer": "ipython3",
   "version": "3.11.5"
  }
 },
 "nbformat": 4,
 "nbformat_minor": 5
}
