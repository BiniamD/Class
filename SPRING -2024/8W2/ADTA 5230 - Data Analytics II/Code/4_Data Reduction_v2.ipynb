{
 "cells": [
  {
   "cell_type": "code",
   "execution_count": null,
   "id": "5eb0b39b",
   "metadata": {
    "id": "5eb0b39b"
   },
   "outputs": [],
   "source": [
    "# This code is prepared by Orhan Erdem"
   ]
  },
  {
   "cell_type": "code",
   "execution_count": null,
   "id": "8UZw6OpLnwJt",
   "metadata": {
    "id": "8UZw6OpLnwJt"
   },
   "outputs": [],
   "source": [
    "from pathlib import Path\n",
    "import numpy as np\n",
    "import pandas as pd\n",
    "import seaborn as sns\n",
    "from sklearn.decomposition import PCA\n",
    "from sklearn import preprocessing\n",
    "import matplotlib.pylab as plt\n",
    "\n",
    "%matplotlib inline"
   ]
  },
  {
   "cell_type": "code",
   "execution_count": null,
   "id": "3d3d65b0",
   "metadata": {
    "id": "3d3d65b0"
   },
   "outputs": [],
   "source": [
    "housing_df=pd.read_csv('BostonHousing.csv')"
   ]
  },
  {
   "cell_type": "code",
   "execution_count": null,
   "id": "dd0484b2",
   "metadata": {
    "id": "dd0484b2",
    "outputId": "dd23d94c-cee8-482b-e137-3595c0719f7e"
   },
   "outputs": [],
   "source": [
    "housing_df.head(10)"
   ]
  },
  {
   "cell_type": "code",
   "execution_count": null,
   "id": "d9ed9a0f",
   "metadata": {
    "id": "d9ed9a0f",
    "outputId": "a8f185ab-4c5d-4fdc-aa18-0c60e0a64b91"
   },
   "outputs": [],
   "source": [
    "housing_df.describe()"
   ]
  },
  {
   "cell_type": "code",
   "execution_count": null,
   "id": "a655c207",
   "metadata": {
    "id": "a655c207",
    "outputId": "561c7e9e-5dc7-4d05-8b88-0f354aaffb06"
   },
   "outputs": [],
   "source": [
    "housing_df['CRIM'].describe()"
   ]
  },
  {
   "cell_type": "code",
   "execution_count": null,
   "id": "c80d8fd5",
   "metadata": {
    "id": "c80d8fd5",
    "outputId": "6c681ad7-2852-4394-811a-951e45c3a476"
   },
   "outputs": [],
   "source": [
    "housing_df['CRIM'].mean()"
   ]
  },
  {
   "cell_type": "code",
   "execution_count": null,
   "id": "87a4ba90",
   "metadata": {
    "id": "87a4ba90",
    "outputId": "ac60e1fa-0f06-438c-c307-88e4a8143ee0"
   },
   "outputs": [],
   "source": [
    "print('The mean value of the crime variable is', housing_df['CRIM'].mean().round(2))"
   ]
  },
  {
   "cell_type": "code",
   "execution_count": null,
   "id": "aaddac48",
   "metadata": {
    "id": "aaddac48",
    "outputId": "a1c88e0f-fbf8-41d3-949d-05701e0d029e"
   },
   "outputs": [],
   "source": [
    "housing_df.isnull().sum()"
   ]
  },
  {
   "cell_type": "code",
   "execution_count": null,
   "id": "031674a2",
   "metadata": {
    "id": "031674a2",
    "outputId": "17e7c555-56ab-47b1-fc97-f8c2e450125e",
    "scrolled": true
   },
   "outputs": [],
   "source": [
    "housing_df.corr().round(2)"
   ]
  },
  {
   "cell_type": "code",
   "execution_count": null,
   "id": "fd8f40e6",
   "metadata": {
    "id": "fd8f40e6",
    "outputId": "a6a051fc-9229-4dc7-c36a-b5cb253859d2"
   },
   "outputs": [],
   "source": [
    "corr=housing_df.corr().round(1)\n",
    "sns.heatmap(corr,xticklabels=corr.columns,yticklabels=corr.columns, annot=True)\n",
    "plt.show()\n"
   ]
  },
  {
   "cell_type": "markdown",
   "id": "53216e89",
   "metadata": {
    "id": "53216e89"
   },
   "source": [
    "# Principal Component Analysis with Cereal Data"
   ]
  },
  {
   "cell_type": "code",
   "execution_count": null,
   "id": "285b8b5c",
   "metadata": {
    "id": "285b8b5c"
   },
   "outputs": [],
   "source": [
    "#This data is from here: http://lib.stat.cmu.edu/datasets/1993.expo/cereal"
   ]
  },
  {
   "cell_type": "code",
   "execution_count": null,
   "id": "7864df34",
   "metadata": {
    "id": "7864df34",
    "outputId": "4fc9ed2b-4d03-420e-e106-1c5d167fa87e"
   },
   "outputs": [],
   "source": [
    "cereal_df=pd.read_excel('cereal.xlsx', index_col=0)\n",
    "cereal_df.head()"
   ]
  },
  {
   "cell_type": "code",
   "execution_count": null,
   "id": "f1eefc6b",
   "metadata": {
    "id": "f1eefc6b",
    "outputId": "96f0c5fa-545b-48c2-913b-f3fbc304ae07"
   },
   "outputs": [],
   "source": [
    "cereal_df.describe()"
   ]
  },
  {
   "cell_type": "code",
   "execution_count": null,
   "id": "5cbba674",
   "metadata": {},
   "outputs": [],
   "source": [
    "#Before calculating the correlation coefficients, we need to drop the non-numeric columns.\n",
    "cereal_df.drop(['mfr','Type'],axis=1, inplace=True)"
   ]
  },
  {
   "cell_type": "markdown",
   "id": "e4db8224",
   "metadata": {},
   "source": [
    "In this context, axis=1 indicates that the operation targets columns, while axis=0 would target rows. To remove multiple columns, such as ‘mfr’ and ‘Type’, the command would be df.drop(['mfr', 'Type'], axis=1, inplace=True). \n",
    "\n"
   ]
  },
  {
   "cell_type": "markdown",
   "id": "fbf31186",
   "metadata": {},
   "source": [
    "The inplace parameter specifies whether the operation should modify the original DataFrame (df) or return a new DataFrame with the changes. When inplace=True, the original DataFrame (df) is modified, and the specified column ('mfr') is dropped from it directly. This means that after the execution of this command, df will no longer have the column 'mfr'. If inplace were set to False (or not specified, as False is the default value), the operation would return a new DataFrame with the column 'mfr' dropped, but the original df would remain unchanged."
   ]
  },
  {
   "cell_type": "code",
   "execution_count": null,
   "id": "20493bf6",
   "metadata": {
    "id": "20493bf6",
    "outputId": "248f5652-038b-45c1-cc13-0180fcd1be9e"
   },
   "outputs": [],
   "source": [
    "corr=cereal_df.corr().round(1)\n",
    "sns.heatmap(corr,xticklabels=corr.columns,yticklabels=corr.columns,annot=True)\n",
    "plt.show()"
   ]
  },
  {
   "cell_type": "code",
   "execution_count": null,
   "id": "72f8cbc7",
   "metadata": {
    "id": "72f8cbc7",
    "outputId": "80379289-d4f6-4001-c37d-4c135e7dfe42"
   },
   "outputs": [],
   "source": [
    "pca=PCA(n_components=1)\n",
    "pca.fit(preprocessing.scale(cereal_df[['calories','sugar']]))"
   ]
  },
  {
   "cell_type": "code",
   "execution_count": null,
   "id": "ee3a4bd3",
   "metadata": {
    "id": "ee3a4bd3",
    "outputId": "4a2d806c-6103-42e8-e67f-18f1eca7c325"
   },
   "outputs": [],
   "source": [
    "pcaSummary=pd.DataFrame({'Standard Deviation':np.sqrt(pca.explained_variance_),\n",
    "                        'Proportion of variance': pca.explained_variance_ratio_,\n",
    "                        'Cumulative proportion': np.cumsum(pca.explained_variance_ratio_)})\n",
    "pcaSummary=pcaSummary.transpose()\n",
    "pcaSummary.columns=['PC1']\n",
    "pcaSummary.round(4)"
   ]
  },
  {
   "cell_type": "code",
   "execution_count": null,
   "id": "6512fcd7",
   "metadata": {
    "id": "6512fcd7",
    "outputId": "7d7b4232-e74c-4379-8e8d-0f243978e3e9"
   },
   "outputs": [],
   "source": [
    "scores=pd.DataFrame(pca.transform(cereal_df[['calories','sugar']]),\n",
    "                   columns=['PC1'])\n",
    "scores.head()"
   ]
  },
  {
   "cell_type": "markdown",
   "id": "b42a37dc",
   "metadata": {
    "id": "b42a37dc"
   },
   "source": [
    "# PCA with 12 variables"
   ]
  },
  {
   "cell_type": "code",
   "execution_count": null,
   "id": "7d9b9eef",
   "metadata": {
    "id": "7d9b9eef",
    "outputId": "f14b1732-88ad-4327-d3f6-64a2791ae921"
   },
   "outputs": [],
   "source": [
    "pca2=PCA(n_components=5)\n",
    "pca2.fit(preprocessing.scale(cereal_df.iloc[:,3:].dropna(axis=0)))"
   ]
  },
  {
   "cell_type": "code",
   "execution_count": null,
   "id": "5d78192f",
   "metadata": {
    "id": "5d78192f",
    "outputId": "64855bdf-4a76-47e5-a62b-f9c24f8dafe4"
   },
   "outputs": [],
   "source": [
    "pca2Summary=pd.DataFrame({'Standard Deviation':np.sqrt(pca2.explained_variance_),\n",
    "                        'Proportion of variance': pca2.explained_variance_ratio_,\n",
    "                        'Cumulative proportion': np.cumsum(pca2.explained_variance_ratio_)})\n",
    "pca2Summary=pca2Summary.transpose()\n",
    "pca2Summary.columns=['PC1','PC2','PC3','PC4', 'PC5']\n",
    "pca2Summary.round(4)"
   ]
  },
  {
   "cell_type": "code",
   "execution_count": null,
   "id": "90018331",
   "metadata": {
    "id": "90018331",
    "outputId": "ac5bee4b-3d32-4cef-af29-b0017c9fb8d7"
   },
   "outputs": [],
   "source": [
    "df_comp=pd.DataFrame(pca2.components_,columns=cereal_df.iloc[:,3:].columns)\n",
    "df_comp"
   ]
  },
  {
   "cell_type": "code",
   "execution_count": null,
   "id": "73df6678",
   "metadata": {
    "id": "73df6678",
    "outputId": "f2268bed-a9f9-4090-8534-32e10825a3b8"
   },
   "outputs": [],
   "source": [
    "scores=pd.DataFrame(pca2.transform(cereal_df.iloc[:,3:]),columns=['PC1','PC2','PC3','PC4', 'PC5'])\n",
    "scores.head()"
   ]
  },
  {
   "cell_type": "code",
   "execution_count": null,
   "id": "40fed631",
   "metadata": {
    "id": "40fed631",
    "outputId": "9a90bf02-c95f-4c51-9747-30c4b3a41a0c"
   },
   "outputs": [],
   "source": [
    "sns.heatmap(df_comp,cmap='plasma')"
   ]
  },
  {
   "cell_type": "markdown",
   "id": "863be8ea",
   "metadata": {
    "id": "863be8ea"
   },
   "source": [
    "# Extra Material"
   ]
  },
  {
   "cell_type": "code",
   "execution_count": null,
   "id": "eb88c852",
   "metadata": {
    "id": "eb88c852"
   },
   "outputs": [],
   "source": [
    "%%capture\n",
    "fig,axes=plt.subplots(1,2,figsize=(15,6))\n",
    "ticks=np.arange(pca2.n_components_)+1\n",
    "ax=axes[0]\n",
    "ax.plot(ticks,\n",
    "       pca2.explained_variance_ratio_,\n",
    "       marker='o')\n",
    "ax.set_xlabel('Principal Component')\n",
    "ax.set_ylabel('Proportion of Variance Explained')\n",
    "ax.set_ylim([0,1])\n",
    "ax.set_xticks(ticks)\n",
    "fig"
   ]
  },
  {
   "cell_type": "code",
   "execution_count": null,
   "id": "701ddd1f",
   "metadata": {
    "id": "701ddd1f",
    "outputId": "f61e8599-4264-4e55-8787-1f4075636edc"
   },
   "outputs": [],
   "source": [
    "ax=axes[1]\n",
    "ax.plot(ticks,\n",
    "       pca2.explained_variance_ratio_.cumsum(),\n",
    "       marker='o')\n",
    "ax.set_xlabel('Principal Component')\n",
    "ax.set_ylabel('Cumulative Proportion of Variance Explained')\n",
    "ax.set_ylim([0,1])\n",
    "ax.set_xticks(ticks)\n",
    "fig"
   ]
  }
 ],
 "metadata": {
  "colab": {
   "provenance": []
  },
  "kernelspec": {
   "display_name": "Python 3 (ipykernel)",
   "language": "python",
   "name": "python3"
  },
  "language_info": {
   "codemirror_mode": {
    "name": "ipython",
    "version": 3
   },
   "file_extension": ".py",
   "mimetype": "text/x-python",
   "name": "python",
   "nbconvert_exporter": "python",
   "pygments_lexer": "ipython3",
   "version": "3.11.5"
  }
 },
 "nbformat": 4,
 "nbformat_minor": 5
}
