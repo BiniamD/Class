{
 "cells": [
  {
   "cell_type": "code",
   "execution_count": 3,
   "id": "b97f2420",
   "metadata": {},
   "outputs": [],
   "source": [
    "import pandas as pd\n",
    "import numpy as np"
   ]
  },
  {
   "cell_type": "code",
   "execution_count": 4,
   "id": "f2603f03",
   "metadata": {},
   "outputs": [],
   "source": [
    "returns_df=pd.read_excel('Stock_returns.xlsx')"
   ]
  },
  {
   "cell_type": "code",
   "execution_count": null,
   "id": "3a6221dc",
   "metadata": {},
   "outputs": [],
   "source": [
    "# pd.read_csv"
   ]
  },
  {
   "cell_type": "code",
   "execution_count": null,
   "id": "1ce72695",
   "metadata": {},
   "outputs": [],
   "source": [
    "returns_df.head(5)"
   ]
  },
  {
   "cell_type": "code",
   "execution_count": null,
   "id": "604260d6",
   "metadata": {},
   "outputs": [],
   "source": [
    "returns_df.info()"
   ]
  },
  {
   "cell_type": "code",
   "execution_count": null,
   "id": "229c05fc",
   "metadata": {},
   "outputs": [],
   "source": [
    "returns_df['Apple'].describe()"
   ]
  },
  {
   "cell_type": "code",
   "execution_count": null,
   "id": "56a81db2",
   "metadata": {},
   "outputs": [],
   "source": [
    "returns_df.describe()"
   ]
  },
  {
   "cell_type": "code",
   "execution_count": null,
   "id": "6ffb68de",
   "metadata": {},
   "outputs": [],
   "source": [
    "returns_df.columns"
   ]
  },
  {
   "cell_type": "markdown",
   "id": "237b9478",
   "metadata": {},
   "source": [
    "# Accessing Subsets of Data"
   ]
  },
  {
   "cell_type": "code",
   "execution_count": null,
   "id": "fa9b0919",
   "metadata": {},
   "outputs": [],
   "source": [
    "returns_df.loc[0:3]  # for loc, the second index in the slice is inclusive"
   ]
  },
  {
   "cell_type": "code",
   "execution_count": null,
   "id": "219f930c",
   "metadata": {},
   "outputs": [],
   "source": [
    "returns_df.iloc[0:4] # for iloc, the second index in the slice is exclusive"
   ]
  },
  {
   "cell_type": "code",
   "execution_count": null,
   "id": "d4e7c08e",
   "metadata": {},
   "outputs": [],
   "source": [
    "returns_df['Amazon'].iloc[0:10]"
   ]
  },
  {
   "cell_type": "code",
   "execution_count": null,
   "id": "e8b785a5",
   "metadata": {},
   "outputs": [],
   "source": [
    "returns_df.iloc[0:10]['Amazon']"
   ]
  },
  {
   "cell_type": "code",
   "execution_count": null,
   "id": "1c109467",
   "metadata": {},
   "outputs": [],
   "source": [
    "returns_df.iloc[0:10].Amazon"
   ]
  },
  {
   "cell_type": "code",
   "execution_count": null,
   "id": "a7a7639a",
   "metadata": {},
   "outputs": [],
   "source": [
    "returns_df.iloc[4:10,0:3]"
   ]
  },
  {
   "cell_type": "code",
   "execution_count": null,
   "id": "8042aab3",
   "metadata": {},
   "outputs": [],
   "source": [
    "pd.concat([returns_df.iloc[4:6,0:2],returns_df.iloc[4:6,4:5]],axis=1)\n"
   ]
  },
  {
   "cell_type": "code",
   "execution_count": null,
   "id": "9233aac9",
   "metadata": {},
   "outputs": [],
   "source": [
    "returns_df['Msft'][20:30]"
   ]
  },
  {
   "cell_type": "code",
   "execution_count": null,
   "id": "56cb424e",
   "metadata": {},
   "outputs": [],
   "source": [
    "print('Number of rows', len(returns_df['Apple']))"
   ]
  },
  {
   "cell_type": "code",
   "execution_count": null,
   "id": "8f0c14bd",
   "metadata": {},
   "outputs": [],
   "source": [
    "print('Mean of Apple',returns_df['Apple'].mean().round(3))"
   ]
  },
  {
   "cell_type": "code",
   "execution_count": null,
   "id": "6d1f6259",
   "metadata": {},
   "outputs": [],
   "source": [
    "returns_df.sample(10)"
   ]
  },
  {
   "cell_type": "code",
   "execution_count": null,
   "id": "98963fbf",
   "metadata": {},
   "outputs": [],
   "source": [
    "returns_df.dtypes"
   ]
  },
  {
   "cell_type": "markdown",
   "id": "5e587642",
   "metadata": {},
   "source": [
    "# A Different Data Set: 2023_Roxbury\n"
   ]
  },
  {
   "cell_type": "code",
   "execution_count": null,
   "id": "d4c3df4a",
   "metadata": {},
   "outputs": [],
   "source": [
    "house_df=pd.read_excel('2023_Roxbury.xlsx')"
   ]
  },
  {
   "cell_type": "markdown",
   "id": "39a51236",
   "metadata": {},
   "source": [
    "#This data is a slightly cleaned and organized version of the Boston house prices data, which can be found here: https://data.boston.gov/dataset/property-assessment"
   ]
  },
  {
   "cell_type": "code",
   "execution_count": null,
   "id": "5aac16e4",
   "metadata": {},
   "outputs": [],
   "source": [
    "house_df.head()"
   ]
  },
  {
   "cell_type": "code",
   "execution_count": null,
   "id": "061f3399",
   "metadata": {},
   "outputs": [],
   "source": [
    "house_df.columns"
   ]
  },
  {
   "cell_type": "code",
   "execution_count": null,
   "id": "cbe66b0b",
   "metadata": {},
   "outputs": [],
   "source": [
    "house_df.describe()"
   ]
  },
  {
   "cell_type": "markdown",
   "id": "55139c56",
   "metadata": {},
   "source": [
    "### MISSING VALUES"
   ]
  },
  {
   "cell_type": "code",
   "execution_count": null,
   "id": "49474579",
   "metadata": {},
   "outputs": [],
   "source": [
    "reduced_df=house_df.dropna()"
   ]
  },
  {
   "cell_type": "code",
   "execution_count": null,
   "id": "200ec17c",
   "metadata": {},
   "outputs": [],
   "source": [
    "print('Number of rows after removing rows with missing values: ',\n",
    "     len(reduced_df))"
   ]
  },
  {
   "cell_type": "code",
   "execution_count": null,
   "id": "d5d05f42",
   "metadata": {},
   "outputs": [],
   "source": [
    "medianBedrooms=house_df['BED_RMS'].median()\n",
    "house_df.BED_RMS=house_df.BED_RMS.fillna(value=medianBedrooms)"
   ]
  },
  {
   "cell_type": "code",
   "execution_count": null,
   "id": "09b2ef7a",
   "metadata": {},
   "outputs": [],
   "source": [
    "print('Number of rows after filling the missing values with median is: ',\n",
    "     len(house_df['BED_RMS']))"
   ]
  },
  {
   "cell_type": "markdown",
   "id": "d976f748",
   "metadata": {},
   "source": [
    "### Normalizing the Data"
   ]
  },
  {
   "cell_type": "code",
   "execution_count": null,
   "id": "804f4f1f",
   "metadata": {},
   "outputs": [],
   "source": [
    "house_df.describe()"
   ]
  },
  {
   "cell_type": "code",
   "execution_count": null,
   "id": "a2d25e0c",
   "metadata": {},
   "outputs": [],
   "source": [
    "house_df_v2=house_df.dropna()"
   ]
  },
  {
   "cell_type": "code",
   "execution_count": null,
   "id": "18d3ea31",
   "metadata": {},
   "outputs": [],
   "source": [
    "house_df_v2.drop(['LU','HEAT_TYPE','PROP_VIEW'], axis=1, inplace=True)\n"
   ]
  },
  {
   "cell_type": "code",
   "execution_count": null,
   "id": "0dd6ccab",
   "metadata": {},
   "outputs": [],
   "source": [
    "normalized_house_df=(house_df_v2-house_df_v2.mean())/house_df_v2.std()"
   ]
  },
  {
   "cell_type": "code",
   "execution_count": null,
   "id": "408f1852",
   "metadata": {},
   "outputs": [],
   "source": [
    "normalized_house_df.describe()"
   ]
  },
  {
   "cell_type": "markdown",
   "id": "f75e40f7",
   "metadata": {},
   "source": [
    "# Regression"
   ]
  },
  {
   "cell_type": "code",
   "execution_count": null,
   "id": "58292d35",
   "metadata": {},
   "outputs": [],
   "source": [
    "import seaborn as sns\n",
    "import matplotlib.pyplot as plt\n",
    "sns.regplot(x='Spx',y='Apple', data=returns_df)\n",
    "plt.xlabel('SP500 Returns')\n",
    "plt.ylabel('Apple Returns')\n",
    "plt.title ('Relationship between SP500 and Apple')"
   ]
  },
  {
   "cell_type": "markdown",
   "id": "b1efa67d",
   "metadata": {},
   "source": [
    "# (OPTIONAL) Machine Learning Approach"
   ]
  },
  {
   "cell_type": "code",
   "execution_count": 1,
   "id": "a64f12fe",
   "metadata": {},
   "outputs": [],
   "source": [
    "from sklearn.model_selection import train_test_split\n",
    "from sklearn.linear_model import LinearRegression"
   ]
  },
  {
   "cell_type": "code",
   "execution_count": 5,
   "id": "3259ecb7",
   "metadata": {},
   "outputs": [],
   "source": [
    "excludeColumns=('Amazon','Date','Msft','Ibm','Apple')\n",
    "predictors=[s for s in returns_df.columns if s not in excludeColumns]\n",
    "outcome='Apple'\n",
    "\n",
    "X=returns_df[predictors]\n",
    "y=returns_df[outcome]"
   ]
  },
  {
   "cell_type": "code",
   "execution_count": 6,
   "id": "956ef97d",
   "metadata": {},
   "outputs": [],
   "source": [
    "X_train, X_test, y_train, y_test = train_test_split(X, y, test_size=0.4, random_state=101)"
   ]
  },
  {
   "cell_type": "code",
   "execution_count": 7,
   "id": "e79aea93",
   "metadata": {},
   "outputs": [],
   "source": [
    "model=LinearRegression()\n",
    "model.fit(X_train,y_train)\n",
    "y_pred=model.predict(X_train)"
   ]
  },
  {
   "cell_type": "code",
   "execution_count": 8,
   "id": "aad3c211",
   "metadata": {},
   "outputs": [
    {
     "name": "stdout",
     "output_type": "stream",
     "text": [
      "         Apple  predicted  residual\n",
      "1884  0.019234   0.005594  0.013639\n",
      "360  -0.007588  -0.005349 -0.002239\n",
      "1814  0.007712   0.004771  0.002941\n",
      "1649 -0.016099  -0.033253  0.017153\n",
      "412   0.001231   0.003065 -0.001834\n"
     ]
    }
   ],
   "source": [
    "train_results = pd.DataFrame({\n",
    "    'Apple': y_train,\n",
    "    'predicted': y_pred,\n",
    "    'residual': y_train - y_pred\n",
    "})\n",
    "print(train_results.head())"
   ]
  },
  {
   "cell_type": "code",
   "execution_count": 9,
   "id": "0f7aa292",
   "metadata": {},
   "outputs": [
    {
     "data": {
      "text/plain": [
       "1884    0.019234\n",
       "360    -0.007588\n",
       "1814    0.007712\n",
       "1649   -0.016099\n",
       "412     0.001231\n",
       "Name: Apple, dtype: float64"
      ]
     },
     "execution_count": 9,
     "metadata": {},
     "output_type": "execute_result"
    }
   ],
   "source": [
    "y_train.head()"
   ]
  },
  {
   "cell_type": "code",
   "execution_count": 10,
   "id": "3c04e2b7",
   "metadata": {},
   "outputs": [
    {
     "data": {
      "text/html": [
       "<div>\n",
       "<style scoped>\n",
       "    .dataframe tbody tr th:only-of-type {\n",
       "        vertical-align: middle;\n",
       "    }\n",
       "\n",
       "    .dataframe tbody tr th {\n",
       "        vertical-align: top;\n",
       "    }\n",
       "\n",
       "    .dataframe thead th {\n",
       "        text-align: right;\n",
       "    }\n",
       "</style>\n",
       "<table border=\"1\" class=\"dataframe\">\n",
       "  <thead>\n",
       "    <tr style=\"text-align: right;\">\n",
       "      <th></th>\n",
       "      <th>Spx</th>\n",
       "    </tr>\n",
       "  </thead>\n",
       "  <tbody>\n",
       "    <tr>\n",
       "      <th>1884</th>\n",
       "      <td>0.004221</td>\n",
       "    </tr>\n",
       "    <tr>\n",
       "      <th>360</th>\n",
       "      <td>-0.004873</td>\n",
       "    </tr>\n",
       "    <tr>\n",
       "      <th>1814</th>\n",
       "      <td>0.003537</td>\n",
       "    </tr>\n",
       "    <tr>\n",
       "      <th>1649</th>\n",
       "      <td>-0.028059</td>\n",
       "    </tr>\n",
       "    <tr>\n",
       "      <th>412</th>\n",
       "      <td>0.002119</td>\n",
       "    </tr>\n",
       "  </tbody>\n",
       "</table>\n",
       "</div>"
      ],
      "text/plain": [
       "           Spx\n",
       "1884  0.004221\n",
       "360  -0.004873\n",
       "1814  0.003537\n",
       "1649 -0.028059\n",
       "412   0.002119"
      ]
     },
     "execution_count": 10,
     "metadata": {},
     "output_type": "execute_result"
    }
   ],
   "source": [
    "X_train.head()"
   ]
  },
  {
   "cell_type": "code",
   "execution_count": 11,
   "id": "f75c6218",
   "metadata": {},
   "outputs": [
    {
     "name": "stdout",
     "output_type": "stream",
     "text": [
      "Intercept: 0.000515011427237597\n",
      "Slope: [1.20344529]\n"
     ]
    }
   ],
   "source": [
    "print('Intercept:',model.intercept_)\n",
    "print('Slope:',model.coef_)"
   ]
  },
  {
   "cell_type": "code",
   "execution_count": 12,
   "id": "e51e757b",
   "metadata": {},
   "outputs": [
    {
     "name": "stdout",
     "output_type": "stream",
     "text": [
      "         Apple  predicted  residual\n",
      "994  -0.009779   0.001295 -0.011074\n",
      "2406 -0.009913  -0.008172 -0.001741\n",
      "321   0.026016   0.018891  0.007124\n",
      "1612  0.072022   0.059961  0.012061\n",
      "212   0.004923   0.000441  0.004482\n"
     ]
    }
   ],
   "source": [
    "valid_pred = model.predict(X_test)\n",
    "valid_results = pd.DataFrame({\n",
    "    'Apple': y_test,\n",
    "    'predicted': valid_pred,\n",
    "    'residual': y_test - valid_pred\n",
    "})\n",
    "print(valid_results.head())"
   ]
  },
  {
   "cell_type": "code",
   "execution_count": 13,
   "id": "45c49a2a",
   "metadata": {},
   "outputs": [
    {
     "name": "stdout",
     "output_type": "stream",
     "text": [
      "Training set r2:  0.5608262941008804\n",
      "Validation set r2:  0.5212017769522648\n"
     ]
    }
   ],
   "source": [
    "from sklearn.metrics import r2_score\n",
    "print('Training set r2: ', r2_score(train_results.Apple, train_results.predicted))\n",
    "print('Validation set r2: ', r2_score(valid_results.Apple, valid_results.predicted))"
   ]
  },
  {
   "cell_type": "markdown",
   "id": "7d352e33",
   "metadata": {},
   "source": [
    "# Mean Squared Error"
   ]
  },
  {
   "cell_type": "code",
   "execution_count": 15,
   "id": "0eb9d1f4",
   "metadata": {},
   "outputs": [
    {
     "name": "stdout",
     "output_type": "stream",
     "text": [
      "Mean Squared Error:  0.00014305699435155047\n"
     ]
    }
   ],
   "source": [
    "# Evaluate the model's performance\n",
    "from sklearn.metrics import mean_squared_error\n",
    "mse = mean_squared_error(y_test, valid_pred)\n",
    "print(\"Mean Squared Error: \", mse)"
   ]
  },
  {
   "cell_type": "code",
   "execution_count": 16,
   "id": "00aff742",
   "metadata": {},
   "outputs": [],
   "source": [
    "# This code is prepared by Orhan Erdem"
   ]
  },
  {
   "cell_type": "code",
   "execution_count": null,
   "id": "c16c73f3",
   "metadata": {},
   "outputs": [],
   "source": []
  }
 ],
 "metadata": {
  "kernelspec": {
   "display_name": "Python 3 (ipykernel)",
   "language": "python",
   "name": "python3"
  },
  "language_info": {
   "codemirror_mode": {
    "name": "ipython",
    "version": 3
   },
   "file_extension": ".py",
   "mimetype": "text/x-python",
   "name": "python",
   "nbconvert_exporter": "python",
   "pygments_lexer": "ipython3",
   "version": "3.11.5"
  }
 },
 "nbformat": 4,
 "nbformat_minor": 5
}
