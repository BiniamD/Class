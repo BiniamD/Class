{
 "cells": [
  {
   "cell_type": "code",
   "execution_count": 2,
   "id": "8487e0aa",
   "metadata": {},
   "outputs": [],
   "source": [
    "!pip install tensorflow"
   ]
  },
  {
   "cell_type": "code",
   "execution_count": 1,
   "id": "67dc16c8",
   "metadata": {},
   "outputs": [
    {
     "ename": "ModuleNotFoundError",
     "evalue": "No module named 'tensorflow'",
     "output_type": "error",
     "traceback": [
      "\u001b[1;31m---------------------------------------------------------------------------\u001b[0m",
      "\u001b[1;31mModuleNotFoundError\u001b[0m                       Traceback (most recent call last)",
      "Cell \u001b[1;32mIn[1], line 3\u001b[0m\n\u001b[0;32m      1\u001b[0m \u001b[38;5;28;01mimport\u001b[39;00m \u001b[38;5;21;01mwarnings\u001b[39;00m\n\u001b[0;32m      2\u001b[0m warnings\u001b[38;5;241m.\u001b[39mfilterwarnings(\u001b[38;5;124m\"\u001b[39m\u001b[38;5;124mignore\u001b[39m\u001b[38;5;124m\"\u001b[39m)\n\u001b[1;32m----> 3\u001b[0m \u001b[38;5;28;01mimport\u001b[39;00m \u001b[38;5;21;01mtensorflow\u001b[39;00m \u001b[38;5;28;01mas\u001b[39;00m \u001b[38;5;21;01mtf\u001b[39;00m \u001b[38;5;66;03m###\u001b[39;00m\n\u001b[0;32m      4\u001b[0m \u001b[38;5;28mprint\u001b[39m(tf\u001b[38;5;241m.\u001b[39m__version__)\n",
      "\u001b[1;31mModuleNotFoundError\u001b[0m: No module named 'tensorflow'"
     ]
    }
   ],
   "source": [
    "import warnings\n",
    "warnings.filterwarnings(\"ignore\")\n",
    "import tensorflow as tf ### Importing Tensorflow\n",
    "print(tf.__version__) ### Printing the version of Tensorflow\n"
   ]
  },
  {
   "cell_type": "code",
   "execution_count": null,
   "id": "0cf1d4de",
   "metadata": {},
   "outputs": [],
   "source": [
    "str1 = tf.constant(\"Hello\")\n",
    "str2 = tf.constant(\" World\")"
   ]
  },
  {
   "cell_type": "code",
   "execution_count": null,
   "id": "33a84d6f",
   "metadata": {},
   "outputs": [],
   "source": [
    "type(str1)"
   ]
  },
  {
   "cell_type": "code",
   "execution_count": null,
   "id": "312c46fa",
   "metadata": {},
   "outputs": [],
   "source": [
    "print(str1)"
   ]
  },
  {
   "cell_type": "code",
   "execution_count": null,
   "id": "931cfb96",
   "metadata": {},
   "outputs": [],
   "source": [
    "# operations happen in a tf.session() \n",
    "with tf.Session() as sess:\n",
    "    result = sess.run(str1+str2)\n",
    "    print(result)"
   ]
  },
  {
   "cell_type": "code",
   "execution_count": null,
   "id": "b76236a7",
   "metadata": {},
   "outputs": [],
   "source": [
    "str_final = str1+str2\n",
    "with tf.Session() as sess:\n",
    "    print(sess.run(str_final))\n",
    "    print(str_final.eval())"
   ]
  },
  {
   "cell_type": "code",
   "execution_count": null,
   "id": "61f30d0d",
   "metadata": {},
   "outputs": [],
   "source": [
    "const = tf.constant(10)\n",
    "int_mat = tf.fill((3,3),10)\n",
    "zero = tf.zeros((3,3))\n",
    "one = tf.ones((3,3))\n",
    "rand_n = tf.random_normal((3,3), mean=0, stddev=1.0)\n",
    "rand_u = tf.random_uniform((3,3), minval=0, maxval=1)\n",
    "    "
   ]
  },
  {
   "cell_type": "code",
   "execution_count": null,
   "id": "7b9cea12",
   "metadata": {},
   "outputs": [],
   "source": [
    "print(zero)\n",
    "print(rand_u)"
   ]
  },
  {
   "cell_type": "code",
   "execution_count": null,
   "id": "1aa027aa",
   "metadata": {},
   "outputs": [],
   "source": [
    "list_var= [const,int_mat,zero,one,rand_n,rand_u]"
   ]
  },
  {
   "cell_type": "code",
   "execution_count": null,
   "id": "22e4ba05",
   "metadata": {},
   "outputs": [],
   "source": [
    "with tf.Session() as sess:\n",
    "    for var in list_var:\n",
    "        print(sess.run(var))\n",
    "        print(\"\\n\")"
   ]
  },
  {
   "cell_type": "code",
   "execution_count": null,
   "id": "b40693e1",
   "metadata": {},
   "outputs": [],
   "source": [
    "# matrix operation\n",
    "\n",
    "a =  tf.constant( [ [1,2], [3,4] ])\n",
    "b = tf.constant( [ [10], [100] ] )"
   ]
  },
  {
   "cell_type": "code",
   "execution_count": null,
   "id": "2f299fcf",
   "metadata": {},
   "outputs": [],
   "source": [
    "print(a.get_shape())\n",
    "print(b.get_shape())"
   ]
  },
  {
   "cell_type": "code",
   "execution_count": null,
   "id": "d039c904",
   "metadata": {},
   "outputs": [],
   "source": [
    "product = tf.matmul(a,b)\n",
    "print(product)"
   ]
  },
  {
   "cell_type": "code",
   "execution_count": null,
   "id": "60423eae",
   "metadata": {},
   "outputs": [],
   "source": [
    "with tf.Session() as sess:\n",
    "    print(sess.run(product))"
   ]
  },
  {
   "cell_type": "markdown",
   "id": "b1b6f747",
   "metadata": {},
   "source": [
    "# So far Constants, now Variables\n",
    "for model training we need variale to hold and update the parameters, where for constant updating them would not be possible"
   ]
  },
  {
   "cell_type": "code",
   "execution_count": null,
   "id": "508202c6",
   "metadata": {},
   "outputs": [],
   "source": [
    "values = tf.random_uniform((3,3),0,1)\n",
    "values"
   ]
  },
  {
   "cell_type": "code",
   "execution_count": null,
   "id": "71a5ad28",
   "metadata": {},
   "outputs": [],
   "source": [
    "variable =  tf.Variable(initial_value=values)\n",
    "variable"
   ]
  },
  {
   "cell_type": "code",
   "execution_count": null,
   "id": "11c4b595",
   "metadata": {},
   "outputs": [],
   "source": [
    "# you will get error!\n",
    "# with tf.Session() as sess:\n",
    "#     print(sess.run(variable))"
   ]
  },
  {
   "cell_type": "code",
   "execution_count": null,
   "id": "dcb94cc6",
   "metadata": {},
   "outputs": [],
   "source": [
    "var_init = tf.global_variables_initializer()"
   ]
  },
  {
   "cell_type": "code",
   "execution_count": null,
   "id": "b890ac2a",
   "metadata": {},
   "outputs": [],
   "source": [
    "with tf.Session() as sess:\n",
    "    sess.run(var_init)\n",
    "    print(sess.run(variable))"
   ]
  },
  {
   "cell_type": "markdown",
   "id": "bcc4b480",
   "metadata": {},
   "source": [
    "PlaceHolders"
   ]
  },
  {
   "cell_type": "code",
   "execution_count": null,
   "id": "46cfa8ac",
   "metadata": {},
   "outputs": [],
   "source": [
    "place_holder = tf.placeholder(tf.float32,None) \n",
    "mult2 = place_holder*2"
   ]
  },
  {
   "cell_type": "code",
   "execution_count": null,
   "id": "89a6d1c5",
   "metadata": {},
   "outputs": [],
   "source": [
    "with tf.Session() as sess:\n",
    "    print(sess.run(mult2, feed_dict={place_holder:[1,2,3]}))"
   ]
  },
  {
   "cell_type": "code",
   "execution_count": null,
   "id": "cfcaf213",
   "metadata": {},
   "outputs": [],
   "source": [
    "holder_3by3 = tf.placeholder(tf.float32,[3,3])   \n",
    "mult2_3by3 = holder_3by3*2"
   ]
  },
  {
   "cell_type": "code",
   "execution_count": null,
   "id": "b89e93ac",
   "metadata": {},
   "outputs": [],
   "source": [
    "val = [[1,2,3],[4,5,6],[7,8,9]]"
   ]
  },
  {
   "cell_type": "code",
   "execution_count": null,
   "id": "1e3264a6",
   "metadata": {},
   "outputs": [],
   "source": [
    "with tf.Session() as sess:\n",
    "    print(sess.run(mult2_3by3, feed_dict={holder_3by3:val}))"
   ]
  },
  {
   "cell_type": "markdown",
   "id": "b96de9a9",
   "metadata": {},
   "source": [
    "Interactive Session"
   ]
  },
  {
   "cell_type": "code",
   "execution_count": null,
   "id": "e402021d",
   "metadata": {},
   "outputs": [],
   "source": [
    "sess = tf.InteractiveSession()"
   ]
  },
  {
   "cell_type": "code",
   "execution_count": null,
   "id": "cb3dc191",
   "metadata": {},
   "outputs": [],
   "source": [
    "a =  tf.constant( [ [1,2], [3,4] ])\n",
    "b = tf.constant( [ [10], [100] ] )\n",
    "product = tf.matmul(a,b)\n",
    "print(product)"
   ]
  },
  {
   "cell_type": "code",
   "execution_count": null,
   "id": "f6e28c76",
   "metadata": {},
   "outputs": [],
   "source": [
    "print(sess.run(product))"
   ]
  },
  {
   "cell_type": "code",
   "execution_count": null,
   "id": "65f8247a",
   "metadata": {},
   "outputs": [],
   "source": [
    "sess.close()"
   ]
  }
 ],
 "metadata": {
  "kernelspec": {
   "display_name": "Python 3",
   "language": "python",
   "name": "python3"
  },
  "language_info": {
   "codemirror_mode": {
    "name": "ipython",
    "version": 3
   },
   "file_extension": ".py",
   "mimetype": "text/x-python",
   "name": "python",
   "nbconvert_exporter": "python",
   "pygments_lexer": "ipython3",
   "version": "3.10.11"
  }
 },
 "nbformat": 4,
 "nbformat_minor": 5
}
