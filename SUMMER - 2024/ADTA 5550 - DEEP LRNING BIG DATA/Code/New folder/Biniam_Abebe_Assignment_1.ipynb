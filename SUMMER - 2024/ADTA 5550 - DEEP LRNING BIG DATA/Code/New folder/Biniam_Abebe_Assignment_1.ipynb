{
 "cells": [
  {
   "cell_type": "code",
   "execution_count": 1,
   "metadata": {},
   "outputs": [],
   "source": [
    "import numpy as np"
   ]
  },
  {
   "cell_type": "code",
   "execution_count": 2,
   "metadata": {},
   "outputs": [
    {
     "name": "stdout",
     "output_type": "stream",
     "text": [
      "[0. 0. 0. 0. 0. 0. 0. 8. 0. 0. 0. 0. 0. 0. 0. 0. 0. 0. 0. 0.]\n"
     ]
    }
   ],
   "source": [
    "#1. Create a vector (1D array) of size 20. All the elements are initialized with 0 (zero) \n",
    "# except for the 8th element that is set with the value 8.\n",
    "vector = np.zeros(20)\n",
    "vector[7] = 8\n",
    "print(vector)\n"
   ]
  },
  {
   "cell_type": "code",
   "execution_count": 6,
   "metadata": {},
   "outputs": [
    {
     "name": "stdout",
     "output_type": "stream",
     "text": [
      "Before sort\n",
      "[38 19  2 37 53 21 15 18 31 17 38 27  8 17 27 38]\n",
      "After sort\n",
      "[ 2  8 15 17 17 18 19 21 27 27 31 37 38 38 38 53]\n"
     ]
    }
   ],
   "source": [
    "#2. Create a vector of size 16 with random values ranging from 0 to 63, print the vector, \n",
    "# then sort it and print the vector again.\n",
    "vector = np.random.randint(0, 64, 16)\n",
    "print('Before sort')\n",
    "print(vector)\n",
    "\n",
    "vector.sort()\n",
    "print('After sort')\n",
    "print(vector)"
   ]
  },
  {
   "cell_type": "code",
   "execution_count": 7,
   "metadata": {},
   "outputs": [
    {
     "name": "stdout",
     "output_type": "stream",
     "text": [
      "[[ 0  1  2  3  4]\n",
      " [ 5  6  7  8  9]\n",
      " [10 11 12 13 14]\n",
      " [15 16 17 18 19]\n",
      " [20 21 22 23 24]]\n"
     ]
    }
   ],
   "source": [
    "#3. Create a 5x5 matrix with values ranging from 0 to 24.\n",
    "matrix = np.arange(25).reshape(5, 5)\n",
    "print(matrix)"
   ]
  },
  {
   "cell_type": "code",
   "execution_count": 8,
   "metadata": {},
   "outputs": [
    {
     "name": "stdout",
     "output_type": "stream",
     "text": [
      "[[17 57  5 67 10 75 65 24]\n",
      " [ 3 53 74 46 65 20 34 71]\n",
      " [ 7 39 63 33 69 48 19 29]\n",
      " [77 20 93  5 37 78 75  9]\n",
      " [53 98 58 75 90  1 72 82]\n",
      " [49 63 74  2 81 15 90 53]\n",
      " [36 38 83 53 89 28 84 36]\n",
      " [23  3 59 72 33 99 82 95]]\n",
      "Min: 1\n",
      "Max: 99\n"
     ]
    }
   ],
   "source": [
    "#4. Create an 8x8 array with random values, then find the min and max values stored in this matrix.\n",
    "matrix = np.random.randint(0, 100, (8, 8))\n",
    "print(matrix)\n",
    "\n",
    "print('Min:', matrix.min())\n",
    "print('Max:', matrix.max())\n"
   ]
  },
  {
   "cell_type": "code",
   "execution_count": 9,
   "metadata": {},
   "outputs": [
    {
     "name": "stdout",
     "output_type": "stream",
     "text": [
      "[49 25 36 88  2 16 19 89 11 35  8 43 66 62 36 28  9 96 47 47 60 82 92 12\n",
      " 94  0 48  5 39 69 89 17]\n",
      "Mean: 44.34375\n"
     ]
    }
   ],
   "source": [
    "#5. Create a vector of size 32 that is initialized with random values inside the range (0, 99) \n",
    "# and then find the mean of all the initial values.\n",
    "vector = np.random.randint(0, 100, 32)\n",
    "print(vector)\n",
    "print('Mean:', vector.mean())\n"
   ]
  },
  {
   "cell_type": "code",
   "execution_count": null,
   "metadata": {},
   "outputs": [],
   "source": []
  }
 ],
 "metadata": {
  "kernelspec": {
   "display_name": "Python 3",
   "language": "python",
   "name": "python3"
  },
  "language_info": {
   "codemirror_mode": {
    "name": "ipython",
    "version": 3
   },
   "file_extension": ".py",
   "mimetype": "text/x-python",
   "name": "python",
   "nbconvert_exporter": "python",
   "pygments_lexer": "ipython3",
   "version": "3.9.13"
  }
 },
 "nbformat": 4,
 "nbformat_minor": 2
}
