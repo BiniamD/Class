{
 "cells": [
  {
   "cell_type": "markdown",
   "metadata": {},
   "source": [
    "# ADTA 5900: CNN on CIFAR-10: Final Project"
   ]
  },
  {
   "cell_type": "markdown",
   "metadata": {},
   "source": [
    "## Set Path for Data Folder"
   ]
  },
  {
   "cell_type": "code",
   "execution_count": 1,
   "metadata": {
    "collapsed": true
   },
   "outputs": [],
   "source": [
    " # Put file path as a string here\n",
    "\n",
    "CIFAR_DIR = 'CIFAR_10_DATA/'"
   ]
  },
  {
   "cell_type": "markdown",
   "metadata": {},
   "source": [
    "## Load Data"
   ]
  },
  {
   "cell_type": "code",
   "execution_count": 2,
   "metadata": {
    "collapsed": true
   },
   "outputs": [],
   "source": [
    "def unpickle(file):\n",
    "    import pickle\n",
    "    with open(file, 'rb') as fo:\n",
    "        cifar_dict = pickle.load(fo, encoding='bytes')\n",
    "    return cifar_dict"
   ]
  },
  {
   "cell_type": "code",
   "execution_count": 3,
   "metadata": {
    "collapsed": true
   },
   "outputs": [],
   "source": [
    "dirs = ['batches.meta','data_batch_1','data_batch_2','data_batch_3','data_batch_4','data_batch_5','test_batch']\n",
    "\n",
    "all_data = [0,1,2,3,4,5,6]\n",
    "\n",
    "for i,direc in zip(all_data,dirs):\n",
    "    all_data[i] = unpickle(CIFAR_DIR+direc)"
   ]
  },
  {
   "cell_type": "code",
   "execution_count": 4,
   "metadata": {
    "collapsed": true
   },
   "outputs": [],
   "source": [
    "batch_meta = all_data[0]\n",
    "data_batch1 = all_data[1]\n",
    "data_batch2 = all_data[2]\n",
    "data_batch3 = all_data[3]\n",
    "data_batch4 = all_data[4]\n",
    "data_batch5 = all_data[5]\n",
    "test_batch = all_data[6]"
   ]
  },
  {
   "cell_type": "code",
   "execution_count": 5,
   "metadata": {},
   "outputs": [
    {
     "data": {
      "text/plain": [
       "{b'num_cases_per_batch': 10000,\n",
       " b'label_names': [b'airplane',\n",
       "  b'automobile',\n",
       "  b'bird',\n",
       "  b'cat',\n",
       "  b'deer',\n",
       "  b'dog',\n",
       "  b'frog',\n",
       "  b'horse',\n",
       "  b'ship',\n",
       "  b'truck'],\n",
       " b'num_vis': 3072}"
      ]
     },
     "execution_count": 5,
     "metadata": {},
     "output_type": "execute_result"
    }
   ],
   "source": [
    "batch_meta"
   ]
  },
  {
   "cell_type": "code",
   "execution_count": 6,
   "metadata": {},
   "outputs": [
    {
     "data": {
      "text/plain": [
       "dict_keys([b'batch_label', b'labels', b'data', b'filenames'])"
      ]
     },
     "execution_count": 6,
     "metadata": {},
     "output_type": "execute_result"
    }
   ],
   "source": [
    "data_batch1.keys()"
   ]
  },
  {
   "cell_type": "markdown",
   "metadata": {},
   "source": [
    "## Display several examples of single images using matplotlib "
   ]
  },
  {
   "cell_type": "code",
   "execution_count": 7,
   "metadata": {
    "collapsed": true
   },
   "outputs": [],
   "source": [
    "import matplotlib.pyplot as plt\n",
    "%matplotlib inline\n",
    "\n",
    "import numpy as np"
   ]
  },
  {
   "cell_type": "code",
   "execution_count": 8,
   "metadata": {
    "collapsed": true
   },
   "outputs": [],
   "source": [
    "X = data_batch1[b\"data\"] "
   ]
  },
  {
   "cell_type": "code",
   "execution_count": 9,
   "metadata": {
    "collapsed": true
   },
   "outputs": [],
   "source": [
    "X = X.reshape(10000, 3, 32, 32).transpose(0,2,3,1).astype(\"uint8\")"
   ]
  },
  {
   "cell_type": "code",
   "execution_count": 10,
   "metadata": {},
   "outputs": [
    {
     "data": {
      "text/plain": [
       "255"
      ]
     },
     "execution_count": 10,
     "metadata": {},
     "output_type": "execute_result"
    }
   ],
   "source": [
    "X[0].max()"
   ]
  },
  {
   "cell_type": "code",
   "execution_count": 11,
   "metadata": {},
   "outputs": [
    {
     "data": {
      "text/plain": [
       "1.0"
      ]
     },
     "execution_count": 11,
     "metadata": {},
     "output_type": "execute_result"
    }
   ],
   "source": [
    "(X[0]/255).max()"
   ]
  },
  {
   "cell_type": "code",
   "execution_count": 12,
   "metadata": {},
   "outputs": [
    {
     "data": {
      "text/plain": [
       "<matplotlib.image.AxesImage at 0x7fda9ec82710>"
      ]
     },
     "execution_count": 12,
     "metadata": {},
     "output_type": "execute_result"
    },
    {
     "data": {
      "image/png": "[encoded data removed]",
      "text/plain": [
       "<Figure size 640x480 with 1 Axes>"
      ]
     },
     "metadata": {},
     "output_type": "display_data"
    }
   ],
   "source": [
    "plt.imshow(X[0])"
   ]
  },
  {
   "cell_type": "code",
   "execution_count": 13,
   "metadata": {},
   "outputs": [
    {
     "data": {
      "text/plain": [
       "<matplotlib.image.AxesImage at 0x7fda9e7e6790>"
      ]
     },
     "execution_count": 13,
     "metadata": {},
     "output_type": "execute_result"
    },
    {
     "data": {
      "image/png": "[encoded data removed]",
      "text/plain": [
       "<Figure size 640x480 with 1 Axes>"
      ]
     },
     "metadata": {},
     "output_type": "display_data"
    }
   ],
   "source": [
    "plt.imshow(X[1])"
   ]
  },
  {
   "cell_type": "code",
   "execution_count": 14,
   "metadata": {},
   "outputs": [
    {
     "data": {
      "text/plain": [
       "<matplotlib.image.AxesImage at 0x7fda9e7745d0>"
      ]
     },
     "execution_count": 14,
     "metadata": {},
     "output_type": "execute_result"
    },
    {
     "data": {
      "image/png": "[encoded data removed]",
      "text/plain": [
       "<Figure size 640x480 with 1 Axes>"
      ]
     },
     "metadata": {},
     "output_type": "display_data"
    }
   ],
   "source": [
    "plt.imshow(X[4])"
   ]
  },
  {
   "cell_type": "markdown",
   "metadata": {},
   "source": [
    "## Supporting Functions to Rearrange Data"
   ]
  },
  {
   "cell_type": "markdown",
   "metadata": {},
   "source": [
    "### Encode Labels into One-Hot Format"
   ]
  },
  {
   "cell_type": "code",
   "execution_count": 15,
   "metadata": {
    "collapsed": true
   },
   "outputs": [],
   "source": [
    "def one_hot_encode(vec, vals=10):\n",
    "    '''\n",
    "    For use to one-hot encode the 10- possible labels\n",
    "    '''\n",
    "    n = len(vec)\n",
    "    out = np.zeros((n, vals))\n",
    "    out[range(n), vec] = 1\n",
    "    return out"
   ]
  },
  {
   "cell_type": "markdown",
   "metadata": {},
   "source": [
    "## Set Up Image Data: Make it Ready to be Fed into 1st Conv Layer"
   ]
  },
  {
   "cell_type": "code",
   "execution_count": 16,
   "metadata": {
    "collapsed": true
   },
   "outputs": [],
   "source": [
    "class CifarHelper():\n",
    "    \n",
    "    def __init__(self):\n",
    "        self.i = 0\n",
    "        \n",
    "        self.all_train_batches = [data_batch1,data_batch2,data_batch3,data_batch4,data_batch5]\n",
    "        self.test_batch = [test_batch]\n",
    "        \n",
    "        self.training_images = None\n",
    "        self.training_labels = None\n",
    "        \n",
    "        self.test_images = None\n",
    "        self.test_labels = None\n",
    "    \n",
    "    def set_up_images(self):\n",
    "        print(\"Setting Up Training Images and Labels\")\n",
    "        \n",
    "        self.training_images = np.vstack([d[b\"data\"] for d in self.all_train_batches])\n",
    "        train_len = len(self.training_images)\n",
    "        \n",
    "        self.training_images = self.training_images.reshape(train_len,3,32,32).transpose(0,2,3,1)/255\n",
    "        self.training_labels = one_hot_encode(np.hstack([d[b\"labels\"] for d in self.all_train_batches]), 10)\n",
    "        \n",
    "        print(\"Setting Up Test Images and Labels\")\n",
    "        \n",
    "        self.test_images = np.vstack([d[b\"data\"] for d in self.test_batch])\n",
    "        test_len = len(self.test_images)\n",
    "        \n",
    "        self.test_images = self.test_images.reshape(test_len,3,32,32).transpose(0,2,3,1)/255\n",
    "        self.test_labels = one_hot_encode(np.hstack([d[b\"labels\"] for d in self.test_batch]), 10)\n",
    "\n",
    "        \n",
    "    def next_batch(self, batch_size):\n",
    "        x = self.training_images[self.i:self.i+batch_size]\n",
    "        y = self.training_labels[self.i:self.i+batch_size]\n",
    "        self.i = (self.i + batch_size) % len(self.training_images)\n",
    "        return x, y"
   ]
  },
  {
   "cell_type": "markdown",
   "metadata": {},
   "source": [
    "## Set up image data: Calling CifarHelper.set_up_images()"
   ]
  },
  {
   "cell_type": "code",
   "execution_count": 17,
   "metadata": {},
   "outputs": [
    {
     "name": "stdout",
     "output_type": "stream",
     "text": [
      "Setting Up Training Images and Labels\n"
     ]
    },
    {
     "name": "stdout",
     "output_type": "stream",
     "text": [
      "Setting Up Test Images and Labels\n"
     ]
    }
   ],
   "source": [
    "# Before Your tf.Session run these two lines\n",
    "ch = CifarHelper()\n",
    "ch.set_up_images()\n",
    "\n",
    "# During your session to grab the next batch use this line\n",
    "# (Just like we did for mnist.train.next_batch)\n",
    "# batch = ch.next_batch(100)"
   ]
  },
  {
   "cell_type": "markdown",
   "metadata": {},
   "source": [
    "## Define Supporting Functions to Build, Train, and Test CNN Model"
   ]
  },
  {
   "cell_type": "code",
   "execution_count": 18,
   "metadata": {},
   "outputs": [],
   "source": [
    "import tensorflow as tf\n",
    "import numpy as np\n",
    "import pickle"
   ]
  },
  {
   "cell_type": "code",
   "execution_count": 19,
   "metadata": {
    "collapsed": true
   },
   "outputs": [],
   "source": [
    "def init_weights(shape): \n",
    "    init_random_dist = tf.truncated_normal(shape, stddev=0.1)\n",
    "    return tf.Variable(init_random_dist)\n",
    "def init_bias(shape): \n",
    "    init_bias_vals = tf.constant(0.1, shape=shape)\n",
    "    return tf.Variable(init_bias_vals)\n",
    "def conv2d(x, W):\n",
    "    return tf.nn.conv2d(x, W, strides=[1, 1, 1, 1], padding='SAME')\n",
    "def max_pool_2by2(x):\n",
    "    return tf.nn.max_pool(x, ksize=[1, 2, 2, 1], strides=[1, 2, 2, 1], padding='SAME')\n",
    "def convolutional_layer(input_x, shape):\n",
    "    W = init_weights(shape)\n",
    "    b = init_bias([shape[3]])\n",
    "    return tf.nn.relu(conv2d(input_x, W) + b)\n",
    "def normal_full_layer(input_layer, size):\n",
    "    input_size = int(input_layer.get_shape()[1])\n",
    "    W = init_weights([input_size, size])\n",
    "    b = init_bias([size])\n",
    "    return tf.matmul(input_layer, W) + b"
   ]
  },
  {
   "cell_type": "markdown",
   "metadata": {},
   "source": [
    "# PHASE II: Build Convolutional Neural Network"
   ]
  },
  {
   "cell_type": "markdown",
   "metadata": {},
   "source": [
    "## Create Placeholders for Inputs and Labels: x and y_true"
   ]
  },
  {
   "cell_type": "code",
   "execution_count": 20,
   "metadata": {},
   "outputs": [
    {
     "name": "stdout",
     "output_type": "stream",
     "text": [
      "WARNING:tensorflow:From /tmp/ipykernel_17099/2533743189.py:2: The name tf.placeholder is deprecated. Please use tf.compat.v1.placeholder instead.\n",
      "\n"
     ]
    }
   ],
   "source": [
    "# Placeholders\n",
    "x = tf.placeholder(tf.float32, shape=[None, 32, 32, 3])\n",
    "y_true = tf.placeholder(tf.float32, [None, 10])\n",
    "hold_prob = tf.placeholder(tf.float32)\n",
    "training = tf.placeholder(tf.bool)"
   ]
  },
  {
   "cell_type": "markdown",
   "metadata": {},
   "source": [
    "## Reshape the Input Placeholder x: NOT NEED TO RESHAPE DATA HERE"
   ]
  },
  {
   "cell_type": "code",
   "execution_count": 21,
   "metadata": {
    "collapsed": true
   },
   "outputs": [],
   "source": [
    "# DO NOTHING -- DON'T NEED TO RESHAPE - DATA IS ALREADY IN GOOD SHAPE TO BE FED INTO 1ST CONVOLUTION LAYER"
   ]
  },
  {
   "cell_type": "markdown",
   "metadata": {},
   "source": [
    "### CNN Performance Improvement"
   ]
  },
  {
   "cell_type": "code",
   "execution_count": 22,
   "metadata": {},
   "outputs": [],
   "source": [
    "import tensorflow as tf\n",
    "\n",
    "# Define placeholders\n",
    "x = tf.placeholder(tf.float32, shape=[None, 32, 32, 3])\n",
    "y_true = tf.placeholder(tf.float32, shape=[None, 10])\n",
    "hold_prob = tf.placeholder(tf.float32)\n"
   ]
  },
  {
   "cell_type": "code",
   "execution_count": 23,
   "metadata": {},
   "outputs": [
    {
     "name": "stdout",
     "output_type": "stream",
     "text": [
      "WARNING:tensorflow:From /tmp/ipykernel_17099/355241548.py:2: The name tf.truncated_normal is deprecated. Please use tf.random.truncated_normal instead.\n",
      "\n",
      "WARNING:tensorflow:From /tmp/ipykernel_17099/355241548.py:10: The name tf.nn.max_pool is deprecated. Please use tf.nn.max_pool2d instead.\n",
      "\n",
      "WARNING:tensorflow:From /tmp/ipykernel_17099/2364402187.py:16: calling dropout (from tensorflow.python.ops.nn_ops) with keep_prob is deprecated and will be removed in a future version.\n",
      "Instructions for updating:\n",
      "Please use `rate` instead of `keep_prob`. Rate should be set to `rate = 1 - keep_prob`.\n",
      "WARNING:tensorflow:From /tmp/ipykernel_17099/2364402187.py:21: softmax_cross_entropy_with_logits (from tensorflow.python.ops.nn_ops) is deprecated and will be removed in a future version.\n",
      "Instructions for updating:\n",
      "\n",
      "Future major versions of TensorFlow will allow gradients to flow\n",
      "into the labels input on backprop by default.\n",
      "\n",
      "See `tf.nn.softmax_cross_entropy_with_logits_v2`.\n",
      "\n",
      "WARNING:tensorflow:From /tmp/ipykernel_17099/2364402187.py:26: The name tf.train.exponential_decay is deprecated. Please use tf.compat.v1.train.exponential_decay instead.\n",
      "\n",
      "WARNING:tensorflow:From /tmp/ipykernel_17099/2364402187.py:32: The name tf.train.AdamOptimizer is deprecated. Please use tf.compat.v1.train.AdamOptimizer instead.\n",
      "\n",
      "WARNING:tensorflow:From /tmp/ipykernel_17099/2364402187.py:35: The name tf.global_variables_initializer is deprecated. Please use tf.compat.v1.global_variables_initializer instead.\n",
      "\n"
     ]
    }
   ],
   "source": [
    "\n",
    "# Build the improved model\n",
    "convo_1 = convolutional_layer(x, shape=[3, 3, 3, 64])\n",
    "convo_2 = convolutional_layer(convo_1, shape=[3, 3, 64, 64])\n",
    "convo_2_pooling = max_pool_2by2(convo_2)\n",
    "\n",
    "convo_3 = convolutional_layer(convo_2_pooling, shape=[3, 3, 64, 128])\n",
    "convo_4 = convolutional_layer(convo_3, shape=[3, 3, 128, 128])\n",
    "convo_4_pooling = max_pool_2by2(convo_4)\n",
    "\n",
    "convo_5 = convolutional_layer(convo_4_pooling, shape=[3, 3, 128, 256])\n",
    "convo_6 = convolutional_layer(convo_5, shape=[3, 3, 256, 256])\n",
    "\n",
    "convo_6_flat = tf.reshape(convo_6, [-1, 8*8*256])\n",
    "full_layer_one = tf.nn.relu(normal_full_layer(convo_6_flat, 1024))\n",
    "\n",
    "full_one_dropout = tf.nn.dropout(full_layer_one, keep_prob=hold_prob)\n",
    "\n",
    "y_pred = normal_full_layer(full_one_dropout, 10)\n",
    "\n",
    "# Define loss and optimizer\n",
    "cross_entropy = tf.reduce_mean(tf.nn.softmax_cross_entropy_with_logits(labels=y_true, logits=y_pred))\n",
    "\n",
    "# Learning rate schedule\n",
    "global_step = tf.Variable(0, trainable=False)\n",
    "initial_learning_rate = 0.001\n",
    "learning_rate = tf.train.exponential_decay(initial_learning_rate,\n",
    "                                           global_step,\n",
    "                                           decay_steps=1000,\n",
    "                                           decay_rate=0.96,\n",
    "                                           staircase=True)\n",
    "\n",
    "optimizer = tf.train.AdamOptimizer(learning_rate=learning_rate)\n",
    "train = optimizer.minimize(cross_entropy, global_step=global_step)\n",
    "\n",
    "init = tf.global_variables_initializer()\n"
   ]
  },
  {
   "cell_type": "code",
   "execution_count": 30,
   "metadata": {},
   "outputs": [],
   "source": [
    "\n",
    "# Train the model\n",
    "steps = 5000\n",
    "batch_size = 64\n"
   ]
  },
  {
   "cell_type": "code",
   "execution_count": 31,
   "metadata": {},
   "outputs": [],
   "source": [
    "# Lists to store accuracy, loss, and step number\n",
    "accuracies = []\n",
    "losses = []\n",
    "step_numbers = []"
   ]
  },
  {
   "cell_type": "code",
   "execution_count": 32,
   "metadata": {},
   "outputs": [
    {
     "name": "stdout",
     "output_type": "stream",
     "text": [
      "Currently on step 0\n",
      "Accuracy: 0.1102\n",
      "Loss: 706.9407\n",
      "\n",
      "\n",
      "Currently on step 100\n",
      "Accuracy: 0.3376\n",
      "Loss: 1.8467\n",
      "\n",
      "\n",
      "Currently on step 200\n",
      "Accuracy: 0.3883\n",
      "Loss: 1.6978\n",
      "\n",
      "\n",
      "Currently on step 300\n",
      "Accuracy: 0.3673\n",
      "Loss: 1.6964\n",
      "\n",
      "\n",
      "Currently on step 400\n",
      "Accuracy: 0.4090\n",
      "Loss: 1.6054\n",
      "\n",
      "\n",
      "Currently on step 500\n",
      "Accuracy: 0.4617\n",
      "Loss: 1.4950\n",
      "\n",
      "\n",
      "Currently on step 600\n",
      "Accuracy: 0.4598\n",
      "Loss: 1.4762\n",
      "\n",
      "\n",
      "Currently on step 700\n",
      "Accuracy: 0.4495\n",
      "Loss: 1.5064\n",
      "\n",
      "\n",
      "Currently on step 800\n",
      "Accuracy: 0.4687\n",
      "Loss: 1.4709\n",
      "\n",
      "\n",
      "Currently on step 900\n",
      "Accuracy: 0.4525\n",
      "Loss: 1.5318\n",
      "\n",
      "\n",
      "Currently on step 1000\n",
      "Accuracy: 0.5027\n",
      "Loss: 1.3666\n",
      "\n",
      "\n",
      "Currently on step 1100\n",
      "Accuracy: 0.4860\n",
      "Loss: 1.4060\n",
      "\n",
      "\n",
      "Currently on step 1200\n",
      "Accuracy: 0.5002\n",
      "Loss: 1.3641\n",
      "\n",
      "\n",
      "Currently on step 1300\n",
      "Accuracy: 0.5177\n",
      "Loss: 1.3262\n",
      "\n",
      "\n",
      "Currently on step 1400\n",
      "Accuracy: 0.5272\n",
      "Loss: 1.2832\n",
      "\n",
      "\n",
      "Currently on step 1500\n",
      "Accuracy: 0.5337\n",
      "Loss: 1.2840\n",
      "\n",
      "\n",
      "Currently on step 1600\n",
      "Accuracy: 0.5491\n",
      "Loss: 1.2550\n",
      "\n",
      "\n",
      "Currently on step 1700\n",
      "Accuracy: 0.5631\n",
      "Loss: 1.2283\n",
      "\n",
      "\n",
      "Currently on step 1800\n",
      "Accuracy: 0.5591\n",
      "Loss: 1.2094\n",
      "\n",
      "\n",
      "Currently on step 1900\n",
      "Accuracy: 0.5604\n",
      "Loss: 1.2201\n",
      "\n",
      "\n",
      "Currently on step 2000\n",
      "Accuracy: 0.5387\n",
      "Loss: 1.2653\n",
      "\n",
      "\n",
      "Currently on step 2100\n",
      "Accuracy: 0.5838\n",
      "Loss: 1.1596\n",
      "\n",
      "\n",
      "Currently on step 2200\n",
      "Accuracy: 0.5826\n",
      "Loss: 1.1464\n",
      "\n",
      "\n",
      "Currently on step 2300\n",
      "Accuracy: 0.5959\n",
      "Loss: 1.1142\n",
      "\n",
      "\n",
      "Currently on step 2400\n",
      "Accuracy: 0.6092\n",
      "Loss: 1.0997\n",
      "\n",
      "\n",
      "Currently on step 2500\n",
      "Accuracy: 0.5880\n",
      "Loss: 1.1548\n",
      "\n",
      "\n",
      "Currently on step 2600\n",
      "Accuracy: 0.6124\n",
      "Loss: 1.0849\n",
      "\n",
      "\n",
      "Currently on step 2700\n",
      "Accuracy: 0.6070\n",
      "Loss: 1.1009\n",
      "\n",
      "\n",
      "Currently on step 2800\n",
      "Accuracy: 0.6109\n",
      "Loss: 1.1041\n",
      "\n",
      "\n",
      "Currently on step 2900\n",
      "Accuracy: 0.6154\n",
      "Loss: 1.0805\n",
      "\n",
      "\n",
      "Currently on step 3000\n",
      "Accuracy: 0.6116\n",
      "Loss: 1.1252\n",
      "\n",
      "\n",
      "Currently on step 3100\n",
      "Accuracy: 0.6361\n",
      "Loss: 1.0306\n",
      "\n",
      "\n",
      "Currently on step 3200\n",
      "Accuracy: 0.6457\n",
      "Loss: 1.0185\n",
      "\n",
      "\n",
      "Currently on step 3300\n",
      "Accuracy: 0.6483\n",
      "Loss: 1.0102\n",
      "\n",
      "\n",
      "Currently on step 3400\n",
      "Accuracy: 0.6352\n",
      "Loss: 1.0437\n",
      "\n",
      "\n",
      "Currently on step 3500\n",
      "Accuracy: 0.6354\n",
      "Loss: 1.0357\n",
      "\n",
      "\n",
      "Currently on step 3600\n",
      "Accuracy: 0.6459\n",
      "Loss: 1.0549\n",
      "\n",
      "\n",
      "Currently on step 3700\n",
      "Accuracy: 0.6547\n",
      "Loss: 1.0026\n",
      "\n",
      "\n",
      "Currently on step 3800\n",
      "Accuracy: 0.6476\n",
      "Loss: 1.0137\n",
      "\n",
      "\n",
      "Currently on step 3900\n",
      "Accuracy: 0.6665\n",
      "Loss: 0.9591\n",
      "\n",
      "\n",
      "Currently on step 4000\n",
      "Accuracy: 0.6358\n",
      "Loss: 1.0435\n",
      "\n",
      "\n",
      "Currently on step 4100\n",
      "Accuracy: 0.6714\n",
      "Loss: 0.9592\n",
      "\n",
      "\n",
      "Currently on step 4200\n",
      "Accuracy: 0.6411\n",
      "Loss: 1.0086\n",
      "\n",
      "\n",
      "Currently on step 4300\n",
      "Accuracy: 0.6585\n",
      "Loss: 0.9700\n",
      "\n",
      "\n",
      "Currently on step 4400\n",
      "Accuracy: 0.6388\n",
      "Loss: 1.0237\n",
      "\n",
      "\n",
      "Currently on step 4500\n",
      "Accuracy: 0.6626\n",
      "Loss: 0.9704\n",
      "\n",
      "\n",
      "Currently on step 4600\n",
      "Accuracy: 0.6672\n",
      "Loss: 0.9582\n",
      "\n",
      "\n",
      "Currently on step 4700\n",
      "Accuracy: 0.6931\n",
      "Loss: 0.8967\n",
      "\n",
      "\n",
      "Currently on step 4800\n",
      "Accuracy: 0.6680\n",
      "Loss: 0.9702\n",
      "\n",
      "\n",
      "Currently on step 4900\n",
      "Accuracy: 0.6756\n",
      "Loss: 0.9358\n",
      "\n",
      "\n"
     ]
    }
   ],
   "source": [
    "\n",
    "with tf.Session() as sess:\n",
    "    sess.run(init)\n",
    "    \n",
    "    for i in range(steps):\n",
    "        batch_x, batch_y = ch.next_batch(batch_size)\n",
    "        sess.run(train, feed_dict={x: batch_x, y_true: batch_y, hold_prob: 0.5})\n",
    "        \n",
    "        # Print out a message every 100 steps\n",
    "        if i % 100 == 0:\n",
    "            print('Currently on step {}'.format(i))\n",
    "\n",
    "            # Test the Train Model\n",
    "            matches = tf.equal(tf.argmax(y_pred,1),tf.argmax(y_true,1))\n",
    "\n",
    "            acc = tf.reduce_mean(tf.cast(matches,tf.float32))\n",
    "\n",
    "            test_accuracy = sess.run(acc,feed_dict={x:ch.test_images,y_true:ch.test_labels,hold_prob:1.0})\n",
    "            test_loss = sess.run(cross_entropy, feed_dict={x: ch.test_images, y_true: ch.test_labels, hold_prob: 1.0})\n",
    "            \n",
    "            print('Accuracy: {:.4f}'.format(test_accuracy))\n",
    "            print('Loss: {:.4f}'.format(test_loss))\n",
    "            print('\\n')\n",
    "            \n",
    "            # Store accuracy, loss, and step number\n",
    "            accuracies.append(test_accuracy)\n",
    "            losses.append(test_loss)\n",
    "            step_numbers.append(i)\n",
    "            "
   ]
  },
  {
   "cell_type": "code",
   "execution_count": 28,
   "metadata": {},
   "outputs": [
    {
     "data": {
      "image/png": "[encoded data removed]",
      "text/plain": [
       "<Figure size 1200x600 with 2 Axes>"
      ]
     },
     "metadata": {},
     "output_type": "display_data"
    }
   ],
   "source": [
    "# After training, plot the accuracy and loss\n",
    "plt.figure(figsize=(12, 6))\n",
    "\n",
    "# Plot accuracy\n",
    "plt.subplot(1, 2, 1)\n",
    "plt.plot(step_numbers, accuracies, marker='o')\n",
    "plt.title('Test Accuracy over Training Steps')\n",
    "plt.xlabel('Training Steps')\n",
    "plt.ylabel('Accuracy')\n",
    "plt.grid(True)\n",
    "plt.ylim(0, 1)  # Assuming accuracy is between 0 and 1\n",
    "plt.gca().yaxis.set_major_formatter(plt.FuncFormatter(lambda y, _: '{:.0%}'.format(y)))\n",
    "\n",
    "# Plot loss\n",
    "plt.subplot(1, 2, 2)\n",
    "plt.plot(step_numbers, losses, marker='o', color='r')\n",
    "plt.title('Test Loss over Training Steps')\n",
    "plt.xlabel('Training Steps')\n",
    "plt.ylabel('Loss')\n",
    "plt.grid(True)\n",
    "\n",
    "plt.tight_layout()\n",
    "plt.show()"
   ]
  },
  {
   "cell_type": "markdown",
   "metadata": {},
   "source": [
    "diagram of the network architecture "
   ]
  },
  {
   "cell_type": "code",
   "execution_count": 29,
   "metadata": {},
   "outputs": [
    {
     "data": {
      "image/svg+xml": [
       "<?xml version=\"1.0\" encoding=\"UTF-8\" standalone=\"no\"?>\n",
       "<!DOCTYPE svg PUBLIC \"-//W3C//DTD SVG 1.1//EN\"\n",
       " \"http://www.w3.org/Graphics/SVG/1.1/DTD/svg11.dtd\">\n",
       "<!-- Generated by graphviz version 2.40.1 (20161225.0304)\n",
       " -->\n",
       "<!-- Title: %3 Pages: 1 -->\n",
       "<svg width=\"864pt\" height=\"54pt\"\n",
       " viewBox=\"0.00 0.00 864.00 54.13\" xmlns=\"http://www.w3.org/2000/svg\" xmlns:xlink=\"http://www.w3.org/1999/xlink\">\n",
       "<g id=\"graph0\" class=\"graph\" transform=\"scale(.536 .536) rotate(0) translate(4 97)\">\n",
       "<title>%3</title>\n",
       "<polygon fill=\"#ffffff\" stroke=\"transparent\" points=\"-4,4 -4,-97 1608,-97 1608,4 -4,4\"/>\n",
       "<g id=\"clust1\" class=\"cluster\">\n",
       "<title>cluster_conv1_2</title>\n",
       "<polygon fill=\"none\" stroke=\"#000000\" points=\"106,-8 106,-85 435,-85 435,-8 106,-8\"/>\n",
       "<text text-anchor=\"middle\" x=\"270.5\" y=\"-69.8\" font-family=\"Times,serif\" font-size=\"14.00\" fill=\"#000000\">Convolutional Layers 1 &amp; 2</text>\n",
       "</g>\n",
       "<g id=\"clust2\" class=\"cluster\">\n",
       "<title>cluster_conv3_4</title>\n",
       "<polygon fill=\"none\" stroke=\"#000000\" points=\"455,-8 455,-85 802,-85 802,-8 455,-8\"/>\n",
       "<text text-anchor=\"middle\" x=\"628.5\" y=\"-69.8\" font-family=\"Times,serif\" font-size=\"14.00\" fill=\"#000000\">Convolutional Layers 3 &amp; 4</text>\n",
       "</g>\n",
       "<g id=\"clust3\" class=\"cluster\">\n",
       "<title>cluster_conv5_6</title>\n",
       "<polygon fill=\"none\" stroke=\"#000000\" points=\"822,-8 822,-85 1056,-85 1056,-8 822,-8\"/>\n",
       "<text text-anchor=\"middle\" x=\"939\" y=\"-69.8\" font-family=\"Times,serif\" font-size=\"14.00\" fill=\"#000000\">Convolutional Layers 5 &amp; 6</text>\n",
       "</g>\n",
       "<g id=\"clust4\" class=\"cluster\">\n",
       "<title>cluster_fc</title>\n",
       "<polygon fill=\"none\" stroke=\"#000000\" points=\"1237,-8 1237,-85 1479,-85 1479,-8 1237,-8\"/>\n",
       "<text text-anchor=\"middle\" x=\"1358\" y=\"-69.8\" font-family=\"Times,serif\" font-size=\"14.00\" fill=\"#000000\">Fully Connected Layer</text>\n",
       "</g>\n",
       "<!-- input -->\n",
       "<g id=\"node1\" class=\"node\">\n",
       "<title>input</title>\n",
       "<polygon fill=\"none\" stroke=\"#000000\" points=\"78,-54 0,-54 0,-16 78,-16 78,-54\"/>\n",
       "<text text-anchor=\"middle\" x=\"39\" y=\"-38.8\" font-family=\"Times,serif\" font-size=\"14.00\" fill=\"#000000\">Input</text>\n",
       "<text text-anchor=\"middle\" x=\"39\" y=\"-23.8\" font-family=\"Times,serif\" font-size=\"14.00\" fill=\"#000000\">32x32x3</text>\n",
       "</g>\n",
       "<!-- conv1 -->\n",
       "<g id=\"node2\" class=\"node\">\n",
       "<title>conv1</title>\n",
       "<polygon fill=\"none\" stroke=\"#000000\" points=\"196,-54 114,-54 114,-16 196,-16 196,-54\"/>\n",
       "<text text-anchor=\"middle\" x=\"155\" y=\"-38.8\" font-family=\"Times,serif\" font-size=\"14.00\" fill=\"#000000\">64 filters</text>\n",
       "<text text-anchor=\"middle\" x=\"155\" y=\"-23.8\" font-family=\"Times,serif\" font-size=\"14.00\" fill=\"#000000\">3x3</text>\n",
       "</g>\n",
       "<!-- input&#45;&gt;conv1 -->\n",
       "<g id=\"edge1\" class=\"edge\">\n",
       "<title>input&#45;&gt;conv1</title>\n",
       "<path fill=\"none\" stroke=\"#000000\" d=\"M78.2723,-35C86.403,-35 95.0838,-35 103.5741,-35\"/>\n",
       "<polygon fill=\"#000000\" stroke=\"#000000\" points=\"103.7864,-38.5001 113.7863,-35 103.7863,-31.5001 103.7864,-38.5001\"/>\n",
       "</g>\n",
       "<!-- conv2 -->\n",
       "<g id=\"node3\" class=\"node\">\n",
       "<title>conv2</title>\n",
       "<polygon fill=\"none\" stroke=\"#000000\" points=\"314,-54 232,-54 232,-16 314,-16 314,-54\"/>\n",
       "<text text-anchor=\"middle\" x=\"273\" y=\"-38.8\" font-family=\"Times,serif\" font-size=\"14.00\" fill=\"#000000\">64 filters</text>\n",
       "<text text-anchor=\"middle\" x=\"273\" y=\"-23.8\" font-family=\"Times,serif\" font-size=\"14.00\" fill=\"#000000\">3x3</text>\n",
       "</g>\n",
       "<!-- conv1&#45;&gt;conv2 -->\n",
       "<g id=\"edge2\" class=\"edge\">\n",
       "<title>conv1&#45;&gt;conv2</title>\n",
       "<path fill=\"none\" stroke=\"#000000\" d=\"M196.2707,-35C204.492,-35 213.2197,-35 221.7292,-35\"/>\n",
       "<polygon fill=\"#000000\" stroke=\"#000000\" points=\"221.9519,-38.5001 231.9519,-35 221.9519,-31.5001 221.9519,-38.5001\"/>\n",
       "</g>\n",
       "<!-- pool1 -->\n",
       "<g id=\"node4\" class=\"node\">\n",
       "<title>pool1</title>\n",
       "<polygon fill=\"none\" stroke=\"#000000\" points=\"427,-54 350,-54 350,-16 427,-16 427,-54\"/>\n",
       "<text text-anchor=\"middle\" x=\"388.5\" y=\"-38.8\" font-family=\"Times,serif\" font-size=\"14.00\" fill=\"#000000\">MaxPool</text>\n",
       "<text text-anchor=\"middle\" x=\"388.5\" y=\"-23.8\" font-family=\"Times,serif\" font-size=\"14.00\" fill=\"#000000\">2x2</text>\n",
       "</g>\n",
       "<!-- conv2&#45;&gt;pool1 -->\n",
       "<g id=\"edge3\" class=\"edge\">\n",
       "<title>conv2&#45;&gt;pool1</title>\n",
       "<path fill=\"none\" stroke=\"#000000\" d=\"M314.0462,-35C322.3437,-35 331.1445,-35 339.6788,-35\"/>\n",
       "<polygon fill=\"#000000\" stroke=\"#000000\" points=\"339.9047,-38.5001 349.9047,-35 339.9047,-31.5001 339.9047,-38.5001\"/>\n",
       "</g>\n",
       "<!-- conv3 -->\n",
       "<g id=\"node5\" class=\"node\">\n",
       "<title>conv3</title>\n",
       "<polygon fill=\"none\" stroke=\"#000000\" points=\"554,-54 463,-54 463,-16 554,-16 554,-54\"/>\n",
       "<text text-anchor=\"middle\" x=\"508.5\" y=\"-38.8\" font-family=\"Times,serif\" font-size=\"14.00\" fill=\"#000000\">128 filters</text>\n",
       "<text text-anchor=\"middle\" x=\"508.5\" y=\"-23.8\" font-family=\"Times,serif\" font-size=\"14.00\" fill=\"#000000\">3x3</text>\n",
       "</g>\n",
       "<!-- pool1&#45;&gt;conv3 -->\n",
       "<g id=\"edge4\" class=\"edge\">\n",
       "<title>pool1&#45;&gt;conv3</title>\n",
       "<path fill=\"none\" stroke=\"#000000\" d=\"M427.1293,-35C435.304,-35 444.0876,-35 452.7522,-35\"/>\n",
       "<polygon fill=\"#000000\" stroke=\"#000000\" points=\"452.8256,-38.5001 462.8256,-35 452.8256,-31.5001 452.8256,-38.5001\"/>\n",
       "</g>\n",
       "<!-- conv4 -->\n",
       "<g id=\"node6\" class=\"node\">\n",
       "<title>conv4</title>\n",
       "<polygon fill=\"none\" stroke=\"#000000\" points=\"681,-54 590,-54 590,-16 681,-16 681,-54\"/>\n",
       "<text text-anchor=\"middle\" x=\"635.5\" y=\"-38.8\" font-family=\"Times,serif\" font-size=\"14.00\" fill=\"#000000\">128 filters</text>\n",
       "<text text-anchor=\"middle\" x=\"635.5\" y=\"-23.8\" font-family=\"Times,serif\" font-size=\"14.00\" fill=\"#000000\">3x3</text>\n",
       "</g>\n",
       "<!-- conv3&#45;&gt;conv4 -->\n",
       "<g id=\"edge5\" class=\"edge\">\n",
       "<title>conv3&#45;&gt;conv4</title>\n",
       "<path fill=\"none\" stroke=\"#000000\" d=\"M554.3499,-35C562.5329,-35 571.1406,-35 579.568,-35\"/>\n",
       "<polygon fill=\"#000000\" stroke=\"#000000\" points=\"579.7174,-38.5001 589.7174,-35 579.7174,-31.5001 579.7174,-38.5001\"/>\n",
       "</g>\n",
       "<!-- pool2 -->\n",
       "<g id=\"node7\" class=\"node\">\n",
       "<title>pool2</title>\n",
       "<polygon fill=\"none\" stroke=\"#000000\" points=\"794,-54 717,-54 717,-16 794,-16 794,-54\"/>\n",
       "<text text-anchor=\"middle\" x=\"755.5\" y=\"-38.8\" font-family=\"Times,serif\" font-size=\"14.00\" fill=\"#000000\">MaxPool</text>\n",
       "<text text-anchor=\"middle\" x=\"755.5\" y=\"-23.8\" font-family=\"Times,serif\" font-size=\"14.00\" fill=\"#000000\">2x2</text>\n",
       "</g>\n",
       "<!-- conv4&#45;&gt;pool2 -->\n",
       "<g id=\"edge6\" class=\"edge\">\n",
       "<title>conv4&#45;&gt;pool2</title>\n",
       "<path fill=\"none\" stroke=\"#000000\" d=\"M681.2092,-35C689.5909,-35 698.3677,-35 706.8323,-35\"/>\n",
       "<polygon fill=\"#000000\" stroke=\"#000000\" points=\"706.9548,-38.5001 716.9547,-35 706.9547,-31.5001 706.9548,-38.5001\"/>\n",
       "</g>\n",
       "<!-- conv5 -->\n",
       "<g id=\"node8\" class=\"node\">\n",
       "<title>conv5</title>\n",
       "<polygon fill=\"none\" stroke=\"#000000\" points=\"921,-54 830,-54 830,-16 921,-16 921,-54\"/>\n",
       "<text text-anchor=\"middle\" x=\"875.5\" y=\"-38.8\" font-family=\"Times,serif\" font-size=\"14.00\" fill=\"#000000\">256 filters</text>\n",
       "<text text-anchor=\"middle\" x=\"875.5\" y=\"-23.8\" font-family=\"Times,serif\" font-size=\"14.00\" fill=\"#000000\">3x3</text>\n",
       "</g>\n",
       "<!-- pool2&#45;&gt;conv5 -->\n",
       "<g id=\"edge7\" class=\"edge\">\n",
       "<title>pool2&#45;&gt;conv5</title>\n",
       "<path fill=\"none\" stroke=\"#000000\" d=\"M794.1293,-35C802.304,-35 811.0876,-35 819.7522,-35\"/>\n",
       "<polygon fill=\"#000000\" stroke=\"#000000\" points=\"819.8256,-38.5001 829.8256,-35 819.8256,-31.5001 819.8256,-38.5001\"/>\n",
       "</g>\n",
       "<!-- conv6 -->\n",
       "<g id=\"node9\" class=\"node\">\n",
       "<title>conv6</title>\n",
       "<polygon fill=\"none\" stroke=\"#000000\" points=\"1048,-54 957,-54 957,-16 1048,-16 1048,-54\"/>\n",
       "<text text-anchor=\"middle\" x=\"1002.5\" y=\"-38.8\" font-family=\"Times,serif\" font-size=\"14.00\" fill=\"#000000\">256 filters</text>\n",
       "<text text-anchor=\"middle\" x=\"1002.5\" y=\"-23.8\" font-family=\"Times,serif\" font-size=\"14.00\" fill=\"#000000\">3x3</text>\n",
       "</g>\n",
       "<!-- conv5&#45;&gt;conv6 -->\n",
       "<g id=\"edge8\" class=\"edge\">\n",
       "<title>conv5&#45;&gt;conv6</title>\n",
       "<path fill=\"none\" stroke=\"#000000\" d=\"M921.3499,-35C929.5329,-35 938.1406,-35 946.568,-35\"/>\n",
       "<polygon fill=\"#000000\" stroke=\"#000000\" points=\"946.7174,-38.5001 956.7174,-35 946.7174,-31.5001 946.7174,-38.5001\"/>\n",
       "</g>\n",
       "<!-- gap -->\n",
       "<g id=\"node10\" class=\"node\">\n",
       "<title>gap</title>\n",
       "<polygon fill=\"none\" stroke=\"#000000\" points=\"1209,-54 1084,-54 1084,-16 1209,-16 1209,-54\"/>\n",
       "<text text-anchor=\"middle\" x=\"1146.5\" y=\"-38.8\" font-family=\"Times,serif\" font-size=\"14.00\" fill=\"#000000\">Global Average</text>\n",
       "<text text-anchor=\"middle\" x=\"1146.5\" y=\"-23.8\" font-family=\"Times,serif\" font-size=\"14.00\" fill=\"#000000\">Pooling</text>\n",
       "</g>\n",
       "<!-- conv6&#45;&gt;gap -->\n",
       "<g id=\"edge9\" class=\"edge\">\n",
       "<title>conv6&#45;&gt;gap</title>\n",
       "<path fill=\"none\" stroke=\"#000000\" d=\"M1048.0625,-35C1056.2353,-35 1064.9359,-35 1073.653,-35\"/>\n",
       "<polygon fill=\"#000000\" stroke=\"#000000\" points=\"1073.8631,-38.5001 1083.8631,-35 1073.863,-31.5001 1073.8631,-38.5001\"/>\n",
       "</g>\n",
       "<!-- fc -->\n",
       "<g id=\"node11\" class=\"node\">\n",
       "<title>fc</title>\n",
       "<polygon fill=\"none\" stroke=\"#000000\" points=\"1360,-53 1245,-53 1245,-17 1360,-17 1360,-53\"/>\n",
       "<text text-anchor=\"middle\" x=\"1302.5\" y=\"-31.3\" font-family=\"Times,serif\" font-size=\"14.00\" fill=\"#000000\">2048 neurons</text>\n",
       "</g>\n",
       "<!-- gap&#45;&gt;fc -->\n",
       "<g id=\"edge10\" class=\"edge\">\n",
       "<title>gap&#45;&gt;fc</title>\n",
       "<path fill=\"none\" stroke=\"#000000\" d=\"M1209.0523,-35C1217.5819,-35 1226.3683,-35 1234.981,-35\"/>\n",
       "<polygon fill=\"#000000\" stroke=\"#000000\" points=\"1234.9861,-38.5001 1244.986,-35 1234.986,-31.5001 1234.9861,-38.5001\"/>\n",
       "</g>\n",
       "<!-- dropout -->\n",
       "<g id=\"node12\" class=\"node\">\n",
       "<title>dropout</title>\n",
       "<polygon fill=\"none\" stroke=\"#000000\" points=\"1471,-54 1396,-54 1396,-16 1471,-16 1471,-54\"/>\n",
       "<text text-anchor=\"middle\" x=\"1433.5\" y=\"-38.8\" font-family=\"Times,serif\" font-size=\"14.00\" fill=\"#000000\">Dropout</text>\n",
       "<text text-anchor=\"middle\" x=\"1433.5\" y=\"-23.8\" font-family=\"Times,serif\" font-size=\"14.00\" fill=\"#000000\">0.7</text>\n",
       "</g>\n",
       "<!-- fc&#45;&gt;dropout -->\n",
       "<g id=\"edge11\" class=\"edge\">\n",
       "<title>fc&#45;&gt;dropout</title>\n",
       "<path fill=\"none\" stroke=\"#000000\" d=\"M1360.3398,-35C1368.8218,-35 1377.4775,-35 1385.7275,-35\"/>\n",
       "<polygon fill=\"#000000\" stroke=\"#000000\" points=\"1385.9168,-38.5001 1395.9168,-35 1385.9168,-31.5001 1385.9168,-38.5001\"/>\n",
       "</g>\n",
       "<!-- output -->\n",
       "<g id=\"node13\" class=\"node\">\n",
       "<title>output</title>\n",
       "<polygon fill=\"none\" stroke=\"#000000\" points=\"1604,-54 1507,-54 1507,-16 1604,-16 1604,-54\"/>\n",
       "<text text-anchor=\"middle\" x=\"1555.5\" y=\"-38.8\" font-family=\"Times,serif\" font-size=\"14.00\" fill=\"#000000\">Output</text>\n",
       "<text text-anchor=\"middle\" x=\"1555.5\" y=\"-23.8\" font-family=\"Times,serif\" font-size=\"14.00\" fill=\"#000000\">10 neurons</text>\n",
       "</g>\n",
       "<!-- dropout&#45;&gt;output -->\n",
       "<g id=\"edge12\" class=\"edge\">\n",
       "<title>dropout&#45;&gt;output</title>\n",
       "<path fill=\"none\" stroke=\"#000000\" d=\"M1471.0995,-35C1479.151,-35 1487.8435,-35 1496.483,-35\"/>\n",
       "<polygon fill=\"#000000\" stroke=\"#000000\" points=\"1496.559,-38.5001 1506.5589,-35 1496.5589,-31.5001 1496.559,-38.5001\"/>\n",
       "</g>\n",
       "</g>\n",
       "</svg>\n"
      ],
      "text/plain": [
       "<graphviz.graphs.Digraph at 0x7fd96e474790>"
      ]
     },
     "metadata": {},
     "output_type": "display_data"
    }
   ],
   "source": [
    "from graphviz import Digraph\n",
    "from IPython.display import display\n",
    "\n",
    "def create_nn_diagram():\n",
    "    dot = Digraph(comment='Improved CNN Architecture')\n",
    "    dot.attr(rankdir='LR', size='12,8')  # LR for horizontal layout\n",
    "\n",
    "    # Input Layer\n",
    "    dot.node('input', 'Input\\n32x32x3', shape='box')\n",
    "\n",
    "    # Convolutional Layers 1 & 2\n",
    "    with dot.subgraph(name='cluster_conv1_2') as c:\n",
    "        c.attr(label='Convolutional Layers 1 & 2')\n",
    "        c.node('conv1', '64 filters\\n3x3', shape='box')\n",
    "        c.node('conv2', '64 filters\\n3x3', shape='box')\n",
    "        c.node('pool1', 'MaxPool\\n2x2', shape='box')\n",
    "\n",
    "    # Convolutional Layers 3 & 4\n",
    "    with dot.subgraph(name='cluster_conv3_4') as c:\n",
    "        c.attr(label='Convolutional Layers 3 & 4')\n",
    "        c.node('conv3', '128 filters\\n3x3', shape='box')\n",
    "        c.node('conv4', '128 filters\\n3x3', shape='box')\n",
    "        c.node('pool2', 'MaxPool\\n2x2', shape='box')\n",
    "\n",
    "    # Convolutional Layers 5 & 6\n",
    "    with dot.subgraph(name='cluster_conv5_6') as c:\n",
    "        c.attr(label='Convolutional Layers 5 & 6')\n",
    "        c.node('conv5', '256 filters\\n3x3', shape='box')\n",
    "        c.node('conv6', '256 filters\\n3x3', shape='box')\n",
    "\n",
    "    # Global Average Pooling\n",
    "    dot.node('gap', 'Global Average\\nPooling', shape='box')\n",
    "\n",
    "    # Fully Connected Layer\n",
    "    with dot.subgraph(name='cluster_fc') as c:\n",
    "        c.attr(label='Fully Connected Layer')\n",
    "        c.node('fc', '2048 neurons', shape='box')\n",
    "        c.node('dropout', 'Dropout\\n0.7', shape='box')\n",
    "\n",
    "    # Output Layer\n",
    "    dot.node('output', 'Output\\n10 neurons', shape='box')\n",
    "\n",
    "    # Connections\n",
    "    dot.edge('input', 'conv1')\n",
    "    dot.edge('conv1', 'conv2')\n",
    "    dot.edge('conv2', 'pool1')\n",
    "    dot.edge('pool1', 'conv3')\n",
    "    dot.edge('conv3', 'conv4')\n",
    "    dot.edge('conv4', 'pool2')\n",
    "    dot.edge('pool2', 'conv5')\n",
    "    dot.edge('conv5', 'conv6')\n",
    "    dot.edge('conv6', 'gap')\n",
    "    dot.edge('gap', 'fc')\n",
    "    dot.edge('fc', 'dropout')\n",
    "    dot.edge('dropout', 'output')\n",
    "\n",
    "    # Display the diagram\n",
    "    display(dot)\n",
    "\n",
    "create_nn_diagram()"
   ]
  }
 ],
 "metadata": {
  "kernelspec": {
   "display_name": "Python 3",
   "language": "python",
   "name": "python3"
  },
  "language_info": {
   "codemirror_mode": {
    "name": "ipython",
    "version": 3
   },
   "file_extension": ".py",
   "mimetype": "text/x-python",
   "name": "python",
   "nbconvert_exporter": "python",
   "pygments_lexer": "ipython3",
   "version": "3.7.12"
  }
 },
 "nbformat": 4,
 "nbformat_minor": 2
}
