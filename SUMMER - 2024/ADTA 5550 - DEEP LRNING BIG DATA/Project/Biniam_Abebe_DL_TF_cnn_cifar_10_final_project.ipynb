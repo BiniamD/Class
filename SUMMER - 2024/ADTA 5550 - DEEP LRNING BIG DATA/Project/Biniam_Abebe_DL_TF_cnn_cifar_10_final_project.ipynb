{
 "cells": [
  {
   "cell_type": "markdown",
   "metadata": {},
   "source": [
    "# ADTA 5900: CNN on CIFAR-10: Final Project"
   ]
  },
  {
   "cell_type": "markdown",
   "metadata": {},
   "source": [
    "## Set Path for Data Folder"
   ]
  },
  {
   "cell_type": "code",
   "execution_count": 226,
   "metadata": {
    "collapsed": true
   },
   "outputs": [],
   "source": [
    " # Put file path as a string here\n",
    "\n",
    "CIFAR_DIR = 'CIFAR_10_DATA/'"
   ]
  },
  {
   "cell_type": "markdown",
   "metadata": {},
   "source": [
    "## Load Data"
   ]
  },
  {
   "cell_type": "code",
   "execution_count": 227,
   "metadata": {
    "collapsed": true
   },
   "outputs": [],
   "source": [
    "def unpickle(file):\n",
    "    import pickle\n",
    "    with open(file, 'rb') as fo:\n",
    "        cifar_dict = pickle.load(fo, encoding='bytes')\n",
    "    return cifar_dict"
   ]
  },
  {
   "cell_type": "code",
   "execution_count": 228,
   "metadata": {
    "collapsed": true
   },
   "outputs": [],
   "source": [
    "dirs = ['batches.meta','data_batch_1','data_batch_2','data_batch_3','data_batch_4','data_batch_5','test_batch']\n",
    "\n",
    "all_data = [0,1,2,3,4,5,6]\n",
    "\n",
    "for i,direc in zip(all_data,dirs):\n",
    "    all_data[i] = unpickle(CIFAR_DIR+direc)"
   ]
  },
  {
   "cell_type": "code",
   "execution_count": 229,
   "metadata": {
    "collapsed": true
   },
   "outputs": [],
   "source": [
    "batch_meta = all_data[0]\n",
    "data_batch1 = all_data[1]\n",
    "data_batch2 = all_data[2]\n",
    "data_batch3 = all_data[3]\n",
    "data_batch4 = all_data[4]\n",
    "data_batch5 = all_data[5]\n",
    "test_batch = all_data[6]"
   ]
  },
  {
   "cell_type": "code",
   "execution_count": 230,
   "metadata": {},
   "outputs": [
    {
     "data": {
      "text/plain": [
       "{b'num_cases_per_batch': 10000,\n",
       " b'label_names': [b'airplane',\n",
       "  b'automobile',\n",
       "  b'bird',\n",
       "  b'cat',\n",
       "  b'deer',\n",
       "  b'dog',\n",
       "  b'frog',\n",
       "  b'horse',\n",
       "  b'ship',\n",
       "  b'truck'],\n",
       " b'num_vis': 3072}"
      ]
     },
     "execution_count": 230,
     "metadata": {},
     "output_type": "execute_result"
    }
   ],
   "source": [
    "batch_meta"
   ]
  },
  {
   "cell_type": "code",
   "execution_count": 231,
   "metadata": {},
   "outputs": [
    {
     "data": {
      "text/plain": [
       "dict_keys([b'batch_label', b'labels', b'data', b'filenames'])"
      ]
     },
     "execution_count": 231,
     "metadata": {},
     "output_type": "execute_result"
    }
   ],
   "source": [
    "data_batch1.keys()"
   ]
  },
  {
   "cell_type": "markdown",
   "metadata": {},
   "source": [
    "## Display several examples of single images using matplotlib "
   ]
  },
  {
   "cell_type": "code",
   "execution_count": 232,
   "metadata": {
    "collapsed": true
   },
   "outputs": [],
   "source": [
    "import matplotlib.pyplot as plt\n",
    "%matplotlib inline\n",
    "\n",
    "import numpy as np"
   ]
  },
  {
   "cell_type": "code",
   "execution_count": 233,
   "metadata": {
    "collapsed": true
   },
   "outputs": [],
   "source": [
    "X = data_batch1[b\"data\"] "
   ]
  },
  {
   "cell_type": "code",
   "execution_count": 234,
   "metadata": {
    "collapsed": true
   },
   "outputs": [],
   "source": [
    "X = X.reshape(10000, 3, 32, 32).transpose(0,2,3,1).astype(\"uint8\")"
   ]
  },
  {
   "cell_type": "code",
   "execution_count": 235,
   "metadata": {},
   "outputs": [
    {
     "data": {
      "text/plain": [
       "255"
      ]
     },
     "execution_count": 235,
     "metadata": {},
     "output_type": "execute_result"
    }
   ],
   "source": [
    "X[0].max()"
   ]
  },
  {
   "cell_type": "code",
   "execution_count": 236,
   "metadata": {},
   "outputs": [
    {
     "data": {
      "text/plain": [
       "1.0"
      ]
     },
     "execution_count": 236,
     "metadata": {},
     "output_type": "execute_result"
    }
   ],
   "source": [
    "(X[0]/255).max()"
   ]
  },
  {
   "cell_type": "code",
   "execution_count": 237,
   "metadata": {},
   "outputs": [
    {
     "data": {
      "text/plain": [
       "<matplotlib.image.AxesImage at 0x7fada4f00210>"
      ]
     },
     "execution_count": 237,
     "metadata": {},
     "output_type": "execute_result"
    },
    {
     "data": {
      "image/png": "[encoded data removed]",
      "text/plain": [
       "<Figure size 640x480 with 1 Axes>"
      ]
     },
     "metadata": {},
     "output_type": "display_data"
    }
   ],
   "source": [
    "plt.imshow(X[0])"
   ]
  },
  {
   "cell_type": "code",
   "execution_count": 238,
   "metadata": {},
   "outputs": [
    {
     "data": {
      "text/plain": [
       "<matplotlib.image.AxesImage at 0x7fada36f5bd0>"
      ]
     },
     "execution_count": 238,
     "metadata": {},
     "output_type": "execute_result"
    },
    {
     "data": {
      "image/png": "[encoded data removed]",
      "text/plain": [
       "<Figure size 640x480 with 1 Axes>"
      ]
     },
     "metadata": {},
     "output_type": "display_data"
    }
   ],
   "source": [
    "plt.imshow(X[1])"
   ]
  },
  {
   "cell_type": "code",
   "execution_count": 239,
   "metadata": {},
   "outputs": [
    {
     "data": {
      "text/plain": [
       "<matplotlib.image.AxesImage at 0x7fada36b64d0>"
      ]
     },
     "execution_count": 239,
     "metadata": {},
     "output_type": "execute_result"
    },
    {
     "data": {
      "image/png": "[encoded data removed]",
      "text/plain": [
       "<Figure size 640x480 with 1 Axes>"
      ]
     },
     "metadata": {},
     "output_type": "display_data"
    }
   ],
   "source": [
    "plt.imshow(X[4])"
   ]
  },
  {
   "cell_type": "markdown",
   "metadata": {},
   "source": [
    "## Supporting Functions to Rearrange Data"
   ]
  },
  {
   "cell_type": "markdown",
   "metadata": {},
   "source": [
    "### Encode Labels into One-Hot Format"
   ]
  },
  {
   "cell_type": "code",
   "execution_count": 240,
   "metadata": {
    "collapsed": true
   },
   "outputs": [],
   "source": [
    "def one_hot_encode(vec, vals=10):\n",
    "    '''\n",
    "    For use to one-hot encode the 10- possible labels\n",
    "    '''\n",
    "    n = len(vec)\n",
    "    out = np.zeros((n, vals))\n",
    "    out[range(n), vec] = 1\n",
    "    return out"
   ]
  },
  {
   "cell_type": "markdown",
   "metadata": {},
   "source": [
    "## Set Up Image Data: Make it Ready to be Fed into 1st Conv Layer"
   ]
  },
  {
   "cell_type": "code",
   "execution_count": 241,
   "metadata": {
    "collapsed": true
   },
   "outputs": [],
   "source": [
    "class CifarHelper():\n",
    "    \n",
    "    def __init__(self):\n",
    "        self.i = 0\n",
    "        \n",
    "        self.all_train_batches = [data_batch1,data_batch2,data_batch3,data_batch4,data_batch5]\n",
    "        self.test_batch = [test_batch]\n",
    "        \n",
    "        self.training_images = None\n",
    "        self.training_labels = None\n",
    "        \n",
    "        self.test_images = None\n",
    "        self.test_labels = None\n",
    "    \n",
    "    def set_up_images(self):\n",
    "        print(\"Setting Up Training Images and Labels\")\n",
    "        \n",
    "        self.training_images = np.vstack([d[b\"data\"] for d in self.all_train_batches])\n",
    "        train_len = len(self.training_images)\n",
    "        \n",
    "        self.training_images = self.training_images.reshape(train_len,3,32,32).transpose(0,2,3,1)/255\n",
    "        self.training_labels = one_hot_encode(np.hstack([d[b\"labels\"] for d in self.all_train_batches]), 10)\n",
    "        \n",
    "        print(\"Setting Up Test Images and Labels\")\n",
    "        \n",
    "        self.test_images = np.vstack([d[b\"data\"] for d in self.test_batch])\n",
    "        test_len = len(self.test_images)\n",
    "        \n",
    "        self.test_images = self.test_images.reshape(test_len,3,32,32).transpose(0,2,3,1)/255\n",
    "        self.test_labels = one_hot_encode(np.hstack([d[b\"labels\"] for d in self.test_batch]), 10)\n",
    "\n",
    "        \n",
    "    def next_batch(self, batch_size):\n",
    "        x = self.training_images[self.i:self.i+batch_size]\n",
    "        y = self.training_labels[self.i:self.i+batch_size]\n",
    "        self.i = (self.i + batch_size) % len(self.training_images)\n",
    "        return x, y"
   ]
  },
  {
   "cell_type": "markdown",
   "metadata": {},
   "source": [
    "## Set up image data: Calling CifarHelper.set_up_images()"
   ]
  },
  {
   "cell_type": "code",
   "execution_count": 242,
   "metadata": {},
   "outputs": [
    {
     "name": "stdout",
     "output_type": "stream",
     "text": [
      "Setting Up Training Images and Labels\n",
      "Setting Up Test Images and Labels\n"
     ]
    }
   ],
   "source": [
    "# Before Your tf.Session run these two lines\n",
    "ch = CifarHelper()\n",
    "ch.set_up_images()\n",
    "\n",
    "# During your session to grab the next batch use this line\n",
    "# (Just like we did for mnist.train.next_batch)\n",
    "# batch = ch.next_batch(100)"
   ]
  },
  {
   "cell_type": "markdown",
   "metadata": {},
   "source": [
    "## Define Supporting Functions to Build, Train, and Test CNN Model"
   ]
  },
  {
   "cell_type": "code",
   "execution_count": 243,
   "metadata": {},
   "outputs": [],
   "source": [
    "import tensorflow as tf\n",
    "import numpy as np\n",
    "import pickle"
   ]
  },
  {
   "cell_type": "code",
   "execution_count": 244,
   "metadata": {
    "collapsed": true
   },
   "outputs": [],
   "source": [
    "def init_weights(shape): \n",
    "    init_random_dist = tf.truncated_normal(shape, stddev=0.1)\n",
    "    return tf.Variable(init_random_dist)\n",
    "def init_bias(shape): \n",
    "    init_bias_vals = tf.constant(0.1, shape=shape)\n",
    "    return tf.Variable(init_bias_vals)\n",
    "def conv2d(x, W):\n",
    "    return tf.nn.conv2d(x, W, strides=[1, 1, 1, 1], padding='SAME')\n",
    "def max_pool_2by2(x):\n",
    "    return tf.nn.max_pool(x, ksize=[1, 2, 2, 1], strides=[1, 2, 2, 1], padding='SAME')\n",
    "def convolutional_layer(input_x, shape):\n",
    "    W = init_weights(shape)\n",
    "    b = init_bias([shape[3]])\n",
    "    return tf.nn.relu(conv2d(input_x, W) + b)\n",
    "def normal_full_layer(input_layer, size):\n",
    "    input_size = int(input_layer.get_shape()[1])\n",
    "    W = init_weights([input_size, size])\n",
    "    b = init_bias([size])\n",
    "    return tf.matmul(input_layer, W) + b"
   ]
  },
  {
   "cell_type": "markdown",
   "metadata": {},
   "source": [
    "# PHASE I: Build Convolutional Neural Network"
   ]
  },
  {
   "cell_type": "markdown",
   "metadata": {},
   "source": [
    "## Create Placeholders for Inputs and Labels: x and y_true"
   ]
  },
  {
   "cell_type": "code",
   "execution_count": 245,
   "metadata": {},
   "outputs": [],
   "source": [
    "# Placeholders\n",
    "x = tf.placeholder(tf.float32, shape=[None, 32, 32, 3])\n",
    "y_true = tf.placeholder(tf.float32, [None, 10])\n",
    "hold_prob = tf.placeholder(tf.float32)\n",
    "training = tf.placeholder(tf.bool)"
   ]
  },
  {
   "cell_type": "markdown",
   "metadata": {},
   "source": [
    "## Reshape the Input Placeholder x: NOT NEED TO RESHAPE DATA HERE"
   ]
  },
  {
   "cell_type": "code",
   "execution_count": 246,
   "metadata": {
    "collapsed": true
   },
   "outputs": [],
   "source": [
    "# DO NOTHING -- DON'T NEED TO RESHAPE - DATA IS ALREADY IN GOOD SHAPE TO BE FED INTO 1ST CONVOLUTION LAYER"
   ]
  },
  {
   "cell_type": "markdown",
   "metadata": {},
   "source": [
    "## Create 1st Convolution Layer and so on ............."
   ]
  },
  {
   "cell_type": "code",
   "execution_count": 247,
   "metadata": {
    "collapsed": true
   },
   "outputs": [],
   "source": [
    "convo_1 = convolutional_layer(x, shape=[4, 4, 3, 32])\n",
    "convo_1_pooling = max_pool_2by2(convo_1)\n",
    "\n",
    "convo_2 = convolutional_layer(convo_1_pooling, shape=[4, 4, 32, 64])\n",
    "convo_2_pooling = max_pool_2by2(convo_2)\n",
    "\n",
    "convo_2_flat = tf.reshape(convo_2_pooling, [-1, 8*8*64])\n",
    "full_layer_one = tf.nn.relu(normal_full_layer(convo_2_flat, 1024))\n",
    "\n",
    "full_one_dropout = tf.nn.dropout(full_layer_one, keep_prob=hold_prob)"
   ]
  },
  {
   "cell_type": "code",
   "execution_count": 248,
   "metadata": {
    "collapsed": true
   },
   "outputs": [],
   "source": [
    "y_pred = normal_full_layer(full_one_dropout, 10)"
   ]
  },
  {
   "cell_type": "markdown",
   "metadata": {},
   "source": [
    "diagram of the network architecture "
   ]
  },
  {
   "cell_type": "code",
   "execution_count": 249,
   "metadata": {},
   "outputs": [
    {
     "data": {
      "image/svg+xml": [
       "<?xml version=\"1.0\" encoding=\"UTF-8\" standalone=\"no\"?>\n",
       "<!DOCTYPE svg PUBLIC \"-//W3C//DTD SVG 1.1//EN\"\n",
       " \"http://www.w3.org/Graphics/SVG/1.1/DTD/svg11.dtd\">\n",
       "<!-- Generated by graphviz version 2.40.1 (20161225.0304)\n",
       " -->\n",
       "<!-- Title: %3 Pages: 1 -->\n",
       "<svg width=\"864pt\" height=\"64pt\"\n",
       " viewBox=\"0.00 0.00 864.00 63.54\" xmlns=\"http://www.w3.org/2000/svg\" xmlns:xlink=\"http://www.w3.org/1999/xlink\">\n",
       "<g id=\"graph0\" class=\"graph\" transform=\"scale(.6291 .6291) rotate(0) translate(4 97)\">\n",
       "<title>%3</title>\n",
       "<polygon fill=\"#ffffff\" stroke=\"transparent\" points=\"-4,4 -4,-97 1369.3806,-97 1369.3806,4 -4,4\"/>\n",
       "<g id=\"clust1\" class=\"cluster\">\n",
       "<title>cluster_conv1</title>\n",
       "<polygon fill=\"none\" stroke=\"#000000\" points=\"106,-8 106,-85 425.7935,-85 425.7935,-8 106,-8\"/>\n",
       "<text text-anchor=\"middle\" x=\"265.8968\" y=\"-69.8\" font-family=\"Times,serif\" font-size=\"14.00\" fill=\"#000000\">Convolutional Layer 1</text>\n",
       "</g>\n",
       "<g id=\"clust2\" class=\"cluster\">\n",
       "<title>cluster_conv2</title>\n",
       "<polygon fill=\"none\" stroke=\"#000000\" points=\"445.7935,-8 445.7935,-85 765.5871,-85 765.5871,-8 445.7935,-8\"/>\n",
       "<text text-anchor=\"middle\" x=\"605.6903\" y=\"-69.8\" font-family=\"Times,serif\" font-size=\"14.00\" fill=\"#000000\">Convolutional Layer 2</text>\n",
       "</g>\n",
       "<g id=\"clust3\" class=\"cluster\">\n",
       "<title>cluster_fc</title>\n",
       "<polygon fill=\"none\" stroke=\"#000000\" points=\"889.5871,-8 889.5871,-85 1240.3806,-85 1240.3806,-8 889.5871,-8\"/>\n",
       "<text text-anchor=\"middle\" x=\"1064.9839\" y=\"-69.8\" font-family=\"Times,serif\" font-size=\"14.00\" fill=\"#000000\">Fully Connected Layer</text>\n",
       "</g>\n",
       "<!-- input -->\n",
       "<g id=\"node1\" class=\"node\">\n",
       "<title>input</title>\n",
       "<polygon fill=\"none\" stroke=\"#000000\" points=\"78,-54 0,-54 0,-16 78,-16 78,-54\"/>\n",
       "<text text-anchor=\"middle\" x=\"39\" y=\"-38.8\" font-family=\"Times,serif\" font-size=\"14.00\" fill=\"#000000\">Input</text>\n",
       "<text text-anchor=\"middle\" x=\"39\" y=\"-23.8\" font-family=\"Times,serif\" font-size=\"14.00\" fill=\"#000000\">32x32x3</text>\n",
       "</g>\n",
       "<!-- conv1 -->\n",
       "<g id=\"node2\" class=\"node\">\n",
       "<title>conv1</title>\n",
       "<polygon fill=\"none\" stroke=\"#000000\" points=\"196,-54 114,-54 114,-16 196,-16 196,-54\"/>\n",
       "<text text-anchor=\"middle\" x=\"155\" y=\"-38.8\" font-family=\"Times,serif\" font-size=\"14.00\" fill=\"#000000\">32 filters</text>\n",
       "<text text-anchor=\"middle\" x=\"155\" y=\"-23.8\" font-family=\"Times,serif\" font-size=\"14.00\" fill=\"#000000\">4x4</text>\n",
       "</g>\n",
       "<!-- input&#45;&gt;conv1 -->\n",
       "<g id=\"edge1\" class=\"edge\">\n",
       "<title>input&#45;&gt;conv1</title>\n",
       "<path fill=\"none\" stroke=\"#000000\" d=\"M78.2723,-35C86.403,-35 95.0838,-35 103.5741,-35\"/>\n",
       "<polygon fill=\"#000000\" stroke=\"#000000\" points=\"103.7864,-38.5001 113.7863,-35 103.7863,-31.5001 103.7864,-38.5001\"/>\n",
       "</g>\n",
       "<!-- relu1 -->\n",
       "<g id=\"node3\" class=\"node\">\n",
       "<title>relu1</title>\n",
       "<ellipse fill=\"none\" stroke=\"#000000\" cx=\"268.3968\" cy=\"-35\" rx=\"36.2938\" ry=\"18\"/>\n",
       "<text text-anchor=\"middle\" x=\"268.3968\" y=\"-31.3\" font-family=\"Times,serif\" font-size=\"14.00\" fill=\"#000000\">ReLU</text>\n",
       "</g>\n",
       "<!-- conv1&#45;&gt;relu1 -->\n",
       "<g id=\"edge2\" class=\"edge\">\n",
       "<title>conv1&#45;&gt;relu1</title>\n",
       "<path fill=\"none\" stroke=\"#000000\" d=\"M196.2596,-35C204.5435,-35 213.3032,-35 221.755,-35\"/>\n",
       "<polygon fill=\"#000000\" stroke=\"#000000\" points=\"221.859,-38.5001 231.8589,-35 221.8589,-31.5001 221.859,-38.5001\"/>\n",
       "</g>\n",
       "<!-- pool1 -->\n",
       "<g id=\"node4\" class=\"node\">\n",
       "<title>pool1</title>\n",
       "<polygon fill=\"none\" stroke=\"#000000\" points=\"417.7935,-54 340.7935,-54 340.7935,-16 417.7935,-16 417.7935,-54\"/>\n",
       "<text text-anchor=\"middle\" x=\"379.2935\" y=\"-38.8\" font-family=\"Times,serif\" font-size=\"14.00\" fill=\"#000000\">MaxPool</text>\n",
       "<text text-anchor=\"middle\" x=\"379.2935\" y=\"-23.8\" font-family=\"Times,serif\" font-size=\"14.00\" fill=\"#000000\">2x2</text>\n",
       "</g>\n",
       "<!-- relu1&#45;&gt;pool1 -->\n",
       "<g id=\"edge3\" class=\"edge\">\n",
       "<title>relu1&#45;&gt;pool1</title>\n",
       "<path fill=\"none\" stroke=\"#000000\" d=\"M305.0159,-35C313.0893,-35 321.7671,-35 330.2429,-35\"/>\n",
       "<polygon fill=\"#000000\" stroke=\"#000000\" points=\"330.4269,-38.5001 340.4269,-35 330.4269,-31.5001 330.4269,-38.5001\"/>\n",
       "</g>\n",
       "<!-- conv2 -->\n",
       "<g id=\"node5\" class=\"node\">\n",
       "<title>conv2</title>\n",
       "<polygon fill=\"none\" stroke=\"#000000\" points=\"535.7935,-54 453.7935,-54 453.7935,-16 535.7935,-16 535.7935,-54\"/>\n",
       "<text text-anchor=\"middle\" x=\"494.7935\" y=\"-38.8\" font-family=\"Times,serif\" font-size=\"14.00\" fill=\"#000000\">64 filters</text>\n",
       "<text text-anchor=\"middle\" x=\"494.7935\" y=\"-23.8\" font-family=\"Times,serif\" font-size=\"14.00\" fill=\"#000000\">4x4</text>\n",
       "</g>\n",
       "<!-- pool1&#45;&gt;conv2 -->\n",
       "<g id=\"edge4\" class=\"edge\">\n",
       "<title>pool1&#45;&gt;conv2</title>\n",
       "<path fill=\"none\" stroke=\"#000000\" d=\"M418.0747,-35C426.1816,-35 434.8495,-35 443.3341,-35\"/>\n",
       "<polygon fill=\"#000000\" stroke=\"#000000\" points=\"443.5426,-38.5001 453.5426,-35 443.5425,-31.5001 443.5426,-38.5001\"/>\n",
       "</g>\n",
       "<!-- relu2 -->\n",
       "<g id=\"node6\" class=\"node\">\n",
       "<title>relu2</title>\n",
       "<ellipse fill=\"none\" stroke=\"#000000\" cx=\"608.1903\" cy=\"-35\" rx=\"36.2938\" ry=\"18\"/>\n",
       "<text text-anchor=\"middle\" x=\"608.1903\" y=\"-31.3\" font-family=\"Times,serif\" font-size=\"14.00\" fill=\"#000000\">ReLU</text>\n",
       "</g>\n",
       "<!-- conv2&#45;&gt;relu2 -->\n",
       "<g id=\"edge5\" class=\"edge\">\n",
       "<title>conv2&#45;&gt;relu2</title>\n",
       "<path fill=\"none\" stroke=\"#000000\" d=\"M536.0532,-35C544.337,-35 553.0968,-35 561.5486,-35\"/>\n",
       "<polygon fill=\"#000000\" stroke=\"#000000\" points=\"561.6525,-38.5001 571.6525,-35 561.6524,-31.5001 561.6525,-38.5001\"/>\n",
       "</g>\n",
       "<!-- pool2 -->\n",
       "<g id=\"node7\" class=\"node\">\n",
       "<title>pool2</title>\n",
       "<polygon fill=\"none\" stroke=\"#000000\" points=\"757.5871,-54 680.5871,-54 680.5871,-16 757.5871,-16 757.5871,-54\"/>\n",
       "<text text-anchor=\"middle\" x=\"719.0871\" y=\"-38.8\" font-family=\"Times,serif\" font-size=\"14.00\" fill=\"#000000\">MaxPool</text>\n",
       "<text text-anchor=\"middle\" x=\"719.0871\" y=\"-23.8\" font-family=\"Times,serif\" font-size=\"14.00\" fill=\"#000000\">2x2</text>\n",
       "</g>\n",
       "<!-- relu2&#45;&gt;pool2 -->\n",
       "<g id=\"edge6\" class=\"edge\">\n",
       "<title>relu2&#45;&gt;pool2</title>\n",
       "<path fill=\"none\" stroke=\"#000000\" d=\"M644.8094,-35C652.8829,-35 661.5607,-35 670.0364,-35\"/>\n",
       "<polygon fill=\"#000000\" stroke=\"#000000\" points=\"670.2205,-38.5001 680.2205,-35 670.2204,-31.5001 670.2205,-38.5001\"/>\n",
       "</g>\n",
       "<!-- flatten -->\n",
       "<g id=\"node8\" class=\"node\">\n",
       "<title>flatten</title>\n",
       "<polygon fill=\"none\" stroke=\"#000000\" points=\"861.5871,-53 793.5871,-53 793.5871,-17 861.5871,-17 861.5871,-53\"/>\n",
       "<text text-anchor=\"middle\" x=\"827.5871\" y=\"-31.3\" font-family=\"Times,serif\" font-size=\"14.00\" fill=\"#000000\">Flatten</text>\n",
       "</g>\n",
       "<!-- pool2&#45;&gt;flatten -->\n",
       "<g id=\"edge7\" class=\"edge\">\n",
       "<title>pool2&#45;&gt;flatten</title>\n",
       "<path fill=\"none\" stroke=\"#000000\" d=\"M757.6456,-35C765.9599,-35 774.8121,-35 783.3246,-35\"/>\n",
       "<polygon fill=\"#000000\" stroke=\"#000000\" points=\"783.4804,-38.5001 793.4803,-35 783.4803,-31.5001 783.4804,-38.5001\"/>\n",
       "</g>\n",
       "<!-- fc -->\n",
       "<g id=\"node9\" class=\"node\">\n",
       "<title>fc</title>\n",
       "<polygon fill=\"none\" stroke=\"#000000\" points=\"1012.5871,-53 897.5871,-53 897.5871,-17 1012.5871,-17 1012.5871,-53\"/>\n",
       "<text text-anchor=\"middle\" x=\"955.0871\" y=\"-31.3\" font-family=\"Times,serif\" font-size=\"14.00\" fill=\"#000000\">1024 neurons</text>\n",
       "</g>\n",
       "<!-- flatten&#45;&gt;fc -->\n",
       "<g id=\"edge8\" class=\"edge\">\n",
       "<title>flatten&#45;&gt;fc</title>\n",
       "<path fill=\"none\" stroke=\"#000000\" d=\"M861.7547,-35C869.6014,-35 878.2163,-35 886.9415,-35\"/>\n",
       "<polygon fill=\"#000000\" stroke=\"#000000\" points=\"887.1954,-38.5001 897.1954,-35 887.1954,-31.5001 887.1954,-38.5001\"/>\n",
       "</g>\n",
       "<!-- relu3 -->\n",
       "<g id=\"node10\" class=\"node\">\n",
       "<title>relu3</title>\n",
       "<ellipse fill=\"none\" stroke=\"#000000\" cx=\"1084.9839\" cy=\"-35\" rx=\"36.2938\" ry=\"18\"/>\n",
       "<text text-anchor=\"middle\" x=\"1084.9839\" y=\"-31.3\" font-family=\"Times,serif\" font-size=\"14.00\" fill=\"#000000\">ReLU</text>\n",
       "</g>\n",
       "<!-- fc&#45;&gt;relu3 -->\n",
       "<g id=\"edge9\" class=\"edge\">\n",
       "<title>fc&#45;&gt;relu3</title>\n",
       "<path fill=\"none\" stroke=\"#000000\" d=\"M1012.8182,-35C1021.2985,-35 1029.9451,-35 1038.1699,-35\"/>\n",
       "<polygon fill=\"#000000\" stroke=\"#000000\" points=\"1038.3181,-38.5001 1048.3181,-35 1038.318,-31.5001 1038.3181,-38.5001\"/>\n",
       "</g>\n",
       "<!-- dropout -->\n",
       "<g id=\"node11\" class=\"node\">\n",
       "<title>dropout</title>\n",
       "<polygon fill=\"none\" stroke=\"#000000\" points=\"1232.3806,-54 1157.3806,-54 1157.3806,-16 1232.3806,-16 1232.3806,-54\"/>\n",
       "<text text-anchor=\"middle\" x=\"1194.8806\" y=\"-38.8\" font-family=\"Times,serif\" font-size=\"14.00\" fill=\"#000000\">Dropout</text>\n",
       "<text text-anchor=\"middle\" x=\"1194.8806\" y=\"-23.8\" font-family=\"Times,serif\" font-size=\"14.00\" fill=\"#000000\">50%</text>\n",
       "</g>\n",
       "<!-- relu3&#45;&gt;dropout -->\n",
       "<g id=\"edge10\" class=\"edge\">\n",
       "<title>relu3&#45;&gt;dropout</title>\n",
       "<path fill=\"none\" stroke=\"#000000\" d=\"M1121.5779,-35C1129.7458,-35 1138.5249,-35 1147.0698,-35\"/>\n",
       "<polygon fill=\"#000000\" stroke=\"#000000\" points=\"1147.3198,-38.5001 1157.3198,-35 1147.3197,-31.5001 1147.3198,-38.5001\"/>\n",
       "</g>\n",
       "<!-- output -->\n",
       "<g id=\"node12\" class=\"node\">\n",
       "<title>output</title>\n",
       "<polygon fill=\"none\" stroke=\"#000000\" points=\"1365.3806,-54 1268.3806,-54 1268.3806,-16 1365.3806,-16 1365.3806,-54\"/>\n",
       "<text text-anchor=\"middle\" x=\"1316.8806\" y=\"-38.8\" font-family=\"Times,serif\" font-size=\"14.00\" fill=\"#000000\">Output</text>\n",
       "<text text-anchor=\"middle\" x=\"1316.8806\" y=\"-23.8\" font-family=\"Times,serif\" font-size=\"14.00\" fill=\"#000000\">10 neurons</text>\n",
       "</g>\n",
       "<!-- dropout&#45;&gt;output -->\n",
       "<g id=\"edge11\" class=\"edge\">\n",
       "<title>dropout&#45;&gt;output</title>\n",
       "<path fill=\"none\" stroke=\"#000000\" d=\"M1232.4801,-35C1240.5316,-35 1249.2241,-35 1257.8636,-35\"/>\n",
       "<polygon fill=\"#000000\" stroke=\"#000000\" points=\"1257.9396,-38.5001 1267.9396,-35 1257.9395,-31.5001 1257.9396,-38.5001\"/>\n",
       "</g>\n",
       "</g>\n",
       "</svg>\n"
      ],
      "text/plain": [
       "<graphviz.graphs.Digraph at 0x7fada54eb850>"
      ]
     },
     "metadata": {},
     "output_type": "display_data"
    }
   ],
   "source": [
    "from graphviz import Digraph\n",
    "from IPython.display import display\n",
    "\n",
    "def create_nn_diagram():\n",
    "    dot = Digraph(comment='CNN Architecture')\n",
    "    dot.attr(rankdir='LR', size='12,8')  # Changed to LR for horizontal layout\n",
    "\n",
    "    # Input Layer\n",
    "    dot.node('input', 'Input\\n32x32x3', shape='box')\n",
    "\n",
    "    # Convolutional Layer 1\n",
    "    with dot.subgraph(name='cluster_conv1') as c:\n",
    "        c.attr(label='Convolutional Layer 1')\n",
    "        c.node('conv1', '32 filters\\n4x4', shape='box')\n",
    "        c.node('relu1', 'ReLU', shape='ellipse')\n",
    "        c.node('pool1', 'MaxPool\\n2x2', shape='box')\n",
    "\n",
    "    # Convolutional Layer 2\n",
    "    with dot.subgraph(name='cluster_conv2') as c:\n",
    "        c.attr(label='Convolutional Layer 2')\n",
    "        c.node('conv2', '64 filters\\n4x4', shape='box')\n",
    "        c.node('relu2', 'ReLU', shape='ellipse')\n",
    "        c.node('pool2', 'MaxPool\\n2x2', shape='box')\n",
    "\n",
    "    # Flatten\n",
    "    dot.node('flatten', 'Flatten', shape='box')\n",
    "\n",
    "    # Fully Connected Layer\n",
    "    with dot.subgraph(name='cluster_fc') as c:\n",
    "        c.attr(label='Fully Connected Layer')\n",
    "        c.node('fc', '1024 neurons', shape='box')\n",
    "        c.node('relu3', 'ReLU', shape='ellipse')\n",
    "        c.node('dropout', 'Dropout\\n50%', shape='box')\n",
    "\n",
    "    # Output Layer\n",
    "    dot.node('output', 'Output\\n10 neurons', shape='box')\n",
    "\n",
    "    # Connections\n",
    "    dot.edge('input', 'conv1')\n",
    "    dot.edge('conv1', 'relu1')\n",
    "    dot.edge('relu1', 'pool1')\n",
    "    dot.edge('pool1', 'conv2')\n",
    "    dot.edge('conv2', 'relu2')\n",
    "    dot.edge('relu2', 'pool2')\n",
    "    dot.edge('pool2', 'flatten')\n",
    "    dot.edge('flatten', 'fc')\n",
    "    dot.edge('fc', 'relu3')\n",
    "    dot.edge('relu3', 'dropout')\n",
    "    dot.edge('dropout', 'output')\n",
    "\n",
    "    # Display the diagram in the notebook\n",
    "    display(dot)\n",
    "\n",
    "create_nn_diagram()"
   ]
  },
  {
   "cell_type": "markdown",
   "metadata": {},
   "source": [
    "# PHASE II: Train and Test CNN Model on CIFAR-10 Dataset"
   ]
  },
  {
   "cell_type": "markdown",
   "metadata": {},
   "source": [
    "## ..."
   ]
  },
  {
   "cell_type": "code",
   "execution_count": 250,
   "metadata": {
    "collapsed": true
   },
   "outputs": [],
   "source": [
    "cross_entropy = tf.reduce_mean(tf.nn.softmax_cross_entropy_with_logits(labels=y_true, logits=y_pred))\n",
    "\n",
    "optimizer = tf.train.AdamOptimizer(learning_rate=0.001)\n",
    "train = optimizer.minimize(cross_entropy)\n",
    "\n",
    "init = tf.global_variables_initializer()"
   ]
  },
  {
   "cell_type": "code",
   "execution_count": 258,
   "metadata": {
    "collapsed": true
   },
   "outputs": [],
   "source": [
    "steps = 5000\n",
    "batch_size = 100"
   ]
  },
  {
   "cell_type": "code",
   "execution_count": 256,
   "metadata": {},
   "outputs": [],
   "source": [
    "# Lists to store accuracy, loss, and step number\n",
    "accuracies = []\n",
    "losses = []\n",
    "step_numbers = []"
   ]
  },
  {
   "cell_type": "code",
   "execution_count": 259,
   "metadata": {
    "collapsed": true
   },
   "outputs": [
    {
     "name": "stdout",
     "output_type": "stream",
     "text": [
      "Currently on step 0\n",
      "Accuracy: 0.1000\n",
      "Loss: 20.4260\n",
      "\n",
      "\n",
      "Currently on step 100\n",
      "Accuracy: 0.3827\n",
      "Loss: 1.7382\n",
      "\n",
      "\n",
      "Currently on step 200\n",
      "Accuracy: 0.4291\n",
      "Loss: 1.6221\n",
      "\n",
      "\n",
      "Currently on step 300\n",
      "Accuracy: 0.4946\n",
      "Loss: 1.4077\n",
      "\n",
      "\n",
      "Currently on step 400\n",
      "Accuracy: 0.5188\n",
      "Loss: 1.3421\n",
      "\n",
      "\n",
      "Currently on step 500\n",
      "Accuracy: 0.5338\n",
      "Loss: 1.2829\n",
      "\n",
      "\n",
      "Currently on step 600\n",
      "Accuracy: 0.5592\n",
      "Loss: 1.2292\n",
      "\n",
      "\n",
      "Currently on step 700\n",
      "Accuracy: 0.5809\n",
      "Loss: 1.1751\n",
      "\n",
      "\n",
      "Currently on step 800\n",
      "Accuracy: 0.5832\n",
      "Loss: 1.1780\n",
      "\n",
      "\n",
      "Currently on step 900\n",
      "Accuracy: 0.5916\n",
      "Loss: 1.1498\n",
      "\n",
      "\n",
      "Currently on step 1000\n",
      "Accuracy: 0.6091\n",
      "Loss: 1.1003\n",
      "\n",
      "\n",
      "Currently on step 1100\n",
      "Accuracy: 0.6170\n",
      "Loss: 1.0938\n",
      "\n",
      "\n",
      "Currently on step 1200\n",
      "Accuracy: 0.6280\n",
      "Loss: 1.0620\n",
      "\n",
      "\n",
      "Currently on step 1300\n",
      "Accuracy: 0.6237\n",
      "Loss: 1.0621\n",
      "\n",
      "\n",
      "Currently on step 1400\n",
      "Accuracy: 0.6325\n",
      "Loss: 1.0307\n",
      "\n",
      "\n",
      "Currently on step 1500\n",
      "Accuracy: 0.6434\n",
      "Loss: 1.0106\n",
      "\n",
      "\n",
      "Currently on step 1600\n",
      "Accuracy: 0.6386\n",
      "Loss: 1.0305\n",
      "\n",
      "\n",
      "Currently on step 1700\n",
      "Accuracy: 0.6595\n",
      "Loss: 0.9780\n",
      "\n",
      "\n",
      "Currently on step 1800\n",
      "Accuracy: 0.6551\n",
      "Loss: 0.9825\n",
      "\n",
      "\n",
      "Currently on step 1900\n",
      "Accuracy: 0.6544\n",
      "Loss: 0.9807\n",
      "\n",
      "\n",
      "Currently on step 2000\n",
      "Accuracy: 0.6474\n",
      "Loss: 1.0098\n",
      "\n",
      "\n",
      "Currently on step 2100\n",
      "Accuracy: 0.6583\n",
      "Loss: 0.9874\n",
      "\n",
      "\n",
      "Currently on step 2200\n",
      "Accuracy: 0.6740\n",
      "Loss: 0.9517\n",
      "\n",
      "\n",
      "Currently on step 2300\n",
      "Accuracy: 0.6743\n",
      "Loss: 0.9388\n",
      "\n",
      "\n",
      "Currently on step 2400\n",
      "Accuracy: 0.6648\n",
      "Loss: 0.9621\n",
      "\n",
      "\n",
      "Currently on step 2500\n",
      "Accuracy: 0.6578\n",
      "Loss: 0.9983\n",
      "\n",
      "\n",
      "Currently on step 2600\n",
      "Accuracy: 0.6667\n",
      "Loss: 0.9866\n",
      "\n",
      "\n",
      "Currently on step 2700\n",
      "Accuracy: 0.6740\n",
      "Loss: 0.9576\n",
      "\n",
      "\n",
      "Currently on step 2800\n",
      "Accuracy: 0.6814\n",
      "Loss: 0.9303\n",
      "\n",
      "\n",
      "Currently on step 2900\n",
      "Accuracy: 0.6727\n",
      "Loss: 0.9771\n",
      "\n",
      "\n",
      "Currently on step 3000\n",
      "Accuracy: 0.6736\n",
      "Loss: 0.9719\n",
      "\n",
      "\n",
      "Currently on step 3100\n",
      "Accuracy: 0.6714\n",
      "Loss: 0.9948\n",
      "\n",
      "\n",
      "Currently on step 3200\n",
      "Accuracy: 0.6836\n",
      "Loss: 0.9431\n",
      "\n",
      "\n",
      "Currently on step 3300\n",
      "Accuracy: 0.6856\n",
      "Loss: 0.9438\n",
      "\n",
      "\n",
      "Currently on step 3400\n",
      "Accuracy: 0.6840\n",
      "Loss: 0.9518\n",
      "\n",
      "\n",
      "Currently on step 3500\n",
      "Accuracy: 0.6765\n",
      "Loss: 0.9952\n",
      "\n",
      "\n",
      "Currently on step 3600\n",
      "Accuracy: 0.6930\n",
      "Loss: 0.9528\n",
      "\n",
      "\n",
      "Currently on step 3700\n",
      "Accuracy: 0.6885\n",
      "Loss: 0.9657\n",
      "\n",
      "\n",
      "Currently on step 3800\n",
      "Accuracy: 0.6586\n",
      "Loss: 1.1050\n",
      "\n",
      "\n",
      "Currently on step 3900\n",
      "Accuracy: 0.6908\n",
      "Loss: 0.9606\n",
      "\n",
      "\n",
      "Currently on step 4000\n",
      "Accuracy: 0.6668\n",
      "Loss: 1.0698\n",
      "\n",
      "\n",
      "Currently on step 4100\n",
      "Accuracy: 0.6753\n",
      "Loss: 1.0535\n",
      "\n",
      "\n",
      "Currently on step 4200\n",
      "Accuracy: 0.6799\n",
      "Loss: 0.9983\n",
      "\n",
      "\n",
      "Currently on step 4300\n",
      "Accuracy: 0.6689\n",
      "Loss: 1.1001\n",
      "\n",
      "\n",
      "Currently on step 4400\n",
      "Accuracy: 0.6943\n",
      "Loss: 0.9791\n",
      "\n",
      "\n",
      "Currently on step 4500\n",
      "Accuracy: 0.6906\n",
      "Loss: 1.0319\n",
      "\n",
      "\n",
      "Currently on step 4600\n",
      "Accuracy: 0.6825\n",
      "Loss: 1.0710\n",
      "\n",
      "\n",
      "Currently on step 4700\n",
      "Accuracy: 0.6798\n",
      "Loss: 1.0931\n",
      "\n",
      "\n",
      "Currently on step 4800\n",
      "Accuracy: 0.6756\n",
      "Loss: 1.1045\n",
      "\n",
      "\n",
      "Currently on step 4900\n",
      "Accuracy: 0.6979\n",
      "Loss: 1.0260\n",
      "\n",
      "\n"
     ]
    }
   ],
   "source": [
    "with tf.Session() as sess:\n",
    "    sess.run(init)\n",
    "    \n",
    "    for i in range(steps):\n",
    "        batch_x, batch_y = ch.next_batch(batch_size)\n",
    "        _, batch_loss = sess.run([train, cross_entropy], feed_dict={x: batch_x, y_true: batch_y, hold_prob: 0.5})\n",
    "        \n",
    "        # Collect accuracy and loss data every 100 steps\n",
    "        if i % 100 == 0:\n",
    "            print('Currently on step {}'.format(i))\n",
    "            \n",
    "            # Test the Model\n",
    "            matches = tf.equal(tf.argmax(y_pred, 1), tf.argmax(y_true, 1))\n",
    "            acc = tf.reduce_mean(tf.cast(matches, tf.float32))\n",
    "            \n",
    "            test_accuracy = sess.run(acc, feed_dict={x: ch.test_images, y_true: ch.test_labels, hold_prob: 1.0})\n",
    "            test_loss = sess.run(cross_entropy, feed_dict={x: ch.test_images, y_true: ch.test_labels, hold_prob: 1.0})\n",
    "            \n",
    "            print('Accuracy: {:.4f}'.format(test_accuracy))\n",
    "            print('Loss: {:.4f}'.format(test_loss))\n",
    "            print('\\n')\n",
    "            \n",
    "            # Store accuracy, loss, and step number\n",
    "            accuracies.append(test_accuracy)\n",
    "            losses.append(test_loss)\n",
    "            step_numbers.append(i)\n",
    "# %%"
   ]
  },
  {
   "cell_type": "code",
   "execution_count": 254,
   "metadata": {},
   "outputs": [
    {
     "data": {
      "image/png": "[encoded data removed]",
      "text/plain": [
       "<Figure size 1200x600 with 2 Axes>"
      ]
     },
     "metadata": {},
     "output_type": "display_data"
    }
   ],
   "source": [
    "# After training, plot the accuracy and loss\n",
    "plt.figure(figsize=(12, 6))\n",
    "\n",
    "# Plot accuracy\n",
    "plt.subplot(1, 2, 1)\n",
    "plt.plot(step_numbers, accuracies, marker='o')\n",
    "plt.title('Test Accuracy over Training Steps')\n",
    "plt.xlabel('Training Steps')\n",
    "plt.ylabel('Accuracy')\n",
    "plt.grid(True)\n",
    "plt.ylim(0, 1)  # Assuming accuracy is between 0 and 1\n",
    "plt.gca().yaxis.set_major_formatter(plt.FuncFormatter(lambda y, _: '{:.0%}'.format(y)))\n",
    "\n",
    "# Plot loss\n",
    "plt.subplot(1, 2, 2)\n",
    "plt.plot(step_numbers, losses, marker='o', color='r')\n",
    "plt.title('Test Loss over Training Steps')\n",
    "plt.xlabel('Training Steps')\n",
    "plt.ylabel('Loss')\n",
    "plt.grid(True)\n",
    "\n",
    "plt.tight_layout()\n",
    "plt.show()"
   ]
  }
 ],
 "metadata": {
  "kernelspec": {
   "display_name": "Python 3",
   "language": "python",
   "name": "python3"
  },
  "language_info": {
   "codemirror_mode": {
    "name": "ipython",
    "version": 3
   },
   "file_extension": ".py",
   "mimetype": "text/x-python",
   "name": "python",
   "nbconvert_exporter": "python",
   "pygments_lexer": "ipython3",
   "version": "3.7.12"
  }
 },
 "nbformat": 4,
 "nbformat_minor": 2
}
