{
 "cells": [
  {
   "cell_type": "markdown",
   "metadata": {},
   "source": [
    "\n",
    "                                                                    Binaim Abebe\n",
    "##### 4.\tPART IV: TensorFlow Code in Jupyter Notebook (20 Points)\n"
   ]
  },
  {
   "cell_type": "code",
   "execution_count": 20,
   "metadata": {},
   "outputs": [
    {
     "name": "stdout",
     "output_type": "stream",
     "text": [
      "1.15.5\n"
     ]
    }
   ],
   "source": [
    "import tensorflow as tf\n",
    "import numpy as np\n",
    "\n",
    "#disable warning\n",
    "Warning = False\n",
    "\n",
    "#version \n",
    "print(tf.__version__)"
   ]
  },
  {
   "cell_type": "code",
   "execution_count": 21,
   "metadata": {},
   "outputs": [
    {
     "name": "stdout",
     "output_type": "stream",
     "text": [
      "Addition of two tensors:  60\n"
     ]
    }
   ],
   "source": [
    "#TO-DO\n",
    "#--) Write TensorFlow code to provide the solutions to the following simple problems:\n",
    "#1.\tDeclare two constant tensors that have the values of 15 and 45. Add these two tensors and print out the results.\n",
    "\n",
    "#Declare two constant tensors that have the values of 15 and 45\n",
    "tensor1 = tf.constant(15)\n",
    "tensor2 = tf.constant(45)\n",
    "\n",
    "#call seesion\n",
    "with tf.Session() as sess:\n",
    "    #print out the results\n",
    "    result = sess.run(tensor1 + tensor2)\n",
    "    ##Add these two tensors and print out the results\n",
    "    print(\"Addition of two tensors: \", result)\n",
    "\n"
   ]
  },
  {
   "cell_type": "code",
   "execution_count": 22,
   "metadata": {},
   "outputs": [
    {
     "name": "stdout",
     "output_type": "stream",
     "text": [
      "Product of two tensors:  23.375\n"
     ]
    }
   ],
   "source": [
    "#2.\tDeclare two variable tensors, a and b, that are initialized with scalar values of 2.75 and 8.5. Find their product and print out the result.\n",
    "\n",
    "#Declare two variable tensors, a and b, that are initialized with scalar values of 2.75 and 8.5\n",
    "a = tf.Variable(2.75)\n",
    "b = tf.Variable(8.5)\n",
    "\n",
    "with tf.Session() as sess:\n",
    "    #initialize the variables\n",
    "    init = tf.global_variables_initializer()\n",
    "    sess.run(init)\n",
    "    #Find their product and print out the result\n",
    "    result = sess.run(a*b)\n",
    "    print(\"Product of two tensors: \", result)\n"
   ]
  },
  {
   "cell_type": "code",
   "execution_count": 23,
   "metadata": {},
   "outputs": [
    {
     "name": "stdout",
     "output_type": "stream",
     "text": [
      "Product of two placeholders:  66.15\n"
     ]
    }
   ],
   "source": [
    "#3.\tCreate two placeholders: x and y - that are both scalars of 32-bit floats. Assign 5.25 to x and 12.6 to y, multiply them together, and print out the results.\n",
    "\n",
    "#Create two placeholders: x and y - that are both scalars of 32-bit floats\n",
    "x = tf.placeholder(tf.float32)\n",
    "y = tf.placeholder(tf.float32)\n",
    "\n",
    "with tf.Session() as sess:\n",
    "    #Assign 5.25 to x and 12.6 to y\n",
    "    result = sess.run(x*y, feed_dict={x: 5.25, y: 12.6})\n",
    "    #multiply them together, and print out the results\n",
    "    print(\"Product of two placeholders: \", result)\n"
   ]
  },
  {
   "cell_type": "code",
   "execution_count": 24,
   "metadata": {},
   "outputs": [
    {
     "name": "stdout",
     "output_type": "stream",
     "text": [
      "Product of one placeholder:  [ 3.  9. 15. 21. 27.]\n"
     ]
    }
   ],
   "source": [
    "#4.\tCreate one placeholder: z - that is an N-Dimensional array (N can be >= 1) that can have any shape (shape = None). Feed this vector [1, 3, 5, 7, 9] into z and multiply it by 3. Display the results.\n",
    "\n",
    "#Create one placeholder: z - that is an N-Dimensional array (N can be >= 1) that can have any shape (shape = None).\n",
    "z = tf.placeholder(tf.float32, shape=[None])\n",
    "\n",
    "with tf.Session() as sess:\n",
    "    #Feed this vector [1, 3, 5, 7, 9] into z\n",
    "    result = sess.run(z*3, feed_dict={z: [1, 3, 5, 7, 9]})\n",
    "    #multiply it by 3. Display the results\n",
    "    print(\"Product of one placeholder: \", result)"
   ]
  },
  {
   "cell_type": "code",
   "execution_count": 25,
   "metadata": {},
   "outputs": [
    {
     "name": "stdout",
     "output_type": "stream",
     "text": [
      "Addition of two matrix: \n",
      " [[94 74 33 85 41 81 38 84]\n",
      " [62 66 45 57 66 91 79 13]\n",
      " [19 71 40 23 36 11 97 13]\n",
      " [89 83 61 68 37 14 93 33]\n",
      " [30 44 12 32 65 90 82 55]\n",
      " [61 50 95 25 68 14 11 63]\n",
      " [68 24 62 25 53  4 11 61]\n",
      " [ 4 67  2 43 74 68 33 76]]\n"
     ]
    }
   ],
   "source": [
    "#5.\tCreate a constant tensor that is a matrix of the shape (8, 8). The matrix is initialized with all ones (1)\n",
    "# Create a variable tensor that is also a matrix of the shape (8, 8) and initialized with random integer values between 0 and 99. \n",
    "# Add these two tensors and display the results.\n",
    "\n",
    "#Create a constant tensor that is a matrix of the shape (8, 8). The matrix is initialized with all ones (1)\n",
    "matrix1 = tf.constant(1, shape=[8, 8])\n",
    "\n",
    "#Create a variable tensor that is also a matrix of the shape (8, 8) and initialized with random integer values between 0 and 99.\n",
    "matrix2 = tf.Variable(tf.random_uniform([8, 8], 0, 99, dtype=tf.int32))\n",
    "\n",
    "with tf.Session() as sess:\n",
    "    #initialize the variables\n",
    "    init = tf.global_variables_initializer()\n",
    "    sess.run(init)\n",
    "    #Add these two tensors and display the results\n",
    "    result = sess.run(matrix1 + matrix2)\n",
    "    print(\"Addition of two matrix: \\n\", result)\n",
    "\n"
   ]
  }
 ],
 "metadata": {
  "kernelspec": {
   "display_name": "Python 3",
   "language": "python",
   "name": "python3"
  }
 },
 "nbformat": 4,
 "nbformat_minor": 2
}
