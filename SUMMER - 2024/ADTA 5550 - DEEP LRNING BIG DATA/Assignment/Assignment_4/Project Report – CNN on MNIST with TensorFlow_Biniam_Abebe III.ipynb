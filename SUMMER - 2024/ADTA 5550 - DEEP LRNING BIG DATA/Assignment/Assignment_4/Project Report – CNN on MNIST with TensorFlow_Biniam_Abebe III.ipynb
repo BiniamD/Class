{
 "cells": [
  {
   "cell_type": "markdown",
   "metadata": {},
   "source": [
    "BINIAM ABEBE"
   ]
  },
  {
   "cell_type": "markdown",
   "metadata": {},
   "source": [
    "CNN for image Recognition with MNIST Dataset"
   ]
  },
  {
   "cell_type": "code",
   "execution_count": 1,
   "metadata": {},
   "outputs": [],
   "source": [
    "import numpy as np\n",
    "import pandas as pd"
   ]
  },
  {
   "cell_type": "code",
   "execution_count": 2,
   "metadata": {},
   "outputs": [],
   "source": [
    "import matplotlib.pyplot as plt\n",
    "%matplotlib inline"
   ]
  },
  {
   "cell_type": "code",
   "execution_count": 3,
   "metadata": {},
   "outputs": [],
   "source": [
    "import tensorflow as tf"
   ]
  },
  {
   "cell_type": "code",
   "execution_count": 4,
   "metadata": {},
   "outputs": [
    {
     "name": "stdout",
     "output_type": "stream",
     "text": [
      "1.15.5\n"
     ]
    }
   ],
   "source": [
    "#version check\n",
    "print(tf.__version__)"
   ]
  },
  {
   "cell_type": "code",
   "execution_count": 6,
   "metadata": {},
   "outputs": [
    {
     "name": "stdout",
     "output_type": "stream",
     "text": [
      "Extracting MNIST_data/train-images-idx3-ubyte.gz\n",
      "Extracting MNIST_data/train-labels-idx1-ubyte.gz\n",
      "Extracting MNIST_data/t10k-images-idx3-ubyte.gz\n",
      "Extracting MNIST_data/t10k-labels-idx1-ubyte.gz\n"
     ]
    }
   ],
   "source": [
    "#load minst dataset from tensorflow example\n",
    "from tensorflow.examples.tutorials.mnist import input_data\n",
    "mnist = input_data.read_data_sets(\"MNIST_data/\", one_hot=True);\n"
   ]
  },
  {
   "cell_type": "code",
   "execution_count": 7,
   "metadata": {},
   "outputs": [
    {
     "data": {
      "text/plain": [
       "tensorflow.contrib.learn.python.learn.datasets.base.Datasets"
      ]
     },
     "execution_count": 7,
     "metadata": {},
     "output_type": "execute_result"
    }
   ],
   "source": [
    "type(mnist)"
   ]
  },
  {
   "cell_type": "code",
   "execution_count": 8,
   "metadata": {},
   "outputs": [
    {
     "name": "stdout",
     "output_type": "stream",
     "text": [
      "(55000, 784)\n",
      "(10000, 784)\n"
     ]
    }
   ],
   "source": [
    "# Check data shapes\n",
    "print(mnist.train.images.shape)\n",
    "print(mnist.test.images.shape)"
   ]
  },
  {
   "cell_type": "markdown",
   "metadata": {},
   "source": [
    "Initialize weights in Filter"
   ]
  },
  {
   "cell_type": "code",
   "execution_count": 9,
   "metadata": {},
   "outputs": [],
   "source": [
    "# Initialize weights in Filter\n",
    "def initialize_weights(filter_shape):\n",
    "    \"\"\"\n",
    "    Initializes the weights of a neural network filter.\n",
    "\n",
    "    Args:\n",
    "        filter_shape (tuple): The shape of the filter weights.\n",
    "\n",
    "    Returns:\n",
    "        tf.Variable: The initialized filter weights.\n",
    "    \"\"\"\n",
    "    init_random_dist = tf.truncated_normal(filter_shape, stddev=0.1)\n",
    "    return tf.Variable(init_random_dist)"
   ]
  },
  {
   "cell_type": "markdown",
   "metadata": {},
   "source": [
    "Initialize bias"
   ]
  },
  {
   "cell_type": "code",
   "execution_count": 10,
   "metadata": {},
   "outputs": [],
   "source": [
    "# Initialize bias\n",
    "def initialize_bias(bias_shape):\n",
    "    \"\"\"\n",
    "    Initializes the bias of a neural network layer.\n",
    "\n",
    "    Args:\n",
    "        bias_shape (tuple): The shape of the bias.\n",
    "\n",
    "    Returns:\n",
    "        tf.Variable: The initialized bias.\n",
    "    \"\"\"\n",
    "    initial_bias_vals = tf.constant(0.1, shape=bias_shape)\n",
    "    return tf.Variable(initial_bias_vals)"
   ]
  },
  {
   "cell_type": "markdown",
   "metadata": {},
   "source": [
    "set up Convlutional Layer and Perform Convolution Computation"
   ]
  },
  {
   "cell_type": "code",
   "execution_count": 11,
   "metadata": {},
   "outputs": [],
   "source": [
    "# Set up Convolutional Layer and Perform Convolution Computation\n",
    "def create_conv_layer(input_data, filter_shape):\n",
    "    \"\"\"\n",
    "    Creates a convolutional layer in a neural network.\n",
    "\n",
    "    Args:\n",
    "        input_data (tf.Tensor): The input to the layer.\n",
    "        filter_shape (tuple): The shape of the filter weights.\n",
    "\n",
    "    Returns:\n",
    "        tf.Tensor: The output of the layer.\n",
    "    \"\"\"\n",
    "    filter_weights = initialize_weights(filter_shape)\n",
    "    conv_layer_output = tf.nn.conv2d(input=input_data, filter=filter_weights, strides=[1, 1, 1, 1], padding='SAME')\n",
    "    return conv_layer_output\n"
   ]
  },
  {
   "cell_type": "markdown",
   "metadata": {},
   "source": [
    "set up a Relu Layer and Perform Computation : Dot Product + Bias (x.w + b)"
   ]
  },
  {
   "cell_type": "code",
   "execution_count": 12,
   "metadata": {},
   "outputs": [],
   "source": [
    "# Set up a Relu Layer and Perform Computation: Dot Product + Bias\n",
    "def create_relu_layer(conv_layer_output, bias_shape):\n",
    "    \"\"\"\n",
    "    Creates a ReLU activation layer.\n",
    "\n",
    "    Args:\n",
    "        conv_layer_output (tf.Tensor): The output from the convolutional layer.\n",
    "        bias_shape (tuple): The shape of the bias.\n",
    "\n",
    "    Returns:\n",
    "        tf.Tensor: The output after applying ReLU activation.\n",
    "    \"\"\"\n",
    "    biases = initialize_bias(bias_shape)\n",
    "    relu_output = tf.nn.relu(conv_layer_output + biases)\n",
    "    return relu_output"
   ]
  },
  {
   "cell_type": "markdown",
   "metadata": {},
   "source": [
    "Set up a Pooling Layer and reduce Spatial size"
   ]
  },
  {
   "cell_type": "code",
   "execution_count": 13,
   "metadata": {},
   "outputs": [],
   "source": [
    "# create max_pooling_layer\n",
    "def create_max_pooling_layer(input_data):\n",
    "    \"\"\"\n",
    "    Creates a max pooling layer in a neural network.\n",
    "\n",
    "    Args:\n",
    "        input_data (tf.Tensor): The input to the layer.\n",
    "\n",
    "    Returns:\n",
    "        tf.Tensor: The output of the layer.\n",
    "\n",
    "    \"\"\"\n",
    "    return tf.nn.max_pool(input_data, ksize=[1, 2, 2, 1], strides=[1, 2, 2, 1], padding='SAME')"
   ]
  },
  {
   "cell_type": "markdown",
   "metadata": {},
   "source": [
    "Setup Fully Connected Layer and Perform Computatin: (input * weights) + Bias"
   ]
  },
  {
   "cell_type": "code",
   "execution_count": 14,
   "metadata": {},
   "outputs": [],
   "source": [
    "# Create Fully Connected Layer\n",
    "def create_fully_connected_layer(input_layer, output_size):\n",
    "    \"\"\"\n",
    "    Creates a fully connected layer in a neural network.\n",
    "\n",
    "    Args:\n",
    "        input_layer (tf.Tensor): The input to the layer.\n",
    "        output_size (int): The number of output units.\n",
    "\n",
    "    Returns:\n",
    "        tf.Tensor: The output of the layer.\n",
    "    \"\"\"\n",
    "    input_size = int(input_layer.get_shape()[1])\n",
    "    weights = initialize_weights([input_size, output_size])\n",
    "    biases = initialize_bias([output_size])\n",
    "    fully_connected_output = tf.matmul(input_layer, weights) + biases\n",
    "    return fully_connected_output"
   ]
  },
  {
   "cell_type": "markdown",
   "metadata": {},
   "source": [
    "Phase I : Build the Convolution Neural Network"
   ]
  },
  {
   "cell_type": "markdown",
   "metadata": {},
   "source": [
    "Create placeholders for inputs and Labels : x & y_true"
   ]
  },
  {
   "cell_type": "code",
   "execution_count": 15,
   "metadata": {},
   "outputs": [
    {
     "name": "stdout",
     "output_type": "stream",
     "text": [
      "WARNING:tensorflow:From /tmp/ipykernel_6253/3633063904.py:2: The name tf.placeholder is deprecated. Please use tf.compat.v1.placeholder instead.\n",
      "\n"
     ]
    }
   ],
   "source": [
    "#place holder for input data\n",
    "x = tf.placeholder(tf.float32, shape=[None, 784])"
   ]
  },
  {
   "cell_type": "code",
   "execution_count": 16,
   "metadata": {},
   "outputs": [],
   "source": [
    "# place holder for y\n",
    "y_true = tf.placeholder(tf.float32, shape=[None, 10])"
   ]
  },
  {
   "cell_type": "markdown",
   "metadata": {},
   "source": [
    "Reshape the Input Placeholder X"
   ]
  },
  {
   "cell_type": "code",
   "execution_count": 17,
   "metadata": {},
   "outputs": [],
   "source": [
    "#reshape the input data\n",
    "x_image = tf.reshape(x, [-1, 28, 28, 1])"
   ]
  },
  {
   "cell_type": "markdown",
   "metadata": {},
   "source": [
    "Create 1st Convlutional Layer,ReLu Layer and perform Computation : x*W +b"
   ]
  },
  {
   "cell_type": "code",
   "execution_count": 20,
   "metadata": {},
   "outputs": [],
   "source": [
    "# create first convolutional layer\n",
    "# Convolutional Layer 1\n",
    "conv_layer1 = create_conv_layer(x_image, filter_shape=[5, 5, 1, 32])\n",
    "relu_layer1 = create_relu_layer(conv_layer1, bias_shape=[32])"
   ]
  },
  {
   "cell_type": "markdown",
   "metadata": {},
   "source": [
    "Create 1st Pooling Layer and Reduce Spatial size"
   ]
  },
  {
   "cell_type": "code",
   "execution_count": 22,
   "metadata": {},
   "outputs": [
    {
     "name": "stdout",
     "output_type": "stream",
     "text": [
      "WARNING:tensorflow:From /tmp/ipykernel_6253/1421353172.py:13: The name tf.nn.max_pool is deprecated. Please use tf.nn.max_pool2d instead.\n",
      "\n"
     ]
    }
   ],
   "source": [
    "# create first max pooling layer\n",
    "max_pooling_layer_1 = create_max_pooling_layer(relu_layer1)"
   ]
  },
  {
   "cell_type": "markdown",
   "metadata": {},
   "source": [
    "Create 2nd Pooling Layer and Reduce Spatial size"
   ]
  },
  {
   "cell_type": "code",
   "execution_count": 23,
   "metadata": {},
   "outputs": [],
   "source": [
    "# Pooling Layer 1\n",
    "max_pool_1 = tf.nn.max_pool(relu_layer1, ksize=[1, 2, 2, 1], strides=[1, 2, 2, 1], padding='SAME')\n"
   ]
  },
  {
   "cell_type": "markdown",
   "metadata": {},
   "source": [
    "Reshape/Flatten Data Making it Ready to be Fed into 1st fc Layer"
   ]
  },
  {
   "cell_type": "code",
   "execution_count": 24,
   "metadata": {},
   "outputs": [],
   "source": [
    "# reshape the max pooling layer\n",
    "flattened = tf.reshape(max_pool_1, [-1, 14*14*32])"
   ]
  },
  {
   "cell_type": "markdown",
   "metadata": {},
   "source": [
    "Create 1st FC Layer, Relu Layer , and output Data to Dropout Layer"
   ]
  },
  {
   "cell_type": "code",
   "execution_count": 25,
   "metadata": {},
   "outputs": [],
   "source": [
    "# Fully Connected Layer 1\n",
    "fully_connected_layer1 = create_fully_connected_layer(flattened, output_size=1024)\n"
   ]
  },
  {
   "cell_type": "markdown",
   "metadata": {},
   "source": [
    "Create Dropput Layer and Dropput a fraction of output Randomly"
   ]
  },
  {
   "cell_type": "code",
   "execution_count": 27,
   "metadata": {},
   "outputs": [],
   "source": [
    "# Dropout Layer\n",
    "keep_prob = tf.placeholder(tf.float32)\n",
    "dropout_layer = tf.nn.dropout(fully_connected_layer1, keep_prob=keep_prob)"
   ]
  },
  {
   "cell_type": "markdown",
   "metadata": {},
   "source": [
    "Create Final FC Layer, Compute (x.W + B), and Produce Finale Ouptus"
   ]
  },
  {
   "cell_type": "code",
   "execution_count": 28,
   "metadata": {},
   "outputs": [],
   "source": [
    "# create second fully connected layer as pred\n",
    "y_pred = create_fully_connected_layer(dropout_layer, output_size=10)"
   ]
  },
  {
   "cell_type": "markdown",
   "metadata": {},
   "source": [
    "Define Loss Function and Calaculate softmax Cross Entropy Loss"
   ]
  },
  {
   "cell_type": "code",
   "execution_count": 30,
   "metadata": {},
   "outputs": [],
   "source": [
    "# Define Loss Function and Calculate Softmax Cross Entropy Loss\n",
    "cross_entropy = tf.reduce_mean(tf.nn.softmax_cross_entropy_with_logits(labels=y_true, logits=y_pred))"
   ]
  },
  {
   "cell_type": "markdown",
   "metadata": {},
   "source": [
    "Create an optimizer"
   ]
  },
  {
   "cell_type": "code",
   "execution_count": 32,
   "metadata": {},
   "outputs": [],
   "source": [
    "#get optimizer\n",
    "optimizer = tf.train.AdamOptimizer(learning_rate=0.001)"
   ]
  },
  {
   "cell_type": "markdown",
   "metadata": {},
   "source": [
    "Create a Trainer to Traing CNN Model"
   ]
  },
  {
   "cell_type": "code",
   "execution_count": 33,
   "metadata": {},
   "outputs": [],
   "source": [
    "#create train step\n",
    "train = optimizer.minimize(cross_entropy)"
   ]
  },
  {
   "cell_type": "markdown",
   "metadata": {},
   "source": [
    "Train and Test CNN Deep Learning Model on MNIST Dataset"
   ]
  },
  {
   "cell_type": "markdown",
   "metadata": {},
   "source": [
    "Initalize all Variables"
   ]
  },
  {
   "cell_type": "code",
   "execution_count": 35,
   "metadata": {},
   "outputs": [],
   "source": [
    "#initialize variables\n",
    "init = tf.global_variables_initializer()"
   ]
  },
  {
   "cell_type": "code",
   "execution_count": 43,
   "metadata": {},
   "outputs": [],
   "source": [
    "# steps\n",
    "steps = 3000"
   ]
  },
  {
   "cell_type": "code",
   "execution_count": 44,
   "metadata": {},
   "outputs": [],
   "source": [
    "# To store the results\n",
    "results = {'step': [], 'accuracy': []}"
   ]
  },
  {
   "cell_type": "markdown",
   "metadata": {},
   "source": [
    "Run tf.sessioon () to Train and Test Deep Learning CNN Model"
   ]
  },
  {
   "cell_type": "code",
   "execution_count": 45,
   "metadata": {},
   "outputs": [
    {
     "name": "stderr",
     "output_type": "stream",
     "text": [
      "OMP: Info #212: KMP_AFFINITY: decoding x2APIC ids.\n",
      "OMP: Info #210: KMP_AFFINITY: Affinity capable, using global cpuid leaf 11 info\n",
      "OMP: Info #154: KMP_AFFINITY: Initial OS proc set respected: 0-7\n",
      "OMP: Info #156: KMP_AFFINITY: 8 available OS procs\n",
      "OMP: Info #157: KMP_AFFINITY: Uniform topology\n",
      "OMP: Info #179: KMP_AFFINITY: 1 packages x 4 cores/pkg x 2 threads/core (4 total cores)\n",
      "OMP: Info #214: KMP_AFFINITY: OS proc to physical thread map:\n",
      "OMP: Info #171: KMP_AFFINITY: OS proc 0 maps to package 0 core 0 thread 0 \n",
      "OMP: Info #171: KMP_AFFINITY: OS proc 4 maps to package 0 core 0 thread 1 \n",
      "OMP: Info #171: KMP_AFFINITY: OS proc 1 maps to package 0 core 1 thread 0 \n",
      "OMP: Info #171: KMP_AFFINITY: OS proc 5 maps to package 0 core 1 thread 1 \n",
      "OMP: Info #171: KMP_AFFINITY: OS proc 2 maps to package 0 core 2 thread 0 \n",
      "OMP: Info #171: KMP_AFFINITY: OS proc 6 maps to package 0 core 2 thread 1 \n",
      "OMP: Info #171: KMP_AFFINITY: OS proc 3 maps to package 0 core 3 thread 0 \n",
      "OMP: Info #171: KMP_AFFINITY: OS proc 7 maps to package 0 core 3 thread 1 \n",
      "OMP: Info #250: KMP_AFFINITY: pid 6253 tid 6660 thread 0 bound to OS proc set 0\n",
      "OMP: Info #250: KMP_AFFINITY: pid 6253 tid 6660 thread 1 bound to OS proc set 1\n",
      "OMP: Info #250: KMP_AFFINITY: pid 6253 tid 6793 thread 2 bound to OS proc set 2\n",
      "OMP: Info #250: KMP_AFFINITY: pid 6253 tid 6796 thread 5 bound to OS proc set 5\n",
      "OMP: Info #250: KMP_AFFINITY: pid 6253 tid 6795 thread 4 bound to OS proc set 4\n",
      "OMP: Info #250: KMP_AFFINITY: pid 6253 tid 6794 thread 3 bound to OS proc set 3\n",
      "OMP: Info #250: KMP_AFFINITY: pid 6253 tid 6797 thread 6 bound to OS proc set 6\n",
      "OMP: Info #250: KMP_AFFINITY: pid 6253 tid 6798 thread 7 bound to OS proc set 7\n",
      "OMP: Info #250: KMP_AFFINITY: pid 6253 tid 6799 thread 8 bound to OS proc set 0\n",
      "OMP: Info #250: KMP_AFFINITY: pid 6253 tid 6661 thread 9 bound to OS proc set 1\n",
      "OMP: Info #250: KMP_AFFINITY: pid 6253 tid 6800 thread 10 bound to OS proc set 2\n",
      "OMP: Info #250: KMP_AFFINITY: pid 6253 tid 6802 thread 12 bound to OS proc set 4\n",
      "OMP: Info #250: KMP_AFFINITY: pid 6253 tid 6803 thread 13 bound to OS proc set 5\n",
      "OMP: Info #250: KMP_AFFINITY: pid 6253 tid 6804 thread 14 bound to OS proc set 6\n",
      "OMP: Info #250: KMP_AFFINITY: pid 6253 tid 6805 thread 15 bound to OS proc set 7\n",
      "OMP: Info #250: KMP_AFFINITY: pid 6253 tid 6806 thread 16 bound to OS proc set 0\n",
      "OMP: Info #250: KMP_AFFINITY: pid 6253 tid 6801 thread 11 bound to OS proc set 3\n"
     ]
    },
    {
     "name": "stdout",
     "output_type": "stream",
     "text": [
      "Currently on step 0\n",
      "Accuracy is: 0.0976\n",
      "\n",
      "\n",
      "Currently on step 100\n",
      "Accuracy is: 0.8885\n",
      "\n",
      "\n",
      "Currently on step 200\n",
      "Accuracy is: 0.9109\n",
      "\n",
      "\n",
      "Currently on step 300\n",
      "Accuracy is: 0.9513\n",
      "\n",
      "\n",
      "Currently on step 400\n",
      "Accuracy is: 0.9604\n",
      "\n",
      "\n",
      "Currently on step 500\n",
      "Accuracy is: 0.9661\n",
      "\n",
      "\n",
      "Currently on step 600\n",
      "Accuracy is: 0.9706\n",
      "\n",
      "\n",
      "Currently on step 700\n",
      "Accuracy is: 0.9743\n",
      "\n",
      "\n",
      "Currently on step 800\n",
      "Accuracy is: 0.976\n",
      "\n",
      "\n",
      "Currently on step 900\n",
      "Accuracy is: 0.9765\n",
      "\n",
      "\n",
      "Currently on step 1000\n",
      "Accuracy is: 0.9757\n",
      "\n",
      "\n",
      "Currently on step 1100\n",
      "Accuracy is: 0.9779\n",
      "\n",
      "\n",
      "Currently on step 1200\n",
      "Accuracy is: 0.9806\n",
      "\n",
      "\n",
      "Currently on step 1300\n",
      "Accuracy is: 0.9815\n",
      "\n",
      "\n",
      "Currently on step 1400\n",
      "Accuracy is: 0.9798\n",
      "\n",
      "\n",
      "Currently on step 1500\n",
      "Accuracy is: 0.9813\n",
      "\n",
      "\n",
      "Currently on step 1600\n",
      "Accuracy is: 0.9825\n",
      "\n",
      "\n",
      "Currently on step 1700\n",
      "Accuracy is: 0.9801\n",
      "\n",
      "\n",
      "Currently on step 1800\n",
      "Accuracy is: 0.9811\n",
      "\n",
      "\n",
      "Currently on step 1900\n",
      "Accuracy is: 0.9819\n",
      "\n",
      "\n",
      "Currently on step 2000\n",
      "Accuracy is: 0.98\n",
      "\n",
      "\n",
      "Currently on step 2100\n",
      "Accuracy is: 0.9842\n",
      "\n",
      "\n",
      "Currently on step 2200\n",
      "Accuracy is: 0.9833\n",
      "\n",
      "\n",
      "Currently on step 2300\n",
      "Accuracy is: 0.9817\n",
      "\n",
      "\n",
      "Currently on step 2400\n",
      "Accuracy is: 0.9844\n",
      "\n",
      "\n",
      "Currently on step 2500\n",
      "Accuracy is: 0.9831\n",
      "\n",
      "\n",
      "Currently on step 2600\n",
      "Accuracy is: 0.9828\n",
      "\n",
      "\n",
      "Currently on step 2700\n",
      "Accuracy is: 0.9812\n",
      "\n",
      "\n",
      "Currently on step 2800\n",
      "Accuracy is: 0.985\n",
      "\n",
      "\n",
      "Currently on step 2900\n",
      "Accuracy is: 0.9847\n",
      "\n",
      "\n"
     ]
    }
   ],
   "source": [
    "# create session and run the model \n",
    "with tf.Session() as sess:\n",
    "\n",
    "    # initialize the session\n",
    "    sess.run(init)\n",
    "    \n",
    "    for i in range(steps):\n",
    "        # get the next batch of data from mnist dataset \n",
    "        batch_x, batch_y = mnist.train.next_batch(50)\n",
    "        \n",
    "        # run the train step\n",
    "        sess.run(train, feed_dict={x: batch_x, y_true: batch_y, keep_prob: 0.5})\n",
    "\n",
    "        # print out a message every 100 steps\n",
    "\n",
    "        if i % 100 == 0:\n",
    "            print('Currently on step {}'.format(i))\n",
    "\n",
    "            # Test the Train Model\n",
    "            matchs = tf.equal(tf.argmax(y_pred, 1), tf.argmax(y_true, 1))\n",
    "\n",
    "            # convert matchs to float32 and calculate mean\n",
    "            # to get the accuracy\n",
    "            accuracy = tf.reduce_mean(tf.cast(matchs, tf.float32))\n",
    "\n",
    "            # test the model at 100 steps\n",
    "            test_accuracy = sess.run(accuracy, feed_dict={x: mnist.test.images, \\\n",
    "                                                           y_true: mnist.test.labels, \\\n",
    "                                                           keep_prob: 1.0})\n",
    "            # print acuracy\n",
    "            print('Accuracy is:', test_accuracy)\n",
    "            print('\\n')          \n",
    "\n",
    "            # Store the results\n",
    "            results['step'].append(i)\n",
    "            results['accuracy'].append(test_accuracy)  "
   ]
  },
  {
   "cell_type": "code",
   "execution_count": 46,
   "metadata": {},
   "outputs": [
    {
     "data": {
      "image/png": "[encoded data removed]",
      "text/plain": [
       "<Figure size 1000x600 with 1 Axes>"
      ]
     },
     "metadata": {},
     "output_type": "display_data"
    }
   ],
   "source": [
    "# Convert results to DataFrame\n",
    "results_df = pd.DataFrame(results)\n",
    "\n",
    "# Plot the results\n",
    "plt.figure(figsize=(10, 6))\n",
    "plt.plot(results_df['step'], results_df['accuracy'], marker='o')\n",
    "plt.title('Test Accuracy vs. Training Steps')\n",
    "plt.xlabel('Training Steps')\n",
    "plt.ylabel('Test Accuracy')\n",
    "plt.grid(True)\n",
    "plt.show()"
   ]
  },
  {
   "cell_type": "markdown",
   "metadata": {},
   "source": []
  }
 ],
 "metadata": {
  "kernelspec": {
   "display_name": "Python 3",
   "language": "python",
   "name": "python3"
  }
 },
 "nbformat": 4,
 "nbformat_minor": 2
}
