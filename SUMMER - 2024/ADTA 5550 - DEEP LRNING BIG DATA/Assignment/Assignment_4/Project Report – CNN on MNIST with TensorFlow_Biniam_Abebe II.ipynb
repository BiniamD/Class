{
 "cells": [
  {
   "cell_type": "markdown",
   "metadata": {},
   "source": [
    "BINIAM ABEBE"
   ]
  },
  {
   "cell_type": "markdown",
   "metadata": {},
   "source": [
    "CNN for image Recognition with MNIST Dataset"
   ]
  },
  {
   "cell_type": "code",
   "execution_count": 58,
   "metadata": {},
   "outputs": [],
   "source": [
    "import numpy as np\n",
    "import pandas as pd"
   ]
  },
  {
   "cell_type": "code",
   "execution_count": 59,
   "metadata": {},
   "outputs": [],
   "source": [
    "import matplotlib.pyplot as plt\n",
    "%matplotlib inline"
   ]
  },
  {
   "cell_type": "code",
   "execution_count": 60,
   "metadata": {},
   "outputs": [],
   "source": [
    "import tensorflow as tf"
   ]
  },
  {
   "cell_type": "code",
   "execution_count": 61,
   "metadata": {},
   "outputs": [
    {
     "name": "stdout",
     "output_type": "stream",
     "text": [
      "1.15.5\n"
     ]
    }
   ],
   "source": [
    "#version check\n",
    "print(tf.__version__)"
   ]
  },
  {
   "cell_type": "code",
   "execution_count": 62,
   "metadata": {},
   "outputs": [
    {
     "name": "stdout",
     "output_type": "stream",
     "text": [
      "Extracting MNIST_data/train-images-idx3-ubyte.gz\n",
      "Extracting MNIST_data/train-labels-idx1-ubyte.gz\n",
      "Extracting MNIST_data/t10k-images-idx3-ubyte.gz\n",
      "Extracting MNIST_data/t10k-labels-idx1-ubyte.gz\n"
     ]
    }
   ],
   "source": [
    "#load minst dataset from tensorflow example\n",
    "from tensorflow.examples.tutorials.mnist import input_data\n",
    "mnist = input_data.read_data_sets(\"MNIST_data/\", one_hot=True);\n"
   ]
  },
  {
   "cell_type": "code",
   "execution_count": 63,
   "metadata": {},
   "outputs": [
    {
     "data": {
      "text/plain": [
       "tensorflow.contrib.learn.python.learn.datasets.base.Datasets"
      ]
     },
     "execution_count": 63,
     "metadata": {},
     "output_type": "execute_result"
    }
   ],
   "source": [
    "type(mnist)"
   ]
  },
  {
   "cell_type": "code",
   "execution_count": 64,
   "metadata": {},
   "outputs": [
    {
     "name": "stdout",
     "output_type": "stream",
     "text": [
      "(55000, 784)\n",
      "(10000, 784)\n"
     ]
    }
   ],
   "source": [
    "# Check data shapes\n",
    "print(mnist.train.images.shape)\n",
    "print(mnist.test.images.shape)"
   ]
  },
  {
   "cell_type": "markdown",
   "metadata": {},
   "source": [
    "Initialize weights in Filter"
   ]
  },
  {
   "cell_type": "code",
   "execution_count": 65,
   "metadata": {},
   "outputs": [],
   "source": [
    "# Initialize weights in Filter\n",
    "def initialize_weights(filter_shape):\n",
    "    \"\"\"\n",
    "    Initializes the weights of a neural network filter.\n",
    "\n",
    "    Args:\n",
    "        filter_shape (tuple): The shape of the filter weights.\n",
    "\n",
    "    Returns:\n",
    "        tf.Variable: The initialized filter weights.\n",
    "    \"\"\"\n",
    "    init_random_dist = tf.truncated_normal(filter_shape, stddev=0.1)\n",
    "    return tf.Variable(init_random_dist)"
   ]
  },
  {
   "cell_type": "markdown",
   "metadata": {},
   "source": [
    "Initialize bias"
   ]
  },
  {
   "cell_type": "code",
   "execution_count": 66,
   "metadata": {},
   "outputs": [],
   "source": [
    "# Initialize bias\n",
    "def initialize_bias(bias_shape):\n",
    "    \"\"\"\n",
    "    Initializes the bias of a neural network layer.\n",
    "\n",
    "    Args:\n",
    "        bias_shape (tuple): The shape of the bias.\n",
    "\n",
    "    Returns:\n",
    "        tf.Variable: The initialized bias.\n",
    "    \"\"\"\n",
    "    initial_bias_vals = tf.constant(0.1, shape=bias_shape)\n",
    "    return tf.Variable(initial_bias_vals)"
   ]
  },
  {
   "cell_type": "markdown",
   "metadata": {},
   "source": [
    "set up Convlutional Layer and Perform Convolution Computation"
   ]
  },
  {
   "cell_type": "code",
   "execution_count": 67,
   "metadata": {},
   "outputs": [],
   "source": [
    "# Set up Convolutional Layer and Perform Convolution Computation\n",
    "def create_conv_layer(input_data, filter_shape):\n",
    "    \"\"\"\n",
    "    Creates a convolutional layer in a neural network.\n",
    "\n",
    "    Args:\n",
    "        input_data (tf.Tensor): The input to the layer.\n",
    "        filter_shape (tuple): The shape of the filter weights.\n",
    "\n",
    "    Returns:\n",
    "        tf.Tensor: The output of the layer.\n",
    "    \"\"\"\n",
    "    filter_weights = initialize_weights(filter_shape)\n",
    "    conv_layer_output = tf.nn.conv2d(input=input_data, filter=filter_weights, strides=[1, 1, 1, 1], padding='SAME')\n",
    "    return conv_layer_output\n"
   ]
  },
  {
   "cell_type": "markdown",
   "metadata": {},
   "source": [
    "set up a Relu Layer and Perform Computation : Dot Product + Bias (x.w + b)"
   ]
  },
  {
   "cell_type": "code",
   "execution_count": 68,
   "metadata": {},
   "outputs": [],
   "source": [
    "# Set up a Relu Layer and Perform Computation: Dot Product + Bias\n",
    "def create_relu_layer(conv_layer_output, bias_shape):\n",
    "    \"\"\"\n",
    "    Creates a ReLU activation layer.\n",
    "\n",
    "    Args:\n",
    "        conv_layer_output (tf.Tensor): The output from the convolutional layer.\n",
    "        bias_shape (tuple): The shape of the bias.\n",
    "\n",
    "    Returns:\n",
    "        tf.Tensor: The output after applying ReLU activation.\n",
    "    \"\"\"\n",
    "    biases = initialize_bias(bias_shape)\n",
    "    relu_output = tf.nn.relu(conv_layer_output + biases)\n",
    "    return relu_output"
   ]
  },
  {
   "cell_type": "markdown",
   "metadata": {},
   "source": [
    "Set up a Pooling Layer and reduce Spatial size"
   ]
  },
  {
   "cell_type": "code",
   "execution_count": 69,
   "metadata": {},
   "outputs": [],
   "source": [
    "# create max_pooling_layer\n",
    "def create_max_pooling_layer(input_data):\n",
    "    \"\"\"\n",
    "    Creates a max pooling layer in a neural network.\n",
    "\n",
    "    Args:\n",
    "        input_data (tf.Tensor): The input to the layer.\n",
    "\n",
    "    Returns:\n",
    "        tf.Tensor: The output of the layer.\n",
    "\n",
    "    \"\"\"\n",
    "    return tf.nn.max_pool(input_data, ksize=[1, 2, 2, 1], strides=[1, 2, 2, 1], padding='SAME')"
   ]
  },
  {
   "cell_type": "markdown",
   "metadata": {},
   "source": [
    "Setup Fully Connected Layer and Perform Computatin: (input * weights) + Bias"
   ]
  },
  {
   "cell_type": "code",
   "execution_count": 70,
   "metadata": {},
   "outputs": [],
   "source": [
    "# Create Fully Connected Layer\n",
    "def create_fully_connected_layer(input_layer, output_size):\n",
    "    \"\"\"\n",
    "    Creates a fully connected layer in a neural network.\n",
    "\n",
    "    Args:\n",
    "        input_layer (tf.Tensor): The input to the layer.\n",
    "        output_size (int): The number of output units.\n",
    "\n",
    "    Returns:\n",
    "        tf.Tensor: The output of the layer.\n",
    "    \"\"\"\n",
    "    input_size = int(input_layer.get_shape()[1])\n",
    "    weights = initialize_weights([input_size, output_size])\n",
    "    biases = initialize_bias([output_size])\n",
    "    fully_connected_output = tf.matmul(input_layer, weights) + biases\n",
    "    return fully_connected_output"
   ]
  },
  {
   "cell_type": "markdown",
   "metadata": {},
   "source": [
    "Phase I : Build the Convolution Neural Network"
   ]
  },
  {
   "cell_type": "markdown",
   "metadata": {},
   "source": [
    "Create placeholders for inputs and Labels : x & y_true"
   ]
  },
  {
   "cell_type": "code",
   "execution_count": 71,
   "metadata": {},
   "outputs": [],
   "source": [
    "#place holder for input data\n",
    "x = tf.placeholder(tf.float32, shape=[None, 784])"
   ]
  },
  {
   "cell_type": "code",
   "execution_count": 72,
   "metadata": {},
   "outputs": [],
   "source": [
    "# place holder for y\n",
    "y_true = tf.placeholder(tf.float32, shape=[None, 10])"
   ]
  },
  {
   "cell_type": "markdown",
   "metadata": {},
   "source": [
    "Reshape the Input Placeholder X"
   ]
  },
  {
   "cell_type": "code",
   "execution_count": 73,
   "metadata": {},
   "outputs": [],
   "source": [
    "#reshape the input data\n",
    "x_image = tf.reshape(x, [-1, 28, 28, 1])"
   ]
  },
  {
   "cell_type": "markdown",
   "metadata": {},
   "source": [
    "Create 1st Convlutional Layer,ReLu Layer and perform Computation : x*W +b"
   ]
  },
  {
   "cell_type": "code",
   "execution_count": 74,
   "metadata": {},
   "outputs": [],
   "source": [
    "# create first convolutional layer\n",
    "# Convolutional Layer 1\n",
    "conv_layer1 = create_conv_layer(x_image, filter_shape=[5, 5, 1, 32])\n",
    "relu_layer1 = create_relu_layer(conv_layer1, bias_shape=[32])"
   ]
  },
  {
   "cell_type": "markdown",
   "metadata": {},
   "source": [
    "Create 1st Pooling Layer and Reduce Spatial size"
   ]
  },
  {
   "cell_type": "code",
   "execution_count": 76,
   "metadata": {},
   "outputs": [],
   "source": [
    "# create first max pooling layer\n",
    "max_pooling_layer_1 = create_max_pooling_layer(relu_layer1)"
   ]
  },
  {
   "cell_type": "markdown",
   "metadata": {},
   "source": [
    "Create 2nd Pooling Layer and Reduce Spatial size"
   ]
  },
  {
   "cell_type": "code",
   "execution_count": 77,
   "metadata": {},
   "outputs": [],
   "source": [
    "# Pooling Layer 1\n",
    "max_pool_1 = tf.nn.max_pool(relu_layer1, ksize=[1, 2, 2, 1], strides=[1, 2, 2, 1], padding='SAME')\n"
   ]
  },
  {
   "cell_type": "markdown",
   "metadata": {},
   "source": [
    "Reshape/Flatten Data Making it Ready to be Fed into 1st fc Layer"
   ]
  },
  {
   "cell_type": "code",
   "execution_count": 78,
   "metadata": {},
   "outputs": [],
   "source": [
    "# reshape the max pooling layer\n",
    "flattened = tf.reshape(max_pool_1, [-1, 14*14*32])"
   ]
  },
  {
   "cell_type": "markdown",
   "metadata": {},
   "source": [
    "Create 1st FC Layer, Relu Layer , and output Data to Dropout Layer"
   ]
  },
  {
   "cell_type": "code",
   "execution_count": 79,
   "metadata": {},
   "outputs": [],
   "source": [
    "# Fully Connected Layer 1\n",
    "fully_connected_layer1 = create_fully_connected_layer(flattened, output_size=1024)\n"
   ]
  },
  {
   "cell_type": "markdown",
   "metadata": {},
   "source": [
    "Create Dropput Layer and Dropput a fraction of output Randomly"
   ]
  },
  {
   "cell_type": "code",
   "execution_count": 80,
   "metadata": {},
   "outputs": [],
   "source": [
    "# Dropout Layer\n",
    "keep_prob = tf.placeholder(tf.float32)\n",
    "dropout_layer = tf.nn.dropout(fully_connected_layer1, keep_prob=keep_prob)"
   ]
  },
  {
   "cell_type": "markdown",
   "metadata": {},
   "source": [
    "Create Final FC Layer, Compute (x.W + B), and Produce Finale Ouptus"
   ]
  },
  {
   "cell_type": "code",
   "execution_count": 81,
   "metadata": {},
   "outputs": [],
   "source": [
    "# create second fully connected layer as pred\n",
    "y_pred = create_fully_connected_layer(dropout_layer, output_size=10)"
   ]
  },
  {
   "cell_type": "markdown",
   "metadata": {},
   "source": [
    "Define Loss Function and Calaculate softmax Cross Entropy Loss"
   ]
  },
  {
   "cell_type": "code",
   "execution_count": 82,
   "metadata": {},
   "outputs": [],
   "source": [
    "# Define Loss Function and Calculate Softmax Cross Entropy Loss\n",
    "cross_entropy = tf.reduce_mean(tf.nn.softmax_cross_entropy_with_logits(labels=y_true, logits=y_pred))"
   ]
  },
  {
   "cell_type": "markdown",
   "metadata": {},
   "source": [
    "Create an optimizer"
   ]
  },
  {
   "cell_type": "code",
   "execution_count": 83,
   "metadata": {},
   "outputs": [],
   "source": [
    "#get optimizer\n",
    "optimizer = tf.train.AdamOptimizer(learning_rate=0.001)"
   ]
  },
  {
   "cell_type": "markdown",
   "metadata": {},
   "source": [
    "Create a Trainer to Traing CNN Model"
   ]
  },
  {
   "cell_type": "code",
   "execution_count": 84,
   "metadata": {},
   "outputs": [],
   "source": [
    "#create train step\n",
    "train = optimizer.minimize(cross_entropy)"
   ]
  },
  {
   "cell_type": "markdown",
   "metadata": {},
   "source": [
    "Train and Test CNN Deep Learning Model on MNIST Dataset"
   ]
  },
  {
   "cell_type": "markdown",
   "metadata": {},
   "source": [
    "Initalize all Variables"
   ]
  },
  {
   "cell_type": "code",
   "execution_count": 85,
   "metadata": {},
   "outputs": [],
   "source": [
    "#initialize variables\n",
    "init = tf.global_variables_initializer()"
   ]
  },
  {
   "cell_type": "code",
   "execution_count": 86,
   "metadata": {},
   "outputs": [],
   "source": [
    "# steps\n",
    "steps = 5000"
   ]
  },
  {
   "cell_type": "code",
   "execution_count": 87,
   "metadata": {},
   "outputs": [],
   "source": [
    "# To store the results\n",
    "results = {'step': [], 'accuracy': []}"
   ]
  },
  {
   "cell_type": "markdown",
   "metadata": {},
   "source": [
    "Run tf.sessioon () to Train and Test Deep Learning CNN Model"
   ]
  },
  {
   "cell_type": "code",
   "execution_count": 91,
   "metadata": {},
   "outputs": [
    {
     "name": "stdout",
     "output_type": "stream",
     "text": [
      "Currently on step 0\n",
      "Accuracy is: 0.101\n",
      "\n",
      "\n",
      "Currently on step 100\n",
      "Accuracy is: 0.9026\n",
      "\n",
      "\n",
      "Currently on step 200\n",
      "Accuracy is: 0.9249\n",
      "\n",
      "\n",
      "Currently on step 300\n",
      "Accuracy is: 0.9441\n",
      "\n",
      "\n",
      "Currently on step 400\n",
      "Accuracy is: 0.9579\n",
      "\n",
      "\n",
      "Currently on step 500\n",
      "Accuracy is: 0.9619\n",
      "\n",
      "\n",
      "Currently on step 600\n",
      "Accuracy is: 0.9717\n",
      "\n",
      "\n",
      "Currently on step 700\n",
      "Accuracy is: 0.9729\n",
      "\n",
      "\n",
      "Currently on step 800\n",
      "Accuracy is: 0.9767\n",
      "\n",
      "\n",
      "Currently on step 900\n",
      "Accuracy is: 0.9757\n",
      "\n",
      "\n",
      "Currently on step 1000\n",
      "Accuracy is: 0.9771\n",
      "\n",
      "\n",
      "Currently on step 1100\n",
      "Accuracy is: 0.9795\n",
      "\n",
      "\n",
      "Currently on step 1200\n",
      "Accuracy is: 0.981\n",
      "\n",
      "\n",
      "Currently on step 1300\n",
      "Accuracy is: 0.9792\n",
      "\n",
      "\n",
      "Currently on step 1400\n",
      "Accuracy is: 0.9812\n",
      "\n",
      "\n",
      "Currently on step 1500\n",
      "Accuracy is: 0.984\n",
      "\n",
      "\n",
      "Currently on step 1600\n",
      "Accuracy is: 0.9838\n",
      "\n",
      "\n",
      "Currently on step 1700\n",
      "Accuracy is: 0.9838\n",
      "\n",
      "\n",
      "Currently on step 1800\n",
      "Accuracy is: 0.9825\n",
      "\n",
      "\n",
      "Currently on step 1900\n",
      "Accuracy is: 0.9848\n",
      "\n",
      "\n",
      "Currently on step 2000\n",
      "Accuracy is: 0.9853\n",
      "\n",
      "\n",
      "Currently on step 2100\n",
      "Accuracy is: 0.9834\n",
      "\n",
      "\n",
      "Currently on step 2200\n",
      "Accuracy is: 0.984\n",
      "\n",
      "\n",
      "Currently on step 2300\n",
      "Accuracy is: 0.985\n",
      "\n",
      "\n",
      "Currently on step 2400\n",
      "Accuracy is: 0.9838\n",
      "\n",
      "\n",
      "Currently on step 2500\n",
      "Accuracy is: 0.9817\n",
      "\n",
      "\n",
      "Currently on step 2600\n",
      "Accuracy is: 0.9838\n",
      "\n",
      "\n",
      "Currently on step 2700\n",
      "Accuracy is: 0.9843\n",
      "\n",
      "\n",
      "Currently on step 2800\n",
      "Accuracy is: 0.9845\n",
      "\n",
      "\n",
      "Currently on step 2900\n",
      "Accuracy is: 0.9848\n",
      "\n",
      "\n",
      "Currently on step 3000\n",
      "Accuracy is: 0.9842\n",
      "\n",
      "\n",
      "Currently on step 3100\n",
      "Accuracy is: 0.9851\n",
      "\n",
      "\n",
      "Currently on step 3200\n",
      "Accuracy is: 0.9825\n",
      "\n",
      "\n",
      "Currently on step 3300\n",
      "Accuracy is: 0.9832\n",
      "\n",
      "\n",
      "Currently on step 3400\n",
      "Accuracy is: 0.9846\n",
      "\n",
      "\n",
      "Currently on step 3500\n",
      "Accuracy is: 0.9843\n",
      "\n",
      "\n",
      "Currently on step 3600\n",
      "Accuracy is: 0.9823\n",
      "\n",
      "\n",
      "Currently on step 3700\n",
      "Accuracy is: 0.9838\n",
      "\n",
      "\n",
      "Currently on step 3800\n",
      "Accuracy is: 0.985\n",
      "\n",
      "\n",
      "Currently on step 3900\n",
      "Accuracy is: 0.9848\n",
      "\n",
      "\n",
      "Currently on step 4000\n",
      "Accuracy is: 0.9832\n",
      "\n",
      "\n",
      "Currently on step 4100\n",
      "Accuracy is: 0.9851\n",
      "\n",
      "\n",
      "Currently on step 4200\n",
      "Accuracy is: 0.9839\n",
      "\n",
      "\n",
      "Currently on step 4300\n",
      "Accuracy is: 0.9829\n",
      "\n",
      "\n",
      "Currently on step 4400\n",
      "Accuracy is: 0.984\n",
      "\n",
      "\n",
      "Currently on step 4500\n",
      "Accuracy is: 0.984\n",
      "\n",
      "\n",
      "Currently on step 4600\n",
      "Accuracy is: 0.982\n",
      "\n",
      "\n",
      "Currently on step 4700\n",
      "Accuracy is: 0.9817\n",
      "\n",
      "\n",
      "Currently on step 4800\n",
      "Accuracy is: 0.9842\n",
      "\n",
      "\n",
      "Currently on step 4900\n",
      "Accuracy is: 0.9775\n",
      "\n",
      "\n"
     ]
    }
   ],
   "source": [
    "# create session and run the model \n",
    "with tf.Session() as sess:\n",
    "\n",
    "    # initialize the session\n",
    "    sess.run(init)\n",
    "    \n",
    "    for i in range(steps):\n",
    "        # get the next batch of data from mnist dataset \n",
    "        batch_x, batch_y = mnist.train.next_batch(50)\n",
    "        \n",
    "        # run the train step\n",
    "        sess.run(train, feed_dict={x: batch_x, y_true: batch_y, keep_prob: 0.5})\n",
    "\n",
    "        # print out a message every 100 steps\n",
    "\n",
    "        if i % 100 == 0:\n",
    "            print('Currently on step {}'.format(i))\n",
    "\n",
    "            # Test the Train Model\n",
    "            matchs = tf.equal(tf.argmax(y_pred, 1), tf.argmax(y_true, 1))\n",
    "\n",
    "            # convert matchs to float32 and calculate mean\n",
    "            # to get the accuracy\n",
    "            accuracy = tf.reduce_mean(tf.cast(matchs, tf.float32))\n",
    "\n",
    "            # test the model at 100 steps\n",
    "            test_accuracy = sess.run(accuracy, feed_dict={x: mnist.test.images, \\\n",
    "                                                           y_true: mnist.test.labels, \\\n",
    "                                                           keep_prob: 1.0})\n",
    "            # print acuracy\n",
    "            print('Accuracy is:', test_accuracy)\n",
    "            print('\\n')  \n",
    "            \n",
    "            # Store the results\n",
    "            results['step'].append(i)\n",
    "            results['accuracy'].append(test_accuracy)            "
   ]
  },
  {
   "cell_type": "markdown",
   "metadata": {},
   "source": []
  },
  {
   "cell_type": "code",
   "execution_count": 92,
   "metadata": {},
   "outputs": [],
   "source": [
    "# Convert results to DataFrame\n",
    "results_df = pd.DataFrame(results)"
   ]
  },
  {
   "cell_type": "code",
   "execution_count": 93,
   "metadata": {},
   "outputs": [
    {
     "data": {
      "image/png": "[encoded data removed]",
      "text/plain": [
       "<Figure size 1000x600 with 1 Axes>"
      ]
     },
     "metadata": {},
     "output_type": "display_data"
    }
   ],
   "source": [
    "# Plot the results\n",
    "plt.figure(figsize=(10, 6))\n",
    "plt.plot(results_df['step'], results_df['accuracy'], marker='o')\n",
    "plt.title('Test Accuracy vs. Training Steps')\n",
    "plt.xlabel('Training Steps')\n",
    "plt.ylabel('Test Accuracy')\n",
    "plt.grid(True)\n",
    "plt.show()"
   ]
  }
 ],
 "metadata": {
  "kernelspec": {
   "display_name": "Python 3",
   "language": "python",
   "name": "python3"
  },
  "language_info": {
   "codemirror_mode": {
    "name": "ipython",
    "version": 3
   },
   "file_extension": ".py",
   "mimetype": "text/x-python",
   "name": "python",
   "nbconvert_exporter": "python",
   "pygments_lexer": "ipython3",
   "version": "3.7.12"
  }
 },
 "nbformat": 4,
 "nbformat_minor": 2
}
