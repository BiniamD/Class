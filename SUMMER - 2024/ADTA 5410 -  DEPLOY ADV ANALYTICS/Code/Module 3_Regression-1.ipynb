{
 "cells": [
  {
   "cell_type": "markdown",
   "id": "58f654fc-8c1a-4ac3-943b-186e8747f0dc",
   "metadata": {},
   "source": [
    "<img src=\"https://webassets.unt.edu/assets/branding/unt-stacked-logo.svg\" alt=\"UNT | University of North Texas\" class=\"desktop-logo\" width=\"300\" height=\"500\">"
   ]
  },
  {
   "cell_type": "markdown",
   "id": "08cc7cfe-8c67-428f-af35-610329c1d4d9",
   "metadata": {},
   "source": [
    "# Module 3: Linear Regression"
   ]
  },
  {
   "cell_type": "markdown",
   "id": "88cf83bf-c2e7-4d56-80a3-d612977dfadb",
   "metadata": {},
   "source": [
    "#### Prepared by Orhan Erdem </strong> </div>\n",
    "<br><div style=\"text-align: left\"><strong>Datasets:</strong> </div>\n",
    "* 'Advertising.csv' (From ISLP)\n",
    "* 'covid_2020_23.csv' (From ourworldindata.org)\n",
    "* (Optional) credit.csv (From ISLP)"
   ]
  },
  {
   "cell_type": "code",
   "execution_count": null,
   "id": "45e24df6",
   "metadata": {},
   "outputs": [],
   "source": [
    "#Import the required libraries\n",
    "import pandas as pd\n",
    "import numpy as np\n",
    "import seaborn as sns\n",
    "import matplotlib.pylab as plt"
   ]
  },
  {
   "cell_type": "code",
   "execution_count": null,
   "id": "1a83cb3d",
   "metadata": {},
   "outputs": [],
   "source": [
    "##Import the dataset \n",
    "df= pd.read_csv('Advertising.csv',index_col=0)\n",
    "df.head()"
   ]
  },
  {
   "cell_type": "code",
   "execution_count": null,
   "id": "f9d8c582",
   "metadata": {},
   "outputs": [],
   "source": [
    "import statsmodels.api as sm\n",
    "#define simple regression variables\n",
    "y=df['sales']\n",
    "X=df['TV']\n",
    "\n",
    "model=sm.OLS(y,sm.add_constant(X)).fit()\n",
    "print(model.summary())"
   ]
  },
  {
   "cell_type": "code",
   "execution_count": null,
   "id": "ba9ca168",
   "metadata": {},
   "outputs": [],
   "source": [
    "import statsmodels.api as sm\n",
    "#define simple regression variables\n",
    "y=df['sales']\n",
    "X=df[['TV','radio','newspaper']]\n",
    "\n",
    "model=sm.OLS(y,sm.add_constant(X)).fit()\n",
    "print(model.summary())"
   ]
  },
  {
   "cell_type": "code",
   "execution_count": null,
   "id": "dcfb5b0e",
   "metadata": {
    "scrolled": true
   },
   "outputs": [],
   "source": [
    "df.corr().round(3)"
   ]
  },
  {
   "cell_type": "markdown",
   "id": "95a733cf-3c36-4c46-8115-fbac1e326917",
   "metadata": {},
   "source": [
    "### Train Test Split"
   ]
  },
  {
   "cell_type": "code",
   "execution_count": null,
   "id": "1b0fb62f-1aa8-4c1f-8fb6-48c06cbf8740",
   "metadata": {},
   "outputs": [],
   "source": [
    "from sklearn.model_selection import train_test_split\n",
    "from sklearn.linear_model import LinearRegression"
   ]
  },
  {
   "cell_type": "code",
   "execution_count": null,
   "id": "369d03e4-a321-4d85-8574-2e6fb6c91ad9",
   "metadata": {},
   "outputs": [],
   "source": [
    "train_X, test_X, train_y, test_y = train_test_split(X, y, test_size=0.4, random_state=1)\n",
    "\n",
    "# train linear regression model\n",
    "model= LinearRegression()\n",
    "model.fit(train_X, train_y)"
   ]
  },
  {
   "cell_type": "code",
   "execution_count": null,
   "id": "c8255fa9-5938-4c4b-956c-ea86fffe572e",
   "metadata": {},
   "outputs": [],
   "source": [
    "# Print the coefficient and intercept of the model\n",
    "print(\"Coefficients: \", model.coef_.round(3))\n",
    "print(\"Intercept: \", model.intercept_.round(2))"
   ]
  },
  {
   "cell_type": "code",
   "execution_count": null,
   "id": "57e0780c-dd35-49ee-adfc-b8f9e85d37a4",
   "metadata": {},
   "outputs": [],
   "source": [
    "y_test_pred = model.predict(test_X)\n",
    "y_train_pred=model.predict(train_X)"
   ]
  },
  {
   "cell_type": "code",
   "execution_count": null,
   "id": "5c8907a8-bc1c-4d2e-9000-e0df63735803",
   "metadata": {},
   "outputs": [],
   "source": [
    "# Evaluate the model's performance, TRAIN PART\n",
    "from sklearn.metrics import mean_squared_error\n",
    "mse = mean_squared_error(train_y, y_train_pred)\n",
    "rmse = mean_squared_error(train_y, y_train_pred, squared = False) #gives the rmse\n",
    "print(\"Mean Squared Error: \", mse.round(2))\n",
    "print(\"Root Mean Squared Error: \", rmse.round(2))"
   ]
  },
  {
   "cell_type": "code",
   "execution_count": null,
   "id": "1b474fc8-d48e-4f9f-91a7-f40b725e0e3d",
   "metadata": {},
   "outputs": [],
   "source": [
    "# Evaluate the model's performance, TEST PART\n",
    "from sklearn.metrics import mean_squared_error\n",
    "mse = mean_squared_error(test_y, y_test_pred)\n",
    "rmse = mean_squared_error(test_y, y_test_pred, squared = False) #gives the rmse\n",
    "print(\"Mean Squared Error: \", mse.round(2))\n",
    "print(\"Root Mean Squared Error: \", rmse.round(2))"
   ]
  },
  {
   "cell_type": "markdown",
   "id": "a06dcefe-10c3-4c33-95ab-4cf2635a865a",
   "metadata": {},
   "source": [
    "# COVID Data Set"
   ]
  },
  {
   "cell_type": "code",
   "execution_count": null,
   "id": "5651d4ca-f3f2-4fac-8e5a-436780b53eec",
   "metadata": {},
   "outputs": [],
   "source": [
    "##Import the dataset \n",
    "covid= pd.read_csv('covid_2020_23.csv', index_col='location')\n",
    "covid.head()"
   ]
  },
  {
   "cell_type": "code",
   "execution_count": null,
   "id": "9edc3f79-d947-4a37-9551-64caea85530e",
   "metadata": {},
   "outputs": [],
   "source": [
    "covid.shape"
   ]
  },
  {
   "cell_type": "code",
   "execution_count": null,
   "id": "4278323a-6478-483d-9e19-8c87f9057733",
   "metadata": {},
   "outputs": [],
   "source": [
    "covid = covid[covid['continent'] == 'Asia']\n",
    "covid.shape"
   ]
  },
  {
   "cell_type": "code",
   "execution_count": null,
   "id": "f515bb3d-74dc-43d0-a470-39a4fba48929",
   "metadata": {},
   "outputs": [],
   "source": [
    "# Fill any missing values (NaN) in the \"total_deaths\" column with 0.\n",
    "covid['total_deaths']=covid['total_deaths'].fillna(value=0)\n",
    "covid.head()"
   ]
  },
  {
   "cell_type": "code",
   "execution_count": null,
   "id": "fb05177a-5255-480f-b5ea-64c719110ae3",
   "metadata": {},
   "outputs": [],
   "source": [
    "covid_clean = covid.dropna(subset=['hospital_beds_per_thousand','stringency_index'])\n",
    "covid_clean.shape"
   ]
  },
  {
   "cell_type": "code",
   "execution_count": null,
   "id": "6ade661d-c5c3-409d-b2de-fd9c1f54c0cd",
   "metadata": {
    "scrolled": true
   },
   "outputs": [],
   "source": [
    "#drop all columns except continent, location, total_deaths, hospital_beds_per_thousand, stringency index\n",
    "covid_clean = covid_clean[['continent','total_deaths','hospital_beds_per_thousand', 'stringency_index']]\n",
    "covid_clean.head()"
   ]
  },
  {
   "cell_type": "code",
   "execution_count": null,
   "id": "40ef2a83-7210-44c4-9ff3-4e8c0e7b59a7",
   "metadata": {},
   "outputs": [],
   "source": [
    "#Plotting\n",
    "pd.plotting.scatter_matrix(covid[['total_deaths','hospital_beds_per_thousand','stringency_index']]) "
   ]
  },
  {
   "cell_type": "code",
   "execution_count": null,
   "id": "3811f443-3169-41f6-88ec-c19615b6d6cc",
   "metadata": {},
   "outputs": [],
   "source": [
    "import statsmodels.api as sm\n",
    "y_covid=covid_clean['total_deaths']\n",
    "X_covid=covid_clean[['hospital_beds_per_thousand','stringency_index']]\n",
    "\n",
    "model=sm.OLS(y_covid,sm.add_constant(X_covid)).fit()\n",
    "print(model.summary())"
   ]
  },
  {
   "cell_type": "markdown",
   "id": "2be8512e-9be5-46bf-9fa6-42c48e1b9aa5",
   "metadata": {},
   "source": [
    "## Credit Card DataSet"
   ]
  },
  {
   "cell_type": "code",
   "execution_count": null,
   "id": "7de01e8b-a7f7-4b49-82cb-0c09dcef5b65",
   "metadata": {},
   "outputs": [],
   "source": [
    "##Import the dataset \n",
    "df_credit= pd.read_csv('credit.csv')\n",
    "df_credit.head()"
   ]
  },
  {
   "cell_type": "code",
   "execution_count": null,
   "id": "c4917419-c671-4086-abd2-ab19285b523c",
   "metadata": {},
   "outputs": [],
   "source": [
    "df_credit['Own_Yes']=pd.get_dummies(df_credit['Own'],drop_first=True,dtype=float)\n",
    "df_credit.head()"
   ]
  },
  {
   "cell_type": "code",
   "execution_count": null,
   "id": "2a823268-6055-499e-8a29-6ba979f6b6fa",
   "metadata": {},
   "outputs": [],
   "source": [
    "Balance=df_credit['Balance']\n",
    "Own_Yes=df_credit['Own_Yes']\n",
    "\n",
    "model=sm.OLS(Balance,sm.add_constant(Own_Yes)).fit()\n",
    "print(model.summary())"
   ]
  },
  {
   "cell_type": "code",
   "execution_count": null,
   "id": "85381908-8ae2-4ec9-9134-e37a4e967db2",
   "metadata": {},
   "outputs": [],
   "source": [
    "#Dummy Variables\n",
    "df_processed=pd.get_dummies(df_credit,columns=['Region'],dtype=float)\n",
    "df_processed.head()"
   ]
  },
  {
   "cell_type": "code",
   "execution_count": null,
   "id": "75d13dbd-fc1b-4610-9f16-48fadec984eb",
   "metadata": {},
   "outputs": [],
   "source": [
    "Balance=df_processed['Balance']\n",
    "X=df_processed[['Region_South','Region_West']]\n",
    "\n",
    "model=sm.OLS(Balance,sm.add_constant(X)).fit()\n",
    "print(model.summary())"
   ]
  }
 ],
 "metadata": {
  "kernelspec": {
   "display_name": "Python 3 (ipykernel)",
   "language": "python",
   "name": "python3"
  },
  "language_info": {
   "codemirror_mode": {
    "name": "ipython",
    "version": 3
   },
   "file_extension": ".py",
   "mimetype": "text/x-python",
   "name": "python",
   "nbconvert_exporter": "python",
   "pygments_lexer": "ipython3",
   "version": "3.8.8"
  }
 },
 "nbformat": 4,
 "nbformat_minor": 5
}
