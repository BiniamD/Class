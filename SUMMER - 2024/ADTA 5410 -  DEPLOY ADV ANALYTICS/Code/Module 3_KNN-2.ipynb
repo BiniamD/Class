{
 "cells": [
  {
   "cell_type": "markdown",
   "id": "2b5a8af9-9a91-45f3-8fbc-a9db3e444a6b",
   "metadata": {},
   "source": [
    "#### Prepared by Orhan Erdem </strong> </div>\n",
    "<br><div style=\"text-align: left\"><strong>Datasets:</strong> </div>\n",
    "* 'caravan.csv' (From ISLP)\n",
    "##### Information about the data \n",
    "'Caravan' data set includes 85 predictors that measure demographic characteristics for 5,822 individuals. The response variable is Purchase, which indicates whether or not a given individual purchases a caravan insurance policy. In this data set, only 6%\n",
    "of people purchased caravan insurance "
   ]
  },
  {
   "cell_type": "code",
   "execution_count": null,
   "id": "6bf2923e",
   "metadata": {},
   "outputs": [],
   "source": [
    "import pandas as pd\n",
    "import numpy as np\n",
    "from sklearn import preprocessing\n",
    "from sklearn.model_selection import train_test_split\n",
    "from sklearn.metrics import accuracy_score\n",
    "from sklearn.neighbors import NearestNeighbors, KNeighborsClassifier\n",
    "import matplotlib.pylab as plt\n",
    "from sklearn.model_selection import train_test_split\n",
    "from sklearn.neighbors import KNeighborsClassifier\n",
    "from sklearn.metrics import classification_report,confusion_matrix"
   ]
  },
  {
   "cell_type": "code",
   "execution_count": null,
   "id": "ebc55ae4",
   "metadata": {},
   "outputs": [],
   "source": [
    "df=pd.read_csv('caravan.csv')\n",
    "df.head()"
   ]
  },
  {
   "cell_type": "markdown",
   "id": "03cff494-6d94-42bb-9995-883f850a11a2",
   "metadata": {},
   "source": []
  },
  {
   "cell_type": "code",
   "execution_count": null,
   "id": "100a8bad",
   "metadata": {},
   "outputs": [],
   "source": [
    "df['Purchase_Dum']=pd.get_dummies(df['Purchase'],drop_first=True)\n",
    "df.drop(['Purchase'],axis=1,inplace=True)\n",
    "df.head()"
   ]
  },
  {
   "cell_type": "code",
   "execution_count": null,
   "id": "cfc9d878",
   "metadata": {},
   "outputs": [],
   "source": [
    "from sklearn.preprocessing import StandardScaler\n",
    "scaler=StandardScaler()\n",
    "scaler.fit(df.drop('Purchase_Dum',axis=1))\n",
    "scaled_features=scaler.transform(df.drop('Purchase_Dum',axis=1))"
   ]
  },
  {
   "cell_type": "code",
   "execution_count": null,
   "id": "8275245e",
   "metadata": {},
   "outputs": [],
   "source": [
    "df_features=pd.DataFrame(scaled_features,columns=df.columns[:-1])\n",
    "df_features.head()"
   ]
  },
  {
   "cell_type": "code",
   "execution_count": null,
   "id": "424bc31e",
   "metadata": {},
   "outputs": [],
   "source": [
    "X_train,X_test,y_train,y_test=train_test_split(df_features,df['Purchase_Dum'],test_size=0.30)"
   ]
  },
  {
   "cell_type": "code",
   "execution_count": null,
   "id": "3eff111f",
   "metadata": {},
   "outputs": [],
   "source": [
    "#pip uninstall scikit-learn\n",
    "#pip install scikit-learn==1.2.2"
   ]
  },
  {
   "cell_type": "code",
   "execution_count": null,
   "id": "075a12f9",
   "metadata": {},
   "outputs": [],
   "source": [
    "knn=KNeighborsClassifier(n_neighbors=3)\n",
    "knn.fit(X_train,y_train)\n",
    "pred=knn.predict(X_test)"
   ]
  },
  {
   "cell_type": "markdown",
   "id": "db8f5b05-e796-4bc5-bcc7-4356f410190b",
   "metadata": {},
   "source": [
    "## Prediction and Evaluation"
   ]
  },
  {
   "cell_type": "code",
   "execution_count": null,
   "id": "989c906f-64f1-4cd4-881e-2430cefee475",
   "metadata": {},
   "outputs": [],
   "source": [
    "from sklearn.metrics import classification_report,confusion_matrix\n",
    "print(confusion_matrix(y_test,pred))"
   ]
  },
  {
   "cell_type": "code",
   "execution_count": null,
   "id": "0e058109-42a1-49fe-bd55-0a4dfb9dec03",
   "metadata": {},
   "outputs": [],
   "source": [
    "print(classification_report(y_test,pred))"
   ]
  },
  {
   "cell_type": "code",
   "execution_count": null,
   "id": "a6043613",
   "metadata": {},
   "outputs": [],
   "source": [
    "error_rate=[]\n",
    "for i in range(1,40):\n",
    "    knn=KNeighborsClassifier(n_neighbors=i)\n",
    "    knn.fit(X_train,y_train)\n",
    "    pred_i=knn.predict(X_test)\n",
    "    error_rate.append(np.mean(pred_i !=y_test))"
   ]
  },
  {
   "cell_type": "code",
   "execution_count": null,
   "id": "e8531d00",
   "metadata": {},
   "outputs": [],
   "source": [
    "plt.figure(figsize=(10,6))\n",
    "plt.plot(range(1,40),error_rate,color='blue',linestyle='dashed',marker='o',\n",
    "        markerfacecolor='red',markersize=9)\n",
    "plt.title( 'Errors vs k of KNN')\n",
    "plt.xlabel('k')\n",
    "plt.ylabel('Errors')"
   ]
  },
  {
   "cell_type": "code",
   "execution_count": null,
   "id": "a86bf8d2-2960-46dd-8654-ee2ea208b875",
   "metadata": {},
   "outputs": [],
   "source": []
  }
 ],
 "metadata": {
  "kernelspec": {
   "display_name": "Python 3 (ipykernel)",
   "language": "python",
   "name": "python3"
  },
  "language_info": {
   "codemirror_mode": {
    "name": "ipython",
    "version": 3
   },
   "file_extension": ".py",
   "mimetype": "text/x-python",
   "name": "python",
   "nbconvert_exporter": "python",
   "pygments_lexer": "ipython3",
   "version": "3.11.7"
  }
 },
 "nbformat": 4,
 "nbformat_minor": 5
}
