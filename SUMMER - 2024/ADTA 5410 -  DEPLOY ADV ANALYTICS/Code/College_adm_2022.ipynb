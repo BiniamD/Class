{
 "cells": [
  {
   "cell_type": "markdown",
   "id": "2697d97a-3aa4-4163-a048-79db31700b11",
   "metadata": {},
   "source": [
    "# Data Visualization"
   ]
  },
  {
   "cell_type": "markdown",
   "id": "5e079eae-3bcf-48db-9516-a29724beabd4",
   "metadata": {},
   "source": [
    "#### Prepared by Orhan Erdem </strong> </div>\n",
    "<br><div style=\"text-align: left\"><strong>Datasets:</strong> </div>\n",
    "<br> college_adm_2022.xlsx, college_lib_2022.xlsx"
   ]
  },
  {
   "cell_type": "code",
   "execution_count": 2,
   "id": "f2ecac69",
   "metadata": {},
   "outputs": [],
   "source": [
    "import pandas as pd"
   ]
  },
  {
   "cell_type": "code",
   "execution_count": 3,
   "id": "b0f011b3",
   "metadata": {},
   "outputs": [
    {
     "data": {
      "text/html": [
       "<div>\n",
       "<style scoped>\n",
       "    .dataframe tbody tr th:only-of-type {\n",
       "        vertical-align: middle;\n",
       "    }\n",
       "\n",
       "    .dataframe tbody tr th {\n",
       "        vertical-align: top;\n",
       "    }\n",
       "\n",
       "    .dataframe thead th {\n",
       "        text-align: right;\n",
       "    }\n",
       "</style>\n",
       "<table border=\"1\" class=\"dataframe\">\n",
       "  <thead>\n",
       "    <tr style=\"text-align: right;\">\n",
       "      <th></th>\n",
       "      <th>UNITID</th>\n",
       "      <th>Public</th>\n",
       "      <th>Appl</th>\n",
       "      <th>Enroll_fall</th>\n",
       "      <th>Enroll_ratio</th>\n",
       "      <th>Low_enroll_Ratio</th>\n",
       "      <th>Enroll_tot</th>\n",
       "      <th>GRTOTLT</th>\n",
       "      <th>Tuition_in</th>\n",
       "      <th>Tuition_out</th>\n",
       "      <th>Stufacr</th>\n",
       "      <th>RRFTCT</th>\n",
       "      <th>Salary</th>\n",
       "      <th>Ug_enter</th>\n",
       "      <th>Sat</th>\n",
       "      <th>Room</th>\n",
       "      <th>Books</th>\n",
       "    </tr>\n",
       "    <tr>\n",
       "      <th>INSTNM</th>\n",
       "      <th></th>\n",
       "      <th></th>\n",
       "      <th></th>\n",
       "      <th></th>\n",
       "      <th></th>\n",
       "      <th></th>\n",
       "      <th></th>\n",
       "      <th></th>\n",
       "      <th></th>\n",
       "      <th></th>\n",
       "      <th></th>\n",
       "      <th></th>\n",
       "      <th></th>\n",
       "      <th></th>\n",
       "      <th></th>\n",
       "      <th></th>\n",
       "      <th></th>\n",
       "    </tr>\n",
       "  </thead>\n",
       "  <tbody>\n",
       "    <tr>\n",
       "      <th>DeVry University-Florida</th>\n",
       "      <td>482459</td>\n",
       "      <td>0</td>\n",
       "      <td>3</td>\n",
       "      <td>0</td>\n",
       "      <td>0.000000</td>\n",
       "      <td>1</td>\n",
       "      <td>699</td>\n",
       "      <td>13.0</td>\n",
       "      <td>14392</td>\n",
       "      <td>14392</td>\n",
       "      <td>13</td>\n",
       "      <td>13</td>\n",
       "      <td>81706.0</td>\n",
       "      <td>0</td>\n",
       "      <td>NaN</td>\n",
       "      <td>NaN</td>\n",
       "      <td>400.0</td>\n",
       "    </tr>\n",
       "    <tr>\n",
       "      <th>DeVry University-Texas</th>\n",
       "      <td>482635</td>\n",
       "      <td>0</td>\n",
       "      <td>1</td>\n",
       "      <td>0</td>\n",
       "      <td>0.000000</td>\n",
       "      <td>1</td>\n",
       "      <td>317</td>\n",
       "      <td>12.0</td>\n",
       "      <td>14392</td>\n",
       "      <td>14392</td>\n",
       "      <td>3</td>\n",
       "      <td>4</td>\n",
       "      <td>80447.0</td>\n",
       "      <td>0</td>\n",
       "      <td>NaN</td>\n",
       "      <td>NaN</td>\n",
       "      <td>400.0</td>\n",
       "    </tr>\n",
       "    <tr>\n",
       "      <th>Yeshiva Zichron Aryeh</th>\n",
       "      <td>487746</td>\n",
       "      <td>0</td>\n",
       "      <td>3</td>\n",
       "      <td>0</td>\n",
       "      <td>0.000000</td>\n",
       "      <td>1</td>\n",
       "      <td>43</td>\n",
       "      <td>NaN</td>\n",
       "      <td>8250</td>\n",
       "      <td>8250</td>\n",
       "      <td>3</td>\n",
       "      <td>2</td>\n",
       "      <td>46009.0</td>\n",
       "      <td>0</td>\n",
       "      <td>NaN</td>\n",
       "      <td>6250.0</td>\n",
       "      <td>200.0</td>\n",
       "    </tr>\n",
       "    <tr>\n",
       "      <th>American Islamic College</th>\n",
       "      <td>142957</td>\n",
       "      <td>0</td>\n",
       "      <td>1</td>\n",
       "      <td>0</td>\n",
       "      <td>0.000000</td>\n",
       "      <td>1</td>\n",
       "      <td>27</td>\n",
       "      <td>2.0</td>\n",
       "      <td>7500</td>\n",
       "      <td>7500</td>\n",
       "      <td>2</td>\n",
       "      <td>0</td>\n",
       "      <td>79988.0</td>\n",
       "      <td>6</td>\n",
       "      <td>NaN</td>\n",
       "      <td>3600.0</td>\n",
       "      <td>600.0</td>\n",
       "    </tr>\n",
       "    <tr>\n",
       "      <th>Minerva University</th>\n",
       "      <td>484844</td>\n",
       "      <td>0</td>\n",
       "      <td>20816</td>\n",
       "      <td>150</td>\n",
       "      <td>0.007206</td>\n",
       "      <td>1</td>\n",
       "      <td>636</td>\n",
       "      <td>160.0</td>\n",
       "      <td>17562</td>\n",
       "      <td>17562</td>\n",
       "      <td>13</td>\n",
       "      <td>116</td>\n",
       "      <td>121206.0</td>\n",
       "      <td>140</td>\n",
       "      <td>NaN</td>\n",
       "      <td>12300.0</td>\n",
       "      <td>1000.0</td>\n",
       "    </tr>\n",
       "  </tbody>\n",
       "</table>\n",
       "</div>"
      ],
      "text/plain": [
       "                          UNITID  Public   Appl  Enroll_fall  Enroll_ratio  \\\n",
       "INSTNM                                                                       \n",
       "DeVry University-Florida  482459       0      3            0      0.000000   \n",
       "DeVry University-Texas    482635       0      1            0      0.000000   \n",
       "Yeshiva Zichron Aryeh     487746       0      3            0      0.000000   \n",
       "American Islamic College  142957       0      1            0      0.000000   \n",
       "Minerva University        484844       0  20816          150      0.007206   \n",
       "\n",
       "                          Low_enroll_Ratio  Enroll_tot  GRTOTLT  Tuition_in  \\\n",
       "INSTNM                                                                        \n",
       "DeVry University-Florida                 1         699     13.0       14392   \n",
       "DeVry University-Texas                   1         317     12.0       14392   \n",
       "Yeshiva Zichron Aryeh                    1          43      NaN        8250   \n",
       "American Islamic College                 1          27      2.0        7500   \n",
       "Minerva University                       1         636    160.0       17562   \n",
       "\n",
       "                          Tuition_out  Stufacr  RRFTCT    Salary  Ug_enter  \\\n",
       "INSTNM                                                                       \n",
       "DeVry University-Florida        14392       13      13   81706.0         0   \n",
       "DeVry University-Texas          14392        3       4   80447.0         0   \n",
       "Yeshiva Zichron Aryeh            8250        3       2   46009.0         0   \n",
       "American Islamic College         7500        2       0   79988.0         6   \n",
       "Minerva University              17562       13     116  121206.0       140   \n",
       "\n",
       "                          Sat     Room   Books  \n",
       "INSTNM                                          \n",
       "DeVry University-Florida  NaN      NaN   400.0  \n",
       "DeVry University-Texas    NaN      NaN   400.0  \n",
       "Yeshiva Zichron Aryeh     NaN   6250.0   200.0  \n",
       "American Islamic College  NaN   3600.0   600.0  \n",
       "Minerva University        NaN  12300.0  1000.0  "
      ]
     },
     "execution_count": 3,
     "metadata": {},
     "output_type": "execute_result"
    }
   ],
   "source": [
    "college = pd.read_excel('college_adm_2022.xlsx',index_col=\"INSTNM\")\n",
    "college.head()"
   ]
  },
  {
   "cell_type": "code",
   "execution_count": 4,
   "id": "8d0b4bed",
   "metadata": {},
   "outputs": [
    {
     "data": {
      "text/plain": [
       "(1733, 17)"
      ]
     },
     "execution_count": 4,
     "metadata": {},
     "output_type": "execute_result"
    }
   ],
   "source": [
    "college.shape"
   ]
  },
  {
   "cell_type": "code",
   "execution_count": 5,
   "id": "ee949120-f42c-4177-9867-357d399d77ef",
   "metadata": {},
   "outputs": [
    {
     "data": {
      "text/plain": [
       "UNITID                int64\n",
       "Public                int64\n",
       "Appl                  int64\n",
       "Enroll_fall           int64\n",
       "Enroll_ratio        float64\n",
       "Low_enroll_Ratio      int64\n",
       "Enroll_tot            int64\n",
       "GRTOTLT             float64\n",
       "Tuition_in            int64\n",
       "Tuition_out           int64\n",
       "Stufacr               int64\n",
       "RRFTCT                int64\n",
       "Salary              float64\n",
       "Ug_enter              int64\n",
       "Sat                 float64\n",
       "Room                float64\n",
       "Books               float64\n",
       "dtype: object"
      ]
     },
     "execution_count": 5,
     "metadata": {},
     "output_type": "execute_result"
    }
   ],
   "source": [
    "college.dtypes"
   ]
  },
  {
   "cell_type": "code",
   "execution_count": 6,
   "id": "7d0b5078-c178-4b26-8392-1b9d0fa2bc4b",
   "metadata": {},
   "outputs": [
    {
     "data": {
      "text/html": [
       "<div>\n",
       "<style scoped>\n",
       "    .dataframe tbody tr th:only-of-type {\n",
       "        vertical-align: middle;\n",
       "    }\n",
       "\n",
       "    .dataframe tbody tr th {\n",
       "        vertical-align: top;\n",
       "    }\n",
       "\n",
       "    .dataframe thead th {\n",
       "        text-align: right;\n",
       "    }\n",
       "</style>\n",
       "<table border=\"1\" class=\"dataframe\">\n",
       "  <thead>\n",
       "    <tr style=\"text-align: right;\">\n",
       "      <th></th>\n",
       "      <th>UNITID</th>\n",
       "      <th>Public</th>\n",
       "      <th>Appl</th>\n",
       "      <th>Enroll_ratio</th>\n",
       "      <th>Tuition_in</th>\n",
       "      <th>Stufacr</th>\n",
       "      <th>Salary</th>\n",
       "      <th>Sat</th>\n",
       "    </tr>\n",
       "    <tr>\n",
       "      <th>INSTNM</th>\n",
       "      <th></th>\n",
       "      <th></th>\n",
       "      <th></th>\n",
       "      <th></th>\n",
       "      <th></th>\n",
       "      <th></th>\n",
       "      <th></th>\n",
       "      <th></th>\n",
       "    </tr>\n",
       "  </thead>\n",
       "  <tbody>\n",
       "    <tr>\n",
       "      <th>DeVry University-Florida</th>\n",
       "      <td>482459</td>\n",
       "      <td>0</td>\n",
       "      <td>3</td>\n",
       "      <td>0.000000</td>\n",
       "      <td>14392</td>\n",
       "      <td>13</td>\n",
       "      <td>81706.0</td>\n",
       "      <td>NaN</td>\n",
       "    </tr>\n",
       "    <tr>\n",
       "      <th>DeVry University-Texas</th>\n",
       "      <td>482635</td>\n",
       "      <td>0</td>\n",
       "      <td>1</td>\n",
       "      <td>0.000000</td>\n",
       "      <td>14392</td>\n",
       "      <td>3</td>\n",
       "      <td>80447.0</td>\n",
       "      <td>NaN</td>\n",
       "    </tr>\n",
       "    <tr>\n",
       "      <th>Yeshiva Zichron Aryeh</th>\n",
       "      <td>487746</td>\n",
       "      <td>0</td>\n",
       "      <td>3</td>\n",
       "      <td>0.000000</td>\n",
       "      <td>8250</td>\n",
       "      <td>3</td>\n",
       "      <td>46009.0</td>\n",
       "      <td>NaN</td>\n",
       "    </tr>\n",
       "    <tr>\n",
       "      <th>American Islamic College</th>\n",
       "      <td>142957</td>\n",
       "      <td>0</td>\n",
       "      <td>1</td>\n",
       "      <td>0.000000</td>\n",
       "      <td>7500</td>\n",
       "      <td>2</td>\n",
       "      <td>79988.0</td>\n",
       "      <td>NaN</td>\n",
       "    </tr>\n",
       "    <tr>\n",
       "      <th>Minerva University</th>\n",
       "      <td>484844</td>\n",
       "      <td>0</td>\n",
       "      <td>20816</td>\n",
       "      <td>0.007206</td>\n",
       "      <td>17562</td>\n",
       "      <td>13</td>\n",
       "      <td>121206.0</td>\n",
       "      <td>NaN</td>\n",
       "    </tr>\n",
       "  </tbody>\n",
       "</table>\n",
       "</div>"
      ],
      "text/plain": [
       "                          UNITID  Public   Appl  Enroll_ratio  Tuition_in  \\\n",
       "INSTNM                                                                      \n",
       "DeVry University-Florida  482459       0      3      0.000000       14392   \n",
       "DeVry University-Texas    482635       0      1      0.000000       14392   \n",
       "Yeshiva Zichron Aryeh     487746       0      3      0.000000        8250   \n",
       "American Islamic College  142957       0      1      0.000000        7500   \n",
       "Minerva University        484844       0  20816      0.007206       17562   \n",
       "\n",
       "                          Stufacr    Salary  Sat  \n",
       "INSTNM                                            \n",
       "DeVry University-Florida       13   81706.0  NaN  \n",
       "DeVry University-Texas          3   80447.0  NaN  \n",
       "Yeshiva Zichron Aryeh           3   46009.0  NaN  \n",
       "American Islamic College        2   79988.0  NaN  \n",
       "Minerva University             13  121206.0  NaN  "
      ]
     },
     "execution_count": 6,
     "metadata": {},
     "output_type": "execute_result"
    }
   ],
   "source": [
    "#drop all columns except UNITID','Public', 'Appl', 'Enroll_ratio', 'Tuition_in', 'Stufacr','Salary','Sat'\n",
    "college = college[['UNITID','Public', 'Appl', 'Enroll_ratio', 'Tuition_in', 'Stufacr','Salary','Sat']]\n",
    "college.head()"
   ]
  },
  {
   "cell_type": "code",
   "execution_count": 7,
   "id": "c72932f2",
   "metadata": {},
   "outputs": [
    {
     "data": {
      "text/html": [
       "<div>\n",
       "<style scoped>\n",
       "    .dataframe tbody tr th:only-of-type {\n",
       "        vertical-align: middle;\n",
       "    }\n",
       "\n",
       "    .dataframe tbody tr th {\n",
       "        vertical-align: top;\n",
       "    }\n",
       "\n",
       "    .dataframe thead th {\n",
       "        text-align: right;\n",
       "    }\n",
       "</style>\n",
       "<table border=\"1\" class=\"dataframe\">\n",
       "  <thead>\n",
       "    <tr style=\"text-align: right;\">\n",
       "      <th></th>\n",
       "      <th>UNITID</th>\n",
       "      <th>Public</th>\n",
       "      <th>Appl</th>\n",
       "      <th>Enroll_ratio</th>\n",
       "      <th>Tuition_in</th>\n",
       "      <th>Stufacr</th>\n",
       "      <th>Salary</th>\n",
       "      <th>Sat</th>\n",
       "    </tr>\n",
       "    <tr>\n",
       "      <th>INSTNM</th>\n",
       "      <th></th>\n",
       "      <th></th>\n",
       "      <th></th>\n",
       "      <th></th>\n",
       "      <th></th>\n",
       "      <th></th>\n",
       "      <th></th>\n",
       "      <th></th>\n",
       "    </tr>\n",
       "  </thead>\n",
       "  <tbody>\n",
       "    <tr>\n",
       "      <th>DeVry University-Florida</th>\n",
       "      <td>482459</td>\n",
       "      <td>0</td>\n",
       "      <td>3</td>\n",
       "      <td>0.000000</td>\n",
       "      <td>14392</td>\n",
       "      <td>13</td>\n",
       "      <td>81706.0</td>\n",
       "      <td>NaN</td>\n",
       "    </tr>\n",
       "    <tr>\n",
       "      <th>DeVry University-Texas</th>\n",
       "      <td>482635</td>\n",
       "      <td>0</td>\n",
       "      <td>1</td>\n",
       "      <td>0.000000</td>\n",
       "      <td>14392</td>\n",
       "      <td>3</td>\n",
       "      <td>80447.0</td>\n",
       "      <td>NaN</td>\n",
       "    </tr>\n",
       "    <tr>\n",
       "      <th>Yeshiva Zichron Aryeh</th>\n",
       "      <td>487746</td>\n",
       "      <td>0</td>\n",
       "      <td>3</td>\n",
       "      <td>0.000000</td>\n",
       "      <td>8250</td>\n",
       "      <td>3</td>\n",
       "      <td>46009.0</td>\n",
       "      <td>NaN</td>\n",
       "    </tr>\n",
       "    <tr>\n",
       "      <th>American Islamic College</th>\n",
       "      <td>142957</td>\n",
       "      <td>0</td>\n",
       "      <td>1</td>\n",
       "      <td>0.000000</td>\n",
       "      <td>7500</td>\n",
       "      <td>2</td>\n",
       "      <td>79988.0</td>\n",
       "      <td>NaN</td>\n",
       "    </tr>\n",
       "    <tr>\n",
       "      <th>Minerva University</th>\n",
       "      <td>484844</td>\n",
       "      <td>0</td>\n",
       "      <td>20816</td>\n",
       "      <td>0.007206</td>\n",
       "      <td>17562</td>\n",
       "      <td>13</td>\n",
       "      <td>121206.0</td>\n",
       "      <td>NaN</td>\n",
       "    </tr>\n",
       "  </tbody>\n",
       "</table>\n",
       "</div>"
      ],
      "text/plain": [
       "                          UNITID  Public   Appl  Enroll_ratio  Tuition_in  \\\n",
       "INSTNM                                                                      \n",
       "DeVry University-Florida  482459       0      3      0.000000       14392   \n",
       "DeVry University-Texas    482635       0      1      0.000000       14392   \n",
       "Yeshiva Zichron Aryeh     487746       0      3      0.000000        8250   \n",
       "American Islamic College  142957       0      1      0.000000        7500   \n",
       "Minerva University        484844       0  20816      0.007206       17562   \n",
       "\n",
       "                          Stufacr    Salary  Sat  \n",
       "INSTNM                                            \n",
       "DeVry University-Florida       13   81706.0  NaN  \n",
       "DeVry University-Texas          3   80447.0  NaN  \n",
       "Yeshiva Zichron Aryeh           3   46009.0  NaN  \n",
       "American Islamic College        2   79988.0  NaN  \n",
       "Minerva University             13  121206.0  NaN  "
      ]
     },
     "execution_count": 7,
     "metadata": {},
     "output_type": "execute_result"
    }
   ],
   "source": [
    "#Set threshold 6\n",
    "threshold=6\n",
    "#There should be at least this much of non empty axes (0:rows, 1:columns)\n",
    "college=college.dropna(axis=0,thresh=threshold) \n",
    "college.head()"
   ]
  },
  {
   "cell_type": "code",
   "execution_count": 8,
   "id": "b55f4078-0d1f-4b9f-9afc-570eb08bff52",
   "metadata": {},
   "outputs": [
    {
     "data": {
      "text/plain": [
       "(1733, 8)"
      ]
     },
     "execution_count": 8,
     "metadata": {},
     "output_type": "execute_result"
    }
   ],
   "source": [
    "college.shape"
   ]
  },
  {
   "cell_type": "code",
   "execution_count": 9,
   "id": "2a2e7fad",
   "metadata": {},
   "outputs": [
    {
     "data": {
      "text/html": [
       "<div>\n",
       "<style scoped>\n",
       "    .dataframe tbody tr th:only-of-type {\n",
       "        vertical-align: middle;\n",
       "    }\n",
       "\n",
       "    .dataframe tbody tr th {\n",
       "        vertical-align: top;\n",
       "    }\n",
       "\n",
       "    .dataframe thead th {\n",
       "        text-align: right;\n",
       "    }\n",
       "</style>\n",
       "<table border=\"1\" class=\"dataframe\">\n",
       "  <thead>\n",
       "    <tr style=\"text-align: right;\">\n",
       "      <th></th>\n",
       "      <th>UNITID</th>\n",
       "      <th>Public</th>\n",
       "      <th>Appl</th>\n",
       "      <th>Enroll_ratio</th>\n",
       "      <th>Tuition_in</th>\n",
       "      <th>Stufacr</th>\n",
       "      <th>Salary</th>\n",
       "      <th>Sat</th>\n",
       "    </tr>\n",
       "  </thead>\n",
       "  <tbody>\n",
       "    <tr>\n",
       "      <th>count</th>\n",
       "      <td>1733.000000</td>\n",
       "      <td>1733.000000</td>\n",
       "      <td>1733.000000</td>\n",
       "      <td>1733.000000</td>\n",
       "      <td>1733.000000</td>\n",
       "      <td>1733.000000</td>\n",
       "      <td>1712.000000</td>\n",
       "      <td>1002.000000</td>\n",
       "    </tr>\n",
       "    <tr>\n",
       "      <th>mean</th>\n",
       "      <td>207838.977496</td>\n",
       "      <td>0.319677</td>\n",
       "      <td>7558.318523</td>\n",
       "      <td>0.226766</td>\n",
       "      <td>24264.572995</td>\n",
       "      <td>13.227928</td>\n",
       "      <td>91542.860981</td>\n",
       "      <td>632.360279</td>\n",
       "    </tr>\n",
       "    <tr>\n",
       "      <th>std</th>\n",
       "      <td>88529.890557</td>\n",
       "      <td>0.466486</td>\n",
       "      <td>13913.712396</td>\n",
       "      <td>0.198146</td>\n",
       "      <td>16977.298347</td>\n",
       "      <td>4.836052</td>\n",
       "      <td>37902.305302</td>\n",
       "      <td>75.561666</td>\n",
       "    </tr>\n",
       "    <tr>\n",
       "      <th>min</th>\n",
       "      <td>100654.000000</td>\n",
       "      <td>0.000000</td>\n",
       "      <td>1.000000</td>\n",
       "      <td>0.000000</td>\n",
       "      <td>0.000000</td>\n",
       "      <td>2.000000</td>\n",
       "      <td>5854.000000</td>\n",
       "      <td>320.000000</td>\n",
       "    </tr>\n",
       "    <tr>\n",
       "      <th>25%</th>\n",
       "      <td>156213.000000</td>\n",
       "      <td>0.000000</td>\n",
       "      <td>877.000000</td>\n",
       "      <td>0.105183</td>\n",
       "      <td>9228.000000</td>\n",
       "      <td>10.000000</td>\n",
       "      <td>66797.750000</td>\n",
       "      <td>580.000000</td>\n",
       "    </tr>\n",
       "    <tr>\n",
       "      <th>50%</th>\n",
       "      <td>193308.000000</td>\n",
       "      <td>0.000000</td>\n",
       "      <td>2724.000000</td>\n",
       "      <td>0.158265</td>\n",
       "      <td>19520.000000</td>\n",
       "      <td>13.000000</td>\n",
       "      <td>86285.000000</td>\n",
       "      <td>620.000000</td>\n",
       "    </tr>\n",
       "    <tr>\n",
       "      <th>75%</th>\n",
       "      <td>219356.000000</td>\n",
       "      <td>1.000000</td>\n",
       "      <td>7595.000000</td>\n",
       "      <td>0.260748</td>\n",
       "      <td>36320.000000</td>\n",
       "      <td>16.000000</td>\n",
       "      <td>109010.500000</td>\n",
       "      <td>680.000000</td>\n",
       "    </tr>\n",
       "    <tr>\n",
       "      <th>max</th>\n",
       "      <td>498571.000000</td>\n",
       "      <td>1.000000</td>\n",
       "      <td>149801.000000</td>\n",
       "      <td>1.000000</td>\n",
       "      <td>66240.000000</td>\n",
       "      <td>54.000000</td>\n",
       "      <td>288663.000000</td>\n",
       "      <td>800.000000</td>\n",
       "    </tr>\n",
       "  </tbody>\n",
       "</table>\n",
       "</div>"
      ],
      "text/plain": [
       "              UNITID       Public           Appl  Enroll_ratio    Tuition_in  \\\n",
       "count    1733.000000  1733.000000    1733.000000   1733.000000   1733.000000   \n",
       "mean   207838.977496     0.319677    7558.318523      0.226766  24264.572995   \n",
       "std     88529.890557     0.466486   13913.712396      0.198146  16977.298347   \n",
       "min    100654.000000     0.000000       1.000000      0.000000      0.000000   \n",
       "25%    156213.000000     0.000000     877.000000      0.105183   9228.000000   \n",
       "50%    193308.000000     0.000000    2724.000000      0.158265  19520.000000   \n",
       "75%    219356.000000     1.000000    7595.000000      0.260748  36320.000000   \n",
       "max    498571.000000     1.000000  149801.000000      1.000000  66240.000000   \n",
       "\n",
       "           Stufacr         Salary          Sat  \n",
       "count  1733.000000    1712.000000  1002.000000  \n",
       "mean     13.227928   91542.860981   632.360279  \n",
       "std       4.836052   37902.305302    75.561666  \n",
       "min       2.000000    5854.000000   320.000000  \n",
       "25%      10.000000   66797.750000   580.000000  \n",
       "50%      13.000000   86285.000000   620.000000  \n",
       "75%      16.000000  109010.500000   680.000000  \n",
       "max      54.000000  288663.000000   800.000000  "
      ]
     },
     "execution_count": 9,
     "metadata": {},
     "output_type": "execute_result"
    }
   ],
   "source": [
    "college.describe()"
   ]
  },
  {
   "cell_type": "markdown",
   "id": "07a05ea3-3f17-409e-bf28-ab3545b4035a",
   "metadata": {},
   "source": [
    "## Scatter Plot"
   ]
  },
  {
   "cell_type": "code",
   "execution_count": 10,
   "id": "84c83760",
   "metadata": {
    "scrolled": true
   },
   "outputs": [
    {
     "data": {
      "text/plain": [
       "array([[<Axes: xlabel='Appl', ylabel='Appl'>,\n",
       "        <Axes: xlabel='Tuition_in', ylabel='Appl'>,\n",
       "        <Axes: xlabel='Salary', ylabel='Appl'>],\n",
       "       [<Axes: xlabel='Appl', ylabel='Tuition_in'>,\n",
       "        <Axes: xlabel='Tuition_in', ylabel='Tuition_in'>,\n",
       "        <Axes: xlabel='Salary', ylabel='Tuition_in'>],\n",
       "       [<Axes: xlabel='Appl', ylabel='Salary'>,\n",
       "        <Axes: xlabel='Tuition_in', ylabel='Salary'>,\n",
       "        <Axes: xlabel='Salary', ylabel='Salary'>]], dtype=object)"
      ]
     },
     "execution_count": 10,
     "metadata": {},
     "output_type": "execute_result"
    },
    {
     "data": {
      "image/png": "[encoded data removed]",
      "text/plain": [
       "<Figure size 432x288 with 9 Axes>"
      ]
     },
     "metadata": {
      "needs_background": "light"
     },
     "output_type": "display_data"
    }
   ],
   "source": [
    "pd.plotting.scatter_matrix(college[['Appl','Tuition_in','Salary']]) "
   ]
  },
  {
   "cell_type": "code",
   "execution_count": 11,
   "id": "215d70a0-a292-4ebe-912c-fc51e48b241a",
   "metadata": {},
   "outputs": [
    {
     "name": "stderr",
     "output_type": "stream",
     "text": [
      "c:\\ProgramData\\Anaconda3\\lib\\site-packages\\pandas\\plotting\\_matplotlib\\core.py:1041: UserWarning: No data for colormapping provided via 'c'. Parameters 'cmap' will be ignored\n",
      "  scatter = ax.scatter(\n"
     ]
    },
    {
     "data": {
      "text/plain": [
       "<Axes: xlabel='Stufacr', ylabel='Appl'>"
      ]
     },
     "execution_count": 11,
     "metadata": {},
     "output_type": "execute_result"
    },
    {
     "data": {
      "image/png": "[encoded data removed]",
      "text/plain": [
       "<Figure size 288x288 with 1 Axes>"
      ]
     },
     "metadata": {
      "needs_background": "light"
     },
     "output_type": "display_data"
    }
   ],
   "source": [
    "import matplotlib.pyplot as plt\n",
    "college.plot.scatter(x='Stufacr', y='Appl', marker = 'o', figsize=(4,4))"
   ]
  },
  {
   "cell_type": "markdown",
   "id": "c1c466d8-5712-4764-bbdb-19cd30fdac0e",
   "metadata": {},
   "source": [
    "## Box Plot"
   ]
  },
  {
   "cell_type": "code",
   "execution_count": 12,
   "id": "78a9c0f3",
   "metadata": {},
   "outputs": [
    {
     "data": {
      "image/png": "[encoded data removed]",
      "text/plain": [
       "<Figure size 432x288 with 1 Axes>"
      ]
     },
     "metadata": {
      "needs_background": "light"
     },
     "output_type": "display_data"
    }
   ],
   "source": [
    "import matplotlib.pyplot as plt\n",
    "ax = college.boxplot('Tuition_in','Public')\n",
    "ax.set_ylabel('Av. In-State Tuition')\n",
    "plt.suptitle('')\n",
    "plt.title('Tuition in Public Colleges')\n",
    "plt.show()"
   ]
  },
  {
   "cell_type": "markdown",
   "id": "c1a0f7f5-1e6a-4801-8423-dd517081de12",
   "metadata": {},
   "source": [
    "## Histogram"
   ]
  },
  {
   "cell_type": "code",
   "execution_count": 13,
   "id": "545fbf96",
   "metadata": {
    "scrolled": true
   },
   "outputs": [
    {
     "data": {
      "text/plain": [
       "<Axes: ylabel='Frequency'>"
      ]
     },
     "execution_count": 13,
     "metadata": {},
     "output_type": "execute_result"
    },
    {
     "data": {
      "image/png": "[encoded data removed]",
      "text/plain": [
       "<Figure size 432x288 with 1 Axes>"
      ]
     },
     "metadata": {
      "needs_background": "light"
     },
     "output_type": "display_data"
    }
   ],
   "source": [
    "college['Tuition_in'].plot.hist()"
   ]
  },
  {
   "cell_type": "code",
   "execution_count": 14,
   "id": "f678fad1",
   "metadata": {},
   "outputs": [
    {
     "data": {
      "text/plain": [
       "<Axes: ylabel='Frequency'>"
      ]
     },
     "execution_count": 14,
     "metadata": {},
     "output_type": "execute_result"
    },
    {
     "data": {
      "image/png": "[encoded data removed]",
      "text/plain": [
       "<Figure size 432x288 with 1 Axes>"
      ]
     },
     "metadata": {
      "needs_background": "light"
     },
     "output_type": "display_data"
    }
   ],
   "source": [
    "college['Tuition_in'].plot(bins=50, kind='hist')"
   ]
  },
  {
   "cell_type": "markdown",
   "id": "68f68373-f6e9-459c-91c9-e3000a5973bb",
   "metadata": {},
   "source": [
    "## Merging Dataframes"
   ]
  },
  {
   "cell_type": "code",
   "execution_count": 15,
   "id": "5663ecfb",
   "metadata": {},
   "outputs": [],
   "source": [
    "college_2 = pd.read_excel('college_lib_2022.xlsx')"
   ]
  },
  {
   "cell_type": "code",
   "execution_count": 16,
   "id": "4828b1f5-e6c6-43aa-966c-83809744fe60",
   "metadata": {},
   "outputs": [
    {
     "data": {
      "text/html": [
       "<div>\n",
       "<style scoped>\n",
       "    .dataframe tbody tr th:only-of-type {\n",
       "        vertical-align: middle;\n",
       "    }\n",
       "\n",
       "    .dataframe tbody tr th {\n",
       "        vertical-align: top;\n",
       "    }\n",
       "\n",
       "    .dataframe thead th {\n",
       "        text-align: right;\n",
       "    }\n",
       "</style>\n",
       "<table border=\"1\" class=\"dataframe\">\n",
       "  <thead>\n",
       "    <tr style=\"text-align: right;\">\n",
       "      <th></th>\n",
       "      <th>UNITID</th>\n",
       "      <th>Public</th>\n",
       "      <th>Appl</th>\n",
       "      <th>Enroll_ratio</th>\n",
       "      <th>Tuition_in</th>\n",
       "      <th>Stufacr</th>\n",
       "      <th>Salary</th>\n",
       "      <th>Sat</th>\n",
       "      <th>LEXP100K</th>\n",
       "      <th>LPBOOKS</th>\n",
       "      <th>LEBOOKS</th>\n",
       "      <th>LEDATAB</th>\n",
       "    </tr>\n",
       "  </thead>\n",
       "  <tbody>\n",
       "    <tr>\n",
       "      <th>0</th>\n",
       "      <td>487746</td>\n",
       "      <td>0</td>\n",
       "      <td>3</td>\n",
       "      <td>0.000000</td>\n",
       "      <td>8250</td>\n",
       "      <td>3</td>\n",
       "      <td>46009.0</td>\n",
       "      <td>NaN</td>\n",
       "      <td>2</td>\n",
       "      <td>3650.0</td>\n",
       "      <td>0</td>\n",
       "      <td>2</td>\n",
       "    </tr>\n",
       "    <tr>\n",
       "      <th>1</th>\n",
       "      <td>142957</td>\n",
       "      <td>0</td>\n",
       "      <td>1</td>\n",
       "      <td>0.000000</td>\n",
       "      <td>7500</td>\n",
       "      <td>2</td>\n",
       "      <td>79988.0</td>\n",
       "      <td>NaN</td>\n",
       "      <td>2</td>\n",
       "      <td>5379.0</td>\n",
       "      <td>0</td>\n",
       "      <td>24</td>\n",
       "    </tr>\n",
       "    <tr>\n",
       "      <th>2</th>\n",
       "      <td>484844</td>\n",
       "      <td>0</td>\n",
       "      <td>20816</td>\n",
       "      <td>0.007206</td>\n",
       "      <td>17562</td>\n",
       "      <td>13</td>\n",
       "      <td>121206.0</td>\n",
       "      <td>NaN</td>\n",
       "      <td>1</td>\n",
       "      <td>NaN</td>\n",
       "      <td>200000</td>\n",
       "      <td>5</td>\n",
       "    </tr>\n",
       "    <tr>\n",
       "      <th>3</th>\n",
       "      <td>460376</td>\n",
       "      <td>0</td>\n",
       "      <td>378</td>\n",
       "      <td>0.010582</td>\n",
       "      <td>10128</td>\n",
       "      <td>5</td>\n",
       "      <td>85950.0</td>\n",
       "      <td>NaN</td>\n",
       "      <td>1</td>\n",
       "      <td>6355.0</td>\n",
       "      <td>237970</td>\n",
       "      <td>7</td>\n",
       "    </tr>\n",
       "    <tr>\n",
       "      <th>4</th>\n",
       "      <td>110404</td>\n",
       "      <td>0</td>\n",
       "      <td>16626</td>\n",
       "      <td>0.013473</td>\n",
       "      <td>58479</td>\n",
       "      <td>3</td>\n",
       "      <td>220963.0</td>\n",
       "      <td>NaN</td>\n",
       "      <td>1</td>\n",
       "      <td>276709.0</td>\n",
       "      <td>205076</td>\n",
       "      <td>180</td>\n",
       "    </tr>\n",
       "  </tbody>\n",
       "</table>\n",
       "</div>"
      ],
      "text/plain": [
       "   UNITID  Public   Appl  Enroll_ratio  Tuition_in  Stufacr    Salary  Sat  \\\n",
       "0  487746       0      3      0.000000        8250        3   46009.0  NaN   \n",
       "1  142957       0      1      0.000000        7500        2   79988.0  NaN   \n",
       "2  484844       0  20816      0.007206       17562       13  121206.0  NaN   \n",
       "3  460376       0    378      0.010582       10128        5   85950.0  NaN   \n",
       "4  110404       0  16626      0.013473       58479        3  220963.0  NaN   \n",
       "\n",
       "   LEXP100K   LPBOOKS  LEBOOKS  LEDATAB  \n",
       "0         2    3650.0        0        2  \n",
       "1         2    5379.0        0       24  \n",
       "2         1       NaN   200000        5  \n",
       "3         1    6355.0   237970        7  \n",
       "4         1  276709.0   205076      180  "
      ]
     },
     "execution_count": 16,
     "metadata": {},
     "output_type": "execute_result"
    }
   ],
   "source": [
    "merged_college = pd.merge(college,college_2,on='UNITID')\n",
    "merged_college.head()"
   ]
  },
  {
   "cell_type": "code",
   "execution_count": 17,
   "id": "d40ab061-a520-4316-a47f-3c63efa6228c",
   "metadata": {},
   "outputs": [
    {
     "name": "stderr",
     "output_type": "stream",
     "text": [
      "c:\\ProgramData\\Anaconda3\\lib\\site-packages\\pandas\\plotting\\_matplotlib\\core.py:1041: UserWarning: No data for colormapping provided via 'c'. Parameters 'cmap' will be ignored\n",
      "  scatter = ax.scatter(\n"
     ]
    },
    {
     "data": {
      "text/plain": [
       "<Axes: xlabel='Tuition_in', ylabel='LPBOOKS'>"
      ]
     },
     "execution_count": 17,
     "metadata": {},
     "output_type": "execute_result"
    },
    {
     "data": {
      "image/png": "[encoded data removed]",
      "text/plain": [
       "<Figure size 288x288 with 1 Axes>"
      ]
     },
     "metadata": {
      "needs_background": "light"
     },
     "output_type": "display_data"
    }
   ],
   "source": [
    "merged_college.plot.scatter(x='Tuition_in', y='LPBOOKS', marker = 'o', figsize=(4,4))"
   ]
  },
  {
   "cell_type": "code",
   "execution_count": 18,
   "id": "d280e677-5233-4f75-81bb-404453caba81",
   "metadata": {},
   "outputs": [],
   "source": [
    "filtered_merged_college = merged_college[merged_college.LPBOOKS<1000000]"
   ]
  },
  {
   "cell_type": "code",
   "execution_count": 19,
   "id": "f7d30843-315a-49bf-9148-4ed8b62baa34",
   "metadata": {
    "scrolled": true
   },
   "outputs": [
    {
     "data": {
      "text/plain": [
       "(1509, 12)"
      ]
     },
     "execution_count": 19,
     "metadata": {},
     "output_type": "execute_result"
    }
   ],
   "source": [
    "filtered_merged_college.shape"
   ]
  },
  {
   "cell_type": "code",
   "execution_count": 20,
   "id": "b8d1e115-b482-4699-b025-af6f78b828f8",
   "metadata": {},
   "outputs": [
    {
     "data": {
      "text/html": [
       "<div>\n",
       "<style scoped>\n",
       "    .dataframe tbody tr th:only-of-type {\n",
       "        vertical-align: middle;\n",
       "    }\n",
       "\n",
       "    .dataframe tbody tr th {\n",
       "        vertical-align: top;\n",
       "    }\n",
       "\n",
       "    .dataframe thead th {\n",
       "        text-align: right;\n",
       "    }\n",
       "</style>\n",
       "<table border=\"1\" class=\"dataframe\">\n",
       "  <thead>\n",
       "    <tr style=\"text-align: right;\">\n",
       "      <th></th>\n",
       "      <th>UNITID</th>\n",
       "      <th>Public</th>\n",
       "      <th>Appl</th>\n",
       "      <th>Enroll_ratio</th>\n",
       "      <th>Tuition_in</th>\n",
       "      <th>Stufacr</th>\n",
       "      <th>Salary</th>\n",
       "      <th>Sat</th>\n",
       "      <th>LEXP100K</th>\n",
       "      <th>LPBOOKS</th>\n",
       "      <th>LEBOOKS</th>\n",
       "      <th>LEDATAB</th>\n",
       "    </tr>\n",
       "  </thead>\n",
       "  <tbody>\n",
       "    <tr>\n",
       "      <th>0</th>\n",
       "      <td>487746</td>\n",
       "      <td>0</td>\n",
       "      <td>3</td>\n",
       "      <td>0.000000</td>\n",
       "      <td>8250</td>\n",
       "      <td>3</td>\n",
       "      <td>46009.0</td>\n",
       "      <td>NaN</td>\n",
       "      <td>2</td>\n",
       "      <td>3650.0</td>\n",
       "      <td>0</td>\n",
       "      <td>2</td>\n",
       "    </tr>\n",
       "    <tr>\n",
       "      <th>1</th>\n",
       "      <td>142957</td>\n",
       "      <td>0</td>\n",
       "      <td>1</td>\n",
       "      <td>0.000000</td>\n",
       "      <td>7500</td>\n",
       "      <td>2</td>\n",
       "      <td>79988.0</td>\n",
       "      <td>NaN</td>\n",
       "      <td>2</td>\n",
       "      <td>5379.0</td>\n",
       "      <td>0</td>\n",
       "      <td>24</td>\n",
       "    </tr>\n",
       "    <tr>\n",
       "      <th>3</th>\n",
       "      <td>460376</td>\n",
       "      <td>0</td>\n",
       "      <td>378</td>\n",
       "      <td>0.010582</td>\n",
       "      <td>10128</td>\n",
       "      <td>5</td>\n",
       "      <td>85950.0</td>\n",
       "      <td>NaN</td>\n",
       "      <td>1</td>\n",
       "      <td>6355.0</td>\n",
       "      <td>237970</td>\n",
       "      <td>7</td>\n",
       "    </tr>\n",
       "    <tr>\n",
       "      <th>4</th>\n",
       "      <td>110404</td>\n",
       "      <td>0</td>\n",
       "      <td>16626</td>\n",
       "      <td>0.013473</td>\n",
       "      <td>58479</td>\n",
       "      <td>3</td>\n",
       "      <td>220963.0</td>\n",
       "      <td>NaN</td>\n",
       "      <td>1</td>\n",
       "      <td>276709.0</td>\n",
       "      <td>205076</td>\n",
       "      <td>180</td>\n",
       "    </tr>\n",
       "    <tr>\n",
       "      <th>5</th>\n",
       "      <td>144005</td>\n",
       "      <td>1</td>\n",
       "      <td>7404</td>\n",
       "      <td>0.023366</td>\n",
       "      <td>7656</td>\n",
       "      <td>11</td>\n",
       "      <td>89861.0</td>\n",
       "      <td>NaN</td>\n",
       "      <td>1</td>\n",
       "      <td>10000.0</td>\n",
       "      <td>29307</td>\n",
       "      <td>600025</td>\n",
       "    </tr>\n",
       "  </tbody>\n",
       "</table>\n",
       "</div>"
      ],
      "text/plain": [
       "   UNITID  Public   Appl  Enroll_ratio  Tuition_in  Stufacr    Salary  Sat  \\\n",
       "0  487746       0      3      0.000000        8250        3   46009.0  NaN   \n",
       "1  142957       0      1      0.000000        7500        2   79988.0  NaN   \n",
       "3  460376       0    378      0.010582       10128        5   85950.0  NaN   \n",
       "4  110404       0  16626      0.013473       58479        3  220963.0  NaN   \n",
       "5  144005       1   7404      0.023366        7656       11   89861.0  NaN   \n",
       "\n",
       "   LEXP100K   LPBOOKS  LEBOOKS  LEDATAB  \n",
       "0         2    3650.0        0        2  \n",
       "1         2    5379.0        0       24  \n",
       "3         1    6355.0   237970        7  \n",
       "4         1  276709.0   205076      180  \n",
       "5         1   10000.0    29307   600025  "
      ]
     },
     "execution_count": 20,
     "metadata": {},
     "output_type": "execute_result"
    }
   ],
   "source": [
    "filtered_merged_college.head()"
   ]
  },
  {
   "cell_type": "code",
   "execution_count": 21,
   "id": "7741461d-f5a9-43c5-9b64-f9b779fd1c69",
   "metadata": {},
   "outputs": [
    {
     "name": "stderr",
     "output_type": "stream",
     "text": [
      "c:\\ProgramData\\Anaconda3\\lib\\site-packages\\pandas\\plotting\\_matplotlib\\core.py:1041: UserWarning: No data for colormapping provided via 'c'. Parameters 'cmap' will be ignored\n",
      "  scatter = ax.scatter(\n"
     ]
    },
    {
     "data": {
      "text/plain": [
       "<Axes: xlabel='Tuition_in', ylabel='LPBOOKS'>"
      ]
     },
     "execution_count": 21,
     "metadata": {},
     "output_type": "execute_result"
    },
    {
     "data": {
      "image/png": "[encoded data removed]",
      "text/plain": [
       "<Figure size 288x288 with 1 Axes>"
      ]
     },
     "metadata": {
      "needs_background": "light"
     },
     "output_type": "display_data"
    }
   ],
   "source": [
    "filtered_merged_college.plot.scatter(x='Tuition_in', y='LPBOOKS', marker = 'o', figsize=(4,4))"
   ]
  }
 ],
 "metadata": {
  "kernelspec": {
   "display_name": "Python 3 (ipykernel)",
   "language": "python",
   "name": "python3"
  },
  "language_info": {
   "codemirror_mode": {
    "name": "ipython",
    "version": 3
   },
   "file_extension": ".py",
   "mimetype": "text/x-python",
   "name": "python",
   "nbconvert_exporter": "python",
   "pygments_lexer": "ipython3",
   "version": "3.8.8"
  }
 },
 "nbformat": 4,
 "nbformat_minor": 5
}
