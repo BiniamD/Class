{
 "cells": [
  {
   "cell_type": "markdown",
   "metadata": {},
   "source": [
    "CNN-LSTM Model Architecture Design and Implementation\n",
    "Based on the successful completion of the data preprocessing and feature engineering phase, I'll now design and implement the CNN-LSTM hybrid architecture for stock prediction.\n",
    "Model Architecture Overview\n",
    "The hybrid CNN-LSTM model I'm designing leverages the strengths of both architectures:\n",
    "\n",
    "CNN: Extracts spatial features from the time series data, identifying patterns across multiple time steps\n",
    "LSTM: Captures temporal dependencies and sequential relationships in the data\n",
    "\n",
    "This combination is particularly well-suited for stock market prediction because:\n",
    "\n",
    "The CNN component can identify price patterns and technical indicator formations\n",
    "The LSTM component can model how these patterns evolve over time"
   ]
  },
  {
   "cell_type": "code",
   "execution_count": null,
   "metadata": {},
   "outputs": [],
   "source": [
    "import tensorflow as tf\n",
    "from tensorflow.keras.models import Model\n",
    "from tensorflow.keras.layers import Input, Conv1D, MaxPooling1D, LSTM, Dense, Dropout, BatchNormalization, Flatten\n"
   ]
  },
  {
   "cell_type": "code",
   "execution_count": null,
   "metadata": {},
   "outputs": [],
   "source": [
    "\n",
    "def build_cnn_lstm_model(sequence_length, n_features, n_outputs=1):\n",
    "    \"\"\"\n",
    "    Build a hybrid CNN-LSTM model for stock price prediction\n",
    "    \n",
    "    Args:\n",
    "        sequence_length: Number of time steps in each input sequence\n",
    "        n_features: Number of features per time step\n",
    "        n_outputs: Number of output values to predict\n",
    "        \n",
    "    Returns:\n",
    "        Compiled Keras model\n",
    "    \"\"\"\n",
    "    # Input layer\n",
    "    input_layer = Input(shape=(sequence_length, n_features))\n",
    "    \n",
    "    # CNN layers for spatial feature extraction\n",
    "    conv1 = Conv1D(filters=64, kernel_size=3, padding='same', activation='relu')(input_layer)\n",
    "    conv1 = BatchNormalization()(conv1)\n",
    "    conv1 = MaxPooling1D(pool_size=2)(conv1)\n",
    "    \n",
    "    conv2 = Conv1D(filters=128, kernel_size=3, padding='same', activation='relu')(conv1)\n",
    "    conv2 = BatchNormalization()(conv2)\n",
    "    conv2 = MaxPooling1D(pool_size=2)(conv2)\n",
    "    \n",
    "    # LSTM layers for temporal feature extraction\n",
    "    lstm1 = LSTM(units=100, return_sequences=True)(conv2)\n",
    "    lstm1 = Dropout(0.2)(lstm1)\n",
    "    \n",
    "    lstm2 = LSTM(units=100, return_sequences=False)(lstm1)\n",
    "    lstm2 = Dropout(0.2)(lstm2)\n",
    "    \n",
    "    # Dense layers for prediction\n",
    "    dense1 = Dense(64, activation='relu')(lstm2)\n",
    "    dense1 = Dropout(0.2)(dense1)\n",
    "    \n",
    "    # Output layer\n",
    "    if n_outputs == 1:\n",
    "        output_layer = Dense(1, activation='sigmoid')(dense1)  # Binary classification (up/down)\n",
    "    else:\n",
    "        output_layer = Dense(n_outputs, activation='softmax')(dense1)  # Multi-class classification\n",
    "    \n",
    "    # Create and compile model\n",
    "    model = Model(inputs=input_layer, outputs=output_layer)\n",
    "    \n",
    "    return model"
   ]
  }
 ],
 "metadata": {
  "kernelspec": {
   "display_name": "Python 3",
   "language": "python",
   "name": "python3"
  },
  "language_info": {
   "codemirror_mode": {
    "name": "ipython",
    "version": 3
   },
   "file_extension": ".py",
   "mimetype": "text/x-python",
   "name": "python",
   "nbconvert_exporter": "python",
   "pygments_lexer": "ipython3",
   "version": "3.10.11"
  }
 },
 "nbformat": 4,
 "nbformat_minor": 2
}
