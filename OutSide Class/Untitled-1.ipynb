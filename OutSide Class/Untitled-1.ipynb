{
 "cells": [
  {
   "cell_type": "markdown",
   "metadata": {},
   "source": [
    "Netflix! What started in 1997 as a DVD rental service has since exploded into one of the largest entertainment and media companies.\n",
    "\n",
    "Given the large number of movies and series available on the platform, it is a perfect opportunity to flex your exploratory data analysis skills and dive into the entertainment industry.\n",
    "\n",
    "You work for a production company that specializes in nostalgic styles. You want to do some research on movies released in the 1990's. You'll delve into Netflix data and perform exploratory data analysis to better understand this awesome movie decade!\n",
    "\n",
    "You have been supplied with the dataset netflix_data.csv, along with the following table detailing the column names and descriptions. Feel free to experiment further after submitting!\n",
    "\n",
    "The data\n",
    "netflix_data.csv\n",
    "Column\tDescription\n",
    "show_id\tThe ID of the show\n",
    "type\tType of show\n",
    "title\tTitle of the show\n",
    "director\tDirector of the show\n",
    "cast\tCast of the show\n",
    "country\tCountry of origin\n",
    "date_added\tDate added to Netflix\n",
    "release_year\tYear of Netflix release\n",
    "duration\tDuration of the show in minutes\n",
    "description\tDescription of the show\n",
    "genre\tShow genre"
   ]
  },
  {
   "cell_type": "code",
   "execution_count": null,
   "metadata": {},
   "outputs": [],
   "source": [
    "# Importing pandas and matplotlib\n",
    "import pandas as pd\n",
    "import matplotlib.pyplot as plt\n",
    "\n",
    "# Read in the Netflix CSV as a DataFrame\n",
    "netflix_df = pd.read_csv(\"netflix_data.csv\")"
   ]
  },
  {
   "cell_type": "code",
   "execution_count": null,
   "metadata": {},
   "outputs": [],
   "source": [
    "#What was the most frequent movie duration in the 1990s? Save an approximate answer as an integer called duration.\n",
    "netflix_df_90s = netflix_df[(netflix_df['release_year'] >= 1990) & (netflix_df['release_year'] < 2000)]\n",
    "duration = netflix_df_90s['duration'].mode()[0]\n",
    "\n"
   ]
  },
  {
   "cell_type": "code",
   "execution_count": null,
   "metadata": {},
   "outputs": [],
   "source": [
    "#A movie is considered short if it is less than 90 minutes. Count the number of short action movies released in the 1990s and save this integer as short_movie_count.\n",
    "short_movie_count = netflix_df_90s[(netflix_df_90s['duration'] < 90) & (netflix_df_90s['listed_in'].str.contains('Action'))].shape[0]\n"
   ]
  }
 ],
 "metadata": {
  "kernelspec": {
   "display_name": "Python 3",
   "language": "python",
   "name": "python3"
  },
  "language_info": {
   "codemirror_mode": {
    "name": "ipython",
    "version": 3
   },
   "file_extension": ".py",
   "mimetype": "text/x-python",
   "name": "python",
   "nbconvert_exporter": "python",
   "pygments_lexer": "ipython3",
   "version": "3.10.11"
  }
 },
 "nbformat": 4,
 "nbformat_minor": 2
}
